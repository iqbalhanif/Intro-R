{
  "nbformat": 4,
  "nbformat_minor": 0,
  "metadata": {
    "colab": {
      "name": "Data Manipulation with Tidyverse.ipynb",
      "provenance": [],
      "collapsed_sections": [
        "wIjEQxpMI7df",
        "MinfUc8aJAWi",
        "JawXbp2uN35_",
        "2py6tbvnTOBc",
        "SuEzgCRIiaSq",
        "YZzIrvZcFIqf"
      ],
      "authorship_tag": "ABX9TyPueNrVwn6+LDTov3UU3JRE",
      "include_colab_link": true
    },
    "kernelspec": {
      "name": "ir",
      "display_name": "R"
    }
  },
  "cells": [
    {
      "cell_type": "markdown",
      "metadata": {
        "id": "view-in-github",
        "colab_type": "text"
      },
      "source": [
        "<a href=\"https://colab.research.google.com/github/iqbalhanif/R-Intro/blob/main/Data_Manipulation_with_Tidyverse.ipynb\" target=\"_parent\"><img src=\"https://colab.research.google.com/assets/colab-badge.svg\" alt=\"Open In Colab\"/></a>"
      ]
    },
    {
      "cell_type": "markdown",
      "metadata": {
        "id": "wIjEQxpMI7df"
      },
      "source": [
        "## 1. Basic"
      ]
    },
    {
      "cell_type": "code",
      "metadata": {
        "id": "sH_CWcg_V03A",
        "colab": {
          "base_uri": "https://localhost:8080/"
        },
        "outputId": "95a1d2a6-2ce0-46e5-ccec-a47398534329"
      },
      "source": [
        "install.packages(\"gapminder\")\r\n",
        "library(gapminder)\r\n",
        "library(tidyverse)\r\n",
        "library(dplyr)\r\n",
        "library(readr)\r\n",
        "library(haven)"
      ],
      "execution_count": null,
      "outputs": [
        {
          "output_type": "stream",
          "text": [
            "Installing package into ‘/usr/local/lib/R/site-library’\n",
            "(as ‘lib’ is unspecified)\n",
            "\n",
            "── \u001b[1mAttaching packages\u001b[22m ─────────────────────────────────────── tidyverse 1.3.0 ──\n",
            "\n",
            "\u001b[32m✔\u001b[39m \u001b[34mggplot2\u001b[39m 3.3.2     \u001b[32m✔\u001b[39m \u001b[34mpurrr  \u001b[39m 0.3.4\n",
            "\u001b[32m✔\u001b[39m \u001b[34mtibble \u001b[39m 3.0.4     \u001b[32m✔\u001b[39m \u001b[34mdplyr  \u001b[39m 1.0.2\n",
            "\u001b[32m✔\u001b[39m \u001b[34mtidyr  \u001b[39m 1.1.2     \u001b[32m✔\u001b[39m \u001b[34mstringr\u001b[39m 1.4.0\n",
            "\u001b[32m✔\u001b[39m \u001b[34mreadr  \u001b[39m 1.4.0     \u001b[32m✔\u001b[39m \u001b[34mforcats\u001b[39m 0.5.0\n",
            "\n",
            "── \u001b[1mConflicts\u001b[22m ────────────────────────────────────────── tidyverse_conflicts() ──\n",
            "\u001b[31m✖\u001b[39m \u001b[34mdplyr\u001b[39m::\u001b[32mfilter()\u001b[39m masks \u001b[34mstats\u001b[39m::filter()\n",
            "\u001b[31m✖\u001b[39m \u001b[34mdplyr\u001b[39m::\u001b[32mlag()\u001b[39m    masks \u001b[34mstats\u001b[39m::lag()\n",
            "\n"
          ],
          "name": "stderr"
        }
      ]
    },
    {
      "cell_type": "code",
      "metadata": {
        "colab": {
          "base_uri": "https://localhost:8080/",
          "height": 176
        },
        "id": "liUjy2iKpYJs",
        "outputId": "eefd4b16-6518-4da2-c99b-a12120eb7544"
      },
      "source": [
        "gapminder <- gapminder\r\n",
        "head(gapminder)"
      ],
      "execution_count": null,
      "outputs": [
        {
          "output_type": "display_data",
          "data": {
            "text/plain": [
              "  country     continent year lifeExp pop      gdpPercap\n",
              "1 Afghanistan Asia      1952 28.801   8425333 779.4453 \n",
              "2 Afghanistan Asia      1957 30.332   9240934 820.8530 \n",
              "3 Afghanistan Asia      1962 31.997  10267083 853.1007 \n",
              "4 Afghanistan Asia      1967 34.020  11537966 836.1971 \n",
              "5 Afghanistan Asia      1972 36.088  13079460 739.9811 \n",
              "6 Afghanistan Asia      1977 38.438  14880372 786.1134 "
            ],
            "text/latex": "A tibble: 6 × 6\n\\begin{tabular}{llllll}\n country & continent & year & lifeExp & pop & gdpPercap\\\\\n <fct> & <fct> & <int> & <dbl> & <int> & <dbl>\\\\\n\\hline\n\t Afghanistan & Asia & 1952 & 28.801 &  8425333 & 779.4453\\\\\n\t Afghanistan & Asia & 1957 & 30.332 &  9240934 & 820.8530\\\\\n\t Afghanistan & Asia & 1962 & 31.997 & 10267083 & 853.1007\\\\\n\t Afghanistan & Asia & 1967 & 34.020 & 11537966 & 836.1971\\\\\n\t Afghanistan & Asia & 1972 & 36.088 & 13079460 & 739.9811\\\\\n\t Afghanistan & Asia & 1977 & 38.438 & 14880372 & 786.1134\\\\\n\\end{tabular}\n",
            "text/markdown": "\nA tibble: 6 × 6\n\n| country &lt;fct&gt; | continent &lt;fct&gt; | year &lt;int&gt; | lifeExp &lt;dbl&gt; | pop &lt;int&gt; | gdpPercap &lt;dbl&gt; |\n|---|---|---|---|---|---|\n| Afghanistan | Asia | 1952 | 28.801 |  8425333 | 779.4453 |\n| Afghanistan | Asia | 1957 | 30.332 |  9240934 | 820.8530 |\n| Afghanistan | Asia | 1962 | 31.997 | 10267083 | 853.1007 |\n| Afghanistan | Asia | 1967 | 34.020 | 11537966 | 836.1971 |\n| Afghanistan | Asia | 1972 | 36.088 | 13079460 | 739.9811 |\n| Afghanistan | Asia | 1977 | 38.438 | 14880372 | 786.1134 |\n\n",
            "text/html": [
              "<table>\n",
              "<caption>A tibble: 6 × 6</caption>\n",
              "<thead>\n",
              "\t<tr><th scope=col>country</th><th scope=col>continent</th><th scope=col>year</th><th scope=col>lifeExp</th><th scope=col>pop</th><th scope=col>gdpPercap</th></tr>\n",
              "\t<tr><th scope=col>&lt;fct&gt;</th><th scope=col>&lt;fct&gt;</th><th scope=col>&lt;int&gt;</th><th scope=col>&lt;dbl&gt;</th><th scope=col>&lt;int&gt;</th><th scope=col>&lt;dbl&gt;</th></tr>\n",
              "</thead>\n",
              "<tbody>\n",
              "\t<tr><td>Afghanistan</td><td>Asia</td><td>1952</td><td>28.801</td><td> 8425333</td><td>779.4453</td></tr>\n",
              "\t<tr><td>Afghanistan</td><td>Asia</td><td>1957</td><td>30.332</td><td> 9240934</td><td>820.8530</td></tr>\n",
              "\t<tr><td>Afghanistan</td><td>Asia</td><td>1962</td><td>31.997</td><td>10267083</td><td>853.1007</td></tr>\n",
              "\t<tr><td>Afghanistan</td><td>Asia</td><td>1967</td><td>34.020</td><td>11537966</td><td>836.1971</td></tr>\n",
              "\t<tr><td>Afghanistan</td><td>Asia</td><td>1972</td><td>36.088</td><td>13079460</td><td>739.9811</td></tr>\n",
              "\t<tr><td>Afghanistan</td><td>Asia</td><td>1977</td><td>38.438</td><td>14880372</td><td>786.1134</td></tr>\n",
              "</tbody>\n",
              "</table>\n"
            ]
          },
          "metadata": {
            "tags": []
          }
        }
      ]
    },
    {
      "cell_type": "code",
      "metadata": {
        "colab": {
          "base_uri": "https://localhost:8080/",
          "height": 283
        },
        "id": "ma-3ixURpeuq",
        "outputId": "4eb6f0bf-784b-40f0-a99a-e963852fdae5"
      },
      "source": [
        "summary(gapminder)"
      ],
      "execution_count": null,
      "outputs": [
        {
          "output_type": "display_data",
          "data": {
            "text/plain": [
              "        country        continent        year         lifeExp     \n",
              " Afghanistan:  12   Africa  :624   Min.   :1952   Min.   :23.60  \n",
              " Albania    :  12   Americas:300   1st Qu.:1966   1st Qu.:48.20  \n",
              " Algeria    :  12   Asia    :396   Median :1980   Median :60.71  \n",
              " Angola     :  12   Europe  :360   Mean   :1980   Mean   :59.47  \n",
              " Argentina  :  12   Oceania : 24   3rd Qu.:1993   3rd Qu.:70.85  \n",
              " Australia  :  12                  Max.   :2007   Max.   :82.60  \n",
              " (Other)    :1632                                                \n",
              "      pop              gdpPercap       \n",
              " Min.   :6.001e+04   Min.   :   241.2  \n",
              " 1st Qu.:2.794e+06   1st Qu.:  1202.1  \n",
              " Median :7.024e+06   Median :  3531.8  \n",
              " Mean   :2.960e+07   Mean   :  7215.3  \n",
              " 3rd Qu.:1.959e+07   3rd Qu.:  9325.5  \n",
              " Max.   :1.319e+09   Max.   :113523.1  \n",
              "                                       "
            ]
          },
          "metadata": {
            "tags": []
          }
        }
      ]
    },
    {
      "cell_type": "code",
      "metadata": {
        "colab": {
          "base_uri": "https://localhost:8080/",
          "height": 50
        },
        "id": "aWi-j9QdpfTI",
        "outputId": "df119171-9e1d-4a0b-b726-c67dcca59c89"
      },
      "source": [
        "dim(gapminder)\r\n",
        "names(gapminder)"
      ],
      "execution_count": null,
      "outputs": [
        {
          "output_type": "display_data",
          "data": {
            "text/plain": [
              "[1] 1704    6"
            ],
            "text/latex": "\\begin{enumerate*}\n\\item 1704\n\\item 6\n\\end{enumerate*}\n",
            "text/markdown": "1. 1704\n2. 6\n\n\n",
            "text/html": [
              "<style>\n",
              ".list-inline {list-style: none; margin:0; padding: 0}\n",
              ".list-inline>li {display: inline-block}\n",
              ".list-inline>li:not(:last-child)::after {content: \"\\00b7\"; padding: 0 .5ex}\n",
              "</style>\n",
              "<ol class=list-inline><li>1704</li><li>6</li></ol>\n"
            ]
          },
          "metadata": {
            "tags": []
          }
        },
        {
          "output_type": "display_data",
          "data": {
            "text/plain": [
              "[1] \"country\"   \"continent\" \"year\"      \"lifeExp\"   \"pop\"       \"gdpPercap\""
            ],
            "text/latex": "\\begin{enumerate*}\n\\item 'country'\n\\item 'continent'\n\\item 'year'\n\\item 'lifeExp'\n\\item 'pop'\n\\item 'gdpPercap'\n\\end{enumerate*}\n",
            "text/markdown": "1. 'country'\n2. 'continent'\n3. 'year'\n4. 'lifeExp'\n5. 'pop'\n6. 'gdpPercap'\n\n\n",
            "text/html": [
              "<style>\n",
              ".list-inline {list-style: none; margin:0; padding: 0}\n",
              ".list-inline>li {display: inline-block}\n",
              ".list-inline>li:not(:last-child)::after {content: \"\\00b7\"; padding: 0 .5ex}\n",
              "</style>\n",
              "<ol class=list-inline><li>'country'</li><li>'continent'</li><li>'year'</li><li>'lifeExp'</li><li>'pop'</li><li>'gdpPercap'</li></ol>\n"
            ]
          },
          "metadata": {
            "tags": []
          }
        }
      ]
    },
    {
      "cell_type": "markdown",
      "metadata": {
        "id": "MinfUc8aJAWi"
      },
      "source": [
        "## 2. Subsetting & Filtering"
      ]
    },
    {
      "cell_type": "code",
      "metadata": {
        "id": "NuULTXMvpfM4"
      },
      "source": [
        "## Download data\r\n",
        "##install.packages('RCurl')\r\n",
        "library(RCurl)\r\n",
        "x <- getURL(\"http://sekhon.berkeley.edu/causalinf/midterm/FearonLaitin2003.asc\")\r\n",
        "y <- read.csv(text = x, sep = \"\")"
      ],
      "execution_count": null,
      "outputs": []
    },
    {
      "cell_type": "code",
      "metadata": {
        "colab": {
          "base_uri": "https://localhost:8080/",
          "height": 193
        },
        "id": "OfMHjKoapfKR",
        "outputId": "24433f49-35ba-467f-9920-43dda6a91654"
      },
      "source": [
        "## Read data\r\n",
        "wardata <- y\r\n",
        "dim(wardata)\r\n",
        "head(wardata)"
      ],
      "execution_count": null,
      "outputs": [
        {
          "output_type": "display_data",
          "data": {
            "text/plain": [
              "[1] 6610   69"
            ],
            "text/latex": "\\begin{enumerate*}\n\\item 6610\n\\item 69\n\\end{enumerate*}\n",
            "text/markdown": "1. 6610\n2. 69\n\n\n",
            "text/html": [
              "<style>\n",
              ".list-inline {list-style: none; margin:0; padding: 0}\n",
              ".list-inline>li {display: inline-block}\n",
              ".list-inline>li:not(:last-child)::after {content: \"\\00b7\"; padding: 0 .5ex}\n",
              "</style>\n",
              "<ol class=list-inline><li>6610</li><li>69</li></ol>\n"
            ]
          },
          "metadata": {
            "tags": []
          }
        },
        {
          "output_type": "display_data",
          "data": {
            "text/plain": [
              "  ccode country cname cmark year wars war warl onset ethonset ⋯ empolity2l\n",
              "1 2     USA     USA   1     1945 0    0   0    0     0        ⋯  7.68712  \n",
              "2 2     USA     USA   0     1946 0    0   0    0     0        ⋯ 10.00000  \n",
              "3 2     USA     USA   0     1947 0    0   0    0     0        ⋯ 10.00000  \n",
              "4 2     USA     USA   0     1948 0    0   0    0     0        ⋯ 10.00000  \n",
              "5 2     USA     USA   0     1949 0    0   0    0     0        ⋯ 10.00000  \n",
              "6 2     USA     USA   0     1950 0    0   0    0     0        ⋯ 10.00000  \n",
              "  sdwars sdonset colwars colonset cowwars cowonset cowwarl sdwarl colwarl\n",
              "1 0      0       NA      NA       0       0        0       0      NA     \n",
              "2 0      0       NA      NA       0       0        0       0      NA     \n",
              "3 0      0       NA      NA       0       0        0       0      NA     \n",
              "4 0      0       NA      NA       0       0        0       0      NA     \n",
              "5 0      0       NA      NA       0       0        0       0      NA     \n",
              "6 0      0       NA      NA       0       0        0       0      NA     "
            ],
            "text/latex": "A data.frame: 6 × 69\n\\begin{tabular}{r|lllllllllllllllllllll}\n  & ccode & country & cname & cmark & year & wars & war & warl & onset & ethonset & ⋯ & empolity2l & sdwars & sdonset & colwars & colonset & cowwars & cowonset & cowwarl & sdwarl & colwarl\\\\\n  & <int> & <chr> & <chr> & <int> & <int> & <int> & <int> & <int> & <int> & <int> & ⋯ & <dbl> & <int> & <int> & <int> & <int> & <int> & <int> & <int> & <int> & <int>\\\\\n\\hline\n\t1 & 2 & USA & USA & 1 & 1945 & 0 & 0 & 0 & 0 & 0 & ⋯ &  7.68712 & 0 & 0 & NA & NA & 0 & 0 & 0 & 0 & NA\\\\\n\t2 & 2 & USA & USA & 0 & 1946 & 0 & 0 & 0 & 0 & 0 & ⋯ & 10.00000 & 0 & 0 & NA & NA & 0 & 0 & 0 & 0 & NA\\\\\n\t3 & 2 & USA & USA & 0 & 1947 & 0 & 0 & 0 & 0 & 0 & ⋯ & 10.00000 & 0 & 0 & NA & NA & 0 & 0 & 0 & 0 & NA\\\\\n\t4 & 2 & USA & USA & 0 & 1948 & 0 & 0 & 0 & 0 & 0 & ⋯ & 10.00000 & 0 & 0 & NA & NA & 0 & 0 & 0 & 0 & NA\\\\\n\t5 & 2 & USA & USA & 0 & 1949 & 0 & 0 & 0 & 0 & 0 & ⋯ & 10.00000 & 0 & 0 & NA & NA & 0 & 0 & 0 & 0 & NA\\\\\n\t6 & 2 & USA & USA & 0 & 1950 & 0 & 0 & 0 & 0 & 0 & ⋯ & 10.00000 & 0 & 0 & NA & NA & 0 & 0 & 0 & 0 & NA\\\\\n\\end{tabular}\n",
            "text/markdown": "\nA data.frame: 6 × 69\n\n| <!--/--> | ccode &lt;int&gt; | country &lt;chr&gt; | cname &lt;chr&gt; | cmark &lt;int&gt; | year &lt;int&gt; | wars &lt;int&gt; | war &lt;int&gt; | warl &lt;int&gt; | onset &lt;int&gt; | ethonset &lt;int&gt; | ⋯ ⋯ | empolity2l &lt;dbl&gt; | sdwars &lt;int&gt; | sdonset &lt;int&gt; | colwars &lt;int&gt; | colonset &lt;int&gt; | cowwars &lt;int&gt; | cowonset &lt;int&gt; | cowwarl &lt;int&gt; | sdwarl &lt;int&gt; | colwarl &lt;int&gt; |\n|---|---|---|---|---|---|---|---|---|---|---|---|---|---|---|---|---|---|---|---|---|---|\n| 1 | 2 | USA | USA | 1 | 1945 | 0 | 0 | 0 | 0 | 0 | ⋯ |  7.68712 | 0 | 0 | NA | NA | 0 | 0 | 0 | 0 | NA |\n| 2 | 2 | USA | USA | 0 | 1946 | 0 | 0 | 0 | 0 | 0 | ⋯ | 10.00000 | 0 | 0 | NA | NA | 0 | 0 | 0 | 0 | NA |\n| 3 | 2 | USA | USA | 0 | 1947 | 0 | 0 | 0 | 0 | 0 | ⋯ | 10.00000 | 0 | 0 | NA | NA | 0 | 0 | 0 | 0 | NA |\n| 4 | 2 | USA | USA | 0 | 1948 | 0 | 0 | 0 | 0 | 0 | ⋯ | 10.00000 | 0 | 0 | NA | NA | 0 | 0 | 0 | 0 | NA |\n| 5 | 2 | USA | USA | 0 | 1949 | 0 | 0 | 0 | 0 | 0 | ⋯ | 10.00000 | 0 | 0 | NA | NA | 0 | 0 | 0 | 0 | NA |\n| 6 | 2 | USA | USA | 0 | 1950 | 0 | 0 | 0 | 0 | 0 | ⋯ | 10.00000 | 0 | 0 | NA | NA | 0 | 0 | 0 | 0 | NA |\n\n",
            "text/html": [
              "<table>\n",
              "<caption>A data.frame: 6 × 69</caption>\n",
              "<thead>\n",
              "\t<tr><th></th><th scope=col>ccode</th><th scope=col>country</th><th scope=col>cname</th><th scope=col>cmark</th><th scope=col>year</th><th scope=col>wars</th><th scope=col>war</th><th scope=col>warl</th><th scope=col>onset</th><th scope=col>ethonset</th><th scope=col>⋯</th><th scope=col>empolity2l</th><th scope=col>sdwars</th><th scope=col>sdonset</th><th scope=col>colwars</th><th scope=col>colonset</th><th scope=col>cowwars</th><th scope=col>cowonset</th><th scope=col>cowwarl</th><th scope=col>sdwarl</th><th scope=col>colwarl</th></tr>\n",
              "\t<tr><th></th><th scope=col>&lt;int&gt;</th><th scope=col>&lt;chr&gt;</th><th scope=col>&lt;chr&gt;</th><th scope=col>&lt;int&gt;</th><th scope=col>&lt;int&gt;</th><th scope=col>&lt;int&gt;</th><th scope=col>&lt;int&gt;</th><th scope=col>&lt;int&gt;</th><th scope=col>&lt;int&gt;</th><th scope=col>&lt;int&gt;</th><th scope=col>⋯</th><th scope=col>&lt;dbl&gt;</th><th scope=col>&lt;int&gt;</th><th scope=col>&lt;int&gt;</th><th scope=col>&lt;int&gt;</th><th scope=col>&lt;int&gt;</th><th scope=col>&lt;int&gt;</th><th scope=col>&lt;int&gt;</th><th scope=col>&lt;int&gt;</th><th scope=col>&lt;int&gt;</th><th scope=col>&lt;int&gt;</th></tr>\n",
              "</thead>\n",
              "<tbody>\n",
              "\t<tr><th scope=row>1</th><td>2</td><td>USA</td><td>USA</td><td>1</td><td>1945</td><td>0</td><td>0</td><td>0</td><td>0</td><td>0</td><td>⋯</td><td> 7.68712</td><td>0</td><td>0</td><td>NA</td><td>NA</td><td>0</td><td>0</td><td>0</td><td>0</td><td>NA</td></tr>\n",
              "\t<tr><th scope=row>2</th><td>2</td><td>USA</td><td>USA</td><td>0</td><td>1946</td><td>0</td><td>0</td><td>0</td><td>0</td><td>0</td><td>⋯</td><td>10.00000</td><td>0</td><td>0</td><td>NA</td><td>NA</td><td>0</td><td>0</td><td>0</td><td>0</td><td>NA</td></tr>\n",
              "\t<tr><th scope=row>3</th><td>2</td><td>USA</td><td>USA</td><td>0</td><td>1947</td><td>0</td><td>0</td><td>0</td><td>0</td><td>0</td><td>⋯</td><td>10.00000</td><td>0</td><td>0</td><td>NA</td><td>NA</td><td>0</td><td>0</td><td>0</td><td>0</td><td>NA</td></tr>\n",
              "\t<tr><th scope=row>4</th><td>2</td><td>USA</td><td>USA</td><td>0</td><td>1948</td><td>0</td><td>0</td><td>0</td><td>0</td><td>0</td><td>⋯</td><td>10.00000</td><td>0</td><td>0</td><td>NA</td><td>NA</td><td>0</td><td>0</td><td>0</td><td>0</td><td>NA</td></tr>\n",
              "\t<tr><th scope=row>5</th><td>2</td><td>USA</td><td>USA</td><td>0</td><td>1949</td><td>0</td><td>0</td><td>0</td><td>0</td><td>0</td><td>⋯</td><td>10.00000</td><td>0</td><td>0</td><td>NA</td><td>NA</td><td>0</td><td>0</td><td>0</td><td>0</td><td>NA</td></tr>\n",
              "\t<tr><th scope=row>6</th><td>2</td><td>USA</td><td>USA</td><td>0</td><td>1950</td><td>0</td><td>0</td><td>0</td><td>0</td><td>0</td><td>⋯</td><td>10.00000</td><td>0</td><td>0</td><td>NA</td><td>NA</td><td>0</td><td>0</td><td>0</td><td>0</td><td>NA</td></tr>\n",
              "</tbody>\n",
              "</table>\n"
            ]
          },
          "metadata": {
            "tags": []
          }
        }
      ]
    },
    {
      "cell_type": "code",
      "metadata": {
        "colab": {
          "base_uri": "https://localhost:8080/",
          "height": 247
        },
        "id": "Qw1pkfjbInd7",
        "outputId": "abe36567-9ca3-4b4d-f15f-a0eec6459268"
      },
      "source": [
        "##subset only first 10 rows, 20 columns\r\n",
        "wardata[1:10, 1:20]"
      ],
      "execution_count": null,
      "outputs": [
        {
          "output_type": "display_data",
          "data": {
            "text/plain": [
              "   ccode country cname cmark year wars war warl onset ethonset durest aim\n",
              "1  2     USA     USA   1     1945 0    0   0    0     0        NA     NA \n",
              "2  2     USA     USA   0     1946 0    0   0    0     0        NA     NA \n",
              "3  2     USA     USA   0     1947 0    0   0    0     0        NA     NA \n",
              "4  2     USA     USA   0     1948 0    0   0    0     0        NA     NA \n",
              "5  2     USA     USA   0     1949 0    0   0    0     0        NA     NA \n",
              "6  2     USA     USA   0     1950 0    0   0    0     0        NA     NA \n",
              "7  2     USA     USA   0     1951 0    0   0    0     0        NA     NA \n",
              "8  2     USA     USA   0     1952 0    0   0    0     0        NA     NA \n",
              "9  2     USA     USA   0     1953 0    0   0    0     0        NA     NA \n",
              "10 2     USA     USA   0     1954 0    0   0    0     0        NA     NA \n",
              "   casename ended ethwar waryrs pop    lpop     polity2 gdpen   \n",
              "1           NA    NA            140969 11.85630 10      7.626000\n",
              "2           NA    NA            141936 11.86313 10      7.654000\n",
              "3           NA    NA            142713 11.86859 10      8.025000\n",
              "4           NA    NA            145326 11.88673 10      8.270001\n",
              "5           NA    NA            147987 11.90488 10      8.040000\n",
              "6           NA    NA            152273 11.93343 10      8.772000\n",
              "7           NA    NA            155000 11.95118 10      9.109000\n",
              "8           NA    NA            157727 11.96862 10      9.074000\n",
              "9           NA    NA            160475 11.98589 10      9.300000\n",
              "10          NA    NA            163202 12.00274 10      9.089000"
            ],
            "text/latex": "A data.frame: 10 × 20\n\\begin{tabular}{r|llllllllllllllllllll}\n  & ccode & country & cname & cmark & year & wars & war & warl & onset & ethonset & durest & aim & casename & ended & ethwar & waryrs & pop & lpop & polity2 & gdpen\\\\\n  & <int> & <chr> & <chr> & <int> & <int> & <int> & <int> & <int> & <int> & <int> & <int> & <int> & <chr> & <int> & <int> & <chr> & <dbl> & <dbl> & <int> & <dbl>\\\\\n\\hline\n\t1 & 2 & USA & USA & 1 & 1945 & 0 & 0 & 0 & 0 & 0 & NA & NA &  & NA & NA &  & 140969 & 11.85630 & 10 & 7.626000\\\\\n\t2 & 2 & USA & USA & 0 & 1946 & 0 & 0 & 0 & 0 & 0 & NA & NA &  & NA & NA &  & 141936 & 11.86313 & 10 & 7.654000\\\\\n\t3 & 2 & USA & USA & 0 & 1947 & 0 & 0 & 0 & 0 & 0 & NA & NA &  & NA & NA &  & 142713 & 11.86859 & 10 & 8.025000\\\\\n\t4 & 2 & USA & USA & 0 & 1948 & 0 & 0 & 0 & 0 & 0 & NA & NA &  & NA & NA &  & 145326 & 11.88673 & 10 & 8.270001\\\\\n\t5 & 2 & USA & USA & 0 & 1949 & 0 & 0 & 0 & 0 & 0 & NA & NA &  & NA & NA &  & 147987 & 11.90488 & 10 & 8.040000\\\\\n\t6 & 2 & USA & USA & 0 & 1950 & 0 & 0 & 0 & 0 & 0 & NA & NA &  & NA & NA &  & 152273 & 11.93343 & 10 & 8.772000\\\\\n\t7 & 2 & USA & USA & 0 & 1951 & 0 & 0 & 0 & 0 & 0 & NA & NA &  & NA & NA &  & 155000 & 11.95118 & 10 & 9.109000\\\\\n\t8 & 2 & USA & USA & 0 & 1952 & 0 & 0 & 0 & 0 & 0 & NA & NA &  & NA & NA &  & 157727 & 11.96862 & 10 & 9.074000\\\\\n\t9 & 2 & USA & USA & 0 & 1953 & 0 & 0 & 0 & 0 & 0 & NA & NA &  & NA & NA &  & 160475 & 11.98589 & 10 & 9.300000\\\\\n\t10 & 2 & USA & USA & 0 & 1954 & 0 & 0 & 0 & 0 & 0 & NA & NA &  & NA & NA &  & 163202 & 12.00274 & 10 & 9.089000\\\\\n\\end{tabular}\n",
            "text/markdown": "\nA data.frame: 10 × 20\n\n| <!--/--> | ccode &lt;int&gt; | country &lt;chr&gt; | cname &lt;chr&gt; | cmark &lt;int&gt; | year &lt;int&gt; | wars &lt;int&gt; | war &lt;int&gt; | warl &lt;int&gt; | onset &lt;int&gt; | ethonset &lt;int&gt; | durest &lt;int&gt; | aim &lt;int&gt; | casename &lt;chr&gt; | ended &lt;int&gt; | ethwar &lt;int&gt; | waryrs &lt;chr&gt; | pop &lt;dbl&gt; | lpop &lt;dbl&gt; | polity2 &lt;int&gt; | gdpen &lt;dbl&gt; |\n|---|---|---|---|---|---|---|---|---|---|---|---|---|---|---|---|---|---|---|---|---|\n| 1 | 2 | USA | USA | 1 | 1945 | 0 | 0 | 0 | 0 | 0 | NA | NA | <!----> | NA | NA | <!----> | 140969 | 11.85630 | 10 | 7.626000 |\n| 2 | 2 | USA | USA | 0 | 1946 | 0 | 0 | 0 | 0 | 0 | NA | NA | <!----> | NA | NA | <!----> | 141936 | 11.86313 | 10 | 7.654000 |\n| 3 | 2 | USA | USA | 0 | 1947 | 0 | 0 | 0 | 0 | 0 | NA | NA | <!----> | NA | NA | <!----> | 142713 | 11.86859 | 10 | 8.025000 |\n| 4 | 2 | USA | USA | 0 | 1948 | 0 | 0 | 0 | 0 | 0 | NA | NA | <!----> | NA | NA | <!----> | 145326 | 11.88673 | 10 | 8.270001 |\n| 5 | 2 | USA | USA | 0 | 1949 | 0 | 0 | 0 | 0 | 0 | NA | NA | <!----> | NA | NA | <!----> | 147987 | 11.90488 | 10 | 8.040000 |\n| 6 | 2 | USA | USA | 0 | 1950 | 0 | 0 | 0 | 0 | 0 | NA | NA | <!----> | NA | NA | <!----> | 152273 | 11.93343 | 10 | 8.772000 |\n| 7 | 2 | USA | USA | 0 | 1951 | 0 | 0 | 0 | 0 | 0 | NA | NA | <!----> | NA | NA | <!----> | 155000 | 11.95118 | 10 | 9.109000 |\n| 8 | 2 | USA | USA | 0 | 1952 | 0 | 0 | 0 | 0 | 0 | NA | NA | <!----> | NA | NA | <!----> | 157727 | 11.96862 | 10 | 9.074000 |\n| 9 | 2 | USA | USA | 0 | 1953 | 0 | 0 | 0 | 0 | 0 | NA | NA | <!----> | NA | NA | <!----> | 160475 | 11.98589 | 10 | 9.300000 |\n| 10 | 2 | USA | USA | 0 | 1954 | 0 | 0 | 0 | 0 | 0 | NA | NA | <!----> | NA | NA | <!----> | 163202 | 12.00274 | 10 | 9.089000 |\n\n",
            "text/html": [
              "<table>\n",
              "<caption>A data.frame: 10 × 20</caption>\n",
              "<thead>\n",
              "\t<tr><th></th><th scope=col>ccode</th><th scope=col>country</th><th scope=col>cname</th><th scope=col>cmark</th><th scope=col>year</th><th scope=col>wars</th><th scope=col>war</th><th scope=col>warl</th><th scope=col>onset</th><th scope=col>ethonset</th><th scope=col>durest</th><th scope=col>aim</th><th scope=col>casename</th><th scope=col>ended</th><th scope=col>ethwar</th><th scope=col>waryrs</th><th scope=col>pop</th><th scope=col>lpop</th><th scope=col>polity2</th><th scope=col>gdpen</th></tr>\n",
              "\t<tr><th></th><th scope=col>&lt;int&gt;</th><th scope=col>&lt;chr&gt;</th><th scope=col>&lt;chr&gt;</th><th scope=col>&lt;int&gt;</th><th scope=col>&lt;int&gt;</th><th scope=col>&lt;int&gt;</th><th scope=col>&lt;int&gt;</th><th scope=col>&lt;int&gt;</th><th scope=col>&lt;int&gt;</th><th scope=col>&lt;int&gt;</th><th scope=col>&lt;int&gt;</th><th scope=col>&lt;int&gt;</th><th scope=col>&lt;chr&gt;</th><th scope=col>&lt;int&gt;</th><th scope=col>&lt;int&gt;</th><th scope=col>&lt;chr&gt;</th><th scope=col>&lt;dbl&gt;</th><th scope=col>&lt;dbl&gt;</th><th scope=col>&lt;int&gt;</th><th scope=col>&lt;dbl&gt;</th></tr>\n",
              "</thead>\n",
              "<tbody>\n",
              "\t<tr><th scope=row>1</th><td>2</td><td>USA</td><td>USA</td><td>1</td><td>1945</td><td>0</td><td>0</td><td>0</td><td>0</td><td>0</td><td>NA</td><td>NA</td><td></td><td>NA</td><td>NA</td><td></td><td>140969</td><td>11.85630</td><td>10</td><td>7.626000</td></tr>\n",
              "\t<tr><th scope=row>2</th><td>2</td><td>USA</td><td>USA</td><td>0</td><td>1946</td><td>0</td><td>0</td><td>0</td><td>0</td><td>0</td><td>NA</td><td>NA</td><td></td><td>NA</td><td>NA</td><td></td><td>141936</td><td>11.86313</td><td>10</td><td>7.654000</td></tr>\n",
              "\t<tr><th scope=row>3</th><td>2</td><td>USA</td><td>USA</td><td>0</td><td>1947</td><td>0</td><td>0</td><td>0</td><td>0</td><td>0</td><td>NA</td><td>NA</td><td></td><td>NA</td><td>NA</td><td></td><td>142713</td><td>11.86859</td><td>10</td><td>8.025000</td></tr>\n",
              "\t<tr><th scope=row>4</th><td>2</td><td>USA</td><td>USA</td><td>0</td><td>1948</td><td>0</td><td>0</td><td>0</td><td>0</td><td>0</td><td>NA</td><td>NA</td><td></td><td>NA</td><td>NA</td><td></td><td>145326</td><td>11.88673</td><td>10</td><td>8.270001</td></tr>\n",
              "\t<tr><th scope=row>5</th><td>2</td><td>USA</td><td>USA</td><td>0</td><td>1949</td><td>0</td><td>0</td><td>0</td><td>0</td><td>0</td><td>NA</td><td>NA</td><td></td><td>NA</td><td>NA</td><td></td><td>147987</td><td>11.90488</td><td>10</td><td>8.040000</td></tr>\n",
              "\t<tr><th scope=row>6</th><td>2</td><td>USA</td><td>USA</td><td>0</td><td>1950</td><td>0</td><td>0</td><td>0</td><td>0</td><td>0</td><td>NA</td><td>NA</td><td></td><td>NA</td><td>NA</td><td></td><td>152273</td><td>11.93343</td><td>10</td><td>8.772000</td></tr>\n",
              "\t<tr><th scope=row>7</th><td>2</td><td>USA</td><td>USA</td><td>0</td><td>1951</td><td>0</td><td>0</td><td>0</td><td>0</td><td>0</td><td>NA</td><td>NA</td><td></td><td>NA</td><td>NA</td><td></td><td>155000</td><td>11.95118</td><td>10</td><td>9.109000</td></tr>\n",
              "\t<tr><th scope=row>8</th><td>2</td><td>USA</td><td>USA</td><td>0</td><td>1952</td><td>0</td><td>0</td><td>0</td><td>0</td><td>0</td><td>NA</td><td>NA</td><td></td><td>NA</td><td>NA</td><td></td><td>157727</td><td>11.96862</td><td>10</td><td>9.074000</td></tr>\n",
              "\t<tr><th scope=row>9</th><td>2</td><td>USA</td><td>USA</td><td>0</td><td>1953</td><td>0</td><td>0</td><td>0</td><td>0</td><td>0</td><td>NA</td><td>NA</td><td></td><td>NA</td><td>NA</td><td></td><td>160475</td><td>11.98589</td><td>10</td><td>9.300000</td></tr>\n",
              "\t<tr><th scope=row>10</th><td>2</td><td>USA</td><td>USA</td><td>0</td><td>1954</td><td>0</td><td>0</td><td>0</td><td>0</td><td>0</td><td>NA</td><td>NA</td><td></td><td>NA</td><td>NA</td><td></td><td>163202</td><td>12.00274</td><td>10</td><td>9.089000</td></tr>\n",
              "</tbody>\n",
              "</table>\n"
            ]
          },
          "metadata": {
            "tags": []
          }
        }
      ]
    },
    {
      "cell_type": "code",
      "metadata": {
        "colab": {
          "base_uri": "https://localhost:8080/",
          "height": 264
        },
        "id": "yKHymPMQInqz",
        "outputId": "c1abf46c-0a07-4484-8165-3b5f5132ce39"
      },
      "source": [
        "##subset first 10 rows, column country and year\r\n",
        "wardata[1:10, c(\"country\", \"year\")]"
      ],
      "execution_count": null,
      "outputs": [
        {
          "output_type": "display_data",
          "data": {
            "text/plain": [
              "   country year\n",
              "1  USA     1945\n",
              "2  USA     1946\n",
              "3  USA     1947\n",
              "4  USA     1948\n",
              "5  USA     1949\n",
              "6  USA     1950\n",
              "7  USA     1951\n",
              "8  USA     1952\n",
              "9  USA     1953\n",
              "10 USA     1954"
            ],
            "text/latex": "A data.frame: 10 × 2\n\\begin{tabular}{r|ll}\n  & country & year\\\\\n  & <chr> & <int>\\\\\n\\hline\n\t1 & USA & 1945\\\\\n\t2 & USA & 1946\\\\\n\t3 & USA & 1947\\\\\n\t4 & USA & 1948\\\\\n\t5 & USA & 1949\\\\\n\t6 & USA & 1950\\\\\n\t7 & USA & 1951\\\\\n\t8 & USA & 1952\\\\\n\t9 & USA & 1953\\\\\n\t10 & USA & 1954\\\\\n\\end{tabular}\n",
            "text/markdown": "\nA data.frame: 10 × 2\n\n| <!--/--> | country &lt;chr&gt; | year &lt;int&gt; |\n|---|---|---|\n| 1 | USA | 1945 |\n| 2 | USA | 1946 |\n| 3 | USA | 1947 |\n| 4 | USA | 1948 |\n| 5 | USA | 1949 |\n| 6 | USA | 1950 |\n| 7 | USA | 1951 |\n| 8 | USA | 1952 |\n| 9 | USA | 1953 |\n| 10 | USA | 1954 |\n\n",
            "text/html": [
              "<table>\n",
              "<caption>A data.frame: 10 × 2</caption>\n",
              "<thead>\n",
              "\t<tr><th></th><th scope=col>country</th><th scope=col>year</th></tr>\n",
              "\t<tr><th></th><th scope=col>&lt;chr&gt;</th><th scope=col>&lt;int&gt;</th></tr>\n",
              "</thead>\n",
              "<tbody>\n",
              "\t<tr><th scope=row>1</th><td>USA</td><td>1945</td></tr>\n",
              "\t<tr><th scope=row>2</th><td>USA</td><td>1946</td></tr>\n",
              "\t<tr><th scope=row>3</th><td>USA</td><td>1947</td></tr>\n",
              "\t<tr><th scope=row>4</th><td>USA</td><td>1948</td></tr>\n",
              "\t<tr><th scope=row>5</th><td>USA</td><td>1949</td></tr>\n",
              "\t<tr><th scope=row>6</th><td>USA</td><td>1950</td></tr>\n",
              "\t<tr><th scope=row>7</th><td>USA</td><td>1951</td></tr>\n",
              "\t<tr><th scope=row>8</th><td>USA</td><td>1952</td></tr>\n",
              "\t<tr><th scope=row>9</th><td>USA</td><td>1953</td></tr>\n",
              "\t<tr><th scope=row>10</th><td>USA</td><td>1954</td></tr>\n",
              "</tbody>\n",
              "</table>\n"
            ]
          },
          "metadata": {
            "tags": []
          }
        }
      ]
    },
    {
      "cell_type": "code",
      "metadata": {
        "colab": {
          "base_uri": "https://localhost:8080/",
          "height": 105
        },
        "id": "XAteoA4wIoDE",
        "outputId": "63010082-68ee-4735-98a7-f306a0dcc2bf"
      },
      "source": [
        "## subset country == \"USA\", year 1945 and 1950\r\n",
        "subset(wardata, country ==\"USA\" & year == c(1945, 1950))"
      ],
      "execution_count": null,
      "outputs": [
        {
          "output_type": "display_data",
          "data": {
            "text/plain": [
              "  ccode country cname cmark year wars war warl onset ethonset ⋯ empolity2l\n",
              "1 2     USA     USA   1     1945 0    0   0    0     0        ⋯  7.68712  \n",
              "6 2     USA     USA   0     1950 0    0   0    0     0        ⋯ 10.00000  \n",
              "  sdwars sdonset colwars colonset cowwars cowonset cowwarl sdwarl colwarl\n",
              "1 0      0       NA      NA       0       0        0       0      NA     \n",
              "6 0      0       NA      NA       0       0        0       0      NA     "
            ],
            "text/latex": "A data.frame: 2 × 69\n\\begin{tabular}{r|lllllllllllllllllllll}\n  & ccode & country & cname & cmark & year & wars & war & warl & onset & ethonset & ⋯ & empolity2l & sdwars & sdonset & colwars & colonset & cowwars & cowonset & cowwarl & sdwarl & colwarl\\\\\n  & <int> & <chr> & <chr> & <int> & <int> & <int> & <int> & <int> & <int> & <int> & ⋯ & <dbl> & <int> & <int> & <int> & <int> & <int> & <int> & <int> & <int> & <int>\\\\\n\\hline\n\t1 & 2 & USA & USA & 1 & 1945 & 0 & 0 & 0 & 0 & 0 & ⋯ &  7.68712 & 0 & 0 & NA & NA & 0 & 0 & 0 & 0 & NA\\\\\n\t6 & 2 & USA & USA & 0 & 1950 & 0 & 0 & 0 & 0 & 0 & ⋯ & 10.00000 & 0 & 0 & NA & NA & 0 & 0 & 0 & 0 & NA\\\\\n\\end{tabular}\n",
            "text/markdown": "\nA data.frame: 2 × 69\n\n| <!--/--> | ccode &lt;int&gt; | country &lt;chr&gt; | cname &lt;chr&gt; | cmark &lt;int&gt; | year &lt;int&gt; | wars &lt;int&gt; | war &lt;int&gt; | warl &lt;int&gt; | onset &lt;int&gt; | ethonset &lt;int&gt; | ⋯ ⋯ | empolity2l &lt;dbl&gt; | sdwars &lt;int&gt; | sdonset &lt;int&gt; | colwars &lt;int&gt; | colonset &lt;int&gt; | cowwars &lt;int&gt; | cowonset &lt;int&gt; | cowwarl &lt;int&gt; | sdwarl &lt;int&gt; | colwarl &lt;int&gt; |\n|---|---|---|---|---|---|---|---|---|---|---|---|---|---|---|---|---|---|---|---|---|---|\n| 1 | 2 | USA | USA | 1 | 1945 | 0 | 0 | 0 | 0 | 0 | ⋯ |  7.68712 | 0 | 0 | NA | NA | 0 | 0 | 0 | 0 | NA |\n| 6 | 2 | USA | USA | 0 | 1950 | 0 | 0 | 0 | 0 | 0 | ⋯ | 10.00000 | 0 | 0 | NA | NA | 0 | 0 | 0 | 0 | NA |\n\n",
            "text/html": [
              "<table>\n",
              "<caption>A data.frame: 2 × 69</caption>\n",
              "<thead>\n",
              "\t<tr><th></th><th scope=col>ccode</th><th scope=col>country</th><th scope=col>cname</th><th scope=col>cmark</th><th scope=col>year</th><th scope=col>wars</th><th scope=col>war</th><th scope=col>warl</th><th scope=col>onset</th><th scope=col>ethonset</th><th scope=col>⋯</th><th scope=col>empolity2l</th><th scope=col>sdwars</th><th scope=col>sdonset</th><th scope=col>colwars</th><th scope=col>colonset</th><th scope=col>cowwars</th><th scope=col>cowonset</th><th scope=col>cowwarl</th><th scope=col>sdwarl</th><th scope=col>colwarl</th></tr>\n",
              "\t<tr><th></th><th scope=col>&lt;int&gt;</th><th scope=col>&lt;chr&gt;</th><th scope=col>&lt;chr&gt;</th><th scope=col>&lt;int&gt;</th><th scope=col>&lt;int&gt;</th><th scope=col>&lt;int&gt;</th><th scope=col>&lt;int&gt;</th><th scope=col>&lt;int&gt;</th><th scope=col>&lt;int&gt;</th><th scope=col>&lt;int&gt;</th><th scope=col>⋯</th><th scope=col>&lt;dbl&gt;</th><th scope=col>&lt;int&gt;</th><th scope=col>&lt;int&gt;</th><th scope=col>&lt;int&gt;</th><th scope=col>&lt;int&gt;</th><th scope=col>&lt;int&gt;</th><th scope=col>&lt;int&gt;</th><th scope=col>&lt;int&gt;</th><th scope=col>&lt;int&gt;</th><th scope=col>&lt;int&gt;</th></tr>\n",
              "</thead>\n",
              "<tbody>\n",
              "\t<tr><th scope=row>1</th><td>2</td><td>USA</td><td>USA</td><td>1</td><td>1945</td><td>0</td><td>0</td><td>0</td><td>0</td><td>0</td><td>⋯</td><td> 7.68712</td><td>0</td><td>0</td><td>NA</td><td>NA</td><td>0</td><td>0</td><td>0</td><td>0</td><td>NA</td></tr>\n",
              "\t<tr><th scope=row>6</th><td>2</td><td>USA</td><td>USA</td><td>0</td><td>1950</td><td>0</td><td>0</td><td>0</td><td>0</td><td>0</td><td>⋯</td><td>10.00000</td><td>0</td><td>0</td><td>NA</td><td>NA</td><td>0</td><td>0</td><td>0</td><td>0</td><td>NA</td></tr>\n",
              "</tbody>\n",
              "</table>\n"
            ]
          },
          "metadata": {
            "tags": []
          }
        }
      ]
    },
    {
      "cell_type": "code",
      "metadata": {
        "colab": {
          "base_uri": "https://localhost:8080/",
          "height": 105
        },
        "id": "ljn5oaX4IoPa",
        "outputId": "1b98e5a7-654b-464f-a751-beb48e4f5c2e"
      },
      "source": [
        "## filter country USA year 1945 and 1950\r\n",
        "wardata %>%\r\n",
        "  filter(country == \"USA\", year == c(1945, 1950))"
      ],
      "execution_count": null,
      "outputs": [
        {
          "output_type": "display_data",
          "data": {
            "text/plain": [
              "  ccode country cname cmark year wars war warl onset ethonset ⋯ empolity2l\n",
              "1 2     USA     USA   1     1945 0    0   0    0     0        ⋯  7.68712  \n",
              "2 2     USA     USA   0     1950 0    0   0    0     0        ⋯ 10.00000  \n",
              "  sdwars sdonset colwars colonset cowwars cowonset cowwarl sdwarl colwarl\n",
              "1 0      0       NA      NA       0       0        0       0      NA     \n",
              "2 0      0       NA      NA       0       0        0       0      NA     "
            ],
            "text/latex": "A data.frame: 2 × 69\n\\begin{tabular}{lllllllllllllllllllll}\n ccode & country & cname & cmark & year & wars & war & warl & onset & ethonset & ⋯ & empolity2l & sdwars & sdonset & colwars & colonset & cowwars & cowonset & cowwarl & sdwarl & colwarl\\\\\n <int> & <chr> & <chr> & <int> & <int> & <int> & <int> & <int> & <int> & <int> & ⋯ & <dbl> & <int> & <int> & <int> & <int> & <int> & <int> & <int> & <int> & <int>\\\\\n\\hline\n\t 2 & USA & USA & 1 & 1945 & 0 & 0 & 0 & 0 & 0 & ⋯ &  7.68712 & 0 & 0 & NA & NA & 0 & 0 & 0 & 0 & NA\\\\\n\t 2 & USA & USA & 0 & 1950 & 0 & 0 & 0 & 0 & 0 & ⋯ & 10.00000 & 0 & 0 & NA & NA & 0 & 0 & 0 & 0 & NA\\\\\n\\end{tabular}\n",
            "text/markdown": "\nA data.frame: 2 × 69\n\n| ccode &lt;int&gt; | country &lt;chr&gt; | cname &lt;chr&gt; | cmark &lt;int&gt; | year &lt;int&gt; | wars &lt;int&gt; | war &lt;int&gt; | warl &lt;int&gt; | onset &lt;int&gt; | ethonset &lt;int&gt; | ⋯ ⋯ | empolity2l &lt;dbl&gt; | sdwars &lt;int&gt; | sdonset &lt;int&gt; | colwars &lt;int&gt; | colonset &lt;int&gt; | cowwars &lt;int&gt; | cowonset &lt;int&gt; | cowwarl &lt;int&gt; | sdwarl &lt;int&gt; | colwarl &lt;int&gt; |\n|---|---|---|---|---|---|---|---|---|---|---|---|---|---|---|---|---|---|---|---|---|\n| 2 | USA | USA | 1 | 1945 | 0 | 0 | 0 | 0 | 0 | ⋯ |  7.68712 | 0 | 0 | NA | NA | 0 | 0 | 0 | 0 | NA |\n| 2 | USA | USA | 0 | 1950 | 0 | 0 | 0 | 0 | 0 | ⋯ | 10.00000 | 0 | 0 | NA | NA | 0 | 0 | 0 | 0 | NA |\n\n",
            "text/html": [
              "<table>\n",
              "<caption>A data.frame: 2 × 69</caption>\n",
              "<thead>\n",
              "\t<tr><th scope=col>ccode</th><th scope=col>country</th><th scope=col>cname</th><th scope=col>cmark</th><th scope=col>year</th><th scope=col>wars</th><th scope=col>war</th><th scope=col>warl</th><th scope=col>onset</th><th scope=col>ethonset</th><th scope=col>⋯</th><th scope=col>empolity2l</th><th scope=col>sdwars</th><th scope=col>sdonset</th><th scope=col>colwars</th><th scope=col>colonset</th><th scope=col>cowwars</th><th scope=col>cowonset</th><th scope=col>cowwarl</th><th scope=col>sdwarl</th><th scope=col>colwarl</th></tr>\n",
              "\t<tr><th scope=col>&lt;int&gt;</th><th scope=col>&lt;chr&gt;</th><th scope=col>&lt;chr&gt;</th><th scope=col>&lt;int&gt;</th><th scope=col>&lt;int&gt;</th><th scope=col>&lt;int&gt;</th><th scope=col>&lt;int&gt;</th><th scope=col>&lt;int&gt;</th><th scope=col>&lt;int&gt;</th><th scope=col>&lt;int&gt;</th><th scope=col>⋯</th><th scope=col>&lt;dbl&gt;</th><th scope=col>&lt;int&gt;</th><th scope=col>&lt;int&gt;</th><th scope=col>&lt;int&gt;</th><th scope=col>&lt;int&gt;</th><th scope=col>&lt;int&gt;</th><th scope=col>&lt;int&gt;</th><th scope=col>&lt;int&gt;</th><th scope=col>&lt;int&gt;</th><th scope=col>&lt;int&gt;</th></tr>\n",
              "</thead>\n",
              "<tbody>\n",
              "\t<tr><td>2</td><td>USA</td><td>USA</td><td>1</td><td>1945</td><td>0</td><td>0</td><td>0</td><td>0</td><td>0</td><td>⋯</td><td> 7.68712</td><td>0</td><td>0</td><td>NA</td><td>NA</td><td>0</td><td>0</td><td>0</td><td>0</td><td>NA</td></tr>\n",
              "\t<tr><td>2</td><td>USA</td><td>USA</td><td>0</td><td>1950</td><td>0</td><td>0</td><td>0</td><td>0</td><td>0</td><td>⋯</td><td>10.00000</td><td>0</td><td>0</td><td>NA</td><td>NA</td><td>0</td><td>0</td><td>0</td><td>0</td><td>NA</td></tr>\n",
              "</tbody>\n",
              "</table>\n"
            ]
          },
          "metadata": {
            "tags": []
          }
        }
      ]
    },
    {
      "cell_type": "code",
      "metadata": {
        "colab": {
          "base_uri": "https://localhost:8080/",
          "height": 87
        },
        "id": "Xk4QS04zJtdv",
        "outputId": "486afa62-470a-41d3-8f9c-f1203bd5c712"
      },
      "source": [
        "##gapminder filter United States & 2007\r\n",
        "gapminder %>%\r\n",
        "  filter(country == \"United States\", year == 2007)"
      ],
      "execution_count": null,
      "outputs": [
        {
          "output_type": "display_data",
          "data": {
            "text/plain": [
              "  country       continent year lifeExp pop       gdpPercap\n",
              "1 United States Americas  2007 78.242  301139947 42951.65 "
            ],
            "text/latex": "A tibble: 1 × 6\n\\begin{tabular}{llllll}\n country & continent & year & lifeExp & pop & gdpPercap\\\\\n <fct> & <fct> & <int> & <dbl> & <int> & <dbl>\\\\\n\\hline\n\t United States & Americas & 2007 & 78.242 & 301139947 & 42951.65\\\\\n\\end{tabular}\n",
            "text/markdown": "\nA tibble: 1 × 6\n\n| country &lt;fct&gt; | continent &lt;fct&gt; | year &lt;int&gt; | lifeExp &lt;dbl&gt; | pop &lt;int&gt; | gdpPercap &lt;dbl&gt; |\n|---|---|---|---|---|---|\n| United States | Americas | 2007 | 78.242 | 301139947 | 42951.65 |\n\n",
            "text/html": [
              "<table>\n",
              "<caption>A tibble: 1 × 6</caption>\n",
              "<thead>\n",
              "\t<tr><th scope=col>country</th><th scope=col>continent</th><th scope=col>year</th><th scope=col>lifeExp</th><th scope=col>pop</th><th scope=col>gdpPercap</th></tr>\n",
              "\t<tr><th scope=col>&lt;fct&gt;</th><th scope=col>&lt;fct&gt;</th><th scope=col>&lt;int&gt;</th><th scope=col>&lt;dbl&gt;</th><th scope=col>&lt;int&gt;</th><th scope=col>&lt;dbl&gt;</th></tr>\n",
              "</thead>\n",
              "<tbody>\n",
              "\t<tr><td>United States</td><td>Americas</td><td>2007</td><td>78.242</td><td>301139947</td><td>42951.65</td></tr>\n",
              "</tbody>\n",
              "</table>\n"
            ]
          },
          "metadata": {
            "tags": []
          }
        }
      ]
    },
    {
      "cell_type": "code",
      "metadata": {
        "colab": {
          "base_uri": "https://localhost:8080/",
          "height": 1000
        },
        "id": "EHWiW3NKJtht",
        "outputId": "9e3f70be-3ddd-4c36-bdf7-d79a22a273c9"
      },
      "source": [
        "#gapminder: filter() year 2007 arrange dpPercap desc order\r\n",
        "gapminder %>%\r\n",
        "  filter(year == 2007) %>%\r\n",
        "  arrange(desc(gdpPercap))"
      ],
      "execution_count": null,
      "outputs": [
        {
          "output_type": "display_data",
          "data": {
            "text/plain": [
              "    country                  continent year lifeExp pop       gdpPercap\n",
              "1   Norway                   Europe    2007 80.196    4627926 49357.19 \n",
              "2   Kuwait                   Asia      2007 77.588    2505559 47306.99 \n",
              "3   Singapore                Asia      2007 79.972    4553009 47143.18 \n",
              "4   United States            Americas  2007 78.242  301139947 42951.65 \n",
              "5   Ireland                  Europe    2007 78.885    4109086 40676.00 \n",
              "6   Hong Kong, China         Asia      2007 82.208    6980412 39724.98 \n",
              "7   Switzerland              Europe    2007 81.701    7554661 37506.42 \n",
              "8   Netherlands              Europe    2007 79.762   16570613 36797.93 \n",
              "9   Canada                   Americas  2007 80.653   33390141 36319.24 \n",
              "10  Iceland                  Europe    2007 81.757     301931 36180.79 \n",
              "11  Austria                  Europe    2007 79.829    8199783 36126.49 \n",
              "12  Denmark                  Europe    2007 78.332    5468120 35278.42 \n",
              "13  Australia                Oceania   2007 81.235   20434176 34435.37 \n",
              "14  Sweden                   Europe    2007 80.884    9031088 33859.75 \n",
              "15  Belgium                  Europe    2007 79.441   10392226 33692.61 \n",
              "16  Finland                  Europe    2007 79.313    5238460 33207.08 \n",
              "17  United Kingdom           Europe    2007 79.425   60776238 33203.26 \n",
              "18  Germany                  Europe    2007 79.406   82400996 32170.37 \n",
              "19  Japan                    Asia      2007 82.603  127467972 31656.07 \n",
              "20  France                   Europe    2007 80.657   61083916 30470.02 \n",
              "21  Bahrain                  Asia      2007 75.635     708573 29796.05 \n",
              "22  Spain                    Europe    2007 80.941   40448191 28821.06 \n",
              "23  Taiwan                   Asia      2007 78.400   23174294 28718.28 \n",
              "24  Italy                    Europe    2007 80.546   58147733 28569.72 \n",
              "25  Greece                   Europe    2007 79.483   10706290 27538.41 \n",
              "26  Slovenia                 Europe    2007 77.926    2009245 25768.26 \n",
              "27  Israel                   Asia      2007 80.745    6426679 25523.28 \n",
              "28  New Zealand              Oceania   2007 80.204    4115771 25185.01 \n",
              "29  Korea, Rep.              Asia      2007 78.623   49044790 23348.14 \n",
              "30  Czech Republic           Europe    2007 76.486   10228744 22833.31 \n",
              "⋮   ⋮                        ⋮         ⋮    ⋮       ⋮         ⋮        \n",
              "113 Bangladesh               Asia      2007 64.062  150448339 1391.2538\n",
              "114 Ghana                    Africa    2007 60.022   22873338 1327.6089\n",
              "115 Zambia                   Africa    2007 42.384   11746035 1271.2116\n",
              "116 Burkina Faso             Africa    2007 52.295   14326203 1217.0330\n",
              "117 Haiti                    Americas  2007 60.916    8502814 1201.6372\n",
              "118 Tanzania                 Africa    2007 52.517   38139640 1107.4822\n",
              "119 Nepal                    Asia      2007 63.785   28901790 1091.3598\n",
              "120 Uganda                   Africa    2007 51.542   29170398 1056.3801\n",
              "121 Madagascar               Africa    2007 59.443   19167654 1044.7701\n",
              "122 Mali                     Africa    2007 54.467   12031795 1042.5816\n",
              "123 Comoros                  Africa    2007 65.152     710960  986.1479\n",
              "124 Afghanistan              Asia      2007 43.828   31889923  974.5803\n",
              "125 Myanmar                  Asia      2007 62.069   47761980  944.0000\n",
              "126 Guinea                   Africa    2007 56.007    9947814  942.6542\n",
              "127 Somalia                  Africa    2007 48.159    9118773  926.1411\n",
              "128 Togo                     Africa    2007 58.420    5701579  882.9699\n",
              "129 Rwanda                   Africa    2007 46.242    8860588  863.0885\n",
              "130 Sierra Leone             Africa    2007 42.568    6144562  862.5408\n",
              "131 Mozambique               Africa    2007 42.082   19951656  823.6856\n",
              "132 Malawi                   Africa    2007 48.303   13327079  759.3499\n",
              "133 Gambia                   Africa    2007 59.448    1688359  752.7497\n",
              "134 Central African Republic Africa    2007 44.741    4369038  706.0165\n",
              "135 Ethiopia                 Africa    2007 52.947   76511887  690.8056\n",
              "136 Eritrea                  Africa    2007 58.040    4906585  641.3695\n",
              "137 Niger                    Africa    2007 56.867   12894865  619.6769\n",
              "138 Guinea-Bissau            Africa    2007 46.388    1472041  579.2317\n",
              "139 Zimbabwe                 Africa    2007 43.487   12311143  469.7093\n",
              "140 Burundi                  Africa    2007 49.580    8390505  430.0707\n",
              "141 Liberia                  Africa    2007 45.678    3193942  414.5073\n",
              "142 Congo, Dem. Rep.         Africa    2007 46.462   64606759  277.5519"
            ],
            "text/latex": "A tibble: 142 × 6\n\\begin{tabular}{llllll}\n country & continent & year & lifeExp & pop & gdpPercap\\\\\n <fct> & <fct> & <int> & <dbl> & <int> & <dbl>\\\\\n\\hline\n\t Norway           & Europe   & 2007 & 80.196 &   4627926 & 49357.19\\\\\n\t Kuwait           & Asia     & 2007 & 77.588 &   2505559 & 47306.99\\\\\n\t Singapore        & Asia     & 2007 & 79.972 &   4553009 & 47143.18\\\\\n\t United States    & Americas & 2007 & 78.242 & 301139947 & 42951.65\\\\\n\t Ireland          & Europe   & 2007 & 78.885 &   4109086 & 40676.00\\\\\n\t Hong Kong, China & Asia     & 2007 & 82.208 &   6980412 & 39724.98\\\\\n\t Switzerland      & Europe   & 2007 & 81.701 &   7554661 & 37506.42\\\\\n\t Netherlands      & Europe   & 2007 & 79.762 &  16570613 & 36797.93\\\\\n\t Canada           & Americas & 2007 & 80.653 &  33390141 & 36319.24\\\\\n\t Iceland          & Europe   & 2007 & 81.757 &    301931 & 36180.79\\\\\n\t Austria          & Europe   & 2007 & 79.829 &   8199783 & 36126.49\\\\\n\t Denmark          & Europe   & 2007 & 78.332 &   5468120 & 35278.42\\\\\n\t Australia        & Oceania  & 2007 & 81.235 &  20434176 & 34435.37\\\\\n\t Sweden           & Europe   & 2007 & 80.884 &   9031088 & 33859.75\\\\\n\t Belgium          & Europe   & 2007 & 79.441 &  10392226 & 33692.61\\\\\n\t Finland          & Europe   & 2007 & 79.313 &   5238460 & 33207.08\\\\\n\t United Kingdom   & Europe   & 2007 & 79.425 &  60776238 & 33203.26\\\\\n\t Germany          & Europe   & 2007 & 79.406 &  82400996 & 32170.37\\\\\n\t Japan            & Asia     & 2007 & 82.603 & 127467972 & 31656.07\\\\\n\t France           & Europe   & 2007 & 80.657 &  61083916 & 30470.02\\\\\n\t Bahrain          & Asia     & 2007 & 75.635 &    708573 & 29796.05\\\\\n\t Spain            & Europe   & 2007 & 80.941 &  40448191 & 28821.06\\\\\n\t Taiwan           & Asia     & 2007 & 78.400 &  23174294 & 28718.28\\\\\n\t Italy            & Europe   & 2007 & 80.546 &  58147733 & 28569.72\\\\\n\t Greece           & Europe   & 2007 & 79.483 &  10706290 & 27538.41\\\\\n\t Slovenia         & Europe   & 2007 & 77.926 &   2009245 & 25768.26\\\\\n\t Israel           & Asia     & 2007 & 80.745 &   6426679 & 25523.28\\\\\n\t New Zealand      & Oceania  & 2007 & 80.204 &   4115771 & 25185.01\\\\\n\t Korea, Rep.      & Asia     & 2007 & 78.623 &  49044790 & 23348.14\\\\\n\t Czech Republic   & Europe   & 2007 & 76.486 &  10228744 & 22833.31\\\\\n\t ⋮ & ⋮ & ⋮ & ⋮ & ⋮ & ⋮\\\\\n\t Bangladesh               & Asia     & 2007 & 64.062 & 150448339 & 1391.2538\\\\\n\t Ghana                    & Africa   & 2007 & 60.022 &  22873338 & 1327.6089\\\\\n\t Zambia                   & Africa   & 2007 & 42.384 &  11746035 & 1271.2116\\\\\n\t Burkina Faso             & Africa   & 2007 & 52.295 &  14326203 & 1217.0330\\\\\n\t Haiti                    & Americas & 2007 & 60.916 &   8502814 & 1201.6372\\\\\n\t Tanzania                 & Africa   & 2007 & 52.517 &  38139640 & 1107.4822\\\\\n\t Nepal                    & Asia     & 2007 & 63.785 &  28901790 & 1091.3598\\\\\n\t Uganda                   & Africa   & 2007 & 51.542 &  29170398 & 1056.3801\\\\\n\t Madagascar               & Africa   & 2007 & 59.443 &  19167654 & 1044.7701\\\\\n\t Mali                     & Africa   & 2007 & 54.467 &  12031795 & 1042.5816\\\\\n\t Comoros                  & Africa   & 2007 & 65.152 &    710960 &  986.1479\\\\\n\t Afghanistan              & Asia     & 2007 & 43.828 &  31889923 &  974.5803\\\\\n\t Myanmar                  & Asia     & 2007 & 62.069 &  47761980 &  944.0000\\\\\n\t Guinea                   & Africa   & 2007 & 56.007 &   9947814 &  942.6542\\\\\n\t Somalia                  & Africa   & 2007 & 48.159 &   9118773 &  926.1411\\\\\n\t Togo                     & Africa   & 2007 & 58.420 &   5701579 &  882.9699\\\\\n\t Rwanda                   & Africa   & 2007 & 46.242 &   8860588 &  863.0885\\\\\n\t Sierra Leone             & Africa   & 2007 & 42.568 &   6144562 &  862.5408\\\\\n\t Mozambique               & Africa   & 2007 & 42.082 &  19951656 &  823.6856\\\\\n\t Malawi                   & Africa   & 2007 & 48.303 &  13327079 &  759.3499\\\\\n\t Gambia                   & Africa   & 2007 & 59.448 &   1688359 &  752.7497\\\\\n\t Central African Republic & Africa   & 2007 & 44.741 &   4369038 &  706.0165\\\\\n\t Ethiopia                 & Africa   & 2007 & 52.947 &  76511887 &  690.8056\\\\\n\t Eritrea                  & Africa   & 2007 & 58.040 &   4906585 &  641.3695\\\\\n\t Niger                    & Africa   & 2007 & 56.867 &  12894865 &  619.6769\\\\\n\t Guinea-Bissau            & Africa   & 2007 & 46.388 &   1472041 &  579.2317\\\\\n\t Zimbabwe                 & Africa   & 2007 & 43.487 &  12311143 &  469.7093\\\\\n\t Burundi                  & Africa   & 2007 & 49.580 &   8390505 &  430.0707\\\\\n\t Liberia                  & Africa   & 2007 & 45.678 &   3193942 &  414.5073\\\\\n\t Congo, Dem. Rep.         & Africa   & 2007 & 46.462 &  64606759 &  277.5519\\\\\n\\end{tabular}\n",
            "text/markdown": "\nA tibble: 142 × 6\n\n| country &lt;fct&gt; | continent &lt;fct&gt; | year &lt;int&gt; | lifeExp &lt;dbl&gt; | pop &lt;int&gt; | gdpPercap &lt;dbl&gt; |\n|---|---|---|---|---|---|\n| Norway           | Europe   | 2007 | 80.196 |   4627926 | 49357.19 |\n| Kuwait           | Asia     | 2007 | 77.588 |   2505559 | 47306.99 |\n| Singapore        | Asia     | 2007 | 79.972 |   4553009 | 47143.18 |\n| United States    | Americas | 2007 | 78.242 | 301139947 | 42951.65 |\n| Ireland          | Europe   | 2007 | 78.885 |   4109086 | 40676.00 |\n| Hong Kong, China | Asia     | 2007 | 82.208 |   6980412 | 39724.98 |\n| Switzerland      | Europe   | 2007 | 81.701 |   7554661 | 37506.42 |\n| Netherlands      | Europe   | 2007 | 79.762 |  16570613 | 36797.93 |\n| Canada           | Americas | 2007 | 80.653 |  33390141 | 36319.24 |\n| Iceland          | Europe   | 2007 | 81.757 |    301931 | 36180.79 |\n| Austria          | Europe   | 2007 | 79.829 |   8199783 | 36126.49 |\n| Denmark          | Europe   | 2007 | 78.332 |   5468120 | 35278.42 |\n| Australia        | Oceania  | 2007 | 81.235 |  20434176 | 34435.37 |\n| Sweden           | Europe   | 2007 | 80.884 |   9031088 | 33859.75 |\n| Belgium          | Europe   | 2007 | 79.441 |  10392226 | 33692.61 |\n| Finland          | Europe   | 2007 | 79.313 |   5238460 | 33207.08 |\n| United Kingdom   | Europe   | 2007 | 79.425 |  60776238 | 33203.26 |\n| Germany          | Europe   | 2007 | 79.406 |  82400996 | 32170.37 |\n| Japan            | Asia     | 2007 | 82.603 | 127467972 | 31656.07 |\n| France           | Europe   | 2007 | 80.657 |  61083916 | 30470.02 |\n| Bahrain          | Asia     | 2007 | 75.635 |    708573 | 29796.05 |\n| Spain            | Europe   | 2007 | 80.941 |  40448191 | 28821.06 |\n| Taiwan           | Asia     | 2007 | 78.400 |  23174294 | 28718.28 |\n| Italy            | Europe   | 2007 | 80.546 |  58147733 | 28569.72 |\n| Greece           | Europe   | 2007 | 79.483 |  10706290 | 27538.41 |\n| Slovenia         | Europe   | 2007 | 77.926 |   2009245 | 25768.26 |\n| Israel           | Asia     | 2007 | 80.745 |   6426679 | 25523.28 |\n| New Zealand      | Oceania  | 2007 | 80.204 |   4115771 | 25185.01 |\n| Korea, Rep.      | Asia     | 2007 | 78.623 |  49044790 | 23348.14 |\n| Czech Republic   | Europe   | 2007 | 76.486 |  10228744 | 22833.31 |\n| ⋮ | ⋮ | ⋮ | ⋮ | ⋮ | ⋮ |\n| Bangladesh               | Asia     | 2007 | 64.062 | 150448339 | 1391.2538 |\n| Ghana                    | Africa   | 2007 | 60.022 |  22873338 | 1327.6089 |\n| Zambia                   | Africa   | 2007 | 42.384 |  11746035 | 1271.2116 |\n| Burkina Faso             | Africa   | 2007 | 52.295 |  14326203 | 1217.0330 |\n| Haiti                    | Americas | 2007 | 60.916 |   8502814 | 1201.6372 |\n| Tanzania                 | Africa   | 2007 | 52.517 |  38139640 | 1107.4822 |\n| Nepal                    | Asia     | 2007 | 63.785 |  28901790 | 1091.3598 |\n| Uganda                   | Africa   | 2007 | 51.542 |  29170398 | 1056.3801 |\n| Madagascar               | Africa   | 2007 | 59.443 |  19167654 | 1044.7701 |\n| Mali                     | Africa   | 2007 | 54.467 |  12031795 | 1042.5816 |\n| Comoros                  | Africa   | 2007 | 65.152 |    710960 |  986.1479 |\n| Afghanistan              | Asia     | 2007 | 43.828 |  31889923 |  974.5803 |\n| Myanmar                  | Asia     | 2007 | 62.069 |  47761980 |  944.0000 |\n| Guinea                   | Africa   | 2007 | 56.007 |   9947814 |  942.6542 |\n| Somalia                  | Africa   | 2007 | 48.159 |   9118773 |  926.1411 |\n| Togo                     | Africa   | 2007 | 58.420 |   5701579 |  882.9699 |\n| Rwanda                   | Africa   | 2007 | 46.242 |   8860588 |  863.0885 |\n| Sierra Leone             | Africa   | 2007 | 42.568 |   6144562 |  862.5408 |\n| Mozambique               | Africa   | 2007 | 42.082 |  19951656 |  823.6856 |\n| Malawi                   | Africa   | 2007 | 48.303 |  13327079 |  759.3499 |\n| Gambia                   | Africa   | 2007 | 59.448 |   1688359 |  752.7497 |\n| Central African Republic | Africa   | 2007 | 44.741 |   4369038 |  706.0165 |\n| Ethiopia                 | Africa   | 2007 | 52.947 |  76511887 |  690.8056 |\n| Eritrea                  | Africa   | 2007 | 58.040 |   4906585 |  641.3695 |\n| Niger                    | Africa   | 2007 | 56.867 |  12894865 |  619.6769 |\n| Guinea-Bissau            | Africa   | 2007 | 46.388 |   1472041 |  579.2317 |\n| Zimbabwe                 | Africa   | 2007 | 43.487 |  12311143 |  469.7093 |\n| Burundi                  | Africa   | 2007 | 49.580 |   8390505 |  430.0707 |\n| Liberia                  | Africa   | 2007 | 45.678 |   3193942 |  414.5073 |\n| Congo, Dem. Rep.         | Africa   | 2007 | 46.462 |  64606759 |  277.5519 |\n\n",
            "text/html": [
              "<table>\n",
              "<caption>A tibble: 142 × 6</caption>\n",
              "<thead>\n",
              "\t<tr><th scope=col>country</th><th scope=col>continent</th><th scope=col>year</th><th scope=col>lifeExp</th><th scope=col>pop</th><th scope=col>gdpPercap</th></tr>\n",
              "\t<tr><th scope=col>&lt;fct&gt;</th><th scope=col>&lt;fct&gt;</th><th scope=col>&lt;int&gt;</th><th scope=col>&lt;dbl&gt;</th><th scope=col>&lt;int&gt;</th><th scope=col>&lt;dbl&gt;</th></tr>\n",
              "</thead>\n",
              "<tbody>\n",
              "\t<tr><td>Norway          </td><td>Europe  </td><td>2007</td><td>80.196</td><td>  4627926</td><td>49357.19</td></tr>\n",
              "\t<tr><td>Kuwait          </td><td>Asia    </td><td>2007</td><td>77.588</td><td>  2505559</td><td>47306.99</td></tr>\n",
              "\t<tr><td>Singapore       </td><td>Asia    </td><td>2007</td><td>79.972</td><td>  4553009</td><td>47143.18</td></tr>\n",
              "\t<tr><td>United States   </td><td>Americas</td><td>2007</td><td>78.242</td><td>301139947</td><td>42951.65</td></tr>\n",
              "\t<tr><td>Ireland         </td><td>Europe  </td><td>2007</td><td>78.885</td><td>  4109086</td><td>40676.00</td></tr>\n",
              "\t<tr><td>Hong Kong, China</td><td>Asia    </td><td>2007</td><td>82.208</td><td>  6980412</td><td>39724.98</td></tr>\n",
              "\t<tr><td>Switzerland     </td><td>Europe  </td><td>2007</td><td>81.701</td><td>  7554661</td><td>37506.42</td></tr>\n",
              "\t<tr><td>Netherlands     </td><td>Europe  </td><td>2007</td><td>79.762</td><td> 16570613</td><td>36797.93</td></tr>\n",
              "\t<tr><td>Canada          </td><td>Americas</td><td>2007</td><td>80.653</td><td> 33390141</td><td>36319.24</td></tr>\n",
              "\t<tr><td>Iceland         </td><td>Europe  </td><td>2007</td><td>81.757</td><td>   301931</td><td>36180.79</td></tr>\n",
              "\t<tr><td>Austria         </td><td>Europe  </td><td>2007</td><td>79.829</td><td>  8199783</td><td>36126.49</td></tr>\n",
              "\t<tr><td>Denmark         </td><td>Europe  </td><td>2007</td><td>78.332</td><td>  5468120</td><td>35278.42</td></tr>\n",
              "\t<tr><td>Australia       </td><td>Oceania </td><td>2007</td><td>81.235</td><td> 20434176</td><td>34435.37</td></tr>\n",
              "\t<tr><td>Sweden          </td><td>Europe  </td><td>2007</td><td>80.884</td><td>  9031088</td><td>33859.75</td></tr>\n",
              "\t<tr><td>Belgium         </td><td>Europe  </td><td>2007</td><td>79.441</td><td> 10392226</td><td>33692.61</td></tr>\n",
              "\t<tr><td>Finland         </td><td>Europe  </td><td>2007</td><td>79.313</td><td>  5238460</td><td>33207.08</td></tr>\n",
              "\t<tr><td>United Kingdom  </td><td>Europe  </td><td>2007</td><td>79.425</td><td> 60776238</td><td>33203.26</td></tr>\n",
              "\t<tr><td>Germany         </td><td>Europe  </td><td>2007</td><td>79.406</td><td> 82400996</td><td>32170.37</td></tr>\n",
              "\t<tr><td>Japan           </td><td>Asia    </td><td>2007</td><td>82.603</td><td>127467972</td><td>31656.07</td></tr>\n",
              "\t<tr><td>France          </td><td>Europe  </td><td>2007</td><td>80.657</td><td> 61083916</td><td>30470.02</td></tr>\n",
              "\t<tr><td>Bahrain         </td><td>Asia    </td><td>2007</td><td>75.635</td><td>   708573</td><td>29796.05</td></tr>\n",
              "\t<tr><td>Spain           </td><td>Europe  </td><td>2007</td><td>80.941</td><td> 40448191</td><td>28821.06</td></tr>\n",
              "\t<tr><td>Taiwan          </td><td>Asia    </td><td>2007</td><td>78.400</td><td> 23174294</td><td>28718.28</td></tr>\n",
              "\t<tr><td>Italy           </td><td>Europe  </td><td>2007</td><td>80.546</td><td> 58147733</td><td>28569.72</td></tr>\n",
              "\t<tr><td>Greece          </td><td>Europe  </td><td>2007</td><td>79.483</td><td> 10706290</td><td>27538.41</td></tr>\n",
              "\t<tr><td>Slovenia        </td><td>Europe  </td><td>2007</td><td>77.926</td><td>  2009245</td><td>25768.26</td></tr>\n",
              "\t<tr><td>Israel          </td><td>Asia    </td><td>2007</td><td>80.745</td><td>  6426679</td><td>25523.28</td></tr>\n",
              "\t<tr><td>New Zealand     </td><td>Oceania </td><td>2007</td><td>80.204</td><td>  4115771</td><td>25185.01</td></tr>\n",
              "\t<tr><td>Korea, Rep.     </td><td>Asia    </td><td>2007</td><td>78.623</td><td> 49044790</td><td>23348.14</td></tr>\n",
              "\t<tr><td>Czech Republic  </td><td>Europe  </td><td>2007</td><td>76.486</td><td> 10228744</td><td>22833.31</td></tr>\n",
              "\t<tr><td>⋮</td><td>⋮</td><td>⋮</td><td>⋮</td><td>⋮</td><td>⋮</td></tr>\n",
              "\t<tr><td>Bangladesh              </td><td>Asia    </td><td>2007</td><td>64.062</td><td>150448339</td><td>1391.2538</td></tr>\n",
              "\t<tr><td>Ghana                   </td><td>Africa  </td><td>2007</td><td>60.022</td><td> 22873338</td><td>1327.6089</td></tr>\n",
              "\t<tr><td>Zambia                  </td><td>Africa  </td><td>2007</td><td>42.384</td><td> 11746035</td><td>1271.2116</td></tr>\n",
              "\t<tr><td>Burkina Faso            </td><td>Africa  </td><td>2007</td><td>52.295</td><td> 14326203</td><td>1217.0330</td></tr>\n",
              "\t<tr><td>Haiti                   </td><td>Americas</td><td>2007</td><td>60.916</td><td>  8502814</td><td>1201.6372</td></tr>\n",
              "\t<tr><td>Tanzania                </td><td>Africa  </td><td>2007</td><td>52.517</td><td> 38139640</td><td>1107.4822</td></tr>\n",
              "\t<tr><td>Nepal                   </td><td>Asia    </td><td>2007</td><td>63.785</td><td> 28901790</td><td>1091.3598</td></tr>\n",
              "\t<tr><td>Uganda                  </td><td>Africa  </td><td>2007</td><td>51.542</td><td> 29170398</td><td>1056.3801</td></tr>\n",
              "\t<tr><td>Madagascar              </td><td>Africa  </td><td>2007</td><td>59.443</td><td> 19167654</td><td>1044.7701</td></tr>\n",
              "\t<tr><td>Mali                    </td><td>Africa  </td><td>2007</td><td>54.467</td><td> 12031795</td><td>1042.5816</td></tr>\n",
              "\t<tr><td>Comoros                 </td><td>Africa  </td><td>2007</td><td>65.152</td><td>   710960</td><td> 986.1479</td></tr>\n",
              "\t<tr><td>Afghanistan             </td><td>Asia    </td><td>2007</td><td>43.828</td><td> 31889923</td><td> 974.5803</td></tr>\n",
              "\t<tr><td>Myanmar                 </td><td>Asia    </td><td>2007</td><td>62.069</td><td> 47761980</td><td> 944.0000</td></tr>\n",
              "\t<tr><td>Guinea                  </td><td>Africa  </td><td>2007</td><td>56.007</td><td>  9947814</td><td> 942.6542</td></tr>\n",
              "\t<tr><td>Somalia                 </td><td>Africa  </td><td>2007</td><td>48.159</td><td>  9118773</td><td> 926.1411</td></tr>\n",
              "\t<tr><td>Togo                    </td><td>Africa  </td><td>2007</td><td>58.420</td><td>  5701579</td><td> 882.9699</td></tr>\n",
              "\t<tr><td>Rwanda                  </td><td>Africa  </td><td>2007</td><td>46.242</td><td>  8860588</td><td> 863.0885</td></tr>\n",
              "\t<tr><td>Sierra Leone            </td><td>Africa  </td><td>2007</td><td>42.568</td><td>  6144562</td><td> 862.5408</td></tr>\n",
              "\t<tr><td>Mozambique              </td><td>Africa  </td><td>2007</td><td>42.082</td><td> 19951656</td><td> 823.6856</td></tr>\n",
              "\t<tr><td>Malawi                  </td><td>Africa  </td><td>2007</td><td>48.303</td><td> 13327079</td><td> 759.3499</td></tr>\n",
              "\t<tr><td>Gambia                  </td><td>Africa  </td><td>2007</td><td>59.448</td><td>  1688359</td><td> 752.7497</td></tr>\n",
              "\t<tr><td>Central African Republic</td><td>Africa  </td><td>2007</td><td>44.741</td><td>  4369038</td><td> 706.0165</td></tr>\n",
              "\t<tr><td>Ethiopia                </td><td>Africa  </td><td>2007</td><td>52.947</td><td> 76511887</td><td> 690.8056</td></tr>\n",
              "\t<tr><td>Eritrea                 </td><td>Africa  </td><td>2007</td><td>58.040</td><td>  4906585</td><td> 641.3695</td></tr>\n",
              "\t<tr><td>Niger                   </td><td>Africa  </td><td>2007</td><td>56.867</td><td> 12894865</td><td> 619.6769</td></tr>\n",
              "\t<tr><td>Guinea-Bissau           </td><td>Africa  </td><td>2007</td><td>46.388</td><td>  1472041</td><td> 579.2317</td></tr>\n",
              "\t<tr><td>Zimbabwe                </td><td>Africa  </td><td>2007</td><td>43.487</td><td> 12311143</td><td> 469.7093</td></tr>\n",
              "\t<tr><td>Burundi                 </td><td>Africa  </td><td>2007</td><td>49.580</td><td>  8390505</td><td> 430.0707</td></tr>\n",
              "\t<tr><td>Liberia                 </td><td>Africa  </td><td>2007</td><td>45.678</td><td>  3193942</td><td> 414.5073</td></tr>\n",
              "\t<tr><td>Congo, Dem. Rep.        </td><td>Africa  </td><td>2007</td><td>46.462</td><td> 64606759</td><td> 277.5519</td></tr>\n",
              "</tbody>\n",
              "</table>\n"
            ]
          },
          "metadata": {
            "tags": []
          }
        }
      ]
    },
    {
      "cell_type": "markdown",
      "metadata": {
        "id": "JawXbp2uN35_"
      },
      "source": [
        "##3. Mutate (Replacing Value & Adding New Variable)"
      ]
    },
    {
      "cell_type": "code",
      "metadata": {
        "colab": {
          "base_uri": "https://localhost:8080/"
        },
        "id": "0M50Bp_eJtlk",
        "outputId": "6d63bde1-da7c-4045-eddd-fc18afdc7b54"
      },
      "source": [
        "#check\r\n",
        "gapminder %>%\r\n",
        "  arrange(desc(pop))"
      ],
      "execution_count": null,
      "outputs": [
        {
          "output_type": "display_data",
          "data": {
            "text/plain": [
              "     country               continent year lifeExp  pop        gdpPercap  \n",
              "1    China                 Asia      2007 72.96100 1318683096  4959.1149 \n",
              "2    China                 Asia      2002 72.02800 1280400000  3119.2809 \n",
              "3    China                 Asia      1997 70.42600 1230075000  2289.2341 \n",
              "4    China                 Asia      1992 68.69000 1164970000  1655.7842 \n",
              "5    India                 Asia      2007 64.69800 1110396331  2452.2104 \n",
              "6    China                 Asia      1987 67.27400 1084035000  1378.9040 \n",
              "7    India                 Asia      2002 62.87900 1034172547  1746.7695 \n",
              "8    China                 Asia      1982 65.52500 1000281000   962.4214 \n",
              "9    India                 Asia      1997 61.76500  959000000  1458.8174 \n",
              "10   China                 Asia      1977 63.96736  943455000   741.2375 \n",
              "11   India                 Asia      1992 60.22300  872000000  1164.4068 \n",
              "12   China                 Asia      1972 63.11888  862030000   676.9001 \n",
              "13   India                 Asia      1987 58.55300  788000000   976.5127 \n",
              "14   China                 Asia      1967 58.38112  754550000   612.7057 \n",
              "15   India                 Asia      1982 56.59600  708000000   855.7235 \n",
              "16   China                 Asia      1962 44.50136  665770000   487.6740 \n",
              "17   China                 Asia      1957 50.54896  637408000   575.9870 \n",
              "18   India                 Asia      1977 54.20800  634000000   813.3373 \n",
              "19   India                 Asia      1972 50.65100  567000000   724.0325 \n",
              "20   China                 Asia      1952 44.00000  556263527   400.4486 \n",
              "21   India                 Asia      1967 47.19300  506000000   700.7706 \n",
              "22   India                 Asia      1962 43.60500  454000000   658.3472 \n",
              "23   India                 Asia      1957 40.24900  409000000   590.0620 \n",
              "24   India                 Asia      1952 37.37300  372000000   546.5657 \n",
              "25   United States         Americas  2007 78.24200  301139947 42951.6531 \n",
              "26   United States         Americas  2002 77.31000  287675526 39097.0995 \n",
              "27   United States         Americas  1997 76.81000  272911760 35767.4330 \n",
              "28   United States         Americas  1992 76.09000  256894189 32003.9322 \n",
              "29   United States         Americas  1987 75.02000  242803533 29884.3504 \n",
              "30   United States         Americas  1982 74.65000  232187835 25009.5591 \n",
              "⋮    ⋮                     ⋮         ⋮    ⋮        ⋮          ⋮          \n",
              "1675 Bahrain               Asia      1967 59.923   202182      14804.6727\n",
              "1676 Sao Tome and Principe Africa    2007 65.528   199579       1598.4351\n",
              "1677 Iceland               Europe    1967 73.730   198676      13319.8957\n",
              "1678 Equatorial Guinea     Africa    1977 42.024   192675        958.5668\n",
              "1679 Comoros               Africa    1962 44.467   191689       1406.6483\n",
              "1680 Iceland               Europe    1962 73.680   182053      10350.1591\n",
              "1681 Djibouti              Africa    1972 44.366   178848       3694.2124\n",
              "1682 Bahrain               Asia      1962 56.923   171863      12753.2751\n",
              "1683 Comoros               Africa    1957 42.460   170928       1211.1485\n",
              "1684 Sao Tome and Principe Africa    2002 64.337   170372       1353.0924\n",
              "1685 Iceland               Europe    1957 73.470   165110       9244.0014\n",
              "1686 Kuwait                Asia      1952 55.565   160000     108382.3529\n",
              "1687 Comoros               Africa    1952 40.715   153936       1102.9909\n",
              "1688 Iceland               Europe    1952 72.490   147962       7267.6884\n",
              "1689 Sao Tome and Principe Africa    1997 63.306   145608       1339.0760\n",
              "1690 Bahrain               Asia      1957 53.832   138655      11635.7995\n",
              "1691 Djibouti              Africa    1967 42.074   127617       3020.0505\n",
              "1692 Sao Tome and Principe Africa    1992 62.742   125911       1428.7778\n",
              "1693 Bahrain               Asia      1952 50.939   120447       9867.0848\n",
              "1694 Sao Tome and Principe Africa    1987 61.728   110812       1516.5255\n",
              "1695 Sao Tome and Principe Africa    1982 60.351    98593       1890.2181\n",
              "1696 Djibouti              Africa    1962 39.693    89898       3020.9893\n",
              "1697 Sao Tome and Principe Africa    1977 58.550    86796       1737.5617\n",
              "1698 Sao Tome and Principe Africa    1972 56.480    76595       1532.9853\n",
              "1699 Djibouti              Africa    1957 37.328    71851       2864.9691\n",
              "1700 Sao Tome and Principe Africa    1967 54.425    70787       1384.8406\n",
              "1701 Sao Tome and Principe Africa    1962 51.893    65345       1071.5511\n",
              "1702 Djibouti              Africa    1952 34.812    63149       2669.5295\n",
              "1703 Sao Tome and Principe Africa    1957 48.945    61325        860.7369\n",
              "1704 Sao Tome and Principe Africa    1952 46.471    60011        879.5836"
            ],
            "text/latex": "A tibble: 1704 × 6\n\\begin{tabular}{llllll}\n country & continent & year & lifeExp & pop & gdpPercap\\\\\n <fct> & <fct> & <int> & <dbl> & <int> & <dbl>\\\\\n\\hline\n\t China         & Asia     & 2007 & 72.96100 & 1318683096 &  4959.1149\\\\\n\t China         & Asia     & 2002 & 72.02800 & 1280400000 &  3119.2809\\\\\n\t China         & Asia     & 1997 & 70.42600 & 1230075000 &  2289.2341\\\\\n\t China         & Asia     & 1992 & 68.69000 & 1164970000 &  1655.7842\\\\\n\t India         & Asia     & 2007 & 64.69800 & 1110396331 &  2452.2104\\\\\n\t China         & Asia     & 1987 & 67.27400 & 1084035000 &  1378.9040\\\\\n\t India         & Asia     & 2002 & 62.87900 & 1034172547 &  1746.7695\\\\\n\t China         & Asia     & 1982 & 65.52500 & 1000281000 &   962.4214\\\\\n\t India         & Asia     & 1997 & 61.76500 &  959000000 &  1458.8174\\\\\n\t China         & Asia     & 1977 & 63.96736 &  943455000 &   741.2375\\\\\n\t India         & Asia     & 1992 & 60.22300 &  872000000 &  1164.4068\\\\\n\t China         & Asia     & 1972 & 63.11888 &  862030000 &   676.9001\\\\\n\t India         & Asia     & 1987 & 58.55300 &  788000000 &   976.5127\\\\\n\t China         & Asia     & 1967 & 58.38112 &  754550000 &   612.7057\\\\\n\t India         & Asia     & 1982 & 56.59600 &  708000000 &   855.7235\\\\\n\t China         & Asia     & 1962 & 44.50136 &  665770000 &   487.6740\\\\\n\t China         & Asia     & 1957 & 50.54896 &  637408000 &   575.9870\\\\\n\t India         & Asia     & 1977 & 54.20800 &  634000000 &   813.3373\\\\\n\t India         & Asia     & 1972 & 50.65100 &  567000000 &   724.0325\\\\\n\t China         & Asia     & 1952 & 44.00000 &  556263527 &   400.4486\\\\\n\t India         & Asia     & 1967 & 47.19300 &  506000000 &   700.7706\\\\\n\t India         & Asia     & 1962 & 43.60500 &  454000000 &   658.3472\\\\\n\t India         & Asia     & 1957 & 40.24900 &  409000000 &   590.0620\\\\\n\t India         & Asia     & 1952 & 37.37300 &  372000000 &   546.5657\\\\\n\t United States & Americas & 2007 & 78.24200 &  301139947 & 42951.6531\\\\\n\t United States & Americas & 2002 & 77.31000 &  287675526 & 39097.0995\\\\\n\t United States & Americas & 1997 & 76.81000 &  272911760 & 35767.4330\\\\\n\t United States & Americas & 1992 & 76.09000 &  256894189 & 32003.9322\\\\\n\t United States & Americas & 1987 & 75.02000 &  242803533 & 29884.3504\\\\\n\t United States & Americas & 1982 & 74.65000 &  232187835 & 25009.5591\\\\\n\t ⋮ & ⋮ & ⋮ & ⋮ & ⋮ & ⋮\\\\\n\t Bahrain               & Asia   & 1967 & 59.923 & 202182 &  14804.6727\\\\\n\t Sao Tome and Principe & Africa & 2007 & 65.528 & 199579 &   1598.4351\\\\\n\t Iceland               & Europe & 1967 & 73.730 & 198676 &  13319.8957\\\\\n\t Equatorial Guinea     & Africa & 1977 & 42.024 & 192675 &    958.5668\\\\\n\t Comoros               & Africa & 1962 & 44.467 & 191689 &   1406.6483\\\\\n\t Iceland               & Europe & 1962 & 73.680 & 182053 &  10350.1591\\\\\n\t Djibouti              & Africa & 1972 & 44.366 & 178848 &   3694.2124\\\\\n\t Bahrain               & Asia   & 1962 & 56.923 & 171863 &  12753.2751\\\\\n\t Comoros               & Africa & 1957 & 42.460 & 170928 &   1211.1485\\\\\n\t Sao Tome and Principe & Africa & 2002 & 64.337 & 170372 &   1353.0924\\\\\n\t Iceland               & Europe & 1957 & 73.470 & 165110 &   9244.0014\\\\\n\t Kuwait                & Asia   & 1952 & 55.565 & 160000 & 108382.3529\\\\\n\t Comoros               & Africa & 1952 & 40.715 & 153936 &   1102.9909\\\\\n\t Iceland               & Europe & 1952 & 72.490 & 147962 &   7267.6884\\\\\n\t Sao Tome and Principe & Africa & 1997 & 63.306 & 145608 &   1339.0760\\\\\n\t Bahrain               & Asia   & 1957 & 53.832 & 138655 &  11635.7995\\\\\n\t Djibouti              & Africa & 1967 & 42.074 & 127617 &   3020.0505\\\\\n\t Sao Tome and Principe & Africa & 1992 & 62.742 & 125911 &   1428.7778\\\\\n\t Bahrain               & Asia   & 1952 & 50.939 & 120447 &   9867.0848\\\\\n\t Sao Tome and Principe & Africa & 1987 & 61.728 & 110812 &   1516.5255\\\\\n\t Sao Tome and Principe & Africa & 1982 & 60.351 &  98593 &   1890.2181\\\\\n\t Djibouti              & Africa & 1962 & 39.693 &  89898 &   3020.9893\\\\\n\t Sao Tome and Principe & Africa & 1977 & 58.550 &  86796 &   1737.5617\\\\\n\t Sao Tome and Principe & Africa & 1972 & 56.480 &  76595 &   1532.9853\\\\\n\t Djibouti              & Africa & 1957 & 37.328 &  71851 &   2864.9691\\\\\n\t Sao Tome and Principe & Africa & 1967 & 54.425 &  70787 &   1384.8406\\\\\n\t Sao Tome and Principe & Africa & 1962 & 51.893 &  65345 &   1071.5511\\\\\n\t Djibouti              & Africa & 1952 & 34.812 &  63149 &   2669.5295\\\\\n\t Sao Tome and Principe & Africa & 1957 & 48.945 &  61325 &    860.7369\\\\\n\t Sao Tome and Principe & Africa & 1952 & 46.471 &  60011 &    879.5836\\\\\n\\end{tabular}\n",
            "text/markdown": "\nA tibble: 1704 × 6\n\n| country &lt;fct&gt; | continent &lt;fct&gt; | year &lt;int&gt; | lifeExp &lt;dbl&gt; | pop &lt;int&gt; | gdpPercap &lt;dbl&gt; |\n|---|---|---|---|---|---|\n| China         | Asia     | 2007 | 72.96100 | 1318683096 |  4959.1149 |\n| China         | Asia     | 2002 | 72.02800 | 1280400000 |  3119.2809 |\n| China         | Asia     | 1997 | 70.42600 | 1230075000 |  2289.2341 |\n| China         | Asia     | 1992 | 68.69000 | 1164970000 |  1655.7842 |\n| India         | Asia     | 2007 | 64.69800 | 1110396331 |  2452.2104 |\n| China         | Asia     | 1987 | 67.27400 | 1084035000 |  1378.9040 |\n| India         | Asia     | 2002 | 62.87900 | 1034172547 |  1746.7695 |\n| China         | Asia     | 1982 | 65.52500 | 1000281000 |   962.4214 |\n| India         | Asia     | 1997 | 61.76500 |  959000000 |  1458.8174 |\n| China         | Asia     | 1977 | 63.96736 |  943455000 |   741.2375 |\n| India         | Asia     | 1992 | 60.22300 |  872000000 |  1164.4068 |\n| China         | Asia     | 1972 | 63.11888 |  862030000 |   676.9001 |\n| India         | Asia     | 1987 | 58.55300 |  788000000 |   976.5127 |\n| China         | Asia     | 1967 | 58.38112 |  754550000 |   612.7057 |\n| India         | Asia     | 1982 | 56.59600 |  708000000 |   855.7235 |\n| China         | Asia     | 1962 | 44.50136 |  665770000 |   487.6740 |\n| China         | Asia     | 1957 | 50.54896 |  637408000 |   575.9870 |\n| India         | Asia     | 1977 | 54.20800 |  634000000 |   813.3373 |\n| India         | Asia     | 1972 | 50.65100 |  567000000 |   724.0325 |\n| China         | Asia     | 1952 | 44.00000 |  556263527 |   400.4486 |\n| India         | Asia     | 1967 | 47.19300 |  506000000 |   700.7706 |\n| India         | Asia     | 1962 | 43.60500 |  454000000 |   658.3472 |\n| India         | Asia     | 1957 | 40.24900 |  409000000 |   590.0620 |\n| India         | Asia     | 1952 | 37.37300 |  372000000 |   546.5657 |\n| United States | Americas | 2007 | 78.24200 |  301139947 | 42951.6531 |\n| United States | Americas | 2002 | 77.31000 |  287675526 | 39097.0995 |\n| United States | Americas | 1997 | 76.81000 |  272911760 | 35767.4330 |\n| United States | Americas | 1992 | 76.09000 |  256894189 | 32003.9322 |\n| United States | Americas | 1987 | 75.02000 |  242803533 | 29884.3504 |\n| United States | Americas | 1982 | 74.65000 |  232187835 | 25009.5591 |\n| ⋮ | ⋮ | ⋮ | ⋮ | ⋮ | ⋮ |\n| Bahrain               | Asia   | 1967 | 59.923 | 202182 |  14804.6727 |\n| Sao Tome and Principe | Africa | 2007 | 65.528 | 199579 |   1598.4351 |\n| Iceland               | Europe | 1967 | 73.730 | 198676 |  13319.8957 |\n| Equatorial Guinea     | Africa | 1977 | 42.024 | 192675 |    958.5668 |\n| Comoros               | Africa | 1962 | 44.467 | 191689 |   1406.6483 |\n| Iceland               | Europe | 1962 | 73.680 | 182053 |  10350.1591 |\n| Djibouti              | Africa | 1972 | 44.366 | 178848 |   3694.2124 |\n| Bahrain               | Asia   | 1962 | 56.923 | 171863 |  12753.2751 |\n| Comoros               | Africa | 1957 | 42.460 | 170928 |   1211.1485 |\n| Sao Tome and Principe | Africa | 2002 | 64.337 | 170372 |   1353.0924 |\n| Iceland               | Europe | 1957 | 73.470 | 165110 |   9244.0014 |\n| Kuwait                | Asia   | 1952 | 55.565 | 160000 | 108382.3529 |\n| Comoros               | Africa | 1952 | 40.715 | 153936 |   1102.9909 |\n| Iceland               | Europe | 1952 | 72.490 | 147962 |   7267.6884 |\n| Sao Tome and Principe | Africa | 1997 | 63.306 | 145608 |   1339.0760 |\n| Bahrain               | Asia   | 1957 | 53.832 | 138655 |  11635.7995 |\n| Djibouti              | Africa | 1967 | 42.074 | 127617 |   3020.0505 |\n| Sao Tome and Principe | Africa | 1992 | 62.742 | 125911 |   1428.7778 |\n| Bahrain               | Asia   | 1952 | 50.939 | 120447 |   9867.0848 |\n| Sao Tome and Principe | Africa | 1987 | 61.728 | 110812 |   1516.5255 |\n| Sao Tome and Principe | Africa | 1982 | 60.351 |  98593 |   1890.2181 |\n| Djibouti              | Africa | 1962 | 39.693 |  89898 |   3020.9893 |\n| Sao Tome and Principe | Africa | 1977 | 58.550 |  86796 |   1737.5617 |\n| Sao Tome and Principe | Africa | 1972 | 56.480 |  76595 |   1532.9853 |\n| Djibouti              | Africa | 1957 | 37.328 |  71851 |   2864.9691 |\n| Sao Tome and Principe | Africa | 1967 | 54.425 |  70787 |   1384.8406 |\n| Sao Tome and Principe | Africa | 1962 | 51.893 |  65345 |   1071.5511 |\n| Djibouti              | Africa | 1952 | 34.812 |  63149 |   2669.5295 |\n| Sao Tome and Principe | Africa | 1957 | 48.945 |  61325 |    860.7369 |\n| Sao Tome and Principe | Africa | 1952 | 46.471 |  60011 |    879.5836 |\n\n",
            "text/html": [
              "<table>\n",
              "<caption>A tibble: 1704 × 6</caption>\n",
              "<thead>\n",
              "\t<tr><th scope=col>country</th><th scope=col>continent</th><th scope=col>year</th><th scope=col>lifeExp</th><th scope=col>pop</th><th scope=col>gdpPercap</th></tr>\n",
              "\t<tr><th scope=col>&lt;fct&gt;</th><th scope=col>&lt;fct&gt;</th><th scope=col>&lt;int&gt;</th><th scope=col>&lt;dbl&gt;</th><th scope=col>&lt;int&gt;</th><th scope=col>&lt;dbl&gt;</th></tr>\n",
              "</thead>\n",
              "<tbody>\n",
              "\t<tr><td>China        </td><td>Asia    </td><td>2007</td><td>72.96100</td><td>1318683096</td><td> 4959.1149</td></tr>\n",
              "\t<tr><td>China        </td><td>Asia    </td><td>2002</td><td>72.02800</td><td>1280400000</td><td> 3119.2809</td></tr>\n",
              "\t<tr><td>China        </td><td>Asia    </td><td>1997</td><td>70.42600</td><td>1230075000</td><td> 2289.2341</td></tr>\n",
              "\t<tr><td>China        </td><td>Asia    </td><td>1992</td><td>68.69000</td><td>1164970000</td><td> 1655.7842</td></tr>\n",
              "\t<tr><td>India        </td><td>Asia    </td><td>2007</td><td>64.69800</td><td>1110396331</td><td> 2452.2104</td></tr>\n",
              "\t<tr><td>China        </td><td>Asia    </td><td>1987</td><td>67.27400</td><td>1084035000</td><td> 1378.9040</td></tr>\n",
              "\t<tr><td>India        </td><td>Asia    </td><td>2002</td><td>62.87900</td><td>1034172547</td><td> 1746.7695</td></tr>\n",
              "\t<tr><td>China        </td><td>Asia    </td><td>1982</td><td>65.52500</td><td>1000281000</td><td>  962.4214</td></tr>\n",
              "\t<tr><td>India        </td><td>Asia    </td><td>1997</td><td>61.76500</td><td> 959000000</td><td> 1458.8174</td></tr>\n",
              "\t<tr><td>China        </td><td>Asia    </td><td>1977</td><td>63.96736</td><td> 943455000</td><td>  741.2375</td></tr>\n",
              "\t<tr><td>India        </td><td>Asia    </td><td>1992</td><td>60.22300</td><td> 872000000</td><td> 1164.4068</td></tr>\n",
              "\t<tr><td>China        </td><td>Asia    </td><td>1972</td><td>63.11888</td><td> 862030000</td><td>  676.9001</td></tr>\n",
              "\t<tr><td>India        </td><td>Asia    </td><td>1987</td><td>58.55300</td><td> 788000000</td><td>  976.5127</td></tr>\n",
              "\t<tr><td>China        </td><td>Asia    </td><td>1967</td><td>58.38112</td><td> 754550000</td><td>  612.7057</td></tr>\n",
              "\t<tr><td>India        </td><td>Asia    </td><td>1982</td><td>56.59600</td><td> 708000000</td><td>  855.7235</td></tr>\n",
              "\t<tr><td>China        </td><td>Asia    </td><td>1962</td><td>44.50136</td><td> 665770000</td><td>  487.6740</td></tr>\n",
              "\t<tr><td>China        </td><td>Asia    </td><td>1957</td><td>50.54896</td><td> 637408000</td><td>  575.9870</td></tr>\n",
              "\t<tr><td>India        </td><td>Asia    </td><td>1977</td><td>54.20800</td><td> 634000000</td><td>  813.3373</td></tr>\n",
              "\t<tr><td>India        </td><td>Asia    </td><td>1972</td><td>50.65100</td><td> 567000000</td><td>  724.0325</td></tr>\n",
              "\t<tr><td>China        </td><td>Asia    </td><td>1952</td><td>44.00000</td><td> 556263527</td><td>  400.4486</td></tr>\n",
              "\t<tr><td>India        </td><td>Asia    </td><td>1967</td><td>47.19300</td><td> 506000000</td><td>  700.7706</td></tr>\n",
              "\t<tr><td>India        </td><td>Asia    </td><td>1962</td><td>43.60500</td><td> 454000000</td><td>  658.3472</td></tr>\n",
              "\t<tr><td>India        </td><td>Asia    </td><td>1957</td><td>40.24900</td><td> 409000000</td><td>  590.0620</td></tr>\n",
              "\t<tr><td>India        </td><td>Asia    </td><td>1952</td><td>37.37300</td><td> 372000000</td><td>  546.5657</td></tr>\n",
              "\t<tr><td>United States</td><td>Americas</td><td>2007</td><td>78.24200</td><td> 301139947</td><td>42951.6531</td></tr>\n",
              "\t<tr><td>United States</td><td>Americas</td><td>2002</td><td>77.31000</td><td> 287675526</td><td>39097.0995</td></tr>\n",
              "\t<tr><td>United States</td><td>Americas</td><td>1997</td><td>76.81000</td><td> 272911760</td><td>35767.4330</td></tr>\n",
              "\t<tr><td>United States</td><td>Americas</td><td>1992</td><td>76.09000</td><td> 256894189</td><td>32003.9322</td></tr>\n",
              "\t<tr><td>United States</td><td>Americas</td><td>1987</td><td>75.02000</td><td> 242803533</td><td>29884.3504</td></tr>\n",
              "\t<tr><td>United States</td><td>Americas</td><td>1982</td><td>74.65000</td><td> 232187835</td><td>25009.5591</td></tr>\n",
              "\t<tr><td>⋮</td><td>⋮</td><td>⋮</td><td>⋮</td><td>⋮</td><td>⋮</td></tr>\n",
              "\t<tr><td>Bahrain              </td><td>Asia  </td><td>1967</td><td>59.923</td><td>202182</td><td> 14804.6727</td></tr>\n",
              "\t<tr><td>Sao Tome and Principe</td><td>Africa</td><td>2007</td><td>65.528</td><td>199579</td><td>  1598.4351</td></tr>\n",
              "\t<tr><td>Iceland              </td><td>Europe</td><td>1967</td><td>73.730</td><td>198676</td><td> 13319.8957</td></tr>\n",
              "\t<tr><td>Equatorial Guinea    </td><td>Africa</td><td>1977</td><td>42.024</td><td>192675</td><td>   958.5668</td></tr>\n",
              "\t<tr><td>Comoros              </td><td>Africa</td><td>1962</td><td>44.467</td><td>191689</td><td>  1406.6483</td></tr>\n",
              "\t<tr><td>Iceland              </td><td>Europe</td><td>1962</td><td>73.680</td><td>182053</td><td> 10350.1591</td></tr>\n",
              "\t<tr><td>Djibouti             </td><td>Africa</td><td>1972</td><td>44.366</td><td>178848</td><td>  3694.2124</td></tr>\n",
              "\t<tr><td>Bahrain              </td><td>Asia  </td><td>1962</td><td>56.923</td><td>171863</td><td> 12753.2751</td></tr>\n",
              "\t<tr><td>Comoros              </td><td>Africa</td><td>1957</td><td>42.460</td><td>170928</td><td>  1211.1485</td></tr>\n",
              "\t<tr><td>Sao Tome and Principe</td><td>Africa</td><td>2002</td><td>64.337</td><td>170372</td><td>  1353.0924</td></tr>\n",
              "\t<tr><td>Iceland              </td><td>Europe</td><td>1957</td><td>73.470</td><td>165110</td><td>  9244.0014</td></tr>\n",
              "\t<tr><td>Kuwait               </td><td>Asia  </td><td>1952</td><td>55.565</td><td>160000</td><td>108382.3529</td></tr>\n",
              "\t<tr><td>Comoros              </td><td>Africa</td><td>1952</td><td>40.715</td><td>153936</td><td>  1102.9909</td></tr>\n",
              "\t<tr><td>Iceland              </td><td>Europe</td><td>1952</td><td>72.490</td><td>147962</td><td>  7267.6884</td></tr>\n",
              "\t<tr><td>Sao Tome and Principe</td><td>Africa</td><td>1997</td><td>63.306</td><td>145608</td><td>  1339.0760</td></tr>\n",
              "\t<tr><td>Bahrain              </td><td>Asia  </td><td>1957</td><td>53.832</td><td>138655</td><td> 11635.7995</td></tr>\n",
              "\t<tr><td>Djibouti             </td><td>Africa</td><td>1967</td><td>42.074</td><td>127617</td><td>  3020.0505</td></tr>\n",
              "\t<tr><td>Sao Tome and Principe</td><td>Africa</td><td>1992</td><td>62.742</td><td>125911</td><td>  1428.7778</td></tr>\n",
              "\t<tr><td>Bahrain              </td><td>Asia  </td><td>1952</td><td>50.939</td><td>120447</td><td>  9867.0848</td></tr>\n",
              "\t<tr><td>Sao Tome and Principe</td><td>Africa</td><td>1987</td><td>61.728</td><td>110812</td><td>  1516.5255</td></tr>\n",
              "\t<tr><td>Sao Tome and Principe</td><td>Africa</td><td>1982</td><td>60.351</td><td> 98593</td><td>  1890.2181</td></tr>\n",
              "\t<tr><td>Djibouti             </td><td>Africa</td><td>1962</td><td>39.693</td><td> 89898</td><td>  3020.9893</td></tr>\n",
              "\t<tr><td>Sao Tome and Principe</td><td>Africa</td><td>1977</td><td>58.550</td><td> 86796</td><td>  1737.5617</td></tr>\n",
              "\t<tr><td>Sao Tome and Principe</td><td>Africa</td><td>1972</td><td>56.480</td><td> 76595</td><td>  1532.9853</td></tr>\n",
              "\t<tr><td>Djibouti             </td><td>Africa</td><td>1957</td><td>37.328</td><td> 71851</td><td>  2864.9691</td></tr>\n",
              "\t<tr><td>Sao Tome and Principe</td><td>Africa</td><td>1967</td><td>54.425</td><td> 70787</td><td>  1384.8406</td></tr>\n",
              "\t<tr><td>Sao Tome and Principe</td><td>Africa</td><td>1962</td><td>51.893</td><td> 65345</td><td>  1071.5511</td></tr>\n",
              "\t<tr><td>Djibouti             </td><td>Africa</td><td>1952</td><td>34.812</td><td> 63149</td><td>  2669.5295</td></tr>\n",
              "\t<tr><td>Sao Tome and Principe</td><td>Africa</td><td>1957</td><td>48.945</td><td> 61325</td><td>   860.7369</td></tr>\n",
              "\t<tr><td>Sao Tome and Principe</td><td>Africa</td><td>1952</td><td>46.471</td><td> 60011</td><td>   879.5836</td></tr>\n",
              "</tbody>\n",
              "</table>\n"
            ]
          },
          "metadata": {
            "tags": []
          }
        }
      ]
    },
    {
      "cell_type": "code",
      "metadata": {
        "colab": {
          "base_uri": "https://localhost:8080/"
        },
        "id": "wukSWfShJtpE",
        "outputId": "8c96c183-c8a1-44b6-8a02-20ff7327f649"
      },
      "source": [
        "##gapminder: shirten values in pop variable (divide by 1 mio)\r\n",
        "pop_million <- gapminder %>%\r\n",
        "                mutate(pop = pop/1000000) %>%\r\n",
        "                arrange(desc(pop))\r\n",
        "head(pop_million)"
      ],
      "execution_count": null,
      "outputs": [
        {
          "output_type": "display_data",
          "data": {
            "text/plain": [
              "  country continent year lifeExp pop      gdpPercap\n",
              "1 China   Asia      2007 72.961  1318.683 4959.115 \n",
              "2 China   Asia      2002 72.028  1280.400 3119.281 \n",
              "3 China   Asia      1997 70.426  1230.075 2289.234 \n",
              "4 China   Asia      1992 68.690  1164.970 1655.784 \n",
              "5 India   Asia      2007 64.698  1110.396 2452.210 \n",
              "6 China   Asia      1987 67.274  1084.035 1378.904 "
            ],
            "text/latex": "A tibble: 6 × 6\n\\begin{tabular}{llllll}\n country & continent & year & lifeExp & pop & gdpPercap\\\\\n <fct> & <fct> & <int> & <dbl> & <dbl> & <dbl>\\\\\n\\hline\n\t China & Asia & 2007 & 72.961 & 1318.683 & 4959.115\\\\\n\t China & Asia & 2002 & 72.028 & 1280.400 & 3119.281\\\\\n\t China & Asia & 1997 & 70.426 & 1230.075 & 2289.234\\\\\n\t China & Asia & 1992 & 68.690 & 1164.970 & 1655.784\\\\\n\t India & Asia & 2007 & 64.698 & 1110.396 & 2452.210\\\\\n\t China & Asia & 1987 & 67.274 & 1084.035 & 1378.904\\\\\n\\end{tabular}\n",
            "text/markdown": "\nA tibble: 6 × 6\n\n| country &lt;fct&gt; | continent &lt;fct&gt; | year &lt;int&gt; | lifeExp &lt;dbl&gt; | pop &lt;dbl&gt; | gdpPercap &lt;dbl&gt; |\n|---|---|---|---|---|---|\n| China | Asia | 2007 | 72.961 | 1318.683 | 4959.115 |\n| China | Asia | 2002 | 72.028 | 1280.400 | 3119.281 |\n| China | Asia | 1997 | 70.426 | 1230.075 | 2289.234 |\n| China | Asia | 1992 | 68.690 | 1164.970 | 1655.784 |\n| India | Asia | 2007 | 64.698 | 1110.396 | 2452.210 |\n| China | Asia | 1987 | 67.274 | 1084.035 | 1378.904 |\n\n",
            "text/html": [
              "<table>\n",
              "<caption>A tibble: 6 × 6</caption>\n",
              "<thead>\n",
              "\t<tr><th scope=col>country</th><th scope=col>continent</th><th scope=col>year</th><th scope=col>lifeExp</th><th scope=col>pop</th><th scope=col>gdpPercap</th></tr>\n",
              "\t<tr><th scope=col>&lt;fct&gt;</th><th scope=col>&lt;fct&gt;</th><th scope=col>&lt;int&gt;</th><th scope=col>&lt;dbl&gt;</th><th scope=col>&lt;dbl&gt;</th><th scope=col>&lt;dbl&gt;</th></tr>\n",
              "</thead>\n",
              "<tbody>\n",
              "\t<tr><td>China</td><td>Asia</td><td>2007</td><td>72.961</td><td>1318.683</td><td>4959.115</td></tr>\n",
              "\t<tr><td>China</td><td>Asia</td><td>2002</td><td>72.028</td><td>1280.400</td><td>3119.281</td></tr>\n",
              "\t<tr><td>China</td><td>Asia</td><td>1997</td><td>70.426</td><td>1230.075</td><td>2289.234</td></tr>\n",
              "\t<tr><td>China</td><td>Asia</td><td>1992</td><td>68.690</td><td>1164.970</td><td>1655.784</td></tr>\n",
              "\t<tr><td>India</td><td>Asia</td><td>2007</td><td>64.698</td><td>1110.396</td><td>2452.210</td></tr>\n",
              "\t<tr><td>China</td><td>Asia</td><td>1987</td><td>67.274</td><td>1084.035</td><td>1378.904</td></tr>\n",
              "</tbody>\n",
              "</table>\n"
            ]
          },
          "metadata": {
            "tags": []
          }
        }
      ]
    },
    {
      "cell_type": "code",
      "metadata": {
        "colab": {
          "base_uri": "https://localhost:8080/"
        },
        "id": "ZjtcfAjMJtrc",
        "outputId": "088ea8a4-492a-4089-df1a-d9e2aa741a81"
      },
      "source": [
        "##creating new var gdo from gdpPercap * pop\r\n",
        "gapminder_gdp <- gapminder %>%\r\n",
        "                  mutate(gdp = gdpPercap * pop) %>%\r\n",
        "                  arrange(desc(gdp))\r\n",
        "head(gapminder_gdp)"
      ],
      "execution_count": null,
      "outputs": [
        {
          "output_type": "display_data",
          "data": {
            "text/plain": [
              "  country       continent year lifeExp pop        gdpPercap gdp         \n",
              "1 United States Americas  2007 78.242   301139947 42951.653 1.293446e+13\n",
              "2 United States Americas  2002 77.310   287675526 39097.100 1.124728e+13\n",
              "3 United States Americas  1997 76.810   272911760 35767.433 9.761353e+12\n",
              "4 United States Americas  1992 76.090   256894189 32003.932 8.221624e+12\n",
              "5 United States Americas  1987 75.020   242803533 29884.350 7.256026e+12\n",
              "6 China         Asia      2007 72.961  1318683096  4959.115 6.539501e+12"
            ],
            "text/latex": "A tibble: 6 × 7\n\\begin{tabular}{lllllll}\n country & continent & year & lifeExp & pop & gdpPercap & gdp\\\\\n <fct> & <fct> & <int> & <dbl> & <int> & <dbl> & <dbl>\\\\\n\\hline\n\t United States & Americas & 2007 & 78.242 &  301139947 & 42951.653 & 1.293446e+13\\\\\n\t United States & Americas & 2002 & 77.310 &  287675526 & 39097.100 & 1.124728e+13\\\\\n\t United States & Americas & 1997 & 76.810 &  272911760 & 35767.433 & 9.761353e+12\\\\\n\t United States & Americas & 1992 & 76.090 &  256894189 & 32003.932 & 8.221624e+12\\\\\n\t United States & Americas & 1987 & 75.020 &  242803533 & 29884.350 & 7.256026e+12\\\\\n\t China         & Asia     & 2007 & 72.961 & 1318683096 &  4959.115 & 6.539501e+12\\\\\n\\end{tabular}\n",
            "text/markdown": "\nA tibble: 6 × 7\n\n| country &lt;fct&gt; | continent &lt;fct&gt; | year &lt;int&gt; | lifeExp &lt;dbl&gt; | pop &lt;int&gt; | gdpPercap &lt;dbl&gt; | gdp &lt;dbl&gt; |\n|---|---|---|---|---|---|---|\n| United States | Americas | 2007 | 78.242 |  301139947 | 42951.653 | 1.293446e+13 |\n| United States | Americas | 2002 | 77.310 |  287675526 | 39097.100 | 1.124728e+13 |\n| United States | Americas | 1997 | 76.810 |  272911760 | 35767.433 | 9.761353e+12 |\n| United States | Americas | 1992 | 76.090 |  256894189 | 32003.932 | 8.221624e+12 |\n| United States | Americas | 1987 | 75.020 |  242803533 | 29884.350 | 7.256026e+12 |\n| China         | Asia     | 2007 | 72.961 | 1318683096 |  4959.115 | 6.539501e+12 |\n\n",
            "text/html": [
              "<table>\n",
              "<caption>A tibble: 6 × 7</caption>\n",
              "<thead>\n",
              "\t<tr><th scope=col>country</th><th scope=col>continent</th><th scope=col>year</th><th scope=col>lifeExp</th><th scope=col>pop</th><th scope=col>gdpPercap</th><th scope=col>gdp</th></tr>\n",
              "\t<tr><th scope=col>&lt;fct&gt;</th><th scope=col>&lt;fct&gt;</th><th scope=col>&lt;int&gt;</th><th scope=col>&lt;dbl&gt;</th><th scope=col>&lt;int&gt;</th><th scope=col>&lt;dbl&gt;</th><th scope=col>&lt;dbl&gt;</th></tr>\n",
              "</thead>\n",
              "<tbody>\n",
              "\t<tr><td>United States</td><td>Americas</td><td>2007</td><td>78.242</td><td> 301139947</td><td>42951.653</td><td>1.293446e+13</td></tr>\n",
              "\t<tr><td>United States</td><td>Americas</td><td>2002</td><td>77.310</td><td> 287675526</td><td>39097.100</td><td>1.124728e+13</td></tr>\n",
              "\t<tr><td>United States</td><td>Americas</td><td>1997</td><td>76.810</td><td> 272911760</td><td>35767.433</td><td>9.761353e+12</td></tr>\n",
              "\t<tr><td>United States</td><td>Americas</td><td>1992</td><td>76.090</td><td> 256894189</td><td>32003.932</td><td>8.221624e+12</td></tr>\n",
              "\t<tr><td>United States</td><td>Americas</td><td>1987</td><td>75.020</td><td> 242803533</td><td>29884.350</td><td>7.256026e+12</td></tr>\n",
              "\t<tr><td>China        </td><td>Asia    </td><td>2007</td><td>72.961</td><td>1318683096</td><td> 4959.115</td><td>6.539501e+12</td></tr>\n",
              "</tbody>\n",
              "</table>\n"
            ]
          },
          "metadata": {
            "tags": []
          }
        }
      ]
    },
    {
      "cell_type": "code",
      "metadata": {
        "colab": {
          "base_uri": "https://localhost:8080/"
        },
        "id": "tRqj4eccJtty",
        "outputId": "70967c35-e4c4-454a-fcd9-ef437241daf9"
      },
      "source": [
        "#shorten gpd values into mio US\r\n",
        "gapminder_gdp_mill <- gapminder_gdp%>%\r\n",
        "                      mutate(gdp = gdp / 1000000) %>%\r\n",
        "                      arrange(desc(gdp))\r\n",
        "head(gapminder_gdp_mill)  "
      ],
      "execution_count": null,
      "outputs": [
        {
          "output_type": "display_data",
          "data": {
            "text/plain": [
              "  country       continent year lifeExp pop        gdpPercap gdp     \n",
              "1 United States Americas  2007 78.242   301139947 42951.653 12934459\n",
              "2 United States Americas  2002 77.310   287675526 39097.100 11247279\n",
              "3 United States Americas  1997 76.810   272911760 35767.433  9761353\n",
              "4 United States Americas  1992 76.090   256894189 32003.932  8221624\n",
              "5 United States Americas  1987 75.020   242803533 29884.350  7256026\n",
              "6 China         Asia      2007 72.961  1318683096  4959.115  6539501"
            ],
            "text/latex": "A tibble: 6 × 7\n\\begin{tabular}{lllllll}\n country & continent & year & lifeExp & pop & gdpPercap & gdp\\\\\n <fct> & <fct> & <int> & <dbl> & <int> & <dbl> & <dbl>\\\\\n\\hline\n\t United States & Americas & 2007 & 78.242 &  301139947 & 42951.653 & 12934459\\\\\n\t United States & Americas & 2002 & 77.310 &  287675526 & 39097.100 & 11247279\\\\\n\t United States & Americas & 1997 & 76.810 &  272911760 & 35767.433 &  9761353\\\\\n\t United States & Americas & 1992 & 76.090 &  256894189 & 32003.932 &  8221624\\\\\n\t United States & Americas & 1987 & 75.020 &  242803533 & 29884.350 &  7256026\\\\\n\t China         & Asia     & 2007 & 72.961 & 1318683096 &  4959.115 &  6539501\\\\\n\\end{tabular}\n",
            "text/markdown": "\nA tibble: 6 × 7\n\n| country &lt;fct&gt; | continent &lt;fct&gt; | year &lt;int&gt; | lifeExp &lt;dbl&gt; | pop &lt;int&gt; | gdpPercap &lt;dbl&gt; | gdp &lt;dbl&gt; |\n|---|---|---|---|---|---|---|\n| United States | Americas | 2007 | 78.242 |  301139947 | 42951.653 | 12934459 |\n| United States | Americas | 2002 | 77.310 |  287675526 | 39097.100 | 11247279 |\n| United States | Americas | 1997 | 76.810 |  272911760 | 35767.433 |  9761353 |\n| United States | Americas | 1992 | 76.090 |  256894189 | 32003.932 |  8221624 |\n| United States | Americas | 1987 | 75.020 |  242803533 | 29884.350 |  7256026 |\n| China         | Asia     | 2007 | 72.961 | 1318683096 |  4959.115 |  6539501 |\n\n",
            "text/html": [
              "<table>\n",
              "<caption>A tibble: 6 × 7</caption>\n",
              "<thead>\n",
              "\t<tr><th scope=col>country</th><th scope=col>continent</th><th scope=col>year</th><th scope=col>lifeExp</th><th scope=col>pop</th><th scope=col>gdpPercap</th><th scope=col>gdp</th></tr>\n",
              "\t<tr><th scope=col>&lt;fct&gt;</th><th scope=col>&lt;fct&gt;</th><th scope=col>&lt;int&gt;</th><th scope=col>&lt;dbl&gt;</th><th scope=col>&lt;int&gt;</th><th scope=col>&lt;dbl&gt;</th><th scope=col>&lt;dbl&gt;</th></tr>\n",
              "</thead>\n",
              "<tbody>\n",
              "\t<tr><td>United States</td><td>Americas</td><td>2007</td><td>78.242</td><td> 301139947</td><td>42951.653</td><td>12934459</td></tr>\n",
              "\t<tr><td>United States</td><td>Americas</td><td>2002</td><td>77.310</td><td> 287675526</td><td>39097.100</td><td>11247279</td></tr>\n",
              "\t<tr><td>United States</td><td>Americas</td><td>1997</td><td>76.810</td><td> 272911760</td><td>35767.433</td><td> 9761353</td></tr>\n",
              "\t<tr><td>United States</td><td>Americas</td><td>1992</td><td>76.090</td><td> 256894189</td><td>32003.932</td><td> 8221624</td></tr>\n",
              "\t<tr><td>United States</td><td>Americas</td><td>1987</td><td>75.020</td><td> 242803533</td><td>29884.350</td><td> 7256026</td></tr>\n",
              "\t<tr><td>China        </td><td>Asia    </td><td>2007</td><td>72.961</td><td>1318683096</td><td> 4959.115</td><td> 6539501</td></tr>\n",
              "</tbody>\n",
              "</table>\n"
            ]
          },
          "metadata": {
            "tags": []
          }
        }
      ]
    },
    {
      "cell_type": "markdown",
      "metadata": {
        "id": "2py6tbvnTOBc"
      },
      "source": [
        "## 4. Data Cleaning"
      ]
    },
    {
      "cell_type": "code",
      "metadata": {
        "colab": {
          "base_uri": "https://localhost:8080/",
          "height": 176
        },
        "id": "xv-FrqaIJtwW",
        "outputId": "e0f19c62-adfe-4e47-b6c7-6780995968d3"
      },
      "source": [
        "#cekdata\r\n",
        "tail(wardata)"
      ],
      "execution_count": null,
      "outputs": [
        {
          "output_type": "display_data",
          "data": {
            "text/plain": [
              "     ccode country cname cmark year wars war warl onset ethonset ⋯ sdwars\n",
              "6605 950   FIJI    FIJI  0     1994 0    0   0    0     0        ⋯ 0     \n",
              "6606 950   FIJI    FIJI  0     1995 0    0   0    0     0        ⋯ 0     \n",
              "6607 950   FIJI    FIJI  0     1996 0    0   0    0     0        ⋯ 0     \n",
              "6608 950   FIJI    FIJI  0     1997 0    0   0    0     0        ⋯ 0     \n",
              "6609 950   FIJI    FIJI  0     1998 0    0   0    0     0        ⋯ 0     \n",
              "6610 950   FIJI    FIJI  0     1999 0    0   0    0     0        ⋯ 0     \n",
              "     sdonset colwars colonset cowwars cowonset cowwarl sdwarl colwarl codeyear\n",
              "6605 0       0       0        NA      NA       NA      0      0       9501994 \n",
              "6606 0       0       0        NA      NA       NA      0      0       9501995 \n",
              "6607 0       0       0        NA      NA       NA      0      0       9501996 \n",
              "6608 0       0       0        NA      NA       NA      0      0       9501997 \n",
              "6609 0       0       0        NA      NA       NA      0      0       9501998 \n",
              "6610 0       0       0        NA      NA       NA      0      0       9501999 "
            ],
            "text/latex": "A data.frame: 6 × 70\n\\begin{tabular}{r|lllllllllllllllllllll}\n  & ccode & country & cname & cmark & year & wars & war & warl & onset & ethonset & ⋯ & sdwars & sdonset & colwars & colonset & cowwars & cowonset & cowwarl & sdwarl & colwarl & codeyear\\\\\n  & <int> & <chr> & <chr> & <int> & <int> & <int> & <int> & <int> & <int> & <int> & ⋯ & <int> & <int> & <int> & <int> & <int> & <int> & <int> & <int> & <int> & <dbl>\\\\\n\\hline\n\t6605 & 950 & FIJI & FIJI & 0 & 1994 & 0 & 0 & 0 & 0 & 0 & ⋯ & 0 & 0 & 0 & 0 & NA & NA & NA & 0 & 0 & 9501994\\\\\n\t6606 & 950 & FIJI & FIJI & 0 & 1995 & 0 & 0 & 0 & 0 & 0 & ⋯ & 0 & 0 & 0 & 0 & NA & NA & NA & 0 & 0 & 9501995\\\\\n\t6607 & 950 & FIJI & FIJI & 0 & 1996 & 0 & 0 & 0 & 0 & 0 & ⋯ & 0 & 0 & 0 & 0 & NA & NA & NA & 0 & 0 & 9501996\\\\\n\t6608 & 950 & FIJI & FIJI & 0 & 1997 & 0 & 0 & 0 & 0 & 0 & ⋯ & 0 & 0 & 0 & 0 & NA & NA & NA & 0 & 0 & 9501997\\\\\n\t6609 & 950 & FIJI & FIJI & 0 & 1998 & 0 & 0 & 0 & 0 & 0 & ⋯ & 0 & 0 & 0 & 0 & NA & NA & NA & 0 & 0 & 9501998\\\\\n\t6610 & 950 & FIJI & FIJI & 0 & 1999 & 0 & 0 & 0 & 0 & 0 & ⋯ & 0 & 0 & 0 & 0 & NA & NA & NA & 0 & 0 & 9501999\\\\\n\\end{tabular}\n",
            "text/markdown": "\nA data.frame: 6 × 70\n\n| <!--/--> | ccode &lt;int&gt; | country &lt;chr&gt; | cname &lt;chr&gt; | cmark &lt;int&gt; | year &lt;int&gt; | wars &lt;int&gt; | war &lt;int&gt; | warl &lt;int&gt; | onset &lt;int&gt; | ethonset &lt;int&gt; | ⋯ ⋯ | sdwars &lt;int&gt; | sdonset &lt;int&gt; | colwars &lt;int&gt; | colonset &lt;int&gt; | cowwars &lt;int&gt; | cowonset &lt;int&gt; | cowwarl &lt;int&gt; | sdwarl &lt;int&gt; | colwarl &lt;int&gt; | codeyear &lt;dbl&gt; |\n|---|---|---|---|---|---|---|---|---|---|---|---|---|---|---|---|---|---|---|---|---|---|\n| 6605 | 950 | FIJI | FIJI | 0 | 1994 | 0 | 0 | 0 | 0 | 0 | ⋯ | 0 | 0 | 0 | 0 | NA | NA | NA | 0 | 0 | 9501994 |\n| 6606 | 950 | FIJI | FIJI | 0 | 1995 | 0 | 0 | 0 | 0 | 0 | ⋯ | 0 | 0 | 0 | 0 | NA | NA | NA | 0 | 0 | 9501995 |\n| 6607 | 950 | FIJI | FIJI | 0 | 1996 | 0 | 0 | 0 | 0 | 0 | ⋯ | 0 | 0 | 0 | 0 | NA | NA | NA | 0 | 0 | 9501996 |\n| 6608 | 950 | FIJI | FIJI | 0 | 1997 | 0 | 0 | 0 | 0 | 0 | ⋯ | 0 | 0 | 0 | 0 | NA | NA | NA | 0 | 0 | 9501997 |\n| 6609 | 950 | FIJI | FIJI | 0 | 1998 | 0 | 0 | 0 | 0 | 0 | ⋯ | 0 | 0 | 0 | 0 | NA | NA | NA | 0 | 0 | 9501998 |\n| 6610 | 950 | FIJI | FIJI | 0 | 1999 | 0 | 0 | 0 | 0 | 0 | ⋯ | 0 | 0 | 0 | 0 | NA | NA | NA | 0 | 0 | 9501999 |\n\n",
            "text/html": [
              "<table>\n",
              "<caption>A data.frame: 6 × 70</caption>\n",
              "<thead>\n",
              "\t<tr><th></th><th scope=col>ccode</th><th scope=col>country</th><th scope=col>cname</th><th scope=col>cmark</th><th scope=col>year</th><th scope=col>wars</th><th scope=col>war</th><th scope=col>warl</th><th scope=col>onset</th><th scope=col>ethonset</th><th scope=col>⋯</th><th scope=col>sdwars</th><th scope=col>sdonset</th><th scope=col>colwars</th><th scope=col>colonset</th><th scope=col>cowwars</th><th scope=col>cowonset</th><th scope=col>cowwarl</th><th scope=col>sdwarl</th><th scope=col>colwarl</th><th scope=col>codeyear</th></tr>\n",
              "\t<tr><th></th><th scope=col>&lt;int&gt;</th><th scope=col>&lt;chr&gt;</th><th scope=col>&lt;chr&gt;</th><th scope=col>&lt;int&gt;</th><th scope=col>&lt;int&gt;</th><th scope=col>&lt;int&gt;</th><th scope=col>&lt;int&gt;</th><th scope=col>&lt;int&gt;</th><th scope=col>&lt;int&gt;</th><th scope=col>&lt;int&gt;</th><th scope=col>⋯</th><th scope=col>&lt;int&gt;</th><th scope=col>&lt;int&gt;</th><th scope=col>&lt;int&gt;</th><th scope=col>&lt;int&gt;</th><th scope=col>&lt;int&gt;</th><th scope=col>&lt;int&gt;</th><th scope=col>&lt;int&gt;</th><th scope=col>&lt;int&gt;</th><th scope=col>&lt;int&gt;</th><th scope=col>&lt;dbl&gt;</th></tr>\n",
              "</thead>\n",
              "<tbody>\n",
              "\t<tr><th scope=row>6605</th><td>950</td><td>FIJI</td><td>FIJI</td><td>0</td><td>1994</td><td>0</td><td>0</td><td>0</td><td>0</td><td>0</td><td>⋯</td><td>0</td><td>0</td><td>0</td><td>0</td><td>NA</td><td>NA</td><td>NA</td><td>0</td><td>0</td><td>9501994</td></tr>\n",
              "\t<tr><th scope=row>6606</th><td>950</td><td>FIJI</td><td>FIJI</td><td>0</td><td>1995</td><td>0</td><td>0</td><td>0</td><td>0</td><td>0</td><td>⋯</td><td>0</td><td>0</td><td>0</td><td>0</td><td>NA</td><td>NA</td><td>NA</td><td>0</td><td>0</td><td>9501995</td></tr>\n",
              "\t<tr><th scope=row>6607</th><td>950</td><td>FIJI</td><td>FIJI</td><td>0</td><td>1996</td><td>0</td><td>0</td><td>0</td><td>0</td><td>0</td><td>⋯</td><td>0</td><td>0</td><td>0</td><td>0</td><td>NA</td><td>NA</td><td>NA</td><td>0</td><td>0</td><td>9501996</td></tr>\n",
              "\t<tr><th scope=row>6608</th><td>950</td><td>FIJI</td><td>FIJI</td><td>0</td><td>1997</td><td>0</td><td>0</td><td>0</td><td>0</td><td>0</td><td>⋯</td><td>0</td><td>0</td><td>0</td><td>0</td><td>NA</td><td>NA</td><td>NA</td><td>0</td><td>0</td><td>9501997</td></tr>\n",
              "\t<tr><th scope=row>6609</th><td>950</td><td>FIJI</td><td>FIJI</td><td>0</td><td>1998</td><td>0</td><td>0</td><td>0</td><td>0</td><td>0</td><td>⋯</td><td>0</td><td>0</td><td>0</td><td>0</td><td>NA</td><td>NA</td><td>NA</td><td>0</td><td>0</td><td>9501998</td></tr>\n",
              "\t<tr><th scope=row>6610</th><td>950</td><td>FIJI</td><td>FIJI</td><td>0</td><td>1999</td><td>0</td><td>0</td><td>0</td><td>0</td><td>0</td><td>⋯</td><td>0</td><td>0</td><td>0</td><td>0</td><td>NA</td><td>NA</td><td>NA</td><td>0</td><td>0</td><td>9501999</td></tr>\n",
              "</tbody>\n",
              "</table>\n"
            ]
          },
          "metadata": {
            "tags": []
          }
        }
      ]
    },
    {
      "cell_type": "code",
      "metadata": {
        "colab": {
          "base_uri": "https://localhost:8080/",
          "height": 33
        },
        "id": "xItaL9GBTscg",
        "outputId": "267141d6-80a5-44d5-a94d-2a7222a45664"
      },
      "source": [
        "#create a unique identifier\r\n",
        "wardata$codeyear <- wardata$ccode*10000 + wardata$year\r\n",
        "wardata$codeyear[1:10]"
      ],
      "execution_count": null,
      "outputs": [
        {
          "output_type": "display_data",
          "data": {
            "text/plain": [
              " [1] 21945 21946 21947 21948 21949 21950 21951 21952 21953 21954"
            ],
            "text/latex": "\\begin{enumerate*}\n\\item 21945\n\\item 21946\n\\item 21947\n\\item 21948\n\\item 21949\n\\item 21950\n\\item 21951\n\\item 21952\n\\item 21953\n\\item 21954\n\\end{enumerate*}\n",
            "text/markdown": "1. 21945\n2. 21946\n3. 21947\n4. 21948\n5. 21949\n6. 21950\n7. 21951\n8. 21952\n9. 21953\n10. 21954\n\n\n",
            "text/html": [
              "<style>\n",
              ".list-inline {list-style: none; margin:0; padding: 0}\n",
              ".list-inline>li {display: inline-block}\n",
              ".list-inline>li:not(:last-child)::after {content: \"\\00b7\"; padding: 0 .5ex}\n",
              "</style>\n",
              "<ol class=list-inline><li>21945</li><li>21946</li><li>21947</li><li>21948</li><li>21949</li><li>21950</li><li>21951</li><li>21952</li><li>21953</li><li>21954</li></ol>\n"
            ]
          },
          "metadata": {
            "tags": []
          }
        }
      ]
    },
    {
      "cell_type": "code",
      "metadata": {
        "colab": {
          "base_uri": "https://localhost:8080/",
          "height": 83
        },
        "id": "qSuzhtwdTse2",
        "outputId": "792ee0e3-69d5-47e6-97a5-9d5f46c6b2f0"
      },
      "source": [
        "#check var name in wardata\r\n",
        "names(wardata)"
      ],
      "execution_count": null,
      "outputs": [
        {
          "output_type": "display_data",
          "data": {
            "text/plain": [
              " [1] \"ccode\"      \"country\"    \"cname\"      \"cmark\"      \"year\"      \n",
              " [6] \"wars\"       \"war\"        \"warl\"       \"onset\"      \"ethonset\"  \n",
              "[11] \"durest\"     \"aim\"        \"casename\"   \"ended\"      \"ethwar\"    \n",
              "[16] \"waryrs\"     \"pop\"        \"lpop\"       \"polity2\"    \"gdpen\"     \n",
              "[21] \"gdptype\"    \"gdpenl\"     \"lgdpenl1\"   \"lpopl1\"     \"region\"    \n",
              "[26] \"western\"    \"eeurop\"     \"lamerica\"   \"ssafrica\"   \"asia\"      \n",
              "[31] \"nafrme\"     \"colbrit\"    \"colfra\"     \"mtnest\"     \"lmtnest\"   \n",
              "[36] \"elevdiff\"   \"Oil\"        \"ncontig\"    \"ethfrac\"    \"ef\"        \n",
              "[41] \"plural\"     \"second\"     \"numlang\"    \"relfrac\"    \"plurrel\"   \n",
              "[46] \"minrelpc\"   \"muslim\"     \"nwstate\"    \"polity2l\"   \"instab\"    \n",
              "[51] \"anocl\"      \"deml\"       \"empethfrac\" \"empwarl\"    \"emponset\"  \n",
              "[56] \"empgdpenl\"  \"emplpopl\"   \"emplmtnest\" \"empncontig\" \"empolity2l\"\n",
              "[61] \"sdwars\"     \"sdonset\"    \"colwars\"    \"colonset\"   \"cowwars\"   \n",
              "[66] \"cowonset\"   \"cowwarl\"    \"sdwarl\"     \"colwarl\"    \"codeyear\"  "
            ],
            "text/latex": "\\begin{enumerate*}\n\\item 'ccode'\n\\item 'country'\n\\item 'cname'\n\\item 'cmark'\n\\item 'year'\n\\item 'wars'\n\\item 'war'\n\\item 'warl'\n\\item 'onset'\n\\item 'ethonset'\n\\item 'durest'\n\\item 'aim'\n\\item 'casename'\n\\item 'ended'\n\\item 'ethwar'\n\\item 'waryrs'\n\\item 'pop'\n\\item 'lpop'\n\\item 'polity2'\n\\item 'gdpen'\n\\item 'gdptype'\n\\item 'gdpenl'\n\\item 'lgdpenl1'\n\\item 'lpopl1'\n\\item 'region'\n\\item 'western'\n\\item 'eeurop'\n\\item 'lamerica'\n\\item 'ssafrica'\n\\item 'asia'\n\\item 'nafrme'\n\\item 'colbrit'\n\\item 'colfra'\n\\item 'mtnest'\n\\item 'lmtnest'\n\\item 'elevdiff'\n\\item 'Oil'\n\\item 'ncontig'\n\\item 'ethfrac'\n\\item 'ef'\n\\item 'plural'\n\\item 'second'\n\\item 'numlang'\n\\item 'relfrac'\n\\item 'plurrel'\n\\item 'minrelpc'\n\\item 'muslim'\n\\item 'nwstate'\n\\item 'polity2l'\n\\item 'instab'\n\\item 'anocl'\n\\item 'deml'\n\\item 'empethfrac'\n\\item 'empwarl'\n\\item 'emponset'\n\\item 'empgdpenl'\n\\item 'emplpopl'\n\\item 'emplmtnest'\n\\item 'empncontig'\n\\item 'empolity2l'\n\\item 'sdwars'\n\\item 'sdonset'\n\\item 'colwars'\n\\item 'colonset'\n\\item 'cowwars'\n\\item 'cowonset'\n\\item 'cowwarl'\n\\item 'sdwarl'\n\\item 'colwarl'\n\\item 'codeyear'\n\\end{enumerate*}\n",
            "text/markdown": "1. 'ccode'\n2. 'country'\n3. 'cname'\n4. 'cmark'\n5. 'year'\n6. 'wars'\n7. 'war'\n8. 'warl'\n9. 'onset'\n10. 'ethonset'\n11. 'durest'\n12. 'aim'\n13. 'casename'\n14. 'ended'\n15. 'ethwar'\n16. 'waryrs'\n17. 'pop'\n18. 'lpop'\n19. 'polity2'\n20. 'gdpen'\n21. 'gdptype'\n22. 'gdpenl'\n23. 'lgdpenl1'\n24. 'lpopl1'\n25. 'region'\n26. 'western'\n27. 'eeurop'\n28. 'lamerica'\n29. 'ssafrica'\n30. 'asia'\n31. 'nafrme'\n32. 'colbrit'\n33. 'colfra'\n34. 'mtnest'\n35. 'lmtnest'\n36. 'elevdiff'\n37. 'Oil'\n38. 'ncontig'\n39. 'ethfrac'\n40. 'ef'\n41. 'plural'\n42. 'second'\n43. 'numlang'\n44. 'relfrac'\n45. 'plurrel'\n46. 'minrelpc'\n47. 'muslim'\n48. 'nwstate'\n49. 'polity2l'\n50. 'instab'\n51. 'anocl'\n52. 'deml'\n53. 'empethfrac'\n54. 'empwarl'\n55. 'emponset'\n56. 'empgdpenl'\n57. 'emplpopl'\n58. 'emplmtnest'\n59. 'empncontig'\n60. 'empolity2l'\n61. 'sdwars'\n62. 'sdonset'\n63. 'colwars'\n64. 'colonset'\n65. 'cowwars'\n66. 'cowonset'\n67. 'cowwarl'\n68. 'sdwarl'\n69. 'colwarl'\n70. 'codeyear'\n\n\n",
            "text/html": [
              "<style>\n",
              ".list-inline {list-style: none; margin:0; padding: 0}\n",
              ".list-inline>li {display: inline-block}\n",
              ".list-inline>li:not(:last-child)::after {content: \"\\00b7\"; padding: 0 .5ex}\n",
              "</style>\n",
              "<ol class=list-inline><li>'ccode'</li><li>'country'</li><li>'cname'</li><li>'cmark'</li><li>'year'</li><li>'wars'</li><li>'war'</li><li>'warl'</li><li>'onset'</li><li>'ethonset'</li><li>'durest'</li><li>'aim'</li><li>'casename'</li><li>'ended'</li><li>'ethwar'</li><li>'waryrs'</li><li>'pop'</li><li>'lpop'</li><li>'polity2'</li><li>'gdpen'</li><li>'gdptype'</li><li>'gdpenl'</li><li>'lgdpenl1'</li><li>'lpopl1'</li><li>'region'</li><li>'western'</li><li>'eeurop'</li><li>'lamerica'</li><li>'ssafrica'</li><li>'asia'</li><li>'nafrme'</li><li>'colbrit'</li><li>'colfra'</li><li>'mtnest'</li><li>'lmtnest'</li><li>'elevdiff'</li><li>'Oil'</li><li>'ncontig'</li><li>'ethfrac'</li><li>'ef'</li><li>'plural'</li><li>'second'</li><li>'numlang'</li><li>'relfrac'</li><li>'plurrel'</li><li>'minrelpc'</li><li>'muslim'</li><li>'nwstate'</li><li>'polity2l'</li><li>'instab'</li><li>'anocl'</li><li>'deml'</li><li>'empethfrac'</li><li>'empwarl'</li><li>'emponset'</li><li>'empgdpenl'</li><li>'emplpopl'</li><li>'emplmtnest'</li><li>'empncontig'</li><li>'empolity2l'</li><li>'sdwars'</li><li>'sdonset'</li><li>'colwars'</li><li>'colonset'</li><li>'cowwars'</li><li>'cowonset'</li><li>'cowwarl'</li><li>'sdwarl'</li><li>'colwarl'</li><li>'codeyear'</li></ol>\n"
            ]
          },
          "metadata": {
            "tags": []
          }
        }
      ]
    },
    {
      "cell_type": "code",
      "metadata": {
        "colab": {
          "base_uri": "https://localhost:8080/",
          "height": 50
        },
        "id": "UVivnjxyTslc",
        "outputId": "b1ed7809-6e52-486b-e599-e685e3c9899b"
      },
      "source": [
        "#prove is there any duplicate info\r\n",
        "length(wardata$codeyear)\r\n",
        "length(unique(wardata$codeyear))"
      ],
      "execution_count": null,
      "outputs": [
        {
          "output_type": "display_data",
          "data": {
            "text/plain": [
              "[1] 6610"
            ],
            "text/latex": "6610",
            "text/markdown": "6610",
            "text/html": [
              "6610"
            ]
          },
          "metadata": {
            "tags": []
          }
        },
        {
          "output_type": "display_data",
          "data": {
            "text/plain": [
              "[1] 6610"
            ],
            "text/latex": "6610",
            "text/markdown": "6610",
            "text/html": [
              "6610"
            ]
          },
          "metadata": {
            "tags": []
          }
        }
      ]
    },
    {
      "cell_type": "code",
      "metadata": {
        "colab": {
          "base_uri": "https://localhost:8080/",
          "height": 33
        },
        "id": "EDnZKkBmTsoH",
        "outputId": "8ba50795-9795-4189-f815-16309ca8058e"
      },
      "source": [
        "##load data with duplictae\r\n",
        "spesies_data <- as_tibble(iris)\r\n",
        "dim(spesies_data)"
      ],
      "execution_count": null,
      "outputs": [
        {
          "output_type": "display_data",
          "data": {
            "text/plain": [
              "[1] 150   5"
            ],
            "text/latex": "\\begin{enumerate*}\n\\item 150\n\\item 5\n\\end{enumerate*}\n",
            "text/markdown": "1. 150\n2. 5\n\n\n",
            "text/html": [
              "<style>\n",
              ".list-inline {list-style: none; margin:0; padding: 0}\n",
              ".list-inline>li {display: inline-block}\n",
              ".list-inline>li:not(:last-child)::after {content: \"\\00b7\"; padding: 0 .5ex}\n",
              "</style>\n",
              "<ol class=list-inline><li>150</li><li>5</li></ol>\n"
            ]
          },
          "metadata": {
            "tags": []
          }
        }
      ]
    },
    {
      "cell_type": "code",
      "metadata": {
        "colab": {
          "base_uri": "https://localhost:8080/",
          "height": 176
        },
        "id": "8c69NSc7Ukju",
        "outputId": "da5f4e30-650e-48ea-c881-1262b75dc134"
      },
      "source": [
        "#check duplicate values in rows of a variable (Sepal Length)\r\n",
        "duplicates_Sepal <- spesies_data[duplicated(spesies_data$Sepal.Length),]\r\n",
        "head(duplicates_Sepal)"
      ],
      "execution_count": null,
      "outputs": [
        {
          "output_type": "display_data",
          "data": {
            "text/plain": [
              "  Sepal.Length Sepal.Width Petal.Length Petal.Width Species\n",
              "1 4.6          3.4         1.4          0.3         setosa \n",
              "2 5.0          3.4         1.5          0.2         setosa \n",
              "3 4.9          3.1         1.5          0.1         setosa \n",
              "4 5.4          3.7         1.5          0.2         setosa \n",
              "5 4.8          3.0         1.4          0.1         setosa \n",
              "6 5.4          3.9         1.3          0.4         setosa "
            ],
            "text/latex": "A tibble: 6 × 5\n\\begin{tabular}{lllll}\n Sepal.Length & Sepal.Width & Petal.Length & Petal.Width & Species\\\\\n <dbl> & <dbl> & <dbl> & <dbl> & <fct>\\\\\n\\hline\n\t 4.6 & 3.4 & 1.4 & 0.3 & setosa\\\\\n\t 5.0 & 3.4 & 1.5 & 0.2 & setosa\\\\\n\t 4.9 & 3.1 & 1.5 & 0.1 & setosa\\\\\n\t 5.4 & 3.7 & 1.5 & 0.2 & setosa\\\\\n\t 4.8 & 3.0 & 1.4 & 0.1 & setosa\\\\\n\t 5.4 & 3.9 & 1.3 & 0.4 & setosa\\\\\n\\end{tabular}\n",
            "text/markdown": "\nA tibble: 6 × 5\n\n| Sepal.Length &lt;dbl&gt; | Sepal.Width &lt;dbl&gt; | Petal.Length &lt;dbl&gt; | Petal.Width &lt;dbl&gt; | Species &lt;fct&gt; |\n|---|---|---|---|---|\n| 4.6 | 3.4 | 1.4 | 0.3 | setosa |\n| 5.0 | 3.4 | 1.5 | 0.2 | setosa |\n| 4.9 | 3.1 | 1.5 | 0.1 | setosa |\n| 5.4 | 3.7 | 1.5 | 0.2 | setosa |\n| 4.8 | 3.0 | 1.4 | 0.1 | setosa |\n| 5.4 | 3.9 | 1.3 | 0.4 | setosa |\n\n",
            "text/html": [
              "<table>\n",
              "<caption>A tibble: 6 × 5</caption>\n",
              "<thead>\n",
              "\t<tr><th scope=col>Sepal.Length</th><th scope=col>Sepal.Width</th><th scope=col>Petal.Length</th><th scope=col>Petal.Width</th><th scope=col>Species</th></tr>\n",
              "\t<tr><th scope=col>&lt;dbl&gt;</th><th scope=col>&lt;dbl&gt;</th><th scope=col>&lt;dbl&gt;</th><th scope=col>&lt;dbl&gt;</th><th scope=col>&lt;fct&gt;</th></tr>\n",
              "</thead>\n",
              "<tbody>\n",
              "\t<tr><td>4.6</td><td>3.4</td><td>1.4</td><td>0.3</td><td>setosa</td></tr>\n",
              "\t<tr><td>5.0</td><td>3.4</td><td>1.5</td><td>0.2</td><td>setosa</td></tr>\n",
              "\t<tr><td>4.9</td><td>3.1</td><td>1.5</td><td>0.1</td><td>setosa</td></tr>\n",
              "\t<tr><td>5.4</td><td>3.7</td><td>1.5</td><td>0.2</td><td>setosa</td></tr>\n",
              "\t<tr><td>4.8</td><td>3.0</td><td>1.4</td><td>0.1</td><td>setosa</td></tr>\n",
              "\t<tr><td>5.4</td><td>3.9</td><td>1.3</td><td>0.4</td><td>setosa</td></tr>\n",
              "</tbody>\n",
              "</table>\n"
            ]
          },
          "metadata": {
            "tags": []
          }
        }
      ]
    },
    {
      "cell_type": "code",
      "metadata": {
        "colab": {
          "base_uri": "https://localhost:8080/",
          "height": 193
        },
        "id": "OnMynU2iUkmP",
        "outputId": "6416d9a2-23f8-44f5-a6cc-cf50d11ba283"
      },
      "source": [
        "#keep only non-duplicate rows (duplicated) based on a specific variable\r\n",
        "unique_Sepal <- spesies_data[!duplicated(spesies_data$Sepal.Length),]\r\n",
        "head(unique_Sepal)\r\n",
        "dim(unique_Sepal)"
      ],
      "execution_count": null,
      "outputs": [
        {
          "output_type": "display_data",
          "data": {
            "text/plain": [
              "  Sepal.Length Sepal.Width Petal.Length Petal.Width Species\n",
              "1 5.1          3.5         1.4          0.2         setosa \n",
              "2 4.9          3.0         1.4          0.2         setosa \n",
              "3 4.7          3.2         1.3          0.2         setosa \n",
              "4 4.6          3.1         1.5          0.2         setosa \n",
              "5 5.0          3.6         1.4          0.2         setosa \n",
              "6 5.4          3.9         1.7          0.4         setosa "
            ],
            "text/latex": "A tibble: 6 × 5\n\\begin{tabular}{lllll}\n Sepal.Length & Sepal.Width & Petal.Length & Petal.Width & Species\\\\\n <dbl> & <dbl> & <dbl> & <dbl> & <fct>\\\\\n\\hline\n\t 5.1 & 3.5 & 1.4 & 0.2 & setosa\\\\\n\t 4.9 & 3.0 & 1.4 & 0.2 & setosa\\\\\n\t 4.7 & 3.2 & 1.3 & 0.2 & setosa\\\\\n\t 4.6 & 3.1 & 1.5 & 0.2 & setosa\\\\\n\t 5.0 & 3.6 & 1.4 & 0.2 & setosa\\\\\n\t 5.4 & 3.9 & 1.7 & 0.4 & setosa\\\\\n\\end{tabular}\n",
            "text/markdown": "\nA tibble: 6 × 5\n\n| Sepal.Length &lt;dbl&gt; | Sepal.Width &lt;dbl&gt; | Petal.Length &lt;dbl&gt; | Petal.Width &lt;dbl&gt; | Species &lt;fct&gt; |\n|---|---|---|---|---|\n| 5.1 | 3.5 | 1.4 | 0.2 | setosa |\n| 4.9 | 3.0 | 1.4 | 0.2 | setosa |\n| 4.7 | 3.2 | 1.3 | 0.2 | setosa |\n| 4.6 | 3.1 | 1.5 | 0.2 | setosa |\n| 5.0 | 3.6 | 1.4 | 0.2 | setosa |\n| 5.4 | 3.9 | 1.7 | 0.4 | setosa |\n\n",
            "text/html": [
              "<table>\n",
              "<caption>A tibble: 6 × 5</caption>\n",
              "<thead>\n",
              "\t<tr><th scope=col>Sepal.Length</th><th scope=col>Sepal.Width</th><th scope=col>Petal.Length</th><th scope=col>Petal.Width</th><th scope=col>Species</th></tr>\n",
              "\t<tr><th scope=col>&lt;dbl&gt;</th><th scope=col>&lt;dbl&gt;</th><th scope=col>&lt;dbl&gt;</th><th scope=col>&lt;dbl&gt;</th><th scope=col>&lt;fct&gt;</th></tr>\n",
              "</thead>\n",
              "<tbody>\n",
              "\t<tr><td>5.1</td><td>3.5</td><td>1.4</td><td>0.2</td><td>setosa</td></tr>\n",
              "\t<tr><td>4.9</td><td>3.0</td><td>1.4</td><td>0.2</td><td>setosa</td></tr>\n",
              "\t<tr><td>4.7</td><td>3.2</td><td>1.3</td><td>0.2</td><td>setosa</td></tr>\n",
              "\t<tr><td>4.6</td><td>3.1</td><td>1.5</td><td>0.2</td><td>setosa</td></tr>\n",
              "\t<tr><td>5.0</td><td>3.6</td><td>1.4</td><td>0.2</td><td>setosa</td></tr>\n",
              "\t<tr><td>5.4</td><td>3.9</td><td>1.7</td><td>0.4</td><td>setosa</td></tr>\n",
              "</tbody>\n",
              "</table>\n"
            ]
          },
          "metadata": {
            "tags": []
          }
        },
        {
          "output_type": "display_data",
          "data": {
            "text/plain": [
              "[1] 35  5"
            ],
            "text/latex": "\\begin{enumerate*}\n\\item 35\n\\item 5\n\\end{enumerate*}\n",
            "text/markdown": "1. 35\n2. 5\n\n\n",
            "text/html": [
              "<style>\n",
              ".list-inline {list-style: none; margin:0; padding: 0}\n",
              ".list-inline>li {display: inline-block}\n",
              ".list-inline>li:not(:last-child)::after {content: \"\\00b7\"; padding: 0 .5ex}\n",
              "</style>\n",
              "<ol class=list-inline><li>35</li><li>5</li></ol>\n"
            ]
          },
          "metadata": {
            "tags": []
          }
        }
      ]
    },
    {
      "cell_type": "code",
      "metadata": {
        "colab": {
          "base_uri": "https://localhost:8080/",
          "height": 33
        },
        "id": "ZKPyJLt5Ukoz",
        "outputId": "bb6b7426-7b31-44a1-887f-2b46cd75e4fe"
      },
      "source": [
        "#remove duplicated rows using unique()\r\n",
        "unique_rows <- unique(spesies_data)\r\n",
        "dim(unique_rows)"
      ],
      "execution_count": null,
      "outputs": [
        {
          "output_type": "display_data",
          "data": {
            "text/plain": [
              "[1] 149   5"
            ],
            "text/latex": "\\begin{enumerate*}\n\\item 149\n\\item 5\n\\end{enumerate*}\n",
            "text/markdown": "1. 149\n2. 5\n\n\n",
            "text/html": [
              "<style>\n",
              ".list-inline {list-style: none; margin:0; padding: 0}\n",
              ".list-inline>li {display: inline-block}\n",
              ".list-inline>li:not(:last-child)::after {content: \"\\00b7\"; padding: 0 .5ex}\n",
              "</style>\n",
              "<ol class=list-inline><li>149</li><li>5</li></ol>\n"
            ]
          },
          "metadata": {
            "tags": []
          }
        }
      ]
    },
    {
      "cell_type": "code",
      "metadata": {
        "colab": {
          "base_uri": "https://localhost:8080/",
          "height": 33
        },
        "id": "Zca92OAgUkq3",
        "outputId": "8e2196b9-c57f-40ee-ffcf-8f24d493532d"
      },
      "source": [
        "#remove duplicated rows using dsitinct()\r\n",
        "distinct_rows <- spesies_data %>%\r\n",
        "                  distinct()\r\n",
        "dim(distinct_rows)"
      ],
      "execution_count": null,
      "outputs": [
        {
          "output_type": "display_data",
          "data": {
            "text/plain": [
              "[1] 149   5"
            ],
            "text/latex": "\\begin{enumerate*}\n\\item 149\n\\item 5\n\\end{enumerate*}\n",
            "text/markdown": "1. 149\n2. 5\n\n\n",
            "text/html": [
              "<style>\n",
              ".list-inline {list-style: none; margin:0; padding: 0}\n",
              ".list-inline>li {display: inline-block}\n",
              ".list-inline>li:not(:last-child)::after {content: \"\\00b7\"; padding: 0 .5ex}\n",
              "</style>\n",
              "<ol class=list-inline><li>149</li><li>5</li></ol>\n"
            ]
          },
          "metadata": {
            "tags": []
          }
        }
      ]
    },
    {
      "cell_type": "code",
      "metadata": {
        "colab": {
          "base_uri": "https://localhost:8080/",
          "height": 33
        },
        "id": "p4o9jboUUks9",
        "outputId": "ee02957c-802a-4456-f048-a22d3054c29d"
      },
      "source": [
        "#reomve duplicates based on multiple column\r\n",
        "distinct_sepal_petal <- spesies_data %>%\r\n",
        "                          distinct(Sepal.Length, Petal.Width, .keep_all = TRUE)\r\n",
        "dim(distinct_sepal_petal)"
      ],
      "execution_count": null,
      "outputs": [
        {
          "output_type": "display_data",
          "data": {
            "text/plain": [
              "[1] 110   5"
            ],
            "text/latex": "\\begin{enumerate*}\n\\item 110\n\\item 5\n\\end{enumerate*}\n",
            "text/markdown": "1. 110\n2. 5\n\n\n",
            "text/html": [
              "<style>\n",
              ".list-inline {list-style: none; margin:0; padding: 0}\n",
              ".list-inline>li {display: inline-block}\n",
              ".list-inline>li:not(:last-child)::after {content: \"\\00b7\"; padding: 0 .5ex}\n",
              "</style>\n",
              "<ol class=list-inline><li>110</li><li>5</li></ol>\n"
            ]
          },
          "metadata": {
            "tags": []
          }
        }
      ]
    },
    {
      "cell_type": "markdown",
      "metadata": {
        "id": "SuEzgCRIiaSq"
      },
      "source": [
        "## 5. Replacing or Removing Missing Values"
      ]
    },
    {
      "cell_type": "code",
      "metadata": {
        "colab": {
          "base_uri": "https://localhost:8080/"
        },
        "id": "2j0PZMHiieqo",
        "outputId": "0a96a1a4-b50a-47f6-d3ff-ff98b652647e"
      },
      "source": [
        "# import titanic.csv dataset\r\n",
        "install.packages(\"titanic\")\r\n",
        "library(titanic)"
      ],
      "execution_count": null,
      "outputs": [
        {
          "output_type": "stream",
          "text": [
            "Installing package into ‘/usr/local/lib/R/site-library’\n",
            "(as ‘lib’ is unspecified)\n",
            "\n"
          ],
          "name": "stderr"
        }
      ]
    },
    {
      "cell_type": "code",
      "metadata": {
        "colab": {
          "base_uri": "https://localhost:8080/",
          "height": 176
        },
        "id": "foFwPcTUifQG",
        "outputId": "4a743ab0-076a-45f7-e73f-a1e1c7a7f5d8"
      },
      "source": [
        "#check df\r\n",
        "df_titanic <- titanic_train\r\n",
        "head(df_titanic)"
      ],
      "execution_count": null,
      "outputs": [
        {
          "output_type": "display_data",
          "data": {
            "text/plain": [
              "  PassengerId Survived Pclass\n",
              "1 1           0        3     \n",
              "2 2           1        1     \n",
              "3 3           1        3     \n",
              "4 4           1        1     \n",
              "5 5           0        3     \n",
              "6 6           0        3     \n",
              "  Name                                                Sex    Age SibSp Parch\n",
              "1 Braund, Mr. Owen Harris                             male   22  1     0    \n",
              "2 Cumings, Mrs. John Bradley (Florence Briggs Thayer) female 38  1     0    \n",
              "3 Heikkinen, Miss. Laina                              female 26  0     0    \n",
              "4 Futrelle, Mrs. Jacques Heath (Lily May Peel)        female 35  1     0    \n",
              "5 Allen, Mr. William Henry                            male   35  0     0    \n",
              "6 Moran, Mr. James                                    male   NA  0     0    \n",
              "  Ticket           Fare    Cabin Embarked\n",
              "1 A/5 21171         7.2500       S       \n",
              "2 PC 17599         71.2833 C85   C       \n",
              "3 STON/O2. 3101282  7.9250       S       \n",
              "4 113803           53.1000 C123  S       \n",
              "5 373450            8.0500       S       \n",
              "6 330877            8.4583       Q       "
            ],
            "text/latex": "A data.frame: 6 × 12\n\\begin{tabular}{r|llllllllllll}\n  & PassengerId & Survived & Pclass & Name & Sex & Age & SibSp & Parch & Ticket & Fare & Cabin & Embarked\\\\\n  & <int> & <int> & <int> & <chr> & <chr> & <dbl> & <int> & <int> & <chr> & <dbl> & <chr> & <chr>\\\\\n\\hline\n\t1 & 1 & 0 & 3 & Braund, Mr. Owen Harris                             & male   & 22 & 1 & 0 & A/5 21171        &  7.2500 &      & S\\\\\n\t2 & 2 & 1 & 1 & Cumings, Mrs. John Bradley (Florence Briggs Thayer) & female & 38 & 1 & 0 & PC 17599         & 71.2833 & C85  & C\\\\\n\t3 & 3 & 1 & 3 & Heikkinen, Miss. Laina                              & female & 26 & 0 & 0 & STON/O2. 3101282 &  7.9250 &      & S\\\\\n\t4 & 4 & 1 & 1 & Futrelle, Mrs. Jacques Heath (Lily May Peel)        & female & 35 & 1 & 0 & 113803           & 53.1000 & C123 & S\\\\\n\t5 & 5 & 0 & 3 & Allen, Mr. William Henry                            & male   & 35 & 0 & 0 & 373450           &  8.0500 &      & S\\\\\n\t6 & 6 & 0 & 3 & Moran, Mr. James                                    & male   & NA & 0 & 0 & 330877           &  8.4583 &      & Q\\\\\n\\end{tabular}\n",
            "text/markdown": "\nA data.frame: 6 × 12\n\n| <!--/--> | PassengerId &lt;int&gt; | Survived &lt;int&gt; | Pclass &lt;int&gt; | Name &lt;chr&gt; | Sex &lt;chr&gt; | Age &lt;dbl&gt; | SibSp &lt;int&gt; | Parch &lt;int&gt; | Ticket &lt;chr&gt; | Fare &lt;dbl&gt; | Cabin &lt;chr&gt; | Embarked &lt;chr&gt; |\n|---|---|---|---|---|---|---|---|---|---|---|---|---|\n| 1 | 1 | 0 | 3 | Braund, Mr. Owen Harris                             | male   | 22 | 1 | 0 | A/5 21171        |  7.2500 | <!----> | S |\n| 2 | 2 | 1 | 1 | Cumings, Mrs. John Bradley (Florence Briggs Thayer) | female | 38 | 1 | 0 | PC 17599         | 71.2833 | C85  | C |\n| 3 | 3 | 1 | 3 | Heikkinen, Miss. Laina                              | female | 26 | 0 | 0 | STON/O2. 3101282 |  7.9250 | <!----> | S |\n| 4 | 4 | 1 | 1 | Futrelle, Mrs. Jacques Heath (Lily May Peel)        | female | 35 | 1 | 0 | 113803           | 53.1000 | C123 | S |\n| 5 | 5 | 0 | 3 | Allen, Mr. William Henry                            | male   | 35 | 0 | 0 | 373450           |  8.0500 | <!----> | S |\n| 6 | 6 | 0 | 3 | Moran, Mr. James                                    | male   | NA | 0 | 0 | 330877           |  8.4583 | <!----> | Q |\n\n",
            "text/html": [
              "<table>\n",
              "<caption>A data.frame: 6 × 12</caption>\n",
              "<thead>\n",
              "\t<tr><th></th><th scope=col>PassengerId</th><th scope=col>Survived</th><th scope=col>Pclass</th><th scope=col>Name</th><th scope=col>Sex</th><th scope=col>Age</th><th scope=col>SibSp</th><th scope=col>Parch</th><th scope=col>Ticket</th><th scope=col>Fare</th><th scope=col>Cabin</th><th scope=col>Embarked</th></tr>\n",
              "\t<tr><th></th><th scope=col>&lt;int&gt;</th><th scope=col>&lt;int&gt;</th><th scope=col>&lt;int&gt;</th><th scope=col>&lt;chr&gt;</th><th scope=col>&lt;chr&gt;</th><th scope=col>&lt;dbl&gt;</th><th scope=col>&lt;int&gt;</th><th scope=col>&lt;int&gt;</th><th scope=col>&lt;chr&gt;</th><th scope=col>&lt;dbl&gt;</th><th scope=col>&lt;chr&gt;</th><th scope=col>&lt;chr&gt;</th></tr>\n",
              "</thead>\n",
              "<tbody>\n",
              "\t<tr><th scope=row>1</th><td>1</td><td>0</td><td>3</td><td>Braund, Mr. Owen Harris                            </td><td>male  </td><td>22</td><td>1</td><td>0</td><td>A/5 21171       </td><td> 7.2500</td><td>    </td><td>S</td></tr>\n",
              "\t<tr><th scope=row>2</th><td>2</td><td>1</td><td>1</td><td>Cumings, Mrs. John Bradley (Florence Briggs Thayer)</td><td>female</td><td>38</td><td>1</td><td>0</td><td>PC 17599        </td><td>71.2833</td><td>C85 </td><td>C</td></tr>\n",
              "\t<tr><th scope=row>3</th><td>3</td><td>1</td><td>3</td><td>Heikkinen, Miss. Laina                             </td><td>female</td><td>26</td><td>0</td><td>0</td><td>STON/O2. 3101282</td><td> 7.9250</td><td>    </td><td>S</td></tr>\n",
              "\t<tr><th scope=row>4</th><td>4</td><td>1</td><td>1</td><td>Futrelle, Mrs. Jacques Heath (Lily May Peel)       </td><td>female</td><td>35</td><td>1</td><td>0</td><td>113803          </td><td>53.1000</td><td>C123</td><td>S</td></tr>\n",
              "\t<tr><th scope=row>5</th><td>5</td><td>0</td><td>3</td><td>Allen, Mr. William Henry                           </td><td>male  </td><td>35</td><td>0</td><td>0</td><td>373450          </td><td> 8.0500</td><td>    </td><td>S</td></tr>\n",
              "\t<tr><th scope=row>6</th><td>6</td><td>0</td><td>3</td><td>Moran, Mr. James                                   </td><td>male  </td><td>NA</td><td>0</td><td>0</td><td>330877          </td><td> 8.4583</td><td>    </td><td>Q</td></tr>\n",
              "</tbody>\n",
              "</table>\n"
            ]
          },
          "metadata": {
            "tags": []
          }
        }
      ]
    },
    {
      "cell_type": "code",
      "metadata": {
        "colab": {
          "base_uri": "https://localhost:8080/",
          "height": 50
        },
        "id": "H9Io7BPiifTB",
        "outputId": "887d1751-fe8e-43c5-dd24-e622267663ae"
      },
      "source": [
        "#check df\r\n",
        "dim(df_titanic)\r\n",
        "names(df_titanic)"
      ],
      "execution_count": null,
      "outputs": [
        {
          "output_type": "display_data",
          "data": {
            "text/plain": [
              "[1] 891  12"
            ],
            "text/latex": "\\begin{enumerate*}\n\\item 891\n\\item 12\n\\end{enumerate*}\n",
            "text/markdown": "1. 891\n2. 12\n\n\n",
            "text/html": [
              "<style>\n",
              ".list-inline {list-style: none; margin:0; padding: 0}\n",
              ".list-inline>li {display: inline-block}\n",
              ".list-inline>li:not(:last-child)::after {content: \"\\00b7\"; padding: 0 .5ex}\n",
              "</style>\n",
              "<ol class=list-inline><li>891</li><li>12</li></ol>\n"
            ]
          },
          "metadata": {
            "tags": []
          }
        },
        {
          "output_type": "display_data",
          "data": {
            "text/plain": [
              " [1] \"PassengerId\" \"Survived\"    \"Pclass\"      \"Name\"        \"Sex\"        \n",
              " [6] \"Age\"         \"SibSp\"       \"Parch\"       \"Ticket\"      \"Fare\"       \n",
              "[11] \"Cabin\"       \"Embarked\"   "
            ],
            "text/latex": "\\begin{enumerate*}\n\\item 'PassengerId'\n\\item 'Survived'\n\\item 'Pclass'\n\\item 'Name'\n\\item 'Sex'\n\\item 'Age'\n\\item 'SibSp'\n\\item 'Parch'\n\\item 'Ticket'\n\\item 'Fare'\n\\item 'Cabin'\n\\item 'Embarked'\n\\end{enumerate*}\n",
            "text/markdown": "1. 'PassengerId'\n2. 'Survived'\n3. 'Pclass'\n4. 'Name'\n5. 'Sex'\n6. 'Age'\n7. 'SibSp'\n8. 'Parch'\n9. 'Ticket'\n10. 'Fare'\n11. 'Cabin'\n12. 'Embarked'\n\n\n",
            "text/html": [
              "<style>\n",
              ".list-inline {list-style: none; margin:0; padding: 0}\n",
              ".list-inline>li {display: inline-block}\n",
              ".list-inline>li:not(:last-child)::after {content: \"\\00b7\"; padding: 0 .5ex}\n",
              "</style>\n",
              "<ol class=list-inline><li>'PassengerId'</li><li>'Survived'</li><li>'Pclass'</li><li>'Name'</li><li>'Sex'</li><li>'Age'</li><li>'SibSp'</li><li>'Parch'</li><li>'Ticket'</li><li>'Fare'</li><li>'Cabin'</li><li>'Embarked'</li></ol>\n"
            ]
          },
          "metadata": {
            "tags": []
          }
        }
      ]
    },
    {
      "cell_type": "code",
      "metadata": {
        "colab": {
          "base_uri": "https://localhost:8080/",
          "height": 33
        },
        "id": "Q_NNNgZTifVg",
        "outputId": "d272ad84-2bec-4f70-a232-f562ae00dcd3"
      },
      "source": [
        "#check where missing vaue is located\r\n",
        "list_na <- colnames(df_titanic) [apply(df_titanic, 2, anyNA)]\r\n",
        "list_na"
      ],
      "execution_count": null,
      "outputs": [
        {
          "output_type": "display_data",
          "data": {
            "text/plain": [
              "[1] \"Age\""
            ],
            "text/latex": "'Age'",
            "text/markdown": "'Age'",
            "text/html": [
              "'Age'"
            ]
          },
          "metadata": {
            "tags": []
          }
        }
      ]
    },
    {
      "cell_type": "code",
      "metadata": {
        "colab": {
          "base_uri": "https://localhost:8080/",
          "height": 1000
        },
        "id": "Ks1nTrHDifYC",
        "outputId": "0ca80201-954d-4ea6-bf66-add19ac753be"
      },
      "source": [
        "#check missing value in Age column, showed by Name and Sex\r\n",
        "df_titanic[is.na(df_titanic$Age), c(\"Name\", \"Sex\")]"
      ],
      "execution_count": null,
      "outputs": [
        {
          "output_type": "display_data",
          "data": {
            "text/plain": [
              "    Name                                           Sex   \n",
              "6   Moran, Mr. James                               male  \n",
              "18  Williams, Mr. Charles Eugene                   male  \n",
              "20  Masselmani, Mrs. Fatima                        female\n",
              "27  Emir, Mr. Farred Chehab                        male  \n",
              "29  O'Dwyer, Miss. Ellen \"Nellie\"                  female\n",
              "30  Todoroff, Mr. Lalio                            male  \n",
              "32  Spencer, Mrs. William Augustus (Marie Eugenie) female\n",
              "33  Glynn, Miss. Mary Agatha                       female\n",
              "37  Mamee, Mr. Hanna                               male  \n",
              "43  Kraeff, Mr. Theodor                            male  \n",
              "46  Rogers, Mr. William John                       male  \n",
              "47  Lennon, Mr. Denis                              male  \n",
              "48  O'Driscoll, Miss. Bridget                      female\n",
              "49  Samaan, Mr. Youssef                            male  \n",
              "56  Woolner, Mr. Hugh                              male  \n",
              "65  Stewart, Mr. Albert A                          male  \n",
              "66  Moubarek, Master. Gerios                       male  \n",
              "77  Staneff, Mr. Ivan                              male  \n",
              "78  Moutal, Mr. Rahamin Haim                       male  \n",
              "83  McDermott, Miss. Brigdet Delia                 female\n",
              "88  Slocovski, Mr. Selman Francis                  male  \n",
              "96  Shorney, Mr. Charles Joseph                    male  \n",
              "102 Petroff, Mr. Pastcho (\"Pentcho\")               male  \n",
              "108 Moss, Mr. Albert Johan                         male  \n",
              "110 Moran, Miss. Bertha                            female\n",
              "122 Moore, Mr. Leonard Charles                     male  \n",
              "127 McMahon, Mr. Martin                            male  \n",
              "129 Peter, Miss. Anna                              female\n",
              "141 Boulos, Mrs. Joseph (Sultana)                  female\n",
              "155 Olsen, Mr. Ole Martin                          male  \n",
              "⋮   ⋮                                              ⋮     \n",
              "719 McEvoy, Mr. Michael                            male  \n",
              "728 Mannion, Miss. Margareth                       female\n",
              "733 Knight, Mr. Robert J                           male  \n",
              "739 Ivanoff, Mr. Kanio                             male  \n",
              "740 Nankoff, Mr. Minko                             male  \n",
              "741 Hawksford, Mr. Walter James                    male  \n",
              "761 Garfirth, Mr. John                             male  \n",
              "767 Brewe, Dr. Arthur Jackson                      male  \n",
              "769 Moran, Mr. Daniel J                            male  \n",
              "774 Elias, Mr. Dibo                                male  \n",
              "777 Tobin, Mr. Roger                               male  \n",
              "779 Kilgannon, Mr. Thomas J                        male  \n",
              "784 Johnston, Mr. Andrew G                         male  \n",
              "791 Keane, Mr. Andrew \"Andy\"                       male  \n",
              "793 Sage, Miss. Stella Anna                        female\n",
              "794 Hoyt, Mr. William Fisher                       male  \n",
              "816 Fry, Mr. Richard                               male  \n",
              "826 Flynn, Mr. John                                male  \n",
              "827 Lam, Mr. Len                                   male  \n",
              "829 McCormack, Mr. Thomas Joseph                   male  \n",
              "833 Saad, Mr. Amin                                 male  \n",
              "838 Sirota, Mr. Maurice                            male  \n",
              "840 Marechal, Mr. Pierre                           male  \n",
              "847 Sage, Mr. Douglas Bullen                       male  \n",
              "850 Goldenberg, Mrs. Samuel L (Edwiga Grabowska)   female\n",
              "860 Razi, Mr. Raihed                               male  \n",
              "864 Sage, Miss. Dorothy Edith \"Dolly\"              female\n",
              "869 van Melkebeke, Mr. Philemon                    male  \n",
              "879 Laleff, Mr. Kristo                             male  \n",
              "889 Johnston, Miss. Catherine Helen \"Carrie\"       female"
            ],
            "text/latex": "A data.frame: 177 × 2\n\\begin{tabular}{r|ll}\n  & Name & Sex\\\\\n  & <chr> & <chr>\\\\\n\\hline\n\t6 & Moran, Mr. James                               & male  \\\\\n\t18 & Williams, Mr. Charles Eugene                   & male  \\\\\n\t20 & Masselmani, Mrs. Fatima                        & female\\\\\n\t27 & Emir, Mr. Farred Chehab                        & male  \\\\\n\t29 & O'Dwyer, Miss. Ellen \"Nellie\"                  & female\\\\\n\t30 & Todoroff, Mr. Lalio                            & male  \\\\\n\t32 & Spencer, Mrs. William Augustus (Marie Eugenie) & female\\\\\n\t33 & Glynn, Miss. Mary Agatha                       & female\\\\\n\t37 & Mamee, Mr. Hanna                               & male  \\\\\n\t43 & Kraeff, Mr. Theodor                            & male  \\\\\n\t46 & Rogers, Mr. William John                       & male  \\\\\n\t47 & Lennon, Mr. Denis                              & male  \\\\\n\t48 & O'Driscoll, Miss. Bridget                      & female\\\\\n\t49 & Samaan, Mr. Youssef                            & male  \\\\\n\t56 & Woolner, Mr. Hugh                              & male  \\\\\n\t65 & Stewart, Mr. Albert A                          & male  \\\\\n\t66 & Moubarek, Master. Gerios                       & male  \\\\\n\t77 & Staneff, Mr. Ivan                              & male  \\\\\n\t78 & Moutal, Mr. Rahamin Haim                       & male  \\\\\n\t83 & McDermott, Miss. Brigdet Delia                 & female\\\\\n\t88 & Slocovski, Mr. Selman Francis                  & male  \\\\\n\t96 & Shorney, Mr. Charles Joseph                    & male  \\\\\n\t102 & Petroff, Mr. Pastcho (\"Pentcho\")               & male  \\\\\n\t108 & Moss, Mr. Albert Johan                         & male  \\\\\n\t110 & Moran, Miss. Bertha                            & female\\\\\n\t122 & Moore, Mr. Leonard Charles                     & male  \\\\\n\t127 & McMahon, Mr. Martin                            & male  \\\\\n\t129 & Peter, Miss. Anna                              & female\\\\\n\t141 & Boulos, Mrs. Joseph (Sultana)                  & female\\\\\n\t155 & Olsen, Mr. Ole Martin                          & male  \\\\\n\t⋮ & ⋮ & ⋮\\\\\n\t719 & McEvoy, Mr. Michael                          & male  \\\\\n\t728 & Mannion, Miss. Margareth                     & female\\\\\n\t733 & Knight, Mr. Robert J                         & male  \\\\\n\t739 & Ivanoff, Mr. Kanio                           & male  \\\\\n\t740 & Nankoff, Mr. Minko                           & male  \\\\\n\t741 & Hawksford, Mr. Walter James                  & male  \\\\\n\t761 & Garfirth, Mr. John                           & male  \\\\\n\t767 & Brewe, Dr. Arthur Jackson                    & male  \\\\\n\t769 & Moran, Mr. Daniel J                          & male  \\\\\n\t774 & Elias, Mr. Dibo                              & male  \\\\\n\t777 & Tobin, Mr. Roger                             & male  \\\\\n\t779 & Kilgannon, Mr. Thomas J                      & male  \\\\\n\t784 & Johnston, Mr. Andrew G                       & male  \\\\\n\t791 & Keane, Mr. Andrew \"Andy\"                     & male  \\\\\n\t793 & Sage, Miss. Stella Anna                      & female\\\\\n\t794 & Hoyt, Mr. William Fisher                     & male  \\\\\n\t816 & Fry, Mr. Richard                             & male  \\\\\n\t826 & Flynn, Mr. John                              & male  \\\\\n\t827 & Lam, Mr. Len                                 & male  \\\\\n\t829 & McCormack, Mr. Thomas Joseph                 & male  \\\\\n\t833 & Saad, Mr. Amin                               & male  \\\\\n\t838 & Sirota, Mr. Maurice                          & male  \\\\\n\t840 & Marechal, Mr. Pierre                         & male  \\\\\n\t847 & Sage, Mr. Douglas Bullen                     & male  \\\\\n\t850 & Goldenberg, Mrs. Samuel L (Edwiga Grabowska) & female\\\\\n\t860 & Razi, Mr. Raihed                             & male  \\\\\n\t864 & Sage, Miss. Dorothy Edith \"Dolly\"            & female\\\\\n\t869 & van Melkebeke, Mr. Philemon                  & male  \\\\\n\t879 & Laleff, Mr. Kristo                           & male  \\\\\n\t889 & Johnston, Miss. Catherine Helen \"Carrie\"     & female\\\\\n\\end{tabular}\n",
            "text/markdown": "\nA data.frame: 177 × 2\n\n| <!--/--> | Name &lt;chr&gt; | Sex &lt;chr&gt; |\n|---|---|---|\n| 6 | Moran, Mr. James                               | male   |\n| 18 | Williams, Mr. Charles Eugene                   | male   |\n| 20 | Masselmani, Mrs. Fatima                        | female |\n| 27 | Emir, Mr. Farred Chehab                        | male   |\n| 29 | O'Dwyer, Miss. Ellen \"Nellie\"                  | female |\n| 30 | Todoroff, Mr. Lalio                            | male   |\n| 32 | Spencer, Mrs. William Augustus (Marie Eugenie) | female |\n| 33 | Glynn, Miss. Mary Agatha                       | female |\n| 37 | Mamee, Mr. Hanna                               | male   |\n| 43 | Kraeff, Mr. Theodor                            | male   |\n| 46 | Rogers, Mr. William John                       | male   |\n| 47 | Lennon, Mr. Denis                              | male   |\n| 48 | O'Driscoll, Miss. Bridget                      | female |\n| 49 | Samaan, Mr. Youssef                            | male   |\n| 56 | Woolner, Mr. Hugh                              | male   |\n| 65 | Stewart, Mr. Albert A                          | male   |\n| 66 | Moubarek, Master. Gerios                       | male   |\n| 77 | Staneff, Mr. Ivan                              | male   |\n| 78 | Moutal, Mr. Rahamin Haim                       | male   |\n| 83 | McDermott, Miss. Brigdet Delia                 | female |\n| 88 | Slocovski, Mr. Selman Francis                  | male   |\n| 96 | Shorney, Mr. Charles Joseph                    | male   |\n| 102 | Petroff, Mr. Pastcho (\"Pentcho\")               | male   |\n| 108 | Moss, Mr. Albert Johan                         | male   |\n| 110 | Moran, Miss. Bertha                            | female |\n| 122 | Moore, Mr. Leonard Charles                     | male   |\n| 127 | McMahon, Mr. Martin                            | male   |\n| 129 | Peter, Miss. Anna                              | female |\n| 141 | Boulos, Mrs. Joseph (Sultana)                  | female |\n| 155 | Olsen, Mr. Ole Martin                          | male   |\n| ⋮ | ⋮ | ⋮ |\n| 719 | McEvoy, Mr. Michael                          | male   |\n| 728 | Mannion, Miss. Margareth                     | female |\n| 733 | Knight, Mr. Robert J                         | male   |\n| 739 | Ivanoff, Mr. Kanio                           | male   |\n| 740 | Nankoff, Mr. Minko                           | male   |\n| 741 | Hawksford, Mr. Walter James                  | male   |\n| 761 | Garfirth, Mr. John                           | male   |\n| 767 | Brewe, Dr. Arthur Jackson                    | male   |\n| 769 | Moran, Mr. Daniel J                          | male   |\n| 774 | Elias, Mr. Dibo                              | male   |\n| 777 | Tobin, Mr. Roger                             | male   |\n| 779 | Kilgannon, Mr. Thomas J                      | male   |\n| 784 | Johnston, Mr. Andrew G                       | male   |\n| 791 | Keane, Mr. Andrew \"Andy\"                     | male   |\n| 793 | Sage, Miss. Stella Anna                      | female |\n| 794 | Hoyt, Mr. William Fisher                     | male   |\n| 816 | Fry, Mr. Richard                             | male   |\n| 826 | Flynn, Mr. John                              | male   |\n| 827 | Lam, Mr. Len                                 | male   |\n| 829 | McCormack, Mr. Thomas Joseph                 | male   |\n| 833 | Saad, Mr. Amin                               | male   |\n| 838 | Sirota, Mr. Maurice                          | male   |\n| 840 | Marechal, Mr. Pierre                         | male   |\n| 847 | Sage, Mr. Douglas Bullen                     | male   |\n| 850 | Goldenberg, Mrs. Samuel L (Edwiga Grabowska) | female |\n| 860 | Razi, Mr. Raihed                             | male   |\n| 864 | Sage, Miss. Dorothy Edith \"Dolly\"            | female |\n| 869 | van Melkebeke, Mr. Philemon                  | male   |\n| 879 | Laleff, Mr. Kristo                           | male   |\n| 889 | Johnston, Miss. Catherine Helen \"Carrie\"     | female |\n\n",
            "text/html": [
              "<table>\n",
              "<caption>A data.frame: 177 × 2</caption>\n",
              "<thead>\n",
              "\t<tr><th></th><th scope=col>Name</th><th scope=col>Sex</th></tr>\n",
              "\t<tr><th></th><th scope=col>&lt;chr&gt;</th><th scope=col>&lt;chr&gt;</th></tr>\n",
              "</thead>\n",
              "<tbody>\n",
              "\t<tr><th scope=row>6</th><td>Moran, Mr. James                              </td><td>male  </td></tr>\n",
              "\t<tr><th scope=row>18</th><td>Williams, Mr. Charles Eugene                  </td><td>male  </td></tr>\n",
              "\t<tr><th scope=row>20</th><td>Masselmani, Mrs. Fatima                       </td><td>female</td></tr>\n",
              "\t<tr><th scope=row>27</th><td>Emir, Mr. Farred Chehab                       </td><td>male  </td></tr>\n",
              "\t<tr><th scope=row>29</th><td>O'Dwyer, Miss. Ellen \"Nellie\"                 </td><td>female</td></tr>\n",
              "\t<tr><th scope=row>30</th><td>Todoroff, Mr. Lalio                           </td><td>male  </td></tr>\n",
              "\t<tr><th scope=row>32</th><td>Spencer, Mrs. William Augustus (Marie Eugenie)</td><td>female</td></tr>\n",
              "\t<tr><th scope=row>33</th><td>Glynn, Miss. Mary Agatha                      </td><td>female</td></tr>\n",
              "\t<tr><th scope=row>37</th><td>Mamee, Mr. Hanna                              </td><td>male  </td></tr>\n",
              "\t<tr><th scope=row>43</th><td>Kraeff, Mr. Theodor                           </td><td>male  </td></tr>\n",
              "\t<tr><th scope=row>46</th><td>Rogers, Mr. William John                      </td><td>male  </td></tr>\n",
              "\t<tr><th scope=row>47</th><td>Lennon, Mr. Denis                             </td><td>male  </td></tr>\n",
              "\t<tr><th scope=row>48</th><td>O'Driscoll, Miss. Bridget                     </td><td>female</td></tr>\n",
              "\t<tr><th scope=row>49</th><td>Samaan, Mr. Youssef                           </td><td>male  </td></tr>\n",
              "\t<tr><th scope=row>56</th><td>Woolner, Mr. Hugh                             </td><td>male  </td></tr>\n",
              "\t<tr><th scope=row>65</th><td>Stewart, Mr. Albert A                         </td><td>male  </td></tr>\n",
              "\t<tr><th scope=row>66</th><td>Moubarek, Master. Gerios                      </td><td>male  </td></tr>\n",
              "\t<tr><th scope=row>77</th><td>Staneff, Mr. Ivan                             </td><td>male  </td></tr>\n",
              "\t<tr><th scope=row>78</th><td>Moutal, Mr. Rahamin Haim                      </td><td>male  </td></tr>\n",
              "\t<tr><th scope=row>83</th><td>McDermott, Miss. Brigdet Delia                </td><td>female</td></tr>\n",
              "\t<tr><th scope=row>88</th><td>Slocovski, Mr. Selman Francis                 </td><td>male  </td></tr>\n",
              "\t<tr><th scope=row>96</th><td>Shorney, Mr. Charles Joseph                   </td><td>male  </td></tr>\n",
              "\t<tr><th scope=row>102</th><td>Petroff, Mr. Pastcho (\"Pentcho\")              </td><td>male  </td></tr>\n",
              "\t<tr><th scope=row>108</th><td>Moss, Mr. Albert Johan                        </td><td>male  </td></tr>\n",
              "\t<tr><th scope=row>110</th><td>Moran, Miss. Bertha                           </td><td>female</td></tr>\n",
              "\t<tr><th scope=row>122</th><td>Moore, Mr. Leonard Charles                    </td><td>male  </td></tr>\n",
              "\t<tr><th scope=row>127</th><td>McMahon, Mr. Martin                           </td><td>male  </td></tr>\n",
              "\t<tr><th scope=row>129</th><td>Peter, Miss. Anna                             </td><td>female</td></tr>\n",
              "\t<tr><th scope=row>141</th><td>Boulos, Mrs. Joseph (Sultana)                 </td><td>female</td></tr>\n",
              "\t<tr><th scope=row>155</th><td>Olsen, Mr. Ole Martin                         </td><td>male  </td></tr>\n",
              "\t<tr><th scope=row>⋮</th><td>⋮</td><td>⋮</td></tr>\n",
              "\t<tr><th scope=row>719</th><td>McEvoy, Mr. Michael                         </td><td>male  </td></tr>\n",
              "\t<tr><th scope=row>728</th><td>Mannion, Miss. Margareth                    </td><td>female</td></tr>\n",
              "\t<tr><th scope=row>733</th><td>Knight, Mr. Robert J                        </td><td>male  </td></tr>\n",
              "\t<tr><th scope=row>739</th><td>Ivanoff, Mr. Kanio                          </td><td>male  </td></tr>\n",
              "\t<tr><th scope=row>740</th><td>Nankoff, Mr. Minko                          </td><td>male  </td></tr>\n",
              "\t<tr><th scope=row>741</th><td>Hawksford, Mr. Walter James                 </td><td>male  </td></tr>\n",
              "\t<tr><th scope=row>761</th><td>Garfirth, Mr. John                          </td><td>male  </td></tr>\n",
              "\t<tr><th scope=row>767</th><td>Brewe, Dr. Arthur Jackson                   </td><td>male  </td></tr>\n",
              "\t<tr><th scope=row>769</th><td>Moran, Mr. Daniel J                         </td><td>male  </td></tr>\n",
              "\t<tr><th scope=row>774</th><td>Elias, Mr. Dibo                             </td><td>male  </td></tr>\n",
              "\t<tr><th scope=row>777</th><td>Tobin, Mr. Roger                            </td><td>male  </td></tr>\n",
              "\t<tr><th scope=row>779</th><td>Kilgannon, Mr. Thomas J                     </td><td>male  </td></tr>\n",
              "\t<tr><th scope=row>784</th><td>Johnston, Mr. Andrew G                      </td><td>male  </td></tr>\n",
              "\t<tr><th scope=row>791</th><td>Keane, Mr. Andrew \"Andy\"                    </td><td>male  </td></tr>\n",
              "\t<tr><th scope=row>793</th><td>Sage, Miss. Stella Anna                     </td><td>female</td></tr>\n",
              "\t<tr><th scope=row>794</th><td>Hoyt, Mr. William Fisher                    </td><td>male  </td></tr>\n",
              "\t<tr><th scope=row>816</th><td>Fry, Mr. Richard                            </td><td>male  </td></tr>\n",
              "\t<tr><th scope=row>826</th><td>Flynn, Mr. John                             </td><td>male  </td></tr>\n",
              "\t<tr><th scope=row>827</th><td>Lam, Mr. Len                                </td><td>male  </td></tr>\n",
              "\t<tr><th scope=row>829</th><td>McCormack, Mr. Thomas Joseph                </td><td>male  </td></tr>\n",
              "\t<tr><th scope=row>833</th><td>Saad, Mr. Amin                              </td><td>male  </td></tr>\n",
              "\t<tr><th scope=row>838</th><td>Sirota, Mr. Maurice                         </td><td>male  </td></tr>\n",
              "\t<tr><th scope=row>840</th><td>Marechal, Mr. Pierre                        </td><td>male  </td></tr>\n",
              "\t<tr><th scope=row>847</th><td>Sage, Mr. Douglas Bullen                    </td><td>male  </td></tr>\n",
              "\t<tr><th scope=row>850</th><td>Goldenberg, Mrs. Samuel L (Edwiga Grabowska)</td><td>female</td></tr>\n",
              "\t<tr><th scope=row>860</th><td>Razi, Mr. Raihed                            </td><td>male  </td></tr>\n",
              "\t<tr><th scope=row>864</th><td>Sage, Miss. Dorothy Edith \"Dolly\"           </td><td>female</td></tr>\n",
              "\t<tr><th scope=row>869</th><td>van Melkebeke, Mr. Philemon                 </td><td>male  </td></tr>\n",
              "\t<tr><th scope=row>879</th><td>Laleff, Mr. Kristo                          </td><td>male  </td></tr>\n",
              "\t<tr><th scope=row>889</th><td>Johnston, Miss. Catherine Helen \"Carrie\"    </td><td>female</td></tr>\n",
              "</tbody>\n",
              "</table>\n"
            ]
          },
          "metadata": {
            "tags": []
          }
        }
      ]
    },
    {
      "cell_type": "code",
      "metadata": {
        "colab": {
          "base_uri": "https://localhost:8080/",
          "height": 50
        },
        "id": "9VRcmnY4ktNH",
        "outputId": "32937b3a-2d99-4468-e4de-7a2efc90cfa7"
      },
      "source": [
        "#removing rows with missing values\r\n",
        "df_titanic_omit <- df_titanic %>%\r\n",
        "                    na.omit()\r\n",
        "dim(df_titanic)\r\n",
        "dim(df_titanic_omit)"
      ],
      "execution_count": null,
      "outputs": [
        {
          "output_type": "display_data",
          "data": {
            "text/plain": [
              "[1] 891  12"
            ],
            "text/latex": "\\begin{enumerate*}\n\\item 891\n\\item 12\n\\end{enumerate*}\n",
            "text/markdown": "1. 891\n2. 12\n\n\n",
            "text/html": [
              "<style>\n",
              ".list-inline {list-style: none; margin:0; padding: 0}\n",
              ".list-inline>li {display: inline-block}\n",
              ".list-inline>li:not(:last-child)::after {content: \"\\00b7\"; padding: 0 .5ex}\n",
              "</style>\n",
              "<ol class=list-inline><li>891</li><li>12</li></ol>\n"
            ]
          },
          "metadata": {
            "tags": []
          }
        },
        {
          "output_type": "display_data",
          "data": {
            "text/plain": [
              "[1] 714  12"
            ],
            "text/latex": "\\begin{enumerate*}\n\\item 714\n\\item 12\n\\end{enumerate*}\n",
            "text/markdown": "1. 714\n2. 12\n\n\n",
            "text/html": [
              "<style>\n",
              ".list-inline {list-style: none; margin:0; padding: 0}\n",
              ".list-inline>li {display: inline-block}\n",
              ".list-inline>li:not(:last-child)::after {content: \"\\00b7\"; padding: 0 .5ex}\n",
              "</style>\n",
              "<ol class=list-inline><li>714</li><li>12</li></ol>\n"
            ]
          },
          "metadata": {
            "tags": []
          }
        }
      ]
    },
    {
      "cell_type": "code",
      "metadata": {
        "id": "DRtzGQOjktQM"
      },
      "source": [
        "#Replace NA with Average of Passanger Age\r\n",
        "df_titanic$Age[which(is.na(df_titanic$Age))] <- mean(df_titanic$Age, na.rm = TRUE)"
      ],
      "execution_count": null,
      "outputs": []
    },
    {
      "cell_type": "code",
      "metadata": {
        "colab": {
          "base_uri": "https://localhost:8080/"
        },
        "id": "8XY3-vXCktTF",
        "outputId": "395f46ce-35b5-4632-9313-9b5a8964239e"
      },
      "source": [
        "#check where is missing value\r\n",
        "print(df_titanic[is.na(df_titanic$Age)])"
      ],
      "execution_count": null,
      "outputs": [
        {
          "output_type": "stream",
          "text": [
            "data frame with 0 columns and 891 rows\n"
          ],
          "name": "stdout"
        }
      ]
    },
    {
      "cell_type": "markdown",
      "metadata": {
        "id": "YZzIrvZcFIqf"
      },
      "source": [
        "# 6. Merging Datasets"
      ]
    },
    {
      "cell_type": "code",
      "metadata": {
        "id": "6lbJB1cEmFND"
      },
      "source": [
        "## import expop.txt\r\n",
        "library(RCurl)\r\n",
        "x <- getURL(\"https://raw.githubusercontent.com/datasets/population/master/data/population.csv\")\r\n",
        "y <- read.csv(text = x)"
      ],
      "execution_count": null,
      "outputs": []
    },
    {
      "cell_type": "code",
      "metadata": {
        "colab": {
          "base_uri": "https://localhost:8080/",
          "height": 176
        },
        "id": "uRucsCwZFfXV",
        "outputId": "e9f0ec21-9b85-4f97-9517-8977e0ddff2a"
      },
      "source": [
        "exppop <- y\r\n",
        "head(exppop)"
      ],
      "execution_count": null,
      "outputs": [
        {
          "output_type": "display_data",
          "data": {
            "text/plain": [
              "  Country.Name Country.Code Year Value    \n",
              "1 Arab World   ARB          1960  92197753\n",
              "2 Arab World   ARB          1961  94724510\n",
              "3 Arab World   ARB          1962  97334442\n",
              "4 Arab World   ARB          1963 100034179\n",
              "5 Arab World   ARB          1964 102832760\n",
              "6 Arab World   ARB          1965 105736431"
            ],
            "text/latex": "A data.frame: 6 × 4\n\\begin{tabular}{r|llll}\n  & Country.Name & Country.Code & Year & Value\\\\\n  & <chr> & <chr> & <int> & <dbl>\\\\\n\\hline\n\t1 & Arab World & ARB & 1960 &  92197753\\\\\n\t2 & Arab World & ARB & 1961 &  94724510\\\\\n\t3 & Arab World & ARB & 1962 &  97334442\\\\\n\t4 & Arab World & ARB & 1963 & 100034179\\\\\n\t5 & Arab World & ARB & 1964 & 102832760\\\\\n\t6 & Arab World & ARB & 1965 & 105736431\\\\\n\\end{tabular}\n",
            "text/markdown": "\nA data.frame: 6 × 4\n\n| <!--/--> | Country.Name &lt;chr&gt; | Country.Code &lt;chr&gt; | Year &lt;int&gt; | Value &lt;dbl&gt; |\n|---|---|---|---|---|\n| 1 | Arab World | ARB | 1960 |  92197753 |\n| 2 | Arab World | ARB | 1961 |  94724510 |\n| 3 | Arab World | ARB | 1962 |  97334442 |\n| 4 | Arab World | ARB | 1963 | 100034179 |\n| 5 | Arab World | ARB | 1964 | 102832760 |\n| 6 | Arab World | ARB | 1965 | 105736431 |\n\n",
            "text/html": [
              "<table>\n",
              "<caption>A data.frame: 6 × 4</caption>\n",
              "<thead>\n",
              "\t<tr><th></th><th scope=col>Country.Name</th><th scope=col>Country.Code</th><th scope=col>Year</th><th scope=col>Value</th></tr>\n",
              "\t<tr><th></th><th scope=col>&lt;chr&gt;</th><th scope=col>&lt;chr&gt;</th><th scope=col>&lt;int&gt;</th><th scope=col>&lt;dbl&gt;</th></tr>\n",
              "</thead>\n",
              "<tbody>\n",
              "\t<tr><th scope=row>1</th><td>Arab World</td><td>ARB</td><td>1960</td><td> 92197753</td></tr>\n",
              "\t<tr><th scope=row>2</th><td>Arab World</td><td>ARB</td><td>1961</td><td> 94724510</td></tr>\n",
              "\t<tr><th scope=row>3</th><td>Arab World</td><td>ARB</td><td>1962</td><td> 97334442</td></tr>\n",
              "\t<tr><th scope=row>4</th><td>Arab World</td><td>ARB</td><td>1963</td><td>100034179</td></tr>\n",
              "\t<tr><th scope=row>5</th><td>Arab World</td><td>ARB</td><td>1964</td><td>102832760</td></tr>\n",
              "\t<tr><th scope=row>6</th><td>Arab World</td><td>ARB</td><td>1965</td><td>105736431</td></tr>\n",
              "</tbody>\n",
              "</table>\n"
            ]
          },
          "metadata": {
            "tags": []
          }
        }
      ]
    },
    {
      "cell_type": "code",
      "metadata": {
        "colab": {
          "base_uri": "https://localhost:8080/",
          "height": 176
        },
        "id": "yNePvaV7lNPl",
        "outputId": "fe6fac73-9569-4dc2-b8a2-8757ad65c247"
      },
      "source": [
        "#encode CountryCode into number\r\n",
        "encode_ordinal <- function(x, order = unique(x)) {\r\n",
        "  x <- as.numeric(factor(x, levels = order, exclude = NULL))\r\n",
        "  x\r\n",
        "}\r\n",
        "\r\n",
        "exppop[[\"Country.Encoded\"]] <- encode_ordinal(exppop[[\"Country.Code\"]])\r\n",
        "tail(exppop)"
      ],
      "execution_count": null,
      "outputs": [
        {
          "output_type": "display_data",
          "data": {
            "text/plain": [
              "      Country.Name Country.Code Year Value    Country.Encoded\n",
              "15404 Zimbabwe     ZWE          2013 13350356 263            \n",
              "15405 Zimbabwe     ZWE          2014 13586681 263            \n",
              "15406 Zimbabwe     ZWE          2015 13814629 263            \n",
              "15407 Zimbabwe     ZWE          2016 14030390 263            \n",
              "15408 Zimbabwe     ZWE          2017 14236745 263            \n",
              "15409 Zimbabwe     ZWE          2018 14439018 263            "
            ],
            "text/latex": "A data.frame: 6 × 5\n\\begin{tabular}{r|lllll}\n  & Country.Name & Country.Code & Year & Value & Country.Encoded\\\\\n  & <chr> & <chr> & <int> & <dbl> & <dbl>\\\\\n\\hline\n\t15404 & Zimbabwe & ZWE & 2013 & 13350356 & 263\\\\\n\t15405 & Zimbabwe & ZWE & 2014 & 13586681 & 263\\\\\n\t15406 & Zimbabwe & ZWE & 2015 & 13814629 & 263\\\\\n\t15407 & Zimbabwe & ZWE & 2016 & 14030390 & 263\\\\\n\t15408 & Zimbabwe & ZWE & 2017 & 14236745 & 263\\\\\n\t15409 & Zimbabwe & ZWE & 2018 & 14439018 & 263\\\\\n\\end{tabular}\n",
            "text/markdown": "\nA data.frame: 6 × 5\n\n| <!--/--> | Country.Name &lt;chr&gt; | Country.Code &lt;chr&gt; | Year &lt;int&gt; | Value &lt;dbl&gt; | Country.Encoded &lt;dbl&gt; |\n|---|---|---|---|---|---|\n| 15404 | Zimbabwe | ZWE | 2013 | 13350356 | 263 |\n| 15405 | Zimbabwe | ZWE | 2014 | 13586681 | 263 |\n| 15406 | Zimbabwe | ZWE | 2015 | 13814629 | 263 |\n| 15407 | Zimbabwe | ZWE | 2016 | 14030390 | 263 |\n| 15408 | Zimbabwe | ZWE | 2017 | 14236745 | 263 |\n| 15409 | Zimbabwe | ZWE | 2018 | 14439018 | 263 |\n\n",
            "text/html": [
              "<table>\n",
              "<caption>A data.frame: 6 × 5</caption>\n",
              "<thead>\n",
              "\t<tr><th></th><th scope=col>Country.Name</th><th scope=col>Country.Code</th><th scope=col>Year</th><th scope=col>Value</th><th scope=col>Country.Encoded</th></tr>\n",
              "\t<tr><th></th><th scope=col>&lt;chr&gt;</th><th scope=col>&lt;chr&gt;</th><th scope=col>&lt;int&gt;</th><th scope=col>&lt;dbl&gt;</th><th scope=col>&lt;dbl&gt;</th></tr>\n",
              "</thead>\n",
              "<tbody>\n",
              "\t<tr><th scope=row>15404</th><td>Zimbabwe</td><td>ZWE</td><td>2013</td><td>13350356</td><td>263</td></tr>\n",
              "\t<tr><th scope=row>15405</th><td>Zimbabwe</td><td>ZWE</td><td>2014</td><td>13586681</td><td>263</td></tr>\n",
              "\t<tr><th scope=row>15406</th><td>Zimbabwe</td><td>ZWE</td><td>2015</td><td>13814629</td><td>263</td></tr>\n",
              "\t<tr><th scope=row>15407</th><td>Zimbabwe</td><td>ZWE</td><td>2016</td><td>14030390</td><td>263</td></tr>\n",
              "\t<tr><th scope=row>15408</th><td>Zimbabwe</td><td>ZWE</td><td>2017</td><td>14236745</td><td>263</td></tr>\n",
              "\t<tr><th scope=row>15409</th><td>Zimbabwe</td><td>ZWE</td><td>2018</td><td>14439018</td><td>263</td></tr>\n",
              "</tbody>\n",
              "</table>\n"
            ]
          },
          "metadata": {
            "tags": []
          }
        }
      ]
    },
    {
      "cell_type": "code",
      "metadata": {
        "colab": {
          "base_uri": "https://localhost:8080/",
          "height": 33
        },
        "id": "mGvEFe7dFfaU",
        "outputId": "4f2e8fa1-2a8c-4715-ef55-e1340e0339ad"
      },
      "source": [
        "## check varnames\r\n",
        "names(exppop)"
      ],
      "execution_count": null,
      "outputs": [
        {
          "output_type": "display_data",
          "data": {
            "text/plain": [
              "[1] \"Country.Name\"    \"Country.Code\"    \"Year\"            \"Value\"          \n",
              "[5] \"Country.Encoded\""
            ],
            "text/latex": "\\begin{enumerate*}\n\\item 'Country.Name'\n\\item 'Country.Code'\n\\item 'Year'\n\\item 'Value'\n\\item 'Country.Encoded'\n\\end{enumerate*}\n",
            "text/markdown": "1. 'Country.Name'\n2. 'Country.Code'\n3. 'Year'\n4. 'Value'\n5. 'Country.Encoded'\n\n\n",
            "text/html": [
              "<style>\n",
              ".list-inline {list-style: none; margin:0; padding: 0}\n",
              ".list-inline>li {display: inline-block}\n",
              ".list-inline>li:not(:last-child)::after {content: \"\\00b7\"; padding: 0 .5ex}\n",
              "</style>\n",
              "<ol class=list-inline><li>'Country.Name'</li><li>'Country.Code'</li><li>'Year'</li><li>'Value'</li><li>'Country.Encoded'</li></ol>\n"
            ]
          },
          "metadata": {
            "tags": []
          }
        }
      ]
    },
    {
      "cell_type": "code",
      "metadata": {
        "colab": {
          "base_uri": "https://localhost:8080/",
          "height": 176
        },
        "id": "lXkuOPnsFfdo",
        "outputId": "420d21f7-52bb-4efd-ef42-c80e0dcbf834"
      },
      "source": [
        "## create similar unique identifier\r\n",
        "exppop$idyear <- exppop$Country.Encoded * 10000 + exppop$Year\r\n",
        "head(exppop)"
      ],
      "execution_count": null,
      "outputs": [
        {
          "output_type": "display_data",
          "data": {
            "text/plain": [
              "  Country.Name Country.Code Year Value     Country.Encoded idyear\n",
              "1 Arab World   ARB          1960  92197753 1               11960 \n",
              "2 Arab World   ARB          1961  94724510 1               11961 \n",
              "3 Arab World   ARB          1962  97334442 1               11962 \n",
              "4 Arab World   ARB          1963 100034179 1               11963 \n",
              "5 Arab World   ARB          1964 102832760 1               11964 \n",
              "6 Arab World   ARB          1965 105736431 1               11965 "
            ],
            "text/latex": "A data.frame: 6 × 6\n\\begin{tabular}{r|llllll}\n  & Country.Name & Country.Code & Year & Value & Country.Encoded & idyear\\\\\n  & <chr> & <chr> & <int> & <dbl> & <dbl> & <dbl>\\\\\n\\hline\n\t1 & Arab World & ARB & 1960 &  92197753 & 1 & 11960\\\\\n\t2 & Arab World & ARB & 1961 &  94724510 & 1 & 11961\\\\\n\t3 & Arab World & ARB & 1962 &  97334442 & 1 & 11962\\\\\n\t4 & Arab World & ARB & 1963 & 100034179 & 1 & 11963\\\\\n\t5 & Arab World & ARB & 1964 & 102832760 & 1 & 11964\\\\\n\t6 & Arab World & ARB & 1965 & 105736431 & 1 & 11965\\\\\n\\end{tabular}\n",
            "text/markdown": "\nA data.frame: 6 × 6\n\n| <!--/--> | Country.Name &lt;chr&gt; | Country.Code &lt;chr&gt; | Year &lt;int&gt; | Value &lt;dbl&gt; | Country.Encoded &lt;dbl&gt; | idyear &lt;dbl&gt; |\n|---|---|---|---|---|---|---|\n| 1 | Arab World | ARB | 1960 |  92197753 | 1 | 11960 |\n| 2 | Arab World | ARB | 1961 |  94724510 | 1 | 11961 |\n| 3 | Arab World | ARB | 1962 |  97334442 | 1 | 11962 |\n| 4 | Arab World | ARB | 1963 | 100034179 | 1 | 11963 |\n| 5 | Arab World | ARB | 1964 | 102832760 | 1 | 11964 |\n| 6 | Arab World | ARB | 1965 | 105736431 | 1 | 11965 |\n\n",
            "text/html": [
              "<table>\n",
              "<caption>A data.frame: 6 × 6</caption>\n",
              "<thead>\n",
              "\t<tr><th></th><th scope=col>Country.Name</th><th scope=col>Country.Code</th><th scope=col>Year</th><th scope=col>Value</th><th scope=col>Country.Encoded</th><th scope=col>idyear</th></tr>\n",
              "\t<tr><th></th><th scope=col>&lt;chr&gt;</th><th scope=col>&lt;chr&gt;</th><th scope=col>&lt;int&gt;</th><th scope=col>&lt;dbl&gt;</th><th scope=col>&lt;dbl&gt;</th><th scope=col>&lt;dbl&gt;</th></tr>\n",
              "</thead>\n",
              "<tbody>\n",
              "\t<tr><th scope=row>1</th><td>Arab World</td><td>ARB</td><td>1960</td><td> 92197753</td><td>1</td><td>11960</td></tr>\n",
              "\t<tr><th scope=row>2</th><td>Arab World</td><td>ARB</td><td>1961</td><td> 94724510</td><td>1</td><td>11961</td></tr>\n",
              "\t<tr><th scope=row>3</th><td>Arab World</td><td>ARB</td><td>1962</td><td> 97334442</td><td>1</td><td>11962</td></tr>\n",
              "\t<tr><th scope=row>4</th><td>Arab World</td><td>ARB</td><td>1963</td><td>100034179</td><td>1</td><td>11963</td></tr>\n",
              "\t<tr><th scope=row>5</th><td>Arab World</td><td>ARB</td><td>1964</td><td>102832760</td><td>1</td><td>11964</td></tr>\n",
              "\t<tr><th scope=row>6</th><td>Arab World</td><td>ARB</td><td>1965</td><td>105736431</td><td>1</td><td>11965</td></tr>\n",
              "</tbody>\n",
              "</table>\n"
            ]
          },
          "metadata": {
            "tags": []
          }
        }
      ]
    },
    {
      "cell_type": "code",
      "metadata": {
        "colab": {
          "base_uri": "https://localhost:8080/",
          "height": 50
        },
        "id": "QzBxCrUiJKwL",
        "outputId": "504a7eba-04d6-426f-bcd1-20aa13ebe13f"
      },
      "source": [
        "## check duplicates idyear\r\n",
        "length(exppop$idyear)\r\n",
        "length(unique(exppop$idyear))"
      ],
      "execution_count": null,
      "outputs": [
        {
          "output_type": "display_data",
          "data": {
            "text/plain": [
              "[1] 15409"
            ],
            "text/latex": "15409",
            "text/markdown": "15409",
            "text/html": [
              "15409"
            ]
          },
          "metadata": {
            "tags": []
          }
        },
        {
          "output_type": "display_data",
          "data": {
            "text/plain": [
              "[1] 15409"
            ],
            "text/latex": "15409",
            "text/markdown": "15409",
            "text/html": [
              "15409"
            ]
          },
          "metadata": {
            "tags": []
          }
        }
      ]
    },
    {
      "cell_type": "code",
      "metadata": {
        "id": "0y0p92B-JKz2"
      },
      "source": [
        "##has similiar variabel with wardata ---> pop var must be changed inot pop_ex\r\n",
        "##gagal"
      ],
      "execution_count": null,
      "outputs": []
    }
  ]
}