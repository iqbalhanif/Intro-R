{
  "nbformat": 4,
  "nbformat_minor": 0,
  "metadata": {
    "colab": {
      "name": "Machine Learning in R.ipynb",
      "provenance": [],
      "collapsed_sections": [],
      "toc_visible": true,
      "authorship_tag": "ABX9TyPoN0e0+Vp/pKpMPPk7VBwK",
      "include_colab_link": true
    },
    "kernelspec": {
      "name": "python3",
      "display_name": "Python 3"
    }
  },
  "cells": [
    {
      "cell_type": "markdown",
      "metadata": {
        "id": "view-in-github",
        "colab_type": "text"
      },
      "source": [
        "<a href=\"https://colab.research.google.com/github/iqbalhanif/Intro-R/blob/main/Machine_Learning_in_R.ipynb\" target=\"_parent\"><img src=\"https://colab.research.google.com/assets/colab-badge.svg\" alt=\"Open In Colab\"/></a>"
      ]
    },
    {
      "cell_type": "code",
      "metadata": {
        "colab": {
          "base_uri": "https://localhost:8080/"
        },
        "id": "bhhq7pMgPiel",
        "outputId": "89e20c9d-737a-4f21-fbae-f14a7c8a7dd3"
      },
      "source": [
        "##mount google drive agar bisa connect\r\n",
        "from google.colab import drive\r\n",
        "drive.mount('/content/drive')"
      ],
      "execution_count": 26,
      "outputs": [
        {
          "output_type": "stream",
          "text": [
            "Drive already mounted at /content/drive; to attempt to forcibly remount, call drive.mount(\"/content/drive\", force_remount=True).\n"
          ],
          "name": "stdout"
        }
      ]
    },
    {
      "cell_type": "code",
      "metadata": {
        "colab": {
          "base_uri": "https://localhost:8080/"
        },
        "id": "ZHHO5jlwPt2A",
        "outputId": "81ae6c03-0274-43dd-bde6-b50d25e5773e"
      },
      "source": [
        "##cara agar bisa menggunakan R di colab\r\n",
        "%load_ext rpy2.ipython"
      ],
      "execution_count": 3,
      "outputs": [
        {
          "output_type": "stream",
          "text": [
            "The rpy2.ipython extension is already loaded. To reload it, use:\n",
            "  %reload_ext rpy2.ipython\n"
          ],
          "name": "stdout"
        }
      ]
    },
    {
      "cell_type": "code",
      "metadata": {
        "id": "YnvDNSonPwG2"
      },
      "source": [
        "##install & load package\r\n",
        "%%R\r\n",
        "install.packages('e1071')\r\n",
        "install.packages('caret')\r\n",
        "install.packages('ROCR')\r\n",
        "install.packages('magrittr')\r\n",
        "library('magrittr')\r\n",
        "library('ROCR')\r\n",
        "library('caret')\r\n",
        "library('e1071')"
      ],
      "execution_count": null,
      "outputs": []
    },
    {
      "cell_type": "markdown",
      "metadata": {
        "id": "bg5i23smcJkf"
      },
      "source": [
        "# 1. Data Load & Preparation"
      ]
    },
    {
      "cell_type": "code",
      "metadata": {
        "colab": {
          "base_uri": "https://localhost:8080/"
        },
        "id": "E0xclv7GPwKL",
        "outputId": "e615163f-ee29-46cd-c1cf-a55092c791a2"
      },
      "source": [
        "## load data\r\n",
        "%%R\r\n",
        "df = read.csv(\"/content/drive/MyDrive/Spatial Machine Learning R/Train_M12_Cap_sample.csv\")\r\n",
        "names(df)[names(df) == \"X\"] <- \"id\"\r\n",
        "head(df)"
      ],
      "execution_count": 43,
      "outputs": [
        {
          "output_type": "stream",
          "text": [
            "       id  INT_PAY_M1 INT_REV_INT_MAX6 INT_PAY_DECR INT_DWNL_DECR ALL_MTTR_M2\n",
            "1 1208886  0.50848288        1.0929953   1.06816300     0.4727832 -0.24809795\n",
            "2  723308  0.52003615        0.1382875   0.01694198    -0.6271871  0.01355142\n",
            "3 1662756  0.06710127       -0.4113927   0.01694198     0.4727832 -0.24809795\n",
            "4 1342562  0.96333515        0.1382875   0.01694198     0.4727832 -0.24809795\n",
            "5 1199474  2.24522119        0.5722456  -2.08550006     0.4727832 -0.24809795\n",
            "6  628824 -0.54233777       -0.4229649   1.06816300    -0.6271871 -0.24809795\n",
            "  INT_MTTR_M6 ALL_MTTR_DECR ALL_TRB_M6         LOS   DIVRE_ID Y_CHURN\n",
            "1  -0.1776396      1.128172 -0.3242635 -0.04217193  1.2783019       0\n",
            "2  -0.1776396      1.128172 -0.3242635 -0.23772230 -0.2879083       0\n",
            "3  -0.1776396      1.128172 -0.3242635 -0.46586440  1.2783019       0\n",
            "4  -0.1776396     -0.921616 -0.3242635 -0.72659823 -1.3320484       0\n",
            "5  -0.1776396      1.128172 -0.3242635 -0.85696514 -0.8099783       0\n",
            "6  -0.1776396     -0.921616 -0.3242635  1.45704759  0.2341618       0\n"
          ],
          "name": "stdout"
        }
      ]
    },
    {
      "cell_type": "code",
      "metadata": {
        "colab": {
          "base_uri": "https://localhost:8080/"
        },
        "id": "lFt6RAeaZzpJ",
        "outputId": "61ba2bf4-af48-450b-ea9c-ea865f2d31b7"
      },
      "source": [
        "## Train-tes split dengan proporsi 70%-30%\r\n",
        "%%R\r\n",
        "N_FILES=dim(df)[1]\r\n",
        "SPLT=0.7 #70% train\r\n",
        "b = floor(SPLT*N_FILES)\r\n",
        "train = df[1:b,]\r\n",
        "test = df[(b+1):N_FILES,]\r\n",
        "cat(\"train = \", dim(train), \"\\n\")\r\n",
        "cat(\"test = \", dim(test), \"\\n\")"
      ],
      "execution_count": 52,
      "outputs": [
        {
          "output_type": "stream",
          "text": [
            "train =  7000 12 \n",
            "test =  3000 12 \n"
          ],
          "name": "stdout"
        }
      ]
    },
    {
      "cell_type": "markdown",
      "metadata": {
        "id": "fXaezX8BfoGs"
      },
      "source": [
        "# 2. Modeling & Evaluate"
      ]
    },
    {
      "cell_type": "code",
      "metadata": {
        "colab": {
          "base_uri": "https://localhost:8080/"
        },
        "id": "-oCOQ9gVPwMR",
        "outputId": "33b485f8-3698-42fd-e7a2-c2035e6d8bdc"
      },
      "source": [
        "## modeling with train data\r\n",
        "%%R\r\n",
        "logistic <- glm(Y_CHURN~. - id, data=train, family=\"binomial\")\r\n",
        "summary(logistic)"
      ],
      "execution_count": 53,
      "outputs": [
        {
          "output_type": "stream",
          "text": [
            "\n",
            "Call:\n",
            "glm(formula = Y_CHURN ~ . - id, family = \"binomial\", data = train)\n",
            "\n",
            "Deviance Residuals: \n",
            "    Min       1Q   Median       3Q      Max  \n",
            "-1.0104  -0.3690  -0.3117  -0.2475   3.3165  \n",
            "\n",
            "Coefficients:\n",
            "                 Estimate Std. Error z value Pr(>|z|)    \n",
            "(Intercept)      -3.00611    0.06042 -49.756  < 2e-16 ***\n",
            "INT_PAY_M1       -0.61753    0.06721  -9.189  < 2e-16 ***\n",
            "INT_REV_INT_MAX6  0.21727    0.06000   3.621 0.000294 ***\n",
            "INT_PAY_DECR      0.03060    0.05063   0.604 0.545584    \n",
            "INT_DWNL_DECR     0.18031    0.05291   3.408 0.000655 ***\n",
            "ALL_MTTR_M2       0.05736    0.04886   1.174 0.240414    \n",
            "INT_MTTR_M6       0.00998    0.05933   0.168 0.866404    \n",
            "ALL_MTTR_DECR    -0.07502    0.06059  -1.238 0.215628    \n",
            "ALL_TRB_M6        0.08204    0.06572   1.248 0.211931    \n",
            "LOS              -0.30390    0.06151  -4.941 7.78e-07 ***\n",
            "DIVRE_ID         -0.09424    0.05633  -1.673 0.094313 .  \n",
            "---\n",
            "Signif. codes:  0 ‘***’ 0.001 ‘**’ 0.01 ‘*’ 0.05 ‘.’ 0.1 ‘ ’ 1\n",
            "\n",
            "(Dispersion parameter for binomial family taken to be 1)\n",
            "\n",
            "    Null deviance: 3010.1  on 6999  degrees of freedom\n",
            "Residual deviance: 2877.8  on 6989  degrees of freedom\n",
            "AIC: 2899.8\n",
            "\n",
            "Number of Fisher Scoring iterations: 6\n",
            "\n"
          ],
          "name": "stdout"
        }
      ]
    },
    {
      "cell_type": "code",
      "metadata": {
        "id": "UHKmTZ7aPwOO",
        "colab": {
          "base_uri": "https://localhost:8080/"
        },
        "outputId": "ac9d21e3-39cd-41b4-82d5-060b2a3314da"
      },
      "source": [
        "## evaluate with test data\r\n",
        "%%R\r\n",
        "predicted <- ifelse(predict(logistic,type=c(\"response\"),test)>0.5, 1, 0)\r\n",
        "actual <- as.factor(test$Y_CHURN)\r\n",
        "conf_matrix <- confusionMatrix(as.factor(predicted), actual)\r\n",
        "conf_matrix"
      ],
      "execution_count": 54,
      "outputs": [
        {
          "output_type": "stream",
          "text": [
            "Confusion Matrix and Statistics\n",
            "\n",
            "          Reference\n",
            "Prediction    0    1\n",
            "         0 2847  153\n",
            "         1    0    0\n",
            "                                          \n",
            "               Accuracy : 0.949           \n",
            "                 95% CI : (0.9405, 0.9566)\n",
            "    No Information Rate : 0.949           \n",
            "    P-Value [Acc > NIR] : 0.5215          \n",
            "                                          \n",
            "                  Kappa : 0               \n",
            "                                          \n",
            " Mcnemar's Test P-Value : <2e-16          \n",
            "                                          \n",
            "            Sensitivity : 1.000           \n",
            "            Specificity : 0.000           \n",
            "         Pos Pred Value : 0.949           \n",
            "         Neg Pred Value :   NaN           \n",
            "             Prevalence : 0.949           \n",
            "         Detection Rate : 0.949           \n",
            "   Detection Prevalence : 1.000           \n",
            "      Balanced Accuracy : 0.500           \n",
            "                                          \n",
            "       'Positive' Class : 0               \n",
            "                                          \n"
          ],
          "name": "stdout"
        }
      ]
    },
    {
      "cell_type": "code",
      "metadata": {
        "id": "GW3vBybvPwQQ",
        "colab": {
          "base_uri": "https://localhost:8080/",
          "height": 565
        },
        "outputId": "b0191189-e916-4724-a68d-aa8a2bf5a69c"
      },
      "source": [
        "## AUC and ROC plot\r\n",
        "%%R\r\n",
        "plogistic <- predict(logistic,type=c(\"response\"),test)\r\n",
        "pred <- prediction(plogistic, test$Y_CHURN)\r\n",
        "\r\n",
        "auc <- performance(pred, measure = \"auc\")\r\n",
        "print(\"AUC\")\r\n",
        "print(auc@\"y.values\")\r\n",
        "\r\n",
        "perf <- performance(pred, \"tpr\",\"fpr\")\r\n",
        "plot(perf, col = \"green\", lwd = 1.5)\r\n",
        "abline(a=0, b= 1)"
      ],
      "execution_count": 67,
      "outputs": [
        {
          "output_type": "stream",
          "text": [
            "[1] \"AUC\"\n",
            "[[1]]\n",
            "[1] 0.6279664\n",
            "\n"
          ],
          "name": "stdout"
        },
        {
          "output_type": "display_data",
          "data": {
            "image/png": "[encoded data removed]"
          },
          "metadata": {
            "tags": []
          }
        }
      ]
    },
    {
      "cell_type": "code",
      "metadata": {
        "colab": {
          "base_uri": "https://localhost:8080/",
          "height": 497
        },
        "id": "OknvhVhItGyo",
        "outputId": "48378c98-004b-45e2-8d47-d7577737b152"
      },
      "source": [
        "## plot lift chart\r\n",
        "%%R\r\n",
        "plot(performance(pred, measure=\"lift\", x.measure=\"rpp\"), colorize=TRUE)"
      ],
      "execution_count": 68,
      "outputs": [
        {
          "output_type": "display_data",
          "data": {
            "image/png": "[encoded data removed]"
          },
          "metadata": {
            "tags": []
          }
        }
      ]
    },
    {
      "cell_type": "markdown",
      "metadata": {
        "id": "NuNSdLLxfXHn"
      },
      "source": [
        "# 3. Finding The Best Cut Off/Threshold"
      ]
    },
    {
      "cell_type": "code",
      "metadata": {
        "colab": {
          "base_uri": "https://localhost:8080/",
          "height": 1000
        },
        "id": "-5EZbifmtYkH",
        "outputId": "3ba6cf07-3f3a-4e0a-9fb6-c76b1f0cd670"
      },
      "source": [
        "## Finding best cut off / threshold through graph\r\n",
        "%%R\r\n",
        "acc.perf <- performance(pred, \"acc\")\r\n",
        "sens.perf <- performance(pred, \"sens\")\r\n",
        "spec.perf <- performance(pred, \"spec\")\r\n",
        "plot(acc.perf)\r\n",
        "plot(sens.perf)\r\n",
        "plot(spec.perf)\r\n",
        "ind = which.max( slot(acc.perf, \"y.values\")[[1]])\r\n",
        "acc = slot(acc.perf, \"y.values\")[[1]][ind]\r\n",
        "cutoff = slot(acc.perf, \"x.values\")[[1]][ind]"
      ],
      "execution_count": 69,
      "outputs": [
        {
          "output_type": "display_data",
          "data": {
            "image/png": "[encoded data removed]"
          },
          "metadata": {
            "tags": []
          }
        },
        {
          "output_type": "display_data",
          "data": {
            "image/png": "[encoded data removed]"
          },
          "metadata": {
            "tags": []
          }
        },
        {
          "output_type": "display_data",
          "data": {
            "image/png": "[encoded data removed]"
          },
          "metadata": {
            "tags": []
          }
        }
      ]
    },
    {
      "cell_type": "code",
      "metadata": {
        "colab": {
          "base_uri": "https://localhost:8080/"
        },
        "id": "nUrR4NffYmJP",
        "outputId": "501aee59-d5f8-4d84-e178-af3947e3b978"
      },
      "source": [
        "## Finding best cut off / threshold through table\r\n",
        "%%R\r\n",
        "ndf <- data.frame()\r\n",
        "\r\n",
        "for(i in 1:100) {\r\n",
        "  threshold <- i/100\r\n",
        "  predicted <- ifelse(predict(logistic,type=c(\"response\"),df)>threshold, 1, 0)\r\n",
        "  actual <- as.factor(df$Y_CHURN)\r\n",
        "  conf_matrix <- confusionMatrix(as.factor(predicted), actual)\r\n",
        "#  print(conf_matrix$overall)\r\n",
        "  cdf <- cbind(threshold, t(conf_matrix$overall[\"Accuracy\"]),\r\n",
        "               t(conf_matrix$byClass[c(\"Sensitivity\", \"Specificity\")]),\r\n",
        "               conf_matrix$table[2,2], conf_matrix$table[1,1], \r\n",
        "               conf_matrix$table[2,1], conf_matrix$table[1,2]\r\n",
        "              )\r\n",
        "  ndf <- rbind(ndf, cdf)\r\n",
        "  \r\n",
        "}\r\n",
        "colnames(ndf) <- c(\"threshold\", \"accuracy\", \"sensitivity\", \"specificity\",\r\n",
        "                   \"tp\", \"tn\", \"fp\", \"fn\")\r\n",
        "ndf"
      ],
      "execution_count": 70,
      "outputs": [
        {
          "output_type": "stream",
          "text": [
            "    threshold accuracy sensitivity specificity  tp   tn   fp  fn\n",
            "1        0.01   0.0708  0.01797610 0.990791897 538  170 9287   5\n",
            "2        0.02   0.1306  0.08269007 0.965009208 524  782 8675  19\n",
            "3        0.03   0.2409  0.20312996 0.898710866 488 1921 7536  55\n",
            "4        0.04   0.3825  0.35941631 0.784530387 426 3399 6058 117\n",
            "5        0.05   0.5240  0.51686581 0.648250460 352 4888 4569 191\n",
            "6        0.06   0.6573  0.66596172 0.506445672 275 6298 3159 268\n",
            "7        0.07   0.7567  0.77646188 0.412523020 224 7343 2114 319\n",
            "8        0.08   0.8233  0.85069261 0.346224678 188 8045 1412 355\n",
            "9        0.09   0.8636  0.89626732 0.294659300 160 8476  981 383\n",
            "10       0.10   0.8909  0.92672095 0.267034991 145 8764  693 398\n",
            "11       0.11   0.9080  0.94596595 0.246777164 134 8946  511 409\n",
            "12       0.12   0.9181  0.95823200 0.219152855 119 9062  395 424\n",
            "13       0.13   0.9256  0.96806598 0.186003683 101 9155  302 442\n",
            "14       0.14   0.9320  0.97631384 0.160220994  87 9233  224 456\n",
            "15       0.15   0.9364  0.98191816 0.143646409  78 9286  171 465\n",
            "16       0.16   0.9406  0.98805118 0.114180479  62 9344  113 481\n",
            "17       0.17   0.9426  0.99175214 0.086556169  47 9379   78 496\n",
            "18       0.18   0.9434  0.99407846 0.060773481  33 9401   56 510\n",
            "19       0.19   0.9437  0.99534736 0.044198895  24 9413   44 519\n",
            "20       0.20   0.9445  0.99682775 0.033149171  18 9427   30 525\n",
            "21       0.21   0.9452  0.99788516 0.027624309  15 9437   20 528\n",
            "22       0.22   0.9452  0.99841387 0.018416206  10 9442   15 533\n",
            "23       0.23   0.9452  0.99862536 0.014732965   8 9444   13 535\n",
            "24       0.24   0.9452  0.99883684 0.011049724   6 9446   11 537\n",
            "25       0.25   0.9454  0.99925981 0.007366483   4 9450    7 539\n",
            "26       0.26   0.9455  0.99957703 0.003683241   2 9453    4 541\n",
            "27       0.27   0.9453  0.99957703 0.000000000   0 9453    4 543\n",
            "28       0.28   0.9454  0.99968277 0.000000000   0 9454    3 543\n",
            "29       0.29   0.9455  0.99978852 0.000000000   0 9455    2 543\n",
            "30       0.30   0.9456  0.99989426 0.000000000   0 9456    1 543\n",
            "31       0.31   0.9456  0.99989426 0.000000000   0 9456    1 543\n",
            "32       0.32   0.9456  0.99989426 0.000000000   0 9456    1 543\n",
            "33       0.33   0.9456  0.99989426 0.000000000   0 9456    1 543\n",
            "34       0.34   0.9456  0.99989426 0.000000000   0 9456    1 543\n",
            "35       0.35   0.9456  0.99989426 0.000000000   0 9456    1 543\n",
            "36       0.36   0.9456  0.99989426 0.000000000   0 9456    1 543\n",
            "37       0.37   0.9456  0.99989426 0.000000000   0 9456    1 543\n",
            "38       0.38   0.9456  0.99989426 0.000000000   0 9456    1 543\n",
            "39       0.39   0.9456  0.99989426 0.000000000   0 9456    1 543\n",
            "40       0.40   0.9457  1.00000000 0.000000000   0 9457    0 543\n",
            "41       0.41   0.9457  1.00000000 0.000000000   0 9457    0 543\n",
            "42       0.42   0.9457  1.00000000 0.000000000   0 9457    0 543\n",
            "43       0.43   0.9457  1.00000000 0.000000000   0 9457    0 543\n",
            "44       0.44   0.9457  1.00000000 0.000000000   0 9457    0 543\n",
            "45       0.45   0.9457  1.00000000 0.000000000   0 9457    0 543\n",
            "46       0.46   0.9457  1.00000000 0.000000000   0 9457    0 543\n",
            "47       0.47   0.9457  1.00000000 0.000000000   0 9457    0 543\n",
            "48       0.48   0.9457  1.00000000 0.000000000   0 9457    0 543\n",
            "49       0.49   0.9457  1.00000000 0.000000000   0 9457    0 543\n",
            "50       0.50   0.9457  1.00000000 0.000000000   0 9457    0 543\n",
            "51       0.51   0.9457  1.00000000 0.000000000   0 9457    0 543\n",
            "52       0.52   0.9457  1.00000000 0.000000000   0 9457    0 543\n",
            "53       0.53   0.9457  1.00000000 0.000000000   0 9457    0 543\n",
            "54       0.54   0.9457  1.00000000 0.000000000   0 9457    0 543\n",
            "55       0.55   0.9457  1.00000000 0.000000000   0 9457    0 543\n",
            "56       0.56   0.9457  1.00000000 0.000000000   0 9457    0 543\n",
            "57       0.57   0.9457  1.00000000 0.000000000   0 9457    0 543\n",
            "58       0.58   0.9457  1.00000000 0.000000000   0 9457    0 543\n",
            "59       0.59   0.9457  1.00000000 0.000000000   0 9457    0 543\n",
            "60       0.60   0.9457  1.00000000 0.000000000   0 9457    0 543\n",
            "61       0.61   0.9457  1.00000000 0.000000000   0 9457    0 543\n",
            "62       0.62   0.9457  1.00000000 0.000000000   0 9457    0 543\n",
            "63       0.63   0.9457  1.00000000 0.000000000   0 9457    0 543\n",
            "64       0.64   0.9457  1.00000000 0.000000000   0 9457    0 543\n",
            "65       0.65   0.9457  1.00000000 0.000000000   0 9457    0 543\n",
            "66       0.66   0.9457  1.00000000 0.000000000   0 9457    0 543\n",
            "67       0.67   0.9457  1.00000000 0.000000000   0 9457    0 543\n",
            "68       0.68   0.9457  1.00000000 0.000000000   0 9457    0 543\n",
            "69       0.69   0.9457  1.00000000 0.000000000   0 9457    0 543\n",
            "70       0.70   0.9457  1.00000000 0.000000000   0 9457    0 543\n",
            "71       0.71   0.9457  1.00000000 0.000000000   0 9457    0 543\n",
            "72       0.72   0.9457  1.00000000 0.000000000   0 9457    0 543\n",
            "73       0.73   0.9457  1.00000000 0.000000000   0 9457    0 543\n",
            "74       0.74   0.9457  1.00000000 0.000000000   0 9457    0 543\n",
            "75       0.75   0.9457  1.00000000 0.000000000   0 9457    0 543\n",
            "76       0.76   0.9457  1.00000000 0.000000000   0 9457    0 543\n",
            "77       0.77   0.9457  1.00000000 0.000000000   0 9457    0 543\n",
            "78       0.78   0.9457  1.00000000 0.000000000   0 9457    0 543\n",
            "79       0.79   0.9457  1.00000000 0.000000000   0 9457    0 543\n",
            "80       0.80   0.9457  1.00000000 0.000000000   0 9457    0 543\n",
            "81       0.81   0.9457  1.00000000 0.000000000   0 9457    0 543\n",
            "82       0.82   0.9457  1.00000000 0.000000000   0 9457    0 543\n",
            "83       0.83   0.9457  1.00000000 0.000000000   0 9457    0 543\n",
            "84       0.84   0.9457  1.00000000 0.000000000   0 9457    0 543\n",
            "85       0.85   0.9457  1.00000000 0.000000000   0 9457    0 543\n",
            "86       0.86   0.9457  1.00000000 0.000000000   0 9457    0 543\n",
            "87       0.87   0.9457  1.00000000 0.000000000   0 9457    0 543\n",
            "88       0.88   0.9457  1.00000000 0.000000000   0 9457    0 543\n",
            "89       0.89   0.9457  1.00000000 0.000000000   0 9457    0 543\n",
            "90       0.90   0.9457  1.00000000 0.000000000   0 9457    0 543\n",
            "91       0.91   0.9457  1.00000000 0.000000000   0 9457    0 543\n",
            "92       0.92   0.9457  1.00000000 0.000000000   0 9457    0 543\n",
            "93       0.93   0.9457  1.00000000 0.000000000   0 9457    0 543\n",
            "94       0.94   0.9457  1.00000000 0.000000000   0 9457    0 543\n",
            "95       0.95   0.9457  1.00000000 0.000000000   0 9457    0 543\n",
            "96       0.96   0.9457  1.00000000 0.000000000   0 9457    0 543\n",
            "97       0.97   0.9457  1.00000000 0.000000000   0 9457    0 543\n",
            "98       0.98   0.9457  1.00000000 0.000000000   0 9457    0 543\n",
            "99       0.99   0.9457  1.00000000 0.000000000   0 9457    0 543\n",
            "100      1.00   0.9457  1.00000000 0.000000000   0 9457    0 543\n"
          ],
          "name": "stdout"
        }
      ]
    }
  ]
}