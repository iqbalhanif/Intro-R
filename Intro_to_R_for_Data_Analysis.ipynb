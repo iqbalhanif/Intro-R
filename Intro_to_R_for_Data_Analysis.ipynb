{
  "nbformat": 4,
  "nbformat_minor": 0,
  "metadata": {
    "colab": {
      "name": "Intro to R for Data Analysis.ipynb",
      "provenance": [],
      "collapsed_sections": [
        "JYuiyeXbElP7",
        "K0XuVyGKEtU1",
        "tgrbFWkiE9lP",
        "CVQpyQOBG3d6"
      ],
      "authorship_tag": "ABX9TyMl19PYgyej7earjMe1blEA",
      "include_colab_link": true
    },
    "kernelspec": {
      "name": "ir",
      "display_name": "R"
    }
  },
  "cells": [
    {
      "cell_type": "markdown",
      "metadata": {
        "id": "view-in-github",
        "colab_type": "text"
      },
      "source": [
        "<a href=\"https://colab.research.google.com/github/iqbalhanif/R-Intro/blob/main/Intro_to_R_for_Data_Analysis.ipynb\" target=\"_parent\"><img src=\"https://colab.research.google.com/assets/colab-badge.svg\" alt=\"Open In Colab\"/></a>"
      ]
    },
    {
      "cell_type": "markdown",
      "metadata": {
        "id": "JYuiyeXbElP7"
      },
      "source": [
        "# 1. Basic"
      ]
    },
    {
      "cell_type": "code",
      "metadata": {
        "colab": {
          "base_uri": "https://localhost:8080/"
        },
        "id": "e6arnqRQMi99",
        "outputId": "626e0f54-78f1-4217-b579-788b4f9934d8"
      },
      "source": [
        "## Install Libraries/Packages\n",
        "install.packages(\"dplyr\")\n",
        "install.packages(\"rtweet\")"
      ],
      "execution_count": null,
      "outputs": [
        {
          "output_type": "stream",
          "text": [
            "Installing package into ‘/usr/local/lib/R/site-library’\n",
            "(as ‘lib’ is unspecified)\n",
            "\n",
            "Installing package into ‘/usr/local/lib/R/site-library’\n",
            "(as ‘lib’ is unspecified)\n",
            "\n",
            "also installing the dependency ‘httpuv’\n",
            "\n",
            "\n"
          ],
          "name": "stderr"
        }
      ]
    },
    {
      "cell_type": "code",
      "metadata": {
        "id": "0eyy34cSS9Oe"
      },
      "source": [
        "## Import Library\n",
        "library(dplyr) #statistik\n",
        "library(tidyverse) #data manipulation\n",
        "library(readxl) #read excel\n",
        "library(ggplot2) #visualization \n",
        "library(rtweet) #to extract twitter data"
      ],
      "execution_count": null,
      "outputs": []
    },
    {
      "cell_type": "code",
      "metadata": {
        "colab": {
          "base_uri": "https://localhost:8080/",
          "height": 33
        },
        "id": "NX7BKQZsS_7D",
        "outputId": "b08db8c4-9fc4-4698-f654-788957a852a1"
      },
      "source": [
        "## Check Working Directory\n",
        "getwd()"
      ],
      "execution_count": null,
      "outputs": [
        {
          "output_type": "display_data",
          "data": {
            "text/plain": [
              "[1] \"/content\""
            ],
            "text/latex": "'/content'",
            "text/markdown": "'/content'",
            "text/html": [
              "'/content'"
            ]
          },
          "metadata": {
            "tags": []
          }
        }
      ]
    },
    {
      "cell_type": "code",
      "metadata": {
        "id": "kumps5s_XSd1"
      },
      "source": [
        "## Set Working Directory\n",
        "setwd('/content')"
      ],
      "execution_count": null,
      "outputs": []
    },
    {
      "cell_type": "code",
      "metadata": {
        "colab": {
          "base_uri": "https://localhost:8080/",
          "height": 33
        },
        "id": "yTO1GSbwS__Z",
        "outputId": "4df95ec5-e679-4e30-fc9c-e30177b7b273"
      },
      "source": [
        "## Checking what are in working directory\n",
        "dir()"
      ],
      "execution_count": null,
      "outputs": [
        {
          "output_type": "display_data",
          "data": {
            "text/plain": [
              "[1] \"sample_data\""
            ],
            "text/latex": "'sample\\_data'",
            "text/markdown": "'sample_data'",
            "text/html": [
              "'sample_data'"
            ]
          },
          "metadata": {
            "tags": []
          }
        }
      ]
    },
    {
      "cell_type": "code",
      "metadata": {
        "colab": {
          "base_uri": "https://localhost:8080/",
          "height": 33
        },
        "id": "ETjzBecBTACN",
        "outputId": "67d3259c-1d88-4504-afe6-412cf1da2add"
      },
      "source": [
        "## Checking what are in data/input\n",
        "dir('/content/sample_data')"
      ],
      "execution_count": null,
      "outputs": [
        {
          "output_type": "display_data",
          "data": {
            "text/plain": [
              "[1] \"anscombe.json\"                \"california_housing_test.csv\" \n",
              "[3] \"california_housing_train.csv\" \"mnist_test.csv\"              \n",
              "[5] \"mnist_train_small.csv\"        \"README.md\"                   "
            ],
            "text/latex": "\\begin{enumerate*}\n\\item 'anscombe.json'\n\\item 'california\\_housing\\_test.csv'\n\\item 'california\\_housing\\_train.csv'\n\\item 'mnist\\_test.csv'\n\\item 'mnist\\_train\\_small.csv'\n\\item 'README.md'\n\\end{enumerate*}\n",
            "text/markdown": "1. 'anscombe.json'\n2. 'california_housing_test.csv'\n3. 'california_housing_train.csv'\n4. 'mnist_test.csv'\n5. 'mnist_train_small.csv'\n6. 'README.md'\n\n\n",
            "text/html": [
              "<style>\n",
              ".list-inline {list-style: none; margin:0; padding: 0}\n",
              ".list-inline>li {display: inline-block}\n",
              ".list-inline>li:not(:last-child)::after {content: \"\\00b7\"; padding: 0 .5ex}\n",
              "</style>\n",
              "<ol class=list-inline><li>'anscombe.json'</li><li>'california_housing_test.csv'</li><li>'california_housing_train.csv'</li><li>'mnist_test.csv'</li><li>'mnist_train_small.csv'</li><li>'README.md'</li></ol>\n"
            ]
          },
          "metadata": {
            "tags": []
          }
        }
      ]
    },
    {
      "cell_type": "code",
      "metadata": {
        "colab": {
          "base_uri": "https://localhost:8080/",
          "height": 33
        },
        "id": "8rDD15UVTAEq",
        "outputId": "dd922540-bdbd-40e4-92ea-3a1bdfe49a16"
      },
      "source": [
        "## Assigning new variables with different types of data\n",
        "x <- 10\n",
        "y <- TRUE\n",
        "z <- \"Nama Saya\"\n",
        "z"
      ],
      "execution_count": null,
      "outputs": [
        {
          "output_type": "display_data",
          "data": {
            "text/plain": [
              "[1] \"Nama Saya\""
            ],
            "text/latex": "'Nama Saya'",
            "text/markdown": "'Nama Saya'",
            "text/html": [
              "'Nama Saya'"
            ]
          },
          "metadata": {
            "tags": []
          }
        }
      ]
    },
    {
      "cell_type": "code",
      "metadata": {
        "colab": {
          "base_uri": "https://localhost:8080/",
          "height": 66
        },
        "id": "IQTSRz4RTAHb",
        "outputId": "25abb357-e2d6-49d6-f9cd-088adb0253b2"
      },
      "source": [
        "##Check type of data\n",
        "class(x)\n",
        "class(y)\n",
        "class(z)"
      ],
      "execution_count": null,
      "outputs": [
        {
          "output_type": "display_data",
          "data": {
            "text/plain": [
              "[1] \"numeric\""
            ],
            "text/latex": "'numeric'",
            "text/markdown": "'numeric'",
            "text/html": [
              "'numeric'"
            ]
          },
          "metadata": {
            "tags": []
          }
        },
        {
          "output_type": "display_data",
          "data": {
            "text/plain": [
              "[1] \"logical\""
            ],
            "text/latex": "'logical'",
            "text/markdown": "'logical'",
            "text/html": [
              "'logical'"
            ]
          },
          "metadata": {
            "tags": []
          }
        },
        {
          "output_type": "display_data",
          "data": {
            "text/plain": [
              "[1] \"character\""
            ],
            "text/latex": "'character'",
            "text/markdown": "'character'",
            "text/html": [
              "'character'"
            ]
          },
          "metadata": {
            "tags": []
          }
        }
      ]
    },
    {
      "cell_type": "code",
      "metadata": {
        "colab": {
          "base_uri": "https://localhost:8080/",
          "height": 116
        },
        "id": "O2dKvpi4XynB",
        "outputId": "d791350b-955e-4510-9097-d719010f1925"
      },
      "source": [
        "## calculation\n",
        "100 ** 2\n",
        "100 * 2\n",
        "100 - 10\n",
        "100 + 10\n",
        "100 %% 18\n",
        "100 / 2"
      ],
      "execution_count": null,
      "outputs": [
        {
          "output_type": "display_data",
          "data": {
            "text/plain": [
              "[1] 10000"
            ],
            "text/latex": "10000",
            "text/markdown": "10000",
            "text/html": [
              "10000"
            ]
          },
          "metadata": {
            "tags": []
          }
        },
        {
          "output_type": "display_data",
          "data": {
            "text/plain": [
              "[1] 200"
            ],
            "text/latex": "200",
            "text/markdown": "200",
            "text/html": [
              "200"
            ]
          },
          "metadata": {
            "tags": []
          }
        },
        {
          "output_type": "display_data",
          "data": {
            "text/plain": [
              "[1] 90"
            ],
            "text/latex": "90",
            "text/markdown": "90",
            "text/html": [
              "90"
            ]
          },
          "metadata": {
            "tags": []
          }
        },
        {
          "output_type": "display_data",
          "data": {
            "text/plain": [
              "[1] 110"
            ],
            "text/latex": "110",
            "text/markdown": "110",
            "text/html": [
              "110"
            ]
          },
          "metadata": {
            "tags": []
          }
        },
        {
          "output_type": "display_data",
          "data": {
            "text/plain": [
              "[1] 10"
            ],
            "text/latex": "10",
            "text/markdown": "10",
            "text/html": [
              "10"
            ]
          },
          "metadata": {
            "tags": []
          }
        },
        {
          "output_type": "display_data",
          "data": {
            "text/plain": [
              "[1] 50"
            ],
            "text/latex": "50",
            "text/markdown": "50",
            "text/html": [
              "50"
            ]
          },
          "metadata": {
            "tags": []
          }
        }
      ]
    },
    {
      "cell_type": "markdown",
      "metadata": {
        "id": "K0XuVyGKEtU1"
      },
      "source": [
        "# 2. Data Frame Processing"
      ]
    },
    {
      "cell_type": "code",
      "metadata": {
        "colab": {
          "base_uri": "https://localhost:8080/"
        },
        "id": "Q9NAUh2lurmk",
        "outputId": "66d11f0c-1c77-4eb1-d9fa-793c848fbb76"
      },
      "source": [
        "## Download data\n",
        "install.packages('RCurl')\n",
        "library(RCurl)\n",
        "x <- getURL(\"https://raw.githubusercontent.com/kirenz/datasets/master/gapminder.csv\")\n",
        "y <- read.csv(text = x)"
      ],
      "execution_count": null,
      "outputs": [
        {
          "output_type": "stream",
          "text": [
            "Installing package into ‘/usr/local/lib/R/site-library’\n",
            "(as ‘lib’ is unspecified)\n",
            "\n",
            "also installing the dependency ‘bitops’\n",
            "\n",
            "\n"
          ],
          "name": "stderr"
        }
      ]
    },
    {
      "cell_type": "code",
      "metadata": {
        "colab": {
          "base_uri": "https://localhost:8080/",
          "height": 33
        },
        "id": "UlfYnO5eqBZc",
        "outputId": "b0dba02b-1977-46a1-f82d-4dc3b141ecaf"
      },
      "source": [
        "## Read data\n",
        "world_data <- y\n",
        "dim(world_data)"
      ],
      "execution_count": null,
      "outputs": [
        {
          "output_type": "display_data",
          "data": {
            "text/plain": [
              "[1] 1704    6"
            ],
            "text/latex": "\\begin{enumerate*}\n\\item 1704\n\\item 6\n\\end{enumerate*}\n",
            "text/markdown": "1. 1704\n2. 6\n\n\n",
            "text/html": [
              "<style>\n",
              ".list-inline {list-style: none; margin:0; padding: 0}\n",
              ".list-inline>li {display: inline-block}\n",
              ".list-inline>li:not(:last-child)::after {content: \"\\00b7\"; padding: 0 .5ex}\n",
              "</style>\n",
              "<ol class=list-inline><li>1704</li><li>6</li></ol>\n"
            ]
          },
          "metadata": {
            "tags": []
          }
        }
      ]
    },
    {
      "cell_type": "code",
      "metadata": {
        "colab": {
          "base_uri": "https://localhost:8080/",
          "height": 176
        },
        "id": "eghFC34iuCsB",
        "outputId": "e338f639-e1eb-4368-a3ce-6225bbffaedb"
      },
      "source": [
        "## Show Data\n",
        "tail(world_data)"
      ],
      "execution_count": null,
      "outputs": [
        {
          "output_type": "display_data",
          "data": {
            "text/plain": [
              "     country  continent year lifeExp pop      gdpPercap\n",
              "1699 Zimbabwe Africa    1982 60.363   7636524 788.8550 \n",
              "1700 Zimbabwe Africa    1987 62.351   9216418 706.1573 \n",
              "1701 Zimbabwe Africa    1992 60.377  10704340 693.4208 \n",
              "1702 Zimbabwe Africa    1997 46.809  11404948 792.4500 \n",
              "1703 Zimbabwe Africa    2002 39.989  11926563 672.0386 \n",
              "1704 Zimbabwe Africa    2007 43.487  12311143 469.7093 "
            ],
            "text/latex": "A data.frame: 6 × 6\n\\begin{tabular}{r|llllll}\n  & country & continent & year & lifeExp & pop & gdpPercap\\\\\n  & <chr> & <chr> & <int> & <dbl> & <int> & <dbl>\\\\\n\\hline\n\t1699 & Zimbabwe & Africa & 1982 & 60.363 &  7636524 & 788.8550\\\\\n\t1700 & Zimbabwe & Africa & 1987 & 62.351 &  9216418 & 706.1573\\\\\n\t1701 & Zimbabwe & Africa & 1992 & 60.377 & 10704340 & 693.4208\\\\\n\t1702 & Zimbabwe & Africa & 1997 & 46.809 & 11404948 & 792.4500\\\\\n\t1703 & Zimbabwe & Africa & 2002 & 39.989 & 11926563 & 672.0386\\\\\n\t1704 & Zimbabwe & Africa & 2007 & 43.487 & 12311143 & 469.7093\\\\\n\\end{tabular}\n",
            "text/markdown": "\nA data.frame: 6 × 6\n\n| <!--/--> | country &lt;chr&gt; | continent &lt;chr&gt; | year &lt;int&gt; | lifeExp &lt;dbl&gt; | pop &lt;int&gt; | gdpPercap &lt;dbl&gt; |\n|---|---|---|---|---|---|---|\n| 1699 | Zimbabwe | Africa | 1982 | 60.363 |  7636524 | 788.8550 |\n| 1700 | Zimbabwe | Africa | 1987 | 62.351 |  9216418 | 706.1573 |\n| 1701 | Zimbabwe | Africa | 1992 | 60.377 | 10704340 | 693.4208 |\n| 1702 | Zimbabwe | Africa | 1997 | 46.809 | 11404948 | 792.4500 |\n| 1703 | Zimbabwe | Africa | 2002 | 39.989 | 11926563 | 672.0386 |\n| 1704 | Zimbabwe | Africa | 2007 | 43.487 | 12311143 | 469.7093 |\n\n",
            "text/html": [
              "<table>\n",
              "<caption>A data.frame: 6 × 6</caption>\n",
              "<thead>\n",
              "\t<tr><th></th><th scope=col>country</th><th scope=col>continent</th><th scope=col>year</th><th scope=col>lifeExp</th><th scope=col>pop</th><th scope=col>gdpPercap</th></tr>\n",
              "\t<tr><th></th><th scope=col>&lt;chr&gt;</th><th scope=col>&lt;chr&gt;</th><th scope=col>&lt;int&gt;</th><th scope=col>&lt;dbl&gt;</th><th scope=col>&lt;int&gt;</th><th scope=col>&lt;dbl&gt;</th></tr>\n",
              "</thead>\n",
              "<tbody>\n",
              "\t<tr><th scope=row>1699</th><td>Zimbabwe</td><td>Africa</td><td>1982</td><td>60.363</td><td> 7636524</td><td>788.8550</td></tr>\n",
              "\t<tr><th scope=row>1700</th><td>Zimbabwe</td><td>Africa</td><td>1987</td><td>62.351</td><td> 9216418</td><td>706.1573</td></tr>\n",
              "\t<tr><th scope=row>1701</th><td>Zimbabwe</td><td>Africa</td><td>1992</td><td>60.377</td><td>10704340</td><td>693.4208</td></tr>\n",
              "\t<tr><th scope=row>1702</th><td>Zimbabwe</td><td>Africa</td><td>1997</td><td>46.809</td><td>11404948</td><td>792.4500</td></tr>\n",
              "\t<tr><th scope=row>1703</th><td>Zimbabwe</td><td>Africa</td><td>2002</td><td>39.989</td><td>11926563</td><td>672.0386</td></tr>\n",
              "\t<tr><th scope=row>1704</th><td>Zimbabwe</td><td>Africa</td><td>2007</td><td>43.487</td><td>12311143</td><td>469.7093</td></tr>\n",
              "</tbody>\n",
              "</table>\n"
            ]
          },
          "metadata": {
            "tags": []
          }
        }
      ]
    },
    {
      "cell_type": "code",
      "metadata": {
        "colab": {
          "base_uri": "https://localhost:8080/",
          "height": 176
        },
        "id": "YPVWSp6duf6c",
        "outputId": "3cbe4a40-1003-425e-d031-c2929cdec09a"
      },
      "source": [
        "## Subset negara yang hanya di benua asia\n",
        "asia <- world_data[which(world_data$continent == 'Asia' & world_data$year == '2007'),]\n",
        "tail(asia)"
      ],
      "execution_count": null,
      "outputs": [
        {
          "output_type": "display_data",
          "data": {
            "text/plain": [
              "     country            continent year lifeExp pop      gdpPercap\n",
              "1500 Syria              Asia      2007 74.143  19314747  4184.548\n",
              "1512 Taiwan             Asia      2007 78.400  23174294 28718.277\n",
              "1536 Thailand           Asia      2007 70.616  65068149  7458.396\n",
              "1656 Vietnam            Asia      2007 74.249  85262356  2441.576\n",
              "1668 West Bank and Gaza Asia      2007 73.422   4018332  3025.350\n",
              "1680 Yemen, Rep.        Asia      2007 62.698  22211743  2280.770"
            ],
            "text/latex": "A data.frame: 6 × 6\n\\begin{tabular}{r|llllll}\n  & country & continent & year & lifeExp & pop & gdpPercap\\\\\n  & <chr> & <chr> & <int> & <dbl> & <int> & <dbl>\\\\\n\\hline\n\t1500 & Syria              & Asia & 2007 & 74.143 & 19314747 &  4184.548\\\\\n\t1512 & Taiwan             & Asia & 2007 & 78.400 & 23174294 & 28718.277\\\\\n\t1536 & Thailand           & Asia & 2007 & 70.616 & 65068149 &  7458.396\\\\\n\t1656 & Vietnam            & Asia & 2007 & 74.249 & 85262356 &  2441.576\\\\\n\t1668 & West Bank and Gaza & Asia & 2007 & 73.422 &  4018332 &  3025.350\\\\\n\t1680 & Yemen, Rep.        & Asia & 2007 & 62.698 & 22211743 &  2280.770\\\\\n\\end{tabular}\n",
            "text/markdown": "\nA data.frame: 6 × 6\n\n| <!--/--> | country &lt;chr&gt; | continent &lt;chr&gt; | year &lt;int&gt; | lifeExp &lt;dbl&gt; | pop &lt;int&gt; | gdpPercap &lt;dbl&gt; |\n|---|---|---|---|---|---|---|\n| 1500 | Syria              | Asia | 2007 | 74.143 | 19314747 |  4184.548 |\n| 1512 | Taiwan             | Asia | 2007 | 78.400 | 23174294 | 28718.277 |\n| 1536 | Thailand           | Asia | 2007 | 70.616 | 65068149 |  7458.396 |\n| 1656 | Vietnam            | Asia | 2007 | 74.249 | 85262356 |  2441.576 |\n| 1668 | West Bank and Gaza | Asia | 2007 | 73.422 |  4018332 |  3025.350 |\n| 1680 | Yemen, Rep.        | Asia | 2007 | 62.698 | 22211743 |  2280.770 |\n\n",
            "text/html": [
              "<table>\n",
              "<caption>A data.frame: 6 × 6</caption>\n",
              "<thead>\n",
              "\t<tr><th></th><th scope=col>country</th><th scope=col>continent</th><th scope=col>year</th><th scope=col>lifeExp</th><th scope=col>pop</th><th scope=col>gdpPercap</th></tr>\n",
              "\t<tr><th></th><th scope=col>&lt;chr&gt;</th><th scope=col>&lt;chr&gt;</th><th scope=col>&lt;int&gt;</th><th scope=col>&lt;dbl&gt;</th><th scope=col>&lt;int&gt;</th><th scope=col>&lt;dbl&gt;</th></tr>\n",
              "</thead>\n",
              "<tbody>\n",
              "\t<tr><th scope=row>1500</th><td>Syria             </td><td>Asia</td><td>2007</td><td>74.143</td><td>19314747</td><td> 4184.548</td></tr>\n",
              "\t<tr><th scope=row>1512</th><td>Taiwan            </td><td>Asia</td><td>2007</td><td>78.400</td><td>23174294</td><td>28718.277</td></tr>\n",
              "\t<tr><th scope=row>1536</th><td>Thailand          </td><td>Asia</td><td>2007</td><td>70.616</td><td>65068149</td><td> 7458.396</td></tr>\n",
              "\t<tr><th scope=row>1656</th><td>Vietnam           </td><td>Asia</td><td>2007</td><td>74.249</td><td>85262356</td><td> 2441.576</td></tr>\n",
              "\t<tr><th scope=row>1668</th><td>West Bank and Gaza</td><td>Asia</td><td>2007</td><td>73.422</td><td> 4018332</td><td> 3025.350</td></tr>\n",
              "\t<tr><th scope=row>1680</th><td>Yemen, Rep.       </td><td>Asia</td><td>2007</td><td>62.698</td><td>22211743</td><td> 2280.770</td></tr>\n",
              "</tbody>\n",
              "</table>\n"
            ]
          },
          "metadata": {
            "tags": []
          }
        }
      ]
    },
    {
      "cell_type": "code",
      "metadata": {
        "colab": {
          "base_uri": "https://localhost:8080/",
          "height": 87
        },
        "id": "pSKJk08lvoLM",
        "outputId": "00c7c180-9ce1-4286-f388-487eb48ad475"
      },
      "source": [
        "## Negara GDP tertinggi di Asia\n",
        "richest <- asia[which(asia$gdpPercap == max(asia$gdpPercap)),]\n",
        "head(richest)"
      ],
      "execution_count": null,
      "outputs": [
        {
          "output_type": "display_data",
          "data": {
            "text/plain": [
              "    country continent year lifeExp pop     gdpPercap\n",
              "864 Kuwait  Asia      2007 77.588  2505559 47306.99 "
            ],
            "text/latex": "A data.frame: 1 × 6\n\\begin{tabular}{r|llllll}\n  & country & continent & year & lifeExp & pop & gdpPercap\\\\\n  & <chr> & <chr> & <int> & <dbl> & <int> & <dbl>\\\\\n\\hline\n\t864 & Kuwait & Asia & 2007 & 77.588 & 2505559 & 47306.99\\\\\n\\end{tabular}\n",
            "text/markdown": "\nA data.frame: 1 × 6\n\n| <!--/--> | country &lt;chr&gt; | continent &lt;chr&gt; | year &lt;int&gt; | lifeExp &lt;dbl&gt; | pop &lt;int&gt; | gdpPercap &lt;dbl&gt; |\n|---|---|---|---|---|---|---|\n| 864 | Kuwait | Asia | 2007 | 77.588 | 2505559 | 47306.99 |\n\n",
            "text/html": [
              "<table>\n",
              "<caption>A data.frame: 1 × 6</caption>\n",
              "<thead>\n",
              "\t<tr><th></th><th scope=col>country</th><th scope=col>continent</th><th scope=col>year</th><th scope=col>lifeExp</th><th scope=col>pop</th><th scope=col>gdpPercap</th></tr>\n",
              "\t<tr><th></th><th scope=col>&lt;chr&gt;</th><th scope=col>&lt;chr&gt;</th><th scope=col>&lt;int&gt;</th><th scope=col>&lt;dbl&gt;</th><th scope=col>&lt;int&gt;</th><th scope=col>&lt;dbl&gt;</th></tr>\n",
              "</thead>\n",
              "<tbody>\n",
              "\t<tr><th scope=row>864</th><td>Kuwait</td><td>Asia</td><td>2007</td><td>77.588</td><td>2505559</td><td>47306.99</td></tr>\n",
              "</tbody>\n",
              "</table>\n"
            ]
          },
          "metadata": {
            "tags": []
          }
        }
      ]
    },
    {
      "cell_type": "code",
      "metadata": {
        "colab": {
          "base_uri": "https://localhost:8080/",
          "height": 87
        },
        "id": "GSOMsultwOfc",
        "outputId": "85693d10-5da1-4831-e6d0-e3cf3a3a23bd"
      },
      "source": [
        "## Negara GDP terendah di Asia\n",
        "richest <- asia[which(asia$gdpPercap == min(asia$gdpPercap)),]\n",
        "head(richest)"
      ],
      "execution_count": null,
      "outputs": [
        {
          "output_type": "display_data",
          "data": {
            "text/plain": [
              "     country continent year lifeExp pop      gdpPercap\n",
              "1056 Myanmar Asia      2007 62.069  47761980 944      "
            ],
            "text/latex": "A data.frame: 1 × 6\n\\begin{tabular}{r|llllll}\n  & country & continent & year & lifeExp & pop & gdpPercap\\\\\n  & <chr> & <chr> & <int> & <dbl> & <int> & <dbl>\\\\\n\\hline\n\t1056 & Myanmar & Asia & 2007 & 62.069 & 47761980 & 944\\\\\n\\end{tabular}\n",
            "text/markdown": "\nA data.frame: 1 × 6\n\n| <!--/--> | country &lt;chr&gt; | continent &lt;chr&gt; | year &lt;int&gt; | lifeExp &lt;dbl&gt; | pop &lt;int&gt; | gdpPercap &lt;dbl&gt; |\n|---|---|---|---|---|---|---|\n| 1056 | Myanmar | Asia | 2007 | 62.069 | 47761980 | 944 |\n\n",
            "text/html": [
              "<table>\n",
              "<caption>A data.frame: 1 × 6</caption>\n",
              "<thead>\n",
              "\t<tr><th></th><th scope=col>country</th><th scope=col>continent</th><th scope=col>year</th><th scope=col>lifeExp</th><th scope=col>pop</th><th scope=col>gdpPercap</th></tr>\n",
              "\t<tr><th></th><th scope=col>&lt;chr&gt;</th><th scope=col>&lt;chr&gt;</th><th scope=col>&lt;int&gt;</th><th scope=col>&lt;dbl&gt;</th><th scope=col>&lt;int&gt;</th><th scope=col>&lt;dbl&gt;</th></tr>\n",
              "</thead>\n",
              "<tbody>\n",
              "\t<tr><th scope=row>1056</th><td>Myanmar</td><td>Asia</td><td>2007</td><td>62.069</td><td>47761980</td><td>944</td></tr>\n",
              "</tbody>\n",
              "</table>\n"
            ]
          },
          "metadata": {
            "tags": []
          }
        }
      ]
    },
    {
      "cell_type": "code",
      "metadata": {
        "colab": {
          "base_uri": "https://localhost:8080/",
          "height": 176
        },
        "id": "-bk5LGDgwW_5",
        "outputId": "f04876ef-4cb2-4076-8aa0-26c48449d18c"
      },
      "source": [
        "## Negara GDP diatas rata2 di Asia\n",
        "developed <- asia[which(asia$gdpPercap >= mean(asia$gdpPercap)),]\n",
        "head(developed)"
      ],
      "execution_count": null,
      "outputs": [
        {
          "output_type": "display_data",
          "data": {
            "text/plain": [
              "    country          continent year lifeExp pop       gdpPercap\n",
              "96  Bahrain          Asia      2007 75.635     708573 29796.05 \n",
              "672 Hong Kong, China Asia      2007 82.208    6980412 39724.98 \n",
              "768 Israel           Asia      2007 80.745    6426679 25523.28 \n",
              "804 Japan            Asia      2007 82.603  127467972 31656.07 \n",
              "852 Korea, Rep.      Asia      2007 78.623   49044790 23348.14 \n",
              "864 Kuwait           Asia      2007 77.588    2505559 47306.99 "
            ],
            "text/latex": "A data.frame: 6 × 6\n\\begin{tabular}{r|llllll}\n  & country & continent & year & lifeExp & pop & gdpPercap\\\\\n  & <chr> & <chr> & <int> & <dbl> & <int> & <dbl>\\\\\n\\hline\n\t96 & Bahrain          & Asia & 2007 & 75.635 &    708573 & 29796.05\\\\\n\t672 & Hong Kong, China & Asia & 2007 & 82.208 &   6980412 & 39724.98\\\\\n\t768 & Israel           & Asia & 2007 & 80.745 &   6426679 & 25523.28\\\\\n\t804 & Japan            & Asia & 2007 & 82.603 & 127467972 & 31656.07\\\\\n\t852 & Korea, Rep.      & Asia & 2007 & 78.623 &  49044790 & 23348.14\\\\\n\t864 & Kuwait           & Asia & 2007 & 77.588 &   2505559 & 47306.99\\\\\n\\end{tabular}\n",
            "text/markdown": "\nA data.frame: 6 × 6\n\n| <!--/--> | country &lt;chr&gt; | continent &lt;chr&gt; | year &lt;int&gt; | lifeExp &lt;dbl&gt; | pop &lt;int&gt; | gdpPercap &lt;dbl&gt; |\n|---|---|---|---|---|---|---|\n| 96 | Bahrain          | Asia | 2007 | 75.635 |    708573 | 29796.05 |\n| 672 | Hong Kong, China | Asia | 2007 | 82.208 |   6980412 | 39724.98 |\n| 768 | Israel           | Asia | 2007 | 80.745 |   6426679 | 25523.28 |\n| 804 | Japan            | Asia | 2007 | 82.603 | 127467972 | 31656.07 |\n| 852 | Korea, Rep.      | Asia | 2007 | 78.623 |  49044790 | 23348.14 |\n| 864 | Kuwait           | Asia | 2007 | 77.588 |   2505559 | 47306.99 |\n\n",
            "text/html": [
              "<table>\n",
              "<caption>A data.frame: 6 × 6</caption>\n",
              "<thead>\n",
              "\t<tr><th></th><th scope=col>country</th><th scope=col>continent</th><th scope=col>year</th><th scope=col>lifeExp</th><th scope=col>pop</th><th scope=col>gdpPercap</th></tr>\n",
              "\t<tr><th></th><th scope=col>&lt;chr&gt;</th><th scope=col>&lt;chr&gt;</th><th scope=col>&lt;int&gt;</th><th scope=col>&lt;dbl&gt;</th><th scope=col>&lt;int&gt;</th><th scope=col>&lt;dbl&gt;</th></tr>\n",
              "</thead>\n",
              "<tbody>\n",
              "\t<tr><th scope=row>96</th><td>Bahrain         </td><td>Asia</td><td>2007</td><td>75.635</td><td>   708573</td><td>29796.05</td></tr>\n",
              "\t<tr><th scope=row>672</th><td>Hong Kong, China</td><td>Asia</td><td>2007</td><td>82.208</td><td>  6980412</td><td>39724.98</td></tr>\n",
              "\t<tr><th scope=row>768</th><td>Israel          </td><td>Asia</td><td>2007</td><td>80.745</td><td>  6426679</td><td>25523.28</td></tr>\n",
              "\t<tr><th scope=row>804</th><td>Japan           </td><td>Asia</td><td>2007</td><td>82.603</td><td>127467972</td><td>31656.07</td></tr>\n",
              "\t<tr><th scope=row>852</th><td>Korea, Rep.     </td><td>Asia</td><td>2007</td><td>78.623</td><td> 49044790</td><td>23348.14</td></tr>\n",
              "\t<tr><th scope=row>864</th><td>Kuwait          </td><td>Asia</td><td>2007</td><td>77.588</td><td>  2505559</td><td>47306.99</td></tr>\n",
              "</tbody>\n",
              "</table>\n"
            ]
          },
          "metadata": {
            "tags": []
          }
        }
      ]
    },
    {
      "cell_type": "code",
      "metadata": {
        "colab": {
          "base_uri": "https://localhost:8080/",
          "height": 176
        },
        "id": "qo8e2lzHw6jf",
        "outputId": "aa71ae2a-cb14-442f-9599-9bdc7681554a"
      },
      "source": [
        "## Negara GDP diatas rata2 di Asia\n",
        "developing <- asia[which(asia$gdpPercap <= mean(asia$gdpPercap)),]\n",
        "head(developing)"
      ],
      "execution_count": null,
      "outputs": [
        {
          "output_type": "display_data",
          "data": {
            "text/plain": [
              "    country     continent year lifeExp pop        gdpPercap\n",
              "12  Afghanistan Asia      2007 43.828    31889923  974.5803\n",
              "108 Bangladesh  Asia      2007 64.062   150448339 1391.2538\n",
              "228 Cambodia    Asia      2007 59.723    14131858 1713.7787\n",
              "300 China       Asia      2007 72.961  1318683096 4959.1149\n",
              "708 India       Asia      2007 64.698  1110396331 2452.2104\n",
              "720 Indonesia   Asia      2007 70.650   223547000 3540.6516"
            ],
            "text/latex": "A data.frame: 6 × 6\n\\begin{tabular}{r|llllll}\n  & country & continent & year & lifeExp & pop & gdpPercap\\\\\n  & <chr> & <chr> & <int> & <dbl> & <int> & <dbl>\\\\\n\\hline\n\t12 & Afghanistan & Asia & 2007 & 43.828 &   31889923 &  974.5803\\\\\n\t108 & Bangladesh  & Asia & 2007 & 64.062 &  150448339 & 1391.2538\\\\\n\t228 & Cambodia    & Asia & 2007 & 59.723 &   14131858 & 1713.7787\\\\\n\t300 & China       & Asia & 2007 & 72.961 & 1318683096 & 4959.1149\\\\\n\t708 & India       & Asia & 2007 & 64.698 & 1110396331 & 2452.2104\\\\\n\t720 & Indonesia   & Asia & 2007 & 70.650 &  223547000 & 3540.6516\\\\\n\\end{tabular}\n",
            "text/markdown": "\nA data.frame: 6 × 6\n\n| <!--/--> | country &lt;chr&gt; | continent &lt;chr&gt; | year &lt;int&gt; | lifeExp &lt;dbl&gt; | pop &lt;int&gt; | gdpPercap &lt;dbl&gt; |\n|---|---|---|---|---|---|---|\n| 12 | Afghanistan | Asia | 2007 | 43.828 |   31889923 |  974.5803 |\n| 108 | Bangladesh  | Asia | 2007 | 64.062 |  150448339 | 1391.2538 |\n| 228 | Cambodia    | Asia | 2007 | 59.723 |   14131858 | 1713.7787 |\n| 300 | China       | Asia | 2007 | 72.961 | 1318683096 | 4959.1149 |\n| 708 | India       | Asia | 2007 | 64.698 | 1110396331 | 2452.2104 |\n| 720 | Indonesia   | Asia | 2007 | 70.650 |  223547000 | 3540.6516 |\n\n",
            "text/html": [
              "<table>\n",
              "<caption>A data.frame: 6 × 6</caption>\n",
              "<thead>\n",
              "\t<tr><th></th><th scope=col>country</th><th scope=col>continent</th><th scope=col>year</th><th scope=col>lifeExp</th><th scope=col>pop</th><th scope=col>gdpPercap</th></tr>\n",
              "\t<tr><th></th><th scope=col>&lt;chr&gt;</th><th scope=col>&lt;chr&gt;</th><th scope=col>&lt;int&gt;</th><th scope=col>&lt;dbl&gt;</th><th scope=col>&lt;int&gt;</th><th scope=col>&lt;dbl&gt;</th></tr>\n",
              "</thead>\n",
              "<tbody>\n",
              "\t<tr><th scope=row>12</th><td>Afghanistan</td><td>Asia</td><td>2007</td><td>43.828</td><td>  31889923</td><td> 974.5803</td></tr>\n",
              "\t<tr><th scope=row>108</th><td>Bangladesh </td><td>Asia</td><td>2007</td><td>64.062</td><td> 150448339</td><td>1391.2538</td></tr>\n",
              "\t<tr><th scope=row>228</th><td>Cambodia   </td><td>Asia</td><td>2007</td><td>59.723</td><td>  14131858</td><td>1713.7787</td></tr>\n",
              "\t<tr><th scope=row>300</th><td>China      </td><td>Asia</td><td>2007</td><td>72.961</td><td>1318683096</td><td>4959.1149</td></tr>\n",
              "\t<tr><th scope=row>708</th><td>India      </td><td>Asia</td><td>2007</td><td>64.698</td><td>1110396331</td><td>2452.2104</td></tr>\n",
              "\t<tr><th scope=row>720</th><td>Indonesia  </td><td>Asia</td><td>2007</td><td>70.650</td><td> 223547000</td><td>3540.6516</td></tr>\n",
              "</tbody>\n",
              "</table>\n"
            ]
          },
          "metadata": {
            "tags": []
          }
        }
      ]
    },
    {
      "cell_type": "code",
      "metadata": {
        "colab": {
          "base_uri": "https://localhost:8080/",
          "height": 94
        },
        "id": "zqiAmGbrxEHN",
        "outputId": "bff2f284-fd02-4213-993b-a32eaf4ef55b"
      },
      "source": [
        "## Create plot\n",
        "developed_countries <- ggplot(data = developed, mapping = aes(x = country, y = gdpPercap, color = country, size = gdpPercap)) +\n",
        "  geom_line(size = 4) + geom_point() +\n",
        "  theme(axis.text.x = element_text(angle = 90, hjust = 1, size = 12, color = 'darkred')) +\n",
        "  labs(x = \"countries\", y = \"GDP Per Capita USD\")\n",
        "\n",
        "print(developed_countries)"
      ],
      "execution_count": null,
      "outputs": [
        {
          "output_type": "error",
          "ename": "ERROR",
          "evalue": "ignored",
          "traceback": [
            "Error in ggplot(data = developed, mapping = aes(x = country, y = gdpPercap, : could not find function \"ggplot\"\nTraceback:\n"
          ]
        }
      ]
    },
    {
      "cell_type": "markdown",
      "metadata": {
        "id": "tgrbFWkiE9lP"
      },
      "source": [
        "# 3. Get JSON Data"
      ]
    },
    {
      "cell_type": "code",
      "metadata": {
        "colab": {
          "base_uri": "https://localhost:8080/"
        },
        "id": "R6UP47v-EhrR",
        "outputId": "33867f8f-f5f6-4591-e7bd-083bdbb63af4"
      },
      "source": [
        "## Mandatory Library\n",
        "install.packages('jsonlite')\n",
        "library(jsonlite)\n",
        "library(tidyverse)\n",
        "library(dplyr)\n",
        "library(ggplot2)"
      ],
      "execution_count": null,
      "outputs": [
        {
          "output_type": "stream",
          "text": [
            "Installing package into ‘/usr/local/lib/R/site-library’\n",
            "(as ‘lib’ is unspecified)\n",
            "\n",
            "── \u001b[1mAttaching packages\u001b[22m ─────────────────────────────────────── tidyverse 1.3.0 ──\n",
            "\n",
            "\u001b[32m✔\u001b[39m \u001b[34mggplot2\u001b[39m 3.3.2     \u001b[32m✔\u001b[39m \u001b[34mpurrr  \u001b[39m 0.3.4\n",
            "\u001b[32m✔\u001b[39m \u001b[34mtibble \u001b[39m 3.0.4     \u001b[32m✔\u001b[39m \u001b[34mdplyr  \u001b[39m 1.0.2\n",
            "\u001b[32m✔\u001b[39m \u001b[34mtidyr  \u001b[39m 1.1.2     \u001b[32m✔\u001b[39m \u001b[34mstringr\u001b[39m 1.4.0\n",
            "\u001b[32m✔\u001b[39m \u001b[34mreadr  \u001b[39m 1.4.0     \u001b[32m✔\u001b[39m \u001b[34mforcats\u001b[39m 0.5.0\n",
            "\n",
            "── \u001b[1mConflicts\u001b[22m ────────────────────────────────────────── tidyverse_conflicts() ──\n",
            "\u001b[31m✖\u001b[39m \u001b[34mdplyr\u001b[39m::\u001b[32mfilter()\u001b[39m  masks \u001b[34mstats\u001b[39m::filter()\n",
            "\u001b[31m✖\u001b[39m \u001b[34mpurrr\u001b[39m::\u001b[32mflatten()\u001b[39m masks \u001b[34mjsonlite\u001b[39m::flatten()\n",
            "\u001b[31m✖\u001b[39m \u001b[34mdplyr\u001b[39m::\u001b[32mlag()\u001b[39m     masks \u001b[34mstats\u001b[39m::lag()\n",
            "\n"
          ],
          "name": "stderr"
        }
      ]
    },
    {
      "cell_type": "code",
      "metadata": {
        "colab": {
          "base_uri": "https://localhost:8080/",
          "height": 1000
        },
        "id": "Dz9BYgZvDclb",
        "outputId": "17c3309d-8f70-49c4-f283-5236b26ab5aa"
      },
      "source": [
        "## json execution\n",
        "kpu_result <- fromJSON(\"https://pilkada2017.kpu.go.id/api/1/hasil.json\")\n",
        "kpu_result"
      ],
      "execution_count": null,
      "outputs": [
        {
          "output_type": "display_data",
          "data": {
            "text/plain": [
              "    idWilayah nomorUrut jumlahSuara\n",
              "1      1       1        403818     \n",
              "2      1       2        132439     \n",
              "3      1       3         42036     \n",
              "4      1       4        165979     \n",
              "5      1       5        762279     \n",
              "6      1       6        890551     \n",
              "7   1492       1         48201     \n",
              "8   1492       2         52538     \n",
              "9   1492       3          4213     \n",
              "10  4989       1         28138     \n",
              "11  4989       2          1237     \n",
              "12  4989       3          1161     \n",
              "13  4989       5          7989     \n",
              "14  4989       6         20234     \n",
              "15  4989       7           501     \n",
              "16  4989       8          5346     \n",
              "17  4989       9         13108     \n",
              "18  4989      10          1787     \n",
              "19  1824       1        110074     \n",
              "20  1824       2         82710     \n",
              "21  5286       1         33354     \n",
              "22  5286       2         17413     \n",
              "23  4233       1         23401     \n",
              "24  4233       2          8673     \n",
              "25  4233       3         25886     \n",
              "26  4233       4          2568     \n",
              "27  5694       1         29578     \n",
              "28  5694       2         33154     \n",
              "29  5694       3         39552     \n",
              "30  5694       4          6067     \n",
              "⋮   ⋮         ⋮         ⋮          \n",
              "273 81104     3           5594     \n",
              "274 81104     4           3449     \n",
              "275 16420     1          58592     \n",
              "276 16420     2          73845     \n",
              "277 76771     1          24592     \n",
              "278 76771     2          30753     \n",
              "279 76771     3          13884     \n",
              "280 76771     4          41017     \n",
              "281  4086     1          15685     \n",
              "282  4086     2          10654     \n",
              "283  4086     3          20994     \n",
              "284 82022     1          19220     \n",
              "285 82022     2          29920     \n",
              "286 75425     1         240055     \n",
              "287 75425     2         146769     \n",
              "288 75425     3         244803     \n",
              "289 69869     1          86090     \n",
              "290 69869     2          88113     \n",
              "291  7240     1          44122     \n",
              "292  7240     2          22983     \n",
              "293  7240     3          64271     \n",
              "294  7240     4          12544     \n",
              "295 17215     1          73263     \n",
              "296 17215     2          90964     \n",
              "297 78324     1         103756     \n",
              "298 78324     2          17077     \n",
              "299 78324     3          68139     \n",
              "300 23737     1          14174     \n",
              "301 23737     2          88762     \n",
              "302 23737     3          93689     \n",
              "    namaPemilihan                                                           \n",
              "1   Pemilihan Gubernur/Wakil Gubernur - ACEH                                \n",
              "2   Pemilihan Gubernur/Wakil Gubernur - ACEH                                \n",
              "3   Pemilihan Gubernur/Wakil Gubernur - ACEH                                \n",
              "4   Pemilihan Gubernur/Wakil Gubernur - ACEH                                \n",
              "5   Pemilihan Gubernur/Wakil Gubernur - ACEH                                \n",
              "6   Pemilihan Gubernur/Wakil Gubernur - ACEH                                \n",
              "7   Pemilihan Bupati/Walikota dan Wakil Bupati/Walikota - ACEH BARAT        \n",
              "8   Pemilihan Bupati/Walikota dan Wakil Bupati/Walikota - ACEH BARAT        \n",
              "9   Pemilihan Bupati/Walikota dan Wakil Bupati/Walikota - ACEH BARAT        \n",
              "10  Pemilihan Bupati/Walikota dan Wakil Bupati/Walikota - ACEH BARAT DAYA   \n",
              "11  Pemilihan Bupati/Walikota dan Wakil Bupati/Walikota - ACEH BARAT DAYA   \n",
              "12  Pemilihan Bupati/Walikota dan Wakil Bupati/Walikota - ACEH BARAT DAYA   \n",
              "13  Pemilihan Bupati/Walikota dan Wakil Bupati/Walikota - ACEH BARAT DAYA   \n",
              "14  Pemilihan Bupati/Walikota dan Wakil Bupati/Walikota - ACEH BARAT DAYA   \n",
              "15  Pemilihan Bupati/Walikota dan Wakil Bupati/Walikota - ACEH BARAT DAYA   \n",
              "16  Pemilihan Bupati/Walikota dan Wakil Bupati/Walikota - ACEH BARAT DAYA   \n",
              "17  Pemilihan Bupati/Walikota dan Wakil Bupati/Walikota - ACEH BARAT DAYA   \n",
              "18  Pemilihan Bupati/Walikota dan Wakil Bupati/Walikota - ACEH BARAT DAYA   \n",
              "19  Pemilihan Bupati/Walikota dan Wakil Bupati/Walikota - ACEH BESAR        \n",
              "20  Pemilihan Bupati/Walikota dan Wakil Bupati/Walikota - ACEH BESAR        \n",
              "21  Pemilihan Bupati/Walikota dan Wakil Bupati/Walikota - ACEH JAYA         \n",
              "22  Pemilihan Bupati/Walikota dan Wakil Bupati/Walikota - ACEH JAYA         \n",
              "23  Pemilihan Bupati/Walikota dan Wakil Bupati/Walikota - ACEH SINGKIL      \n",
              "24  Pemilihan Bupati/Walikota dan Wakil Bupati/Walikota - ACEH SINGKIL      \n",
              "25  Pemilihan Bupati/Walikota dan Wakil Bupati/Walikota - ACEH SINGKIL      \n",
              "26  Pemilihan Bupati/Walikota dan Wakil Bupati/Walikota - ACEH SINGKIL      \n",
              "27  Pemilihan Bupati/Walikota dan Wakil Bupati/Walikota - ACEH TAMIANG      \n",
              "28  Pemilihan Bupati/Walikota dan Wakil Bupati/Walikota - ACEH TAMIANG      \n",
              "29  Pemilihan Bupati/Walikota dan Wakil Bupati/Walikota - ACEH TAMIANG      \n",
              "30  Pemilihan Bupati/Walikota dan Wakil Bupati/Walikota - ACEH TAMIANG      \n",
              "⋮   ⋮                                                                       \n",
              "273 Pemilihan Bupati/Walikota dan Wakil Bupati/Walikota - SARMI             \n",
              "274 Pemilihan Bupati/Walikota dan Wakil Bupati/Walikota - SARMI             \n",
              "275 Pemilihan Bupati/Walikota dan Wakil Bupati/Walikota - SAROLANGUN        \n",
              "276 Pemilihan Bupati/Walikota dan Wakil Bupati/Walikota - SAROLANGUN        \n",
              "277 Pemilihan Bupati/Walikota dan Wakil Bupati/Walikota - SERAM BAGIAN BARAT\n",
              "278 Pemilihan Bupati/Walikota dan Wakil Bupati/Walikota - SERAM BAGIAN BARAT\n",
              "279 Pemilihan Bupati/Walikota dan Wakil Bupati/Walikota - SERAM BAGIAN BARAT\n",
              "280 Pemilihan Bupati/Walikota dan Wakil Bupati/Walikota - SERAM BAGIAN BARAT\n",
              "281 Pemilihan Bupati/Walikota dan Wakil Bupati/Walikota - SIMEULUE          \n",
              "282 Pemilihan Bupati/Walikota dan Wakil Bupati/Walikota - SIMEULUE          \n",
              "283 Pemilihan Bupati/Walikota dan Wakil Bupati/Walikota - SIMEULUE          \n",
              "284 Pemilihan Bupati/Walikota dan Wakil Bupati/Walikota - SORONG            \n",
              "285 Pemilihan Bupati/Walikota dan Wakil Bupati/Walikota - SORONG            \n",
              "286 Pemilihan Gubernur/Wakil Gubernur - SULAWESI BARAT                      \n",
              "287 Pemilihan Gubernur/Wakil Gubernur - SULAWESI BARAT                      \n",
              "288 Pemilihan Gubernur/Wakil Gubernur - SULAWESI BARAT                      \n",
              "289 Pemilihan Bupati/Walikota dan Wakil Bupati/Walikota - TAKALAR           \n",
              "290 Pemilihan Bupati/Walikota dan Wakil Bupati/Walikota - TAKALAR           \n",
              "291 Pemilihan Bupati/Walikota dan Wakil Bupati/Walikota - TAPANULI TENGAH   \n",
              "292 Pemilihan Bupati/Walikota dan Wakil Bupati/Walikota - TAPANULI TENGAH   \n",
              "293 Pemilihan Bupati/Walikota dan Wakil Bupati/Walikota - TAPANULI TENGAH   \n",
              "294 Pemilihan Bupati/Walikota dan Wakil Bupati/Walikota - TAPANULI TENGAH   \n",
              "295 Pemilihan Bupati/Walikota dan Wakil Bupati/Walikota - TEBO              \n",
              "296 Pemilihan Bupati/Walikota dan Wakil Bupati/Walikota - TEBO              \n",
              "297 Pemilihan Bupati/Walikota dan Wakil Bupati/Walikota - TOLIKARA          \n",
              "298 Pemilihan Bupati/Walikota dan Wakil Bupati/Walikota - TOLIKARA          \n",
              "299 Pemilihan Bupati/Walikota dan Wakil Bupati/Walikota - TOLIKARA          \n",
              "300 Pemilihan Bupati/Walikota dan Wakil Bupati/Walikota - TULANG BAWANG     \n",
              "301 Pemilihan Bupati/Walikota dan Wakil Bupati/Walikota - TULANG BAWANG     \n",
              "302 Pemilihan Bupati/Walikota dan Wakil Bupati/Walikota - TULANG BAWANG     \n",
              "    namaWilayah        namaPropinsi     namaKd                           \n",
              "1   ACEH               ACEH             Ir. H. Tarmizi A. Karim, M.Sc.   \n",
              "2   ACEH               ACEH             ZAKARIA SAMAN                    \n",
              "3   ACEH               ACEH             Dr. Ir. H. Abdullah Puteh, M.Si  \n",
              "4   ACEH               ACEH             dr. H. ZAINI ABDULLAH            \n",
              "5   ACEH               ACEH             H. Muzakir Manaf                 \n",
              "6   ACEH               ACEH             Drh. H. Irwandi Yusuf, M.Sc      \n",
              "7   ACEH BARAT         ACEH             Dr. (H.C) H. T. Alaidinsyah      \n",
              "8   ACEH BARAT         ACEH             H. Ramli. MS                     \n",
              "9   ACEH BARAT         ACEH             Fuad Hadi, S.H.,M.H              \n",
              "10  ACEH BARAT DAYA    ACEH             Akmal Ibrahim, SH                \n",
              "11  ACEH BARAT DAYA    ACEH             Muazam, SE, MM                   \n",
              "12  ACEH BARAT DAYA    ACEH             H.HASBI M.SALEH,SE               \n",
              "13  ACEH BARAT DAYA    ACEH             MAIDISAL DIWA                    \n",
              "14  ACEH BARAT DAYA    ACEH             MUKHLIS MS                       \n",
              "15  ACEH BARAT DAYA    ACEH             H.JUNAIDI                        \n",
              "16  ACEH BARAT DAYA    ACEH             Muhammad Qudusi                  \n",
              "17  ACEH BARAT DAYA    ACEH             ERWANTO,SE,MA                    \n",
              "18  ACEH BARAT DAYA    ACEH             H. ZAINAL ARIFIN, SE. MM         \n",
              "19  ACEH BESAR         ACEH             MAWARDI ALI                      \n",
              "20  ACEH BESAR         ACEH             SAIFUDDIN YAHYA, SE              \n",
              "21  ACEH JAYA          ACEH             DRS. H. T. IRFAN. TB             \n",
              "22  ACEH JAYA          ACEH             Ir. Junaidi                      \n",
              "23  ACEH SINGKIL       ACEH             H. Safriadi, SH                  \n",
              "24  ACEH SINGKIL       ACEH             Yakarim M                        \n",
              "25  ACEH SINGKIL       ACEH             Dulmusrid                        \n",
              "26  ACEH SINGKIL       ACEH             Putra Ariyanto                   \n",
              "27  ACEH TAMIANG       ACEH             Ir. RUSMAN                       \n",
              "28  ACEH TAMIANG       ACEH             H.HAMDAN SATI,ST                 \n",
              "29  ACEH TAMIANG       ACEH             H. MURSIL, SH.MKn                \n",
              "30  ACEH TAMIANG       ACEH             Drs. ISKANDAR ZULKARNAIN, MAP    \n",
              "⋮   ⋮                  ⋮                ⋮                                \n",
              "273 SARMI              PAPUA            Ir. ALBERTUS SURIPNO             \n",
              "274 SARMI              PAPUA            DEMIANUS KYEUW-KYEUW, SH, MH     \n",
              "275 SAROLANGUN         JAMBI            Drs. H. MUHAMMAD MADEL           \n",
              "276 SAROLANGUN         JAMBI            Drs. H. CEK ENDRA                \n",
              "277 SERAM BAGIAN BARAT MALUKU           Drs. PAULUS SEMUEL PUTTILEIHALAT \n",
              "278 SERAM BAGIAN BARAT MALUKU           SAMSON RICHARGO ATAPARY          \n",
              "279 SERAM BAGIAN BARAT MALUKU           Sanadjihitu Tuhuteru             \n",
              "280 SERAM BAGIAN BARAT MALUKU           Drs. Moh. Yasin Payapo, M.Pd     \n",
              "281 SIMEULUE           ACEH             Drs.H.RISWAN, NS                 \n",
              "282 SIMEULUE           ACEH             H. ARYAUDIN                      \n",
              "283 SIMEULUE           ACEH             ERLI HASIM, SH., S.Ag            \n",
              "284 SORONG             PAPUA BARAT      Zeth Kadakolo, SE., MM.          \n",
              "285 SORONG             PAPUA BARAT      Dr. Johny Kamuru, SH., M.Si.     \n",
              "286 SULAWESI BARAT     SULAWESI BARAT   Dr. H. Suhardi Duka, MM          \n",
              "287 SULAWESI BARAT     SULAWESI BARAT   Mayjen TNI (Purn) Salim S. Mengga\n",
              "288 SULAWESI BARAT     SULAWESI BARAT   Drs. H. Ali Baal, M.Si           \n",
              "289 TAKALAR            SULAWESI SELATAN H.Burhanuddin B, S.E.,Ak., M.Si  \n",
              "290 TAKALAR            SULAWESI SELATAN H. Syamsari, S.Pt., M.M.         \n",
              "291 TAPANULI TENGAH    SUMATERA UTARA   AMIN PARDOMUAN NAPITUPULU, SH, MH\n",
              "292 TAPANULI TENGAH    SUMATERA UTARA   PASTOR RANTINUS SIMANALU         \n",
              "293 TAPANULI TENGAH    SUMATERA UTARA   BAKHTIAR AHMAD SIBARANI          \n",
              "294 TAPANULI TENGAH    SUMATERA UTARA   Ir. BUYUNG SITOMPUL, M.T.        \n",
              "295 TEBO               JAMBI            Hamdi, S.Sos., M.M.              \n",
              "296 TEBO               JAMBI            H. Sukandar, S.Kom., M.Si.       \n",
              "297 TOLIKARA           PAPUA            USMAN GENONGGA WANIMBO, SE. M.SI \n",
              "298 TOLIKARA           PAPUA            AMOS YIKWA, SP,. M.Si            \n",
              "299 TOLIKARA           PAPUA            Dr. (HC) John Tabo, SE., MBA     \n",
              "300 TULANG BAWANG      LAMPUNG          Hi. SYARNUBI, S.Pd.,M.H.         \n",
              "301 TULANG BAWANG      LAMPUNG          Ir. HANAN A. ROZAK, M.S.         \n",
              "302 TULANG BAWANG      LAMPUNG          Hj. WINARTI,S.E.,M.H.            \n",
              "    namaWkd                                namaKabupatenKota \n",
              "1   Ir. H. T. Machsalmina Ali, M.M.        NA                \n",
              "2   Ir. H. T. ALAIDINSYAH, M.Eng           NA                \n",
              "3   Sayed Mustafa Usab Al-Idroes, SE, M.Si NA                \n",
              "4   Ir. H. NASARUDDIN, MM                  NA                \n",
              "5   Ir. H. T.A. Khalid, M.M                NA                \n",
              "6   Ir. H. Nova Iriansyah, MT.             NA                \n",
              "7   H. Kamaruddin, SE                      ACEH BARAT        \n",
              "8   Drs. H. Banta Puteh Syam, SH. MM       ACEH BARAT        \n",
              "9   drh. Muhammad Arif                     ACEH BARAT        \n",
              "10  Muslizar. MT                           ACEH BARAT DAYA   \n",
              "11  Hermansyah, SH                         ACEH BARAT DAYA   \n",
              "12  TGK. T.ALAMSYAH YUSFA                  ACEH BARAT DAYA   \n",
              "13  RUSLAN                                 ACEH BARAT DAYA   \n",
              "14  HJ. SYAMSINAR                          ACEH BARAT DAYA   \n",
              "15  EDWAR RAHMAN, S.Pd                     ACEH BARAT DAYA   \n",
              "16  Hamdani                                ACEH BARAT DAYA   \n",
              "17  MUZAKIR ND,SH.i                        ACEH BARAT DAYA   \n",
              "18  SAID AZHARI                            ACEH BARAT DAYA   \n",
              "19  HUSAINI AW                             ACEH BESAR        \n",
              "20  JUANDA DJAMAL, ST                      ACEH BESAR        \n",
              "21  TGK. YUSRI. S                          ACEH JAYA         \n",
              "22  Bustami Syarbini, ST                   ACEH JAYA         \n",
              "23  Sariman, SP                            ACEH SINGKIL      \n",
              "24  Roesman Hasmy                          ACEH SINGKIL      \n",
              "25  H. Sazali, S.Sos                       ACEH SINGKIL      \n",
              "26  Hendri Syahputra                       ACEH SINGKIL      \n",
              "27  MUHAMMAD ICHSAN                        ACEH TAMIANG      \n",
              "28  IZWARDI,S.IP                           ACEH TAMIANG      \n",
              "29  H. T. INSYAFUDDIN, ST                  ACEH TAMIANG      \n",
              "30  Drs. H. AHMAD AS'ADI                   ACEH TAMIANG      \n",
              "⋮   ⋮                                      ⋮                 \n",
              "273 ADRIAN ROI SENIS, Amd.Tek              SARMI             \n",
              "274 Ir. MUSRIADI HP, M.Si                  SARMI             \n",
              "275 H. MUSHARSYAH                          SAROLANGUN        \n",
              "276 H. HILLALATIL BADRI                    SAROLANGUN        \n",
              "277 Hi. AMIRUDIN, SE                       SERAM BAGIAN BARAT\n",
              "278 MOHAMAD SUHFI MAJID                    SERAM BAGIAN BARAT\n",
              "279 Petrus Izaach Suripatty                SERAM BAGIAN BARAT\n",
              "280 Timotius Akerina, SE, M.Si             SERAM BAGIAN BARAT\n",
              "281 HAMDAN AMIN, SE                        SIMEULUE          \n",
              "282 H. RAPIAN, SE                          SIMEULUE          \n",
              "283 AFRIDAWATI                             SIMEULUE          \n",
              "284 H. Ibrahim Pokko                       SORONG            \n",
              "285 Suka Harjono, S.Sos., M.Si.            SORONG            \n",
              "286 H. Kalma Katta, S.Sos., MM             NA                \n",
              "287 H. Hasanuddin Mashud, S.Hut            NA                \n",
              "288 Hj. Enny Anggraeny  Anwar              NA                \n",
              "289 H. M. Natsir Ibrahim, S.E              TAKALAR           \n",
              "290 H. Achmad Dg Se're, S.Sos.             TAKALAR           \n",
              "291 Drs. RAMSES HUTAGALUNG, MM             TAPANULI TENGAH   \n",
              "292 USTADZ MUHAMMAD SODIKIN LUBIS, S.Ag    TAPANULI TENGAH   \n",
              "293 DARWIN SITOMPUL                        TAPANULI TENGAH   \n",
              "294 BINSAR SARUKSUK                        TAPANULI TENGAH   \n",
              "295 H. Harmain, S.E., M.M.                 TEBO              \n",
              "296 Syahlan, S.H.                          TEBO              \n",
              "297 DINUS WANIMBO, SH                      TOLIKARA          \n",
              "298 ROBEKA ENEMBE, S.STP., M.KP            TOLIKARA          \n",
              "299 Barnabas Weya, S. Pd                   TOLIKARA          \n",
              "300 Hj. SOLIHAH, S.Pd.I.                   TULANG BAWANG     \n",
              "301 HERI WARDOYO, S.H.                     TULANG BAWANG     \n",
              "302 HENDRIWANSYAH                          TULANG BAWANG     "
            ],
            "text/latex": "A data.frame: 302 × 9\n\\begin{tabular}{r|lllllllll}\n  & idWilayah & nomorUrut & jumlahSuara & namaPemilihan & namaWilayah & namaPropinsi & namaKd & namaWkd & namaKabupatenKota\\\\\n  & <int> & <int> & <int> & <chr> & <chr> & <chr> & <chr> & <chr> & <chr>\\\\\n\\hline\n\t1 &    1 &  1 & 403818 & Pemilihan Gubernur/Wakil Gubernur - ACEH                              & ACEH            & ACEH & Ir. H. Tarmizi A. Karim, M.Sc.  & Ir. H. T. Machsalmina Ali, M.M.        & NA             \\\\\n\t2 &    1 &  2 & 132439 & Pemilihan Gubernur/Wakil Gubernur - ACEH                              & ACEH            & ACEH & ZAKARIA SAMAN                   & Ir. H. T. ALAIDINSYAH, M.Eng           & NA             \\\\\n\t3 &    1 &  3 &  42036 & Pemilihan Gubernur/Wakil Gubernur - ACEH                              & ACEH            & ACEH & Dr. Ir. H. Abdullah Puteh, M.Si & Sayed Mustafa Usab Al-Idroes, SE, M.Si & NA             \\\\\n\t4 &    1 &  4 & 165979 & Pemilihan Gubernur/Wakil Gubernur - ACEH                              & ACEH            & ACEH & dr. H. ZAINI ABDULLAH           & Ir. H. NASARUDDIN, MM                  & NA             \\\\\n\t5 &    1 &  5 & 762279 & Pemilihan Gubernur/Wakil Gubernur - ACEH                              & ACEH            & ACEH & H. Muzakir Manaf                & Ir. H. T.A. Khalid, M.M                & NA             \\\\\n\t6 &    1 &  6 & 890551 & Pemilihan Gubernur/Wakil Gubernur - ACEH                              & ACEH            & ACEH & Drh. H. Irwandi Yusuf, M.Sc     & Ir. H. Nova Iriansyah, MT.             & NA             \\\\\n\t7 & 1492 &  1 &  48201 & Pemilihan Bupati/Walikota dan Wakil Bupati/Walikota - ACEH BARAT      & ACEH BARAT      & ACEH & Dr. (H.C) H. T. Alaidinsyah     & H. Kamaruddin, SE                      & ACEH BARAT     \\\\\n\t8 & 1492 &  2 &  52538 & Pemilihan Bupati/Walikota dan Wakil Bupati/Walikota - ACEH BARAT      & ACEH BARAT      & ACEH & H. Ramli. MS                    & Drs. H. Banta Puteh Syam, SH. MM       & ACEH BARAT     \\\\\n\t9 & 1492 &  3 &   4213 & Pemilihan Bupati/Walikota dan Wakil Bupati/Walikota - ACEH BARAT      & ACEH BARAT      & ACEH & Fuad Hadi, S.H.,M.H             & drh. Muhammad Arif                     & ACEH BARAT     \\\\\n\t10 & 4989 &  1 &  28138 & Pemilihan Bupati/Walikota dan Wakil Bupati/Walikota - ACEH BARAT DAYA & ACEH BARAT DAYA & ACEH & Akmal Ibrahim, SH               & Muslizar. MT                           & ACEH BARAT DAYA\\\\\n\t11 & 4989 &  2 &   1237 & Pemilihan Bupati/Walikota dan Wakil Bupati/Walikota - ACEH BARAT DAYA & ACEH BARAT DAYA & ACEH & Muazam, SE, MM                  & Hermansyah, SH                         & ACEH BARAT DAYA\\\\\n\t12 & 4989 &  3 &   1161 & Pemilihan Bupati/Walikota dan Wakil Bupati/Walikota - ACEH BARAT DAYA & ACEH BARAT DAYA & ACEH & H.HASBI M.SALEH,SE              & TGK. T.ALAMSYAH YUSFA                  & ACEH BARAT DAYA\\\\\n\t13 & 4989 &  5 &   7989 & Pemilihan Bupati/Walikota dan Wakil Bupati/Walikota - ACEH BARAT DAYA & ACEH BARAT DAYA & ACEH & MAIDISAL DIWA                   & RUSLAN                                 & ACEH BARAT DAYA\\\\\n\t14 & 4989 &  6 &  20234 & Pemilihan Bupati/Walikota dan Wakil Bupati/Walikota - ACEH BARAT DAYA & ACEH BARAT DAYA & ACEH & MUKHLIS MS                      & HJ. SYAMSINAR                          & ACEH BARAT DAYA\\\\\n\t15 & 4989 &  7 &    501 & Pemilihan Bupati/Walikota dan Wakil Bupati/Walikota - ACEH BARAT DAYA & ACEH BARAT DAYA & ACEH & H.JUNAIDI                       & EDWAR RAHMAN, S.Pd                     & ACEH BARAT DAYA\\\\\n\t16 & 4989 &  8 &   5346 & Pemilihan Bupati/Walikota dan Wakil Bupati/Walikota - ACEH BARAT DAYA & ACEH BARAT DAYA & ACEH & Muhammad Qudusi                 & Hamdani                                & ACEH BARAT DAYA\\\\\n\t17 & 4989 &  9 &  13108 & Pemilihan Bupati/Walikota dan Wakil Bupati/Walikota - ACEH BARAT DAYA & ACEH BARAT DAYA & ACEH & ERWANTO,SE,MA                   & MUZAKIR ND,SH.i                        & ACEH BARAT DAYA\\\\\n\t18 & 4989 & 10 &   1787 & Pemilihan Bupati/Walikota dan Wakil Bupati/Walikota - ACEH BARAT DAYA & ACEH BARAT DAYA & ACEH & H. ZAINAL ARIFIN, SE. MM        & SAID AZHARI                            & ACEH BARAT DAYA\\\\\n\t19 & 1824 &  1 & 110074 & Pemilihan Bupati/Walikota dan Wakil Bupati/Walikota - ACEH BESAR      & ACEH BESAR      & ACEH & MAWARDI ALI                     & HUSAINI AW                             & ACEH BESAR     \\\\\n\t20 & 1824 &  2 &  82710 & Pemilihan Bupati/Walikota dan Wakil Bupati/Walikota - ACEH BESAR      & ACEH BESAR      & ACEH & SAIFUDDIN YAHYA, SE             & JUANDA DJAMAL, ST                      & ACEH BESAR     \\\\\n\t21 & 5286 &  1 &  33354 & Pemilihan Bupati/Walikota dan Wakil Bupati/Walikota - ACEH JAYA       & ACEH JAYA       & ACEH & DRS. H. T. IRFAN. TB            & TGK. YUSRI. S                          & ACEH JAYA      \\\\\n\t22 & 5286 &  2 &  17413 & Pemilihan Bupati/Walikota dan Wakil Bupati/Walikota - ACEH JAYA       & ACEH JAYA       & ACEH & Ir. Junaidi                     & Bustami Syarbini, ST                   & ACEH JAYA      \\\\\n\t23 & 4233 &  1 &  23401 & Pemilihan Bupati/Walikota dan Wakil Bupati/Walikota - ACEH SINGKIL    & ACEH SINGKIL    & ACEH & H. Safriadi, SH                 & Sariman, SP                            & ACEH SINGKIL   \\\\\n\t24 & 4233 &  2 &   8673 & Pemilihan Bupati/Walikota dan Wakil Bupati/Walikota - ACEH SINGKIL    & ACEH SINGKIL    & ACEH & Yakarim M                       & Roesman Hasmy                          & ACEH SINGKIL   \\\\\n\t25 & 4233 &  3 &  25886 & Pemilihan Bupati/Walikota dan Wakil Bupati/Walikota - ACEH SINGKIL    & ACEH SINGKIL    & ACEH & Dulmusrid                       & H. Sazali, S.Sos                       & ACEH SINGKIL   \\\\\n\t26 & 4233 &  4 &   2568 & Pemilihan Bupati/Walikota dan Wakil Bupati/Walikota - ACEH SINGKIL    & ACEH SINGKIL    & ACEH & Putra Ariyanto                  & Hendri Syahputra                       & ACEH SINGKIL   \\\\\n\t27 & 5694 &  1 &  29578 & Pemilihan Bupati/Walikota dan Wakil Bupati/Walikota - ACEH TAMIANG    & ACEH TAMIANG    & ACEH & Ir. RUSMAN                      & MUHAMMAD ICHSAN                        & ACEH TAMIANG   \\\\\n\t28 & 5694 &  2 &  33154 & Pemilihan Bupati/Walikota dan Wakil Bupati/Walikota - ACEH TAMIANG    & ACEH TAMIANG    & ACEH & H.HAMDAN SATI,ST                & IZWARDI,S.IP                           & ACEH TAMIANG   \\\\\n\t29 & 5694 &  3 &  39552 & Pemilihan Bupati/Walikota dan Wakil Bupati/Walikota - ACEH TAMIANG    & ACEH TAMIANG    & ACEH & H. MURSIL, SH.MKn               & H. T. INSYAFUDDIN, ST                  & ACEH TAMIANG   \\\\\n\t30 & 5694 &  4 &   6067 & Pemilihan Bupati/Walikota dan Wakil Bupati/Walikota - ACEH TAMIANG    & ACEH TAMIANG    & ACEH & Drs. ISKANDAR ZULKARNAIN, MAP   & Drs. H. AHMAD AS'ADI                   & ACEH TAMIANG   \\\\\n\t⋮ & ⋮ & ⋮ & ⋮ & ⋮ & ⋮ & ⋮ & ⋮ & ⋮ & ⋮\\\\\n\t273 & 81104 & 3 &   5594 & Pemilihan Bupati/Walikota dan Wakil Bupati/Walikota - SARMI              & SARMI              & PAPUA            & Ir. ALBERTUS SURIPNO              & ADRIAN ROI SENIS, Amd.Tek           & SARMI             \\\\\n\t274 & 81104 & 4 &   3449 & Pemilihan Bupati/Walikota dan Wakil Bupati/Walikota - SARMI              & SARMI              & PAPUA            & DEMIANUS KYEUW-KYEUW, SH, MH      & Ir. MUSRIADI HP, M.Si               & SARMI             \\\\\n\t275 & 16420 & 1 &  58592 & Pemilihan Bupati/Walikota dan Wakil Bupati/Walikota - SAROLANGUN         & SAROLANGUN         & JAMBI            & Drs. H. MUHAMMAD MADEL            & H. MUSHARSYAH                       & SAROLANGUN        \\\\\n\t276 & 16420 & 2 &  73845 & Pemilihan Bupati/Walikota dan Wakil Bupati/Walikota - SAROLANGUN         & SAROLANGUN         & JAMBI            & Drs. H. CEK ENDRA                 & H. HILLALATIL BADRI                 & SAROLANGUN        \\\\\n\t277 & 76771 & 1 &  24592 & Pemilihan Bupati/Walikota dan Wakil Bupati/Walikota - SERAM BAGIAN BARAT & SERAM BAGIAN BARAT & MALUKU           & Drs. PAULUS SEMUEL PUTTILEIHALAT  & Hi. AMIRUDIN, SE                    & SERAM BAGIAN BARAT\\\\\n\t278 & 76771 & 2 &  30753 & Pemilihan Bupati/Walikota dan Wakil Bupati/Walikota - SERAM BAGIAN BARAT & SERAM BAGIAN BARAT & MALUKU           & SAMSON RICHARGO ATAPARY           & MOHAMAD SUHFI MAJID                 & SERAM BAGIAN BARAT\\\\\n\t279 & 76771 & 3 &  13884 & Pemilihan Bupati/Walikota dan Wakil Bupati/Walikota - SERAM BAGIAN BARAT & SERAM BAGIAN BARAT & MALUKU           & Sanadjihitu Tuhuteru              & Petrus Izaach Suripatty             & SERAM BAGIAN BARAT\\\\\n\t280 & 76771 & 4 &  41017 & Pemilihan Bupati/Walikota dan Wakil Bupati/Walikota - SERAM BAGIAN BARAT & SERAM BAGIAN BARAT & MALUKU           & Drs. Moh. Yasin Payapo, M.Pd      & Timotius Akerina, SE, M.Si          & SERAM BAGIAN BARAT\\\\\n\t281 &  4086 & 1 &  15685 & Pemilihan Bupati/Walikota dan Wakil Bupati/Walikota - SIMEULUE           & SIMEULUE           & ACEH             & Drs.H.RISWAN, NS                  & HAMDAN AMIN, SE                     & SIMEULUE          \\\\\n\t282 &  4086 & 2 &  10654 & Pemilihan Bupati/Walikota dan Wakil Bupati/Walikota - SIMEULUE           & SIMEULUE           & ACEH             & H. ARYAUDIN                       & H. RAPIAN, SE                       & SIMEULUE          \\\\\n\t283 &  4086 & 3 &  20994 & Pemilihan Bupati/Walikota dan Wakil Bupati/Walikota - SIMEULUE           & SIMEULUE           & ACEH             & ERLI HASIM, SH., S.Ag             & AFRIDAWATI                          & SIMEULUE          \\\\\n\t284 & 82022 & 1 &  19220 & Pemilihan Bupati/Walikota dan Wakil Bupati/Walikota - SORONG             & SORONG             & PAPUA BARAT      & Zeth Kadakolo, SE., MM.           & H. Ibrahim Pokko                    & SORONG            \\\\\n\t285 & 82022 & 2 &  29920 & Pemilihan Bupati/Walikota dan Wakil Bupati/Walikota - SORONG             & SORONG             & PAPUA BARAT      & Dr. Johny Kamuru, SH., M.Si.      & Suka Harjono, S.Sos., M.Si.         & SORONG            \\\\\n\t286 & 75425 & 1 & 240055 & Pemilihan Gubernur/Wakil Gubernur - SULAWESI BARAT                       & SULAWESI BARAT     & SULAWESI BARAT   & Dr. H. Suhardi Duka, MM           & H. Kalma Katta, S.Sos., MM          & NA                \\\\\n\t287 & 75425 & 2 & 146769 & Pemilihan Gubernur/Wakil Gubernur - SULAWESI BARAT                       & SULAWESI BARAT     & SULAWESI BARAT   & Mayjen TNI (Purn) Salim S. Mengga & H. Hasanuddin Mashud, S.Hut         & NA                \\\\\n\t288 & 75425 & 3 & 244803 & Pemilihan Gubernur/Wakil Gubernur - SULAWESI BARAT                       & SULAWESI BARAT     & SULAWESI BARAT   & Drs. H. Ali Baal, M.Si            & Hj. Enny Anggraeny  Anwar           & NA                \\\\\n\t289 & 69869 & 1 &  86090 & Pemilihan Bupati/Walikota dan Wakil Bupati/Walikota - TAKALAR            & TAKALAR            & SULAWESI SELATAN & H.Burhanuddin B, S.E.,Ak., M.Si   & H. M. Natsir Ibrahim, S.E           & TAKALAR           \\\\\n\t290 & 69869 & 2 &  88113 & Pemilihan Bupati/Walikota dan Wakil Bupati/Walikota - TAKALAR            & TAKALAR            & SULAWESI SELATAN & H. Syamsari, S.Pt., M.M.          & H. Achmad Dg Se're, S.Sos.          & TAKALAR           \\\\\n\t291 &  7240 & 1 &  44122 & Pemilihan Bupati/Walikota dan Wakil Bupati/Walikota - TAPANULI TENGAH    & TAPANULI TENGAH    & SUMATERA UTARA   & AMIN PARDOMUAN NAPITUPULU, SH, MH & Drs. RAMSES HUTAGALUNG, MM          & TAPANULI TENGAH   \\\\\n\t292 &  7240 & 2 &  22983 & Pemilihan Bupati/Walikota dan Wakil Bupati/Walikota - TAPANULI TENGAH    & TAPANULI TENGAH    & SUMATERA UTARA   & PASTOR RANTINUS SIMANALU          & USTADZ MUHAMMAD SODIKIN LUBIS, S.Ag & TAPANULI TENGAH   \\\\\n\t293 &  7240 & 3 &  64271 & Pemilihan Bupati/Walikota dan Wakil Bupati/Walikota - TAPANULI TENGAH    & TAPANULI TENGAH    & SUMATERA UTARA   & BAKHTIAR AHMAD SIBARANI           & DARWIN SITOMPUL                     & TAPANULI TENGAH   \\\\\n\t294 &  7240 & 4 &  12544 & Pemilihan Bupati/Walikota dan Wakil Bupati/Walikota - TAPANULI TENGAH    & TAPANULI TENGAH    & SUMATERA UTARA   & Ir. BUYUNG SITOMPUL, M.T.         & BINSAR SARUKSUK                     & TAPANULI TENGAH   \\\\\n\t295 & 17215 & 1 &  73263 & Pemilihan Bupati/Walikota dan Wakil Bupati/Walikota - TEBO               & TEBO               & JAMBI            & Hamdi, S.Sos., M.M.               & H. Harmain, S.E., M.M.              & TEBO              \\\\\n\t296 & 17215 & 2 &  90964 & Pemilihan Bupati/Walikota dan Wakil Bupati/Walikota - TEBO               & TEBO               & JAMBI            & H. Sukandar, S.Kom., M.Si.        & Syahlan, S.H.                       & TEBO              \\\\\n\t297 & 78324 & 1 & 103756 & Pemilihan Bupati/Walikota dan Wakil Bupati/Walikota - TOLIKARA           & TOLIKARA           & PAPUA            & USMAN GENONGGA WANIMBO, SE. M.SI  & DINUS WANIMBO, SH                   & TOLIKARA          \\\\\n\t298 & 78324 & 2 &  17077 & Pemilihan Bupati/Walikota dan Wakil Bupati/Walikota - TOLIKARA           & TOLIKARA           & PAPUA            & AMOS YIKWA, SP,. M.Si             & ROBEKA ENEMBE, S.STP., M.KP         & TOLIKARA          \\\\\n\t299 & 78324 & 3 &  68139 & Pemilihan Bupati/Walikota dan Wakil Bupati/Walikota - TOLIKARA           & TOLIKARA           & PAPUA            & Dr. (HC) John Tabo, SE., MBA      & Barnabas Weya, S. Pd                & TOLIKARA          \\\\\n\t300 & 23737 & 1 &  14174 & Pemilihan Bupati/Walikota dan Wakil Bupati/Walikota - TULANG BAWANG      & TULANG BAWANG      & LAMPUNG          & Hi. SYARNUBI, S.Pd.,M.H.          & Hj. SOLIHAH, S.Pd.I.                & TULANG BAWANG     \\\\\n\t301 & 23737 & 2 &  88762 & Pemilihan Bupati/Walikota dan Wakil Bupati/Walikota - TULANG BAWANG      & TULANG BAWANG      & LAMPUNG          & Ir. HANAN A. ROZAK, M.S.          & HERI WARDOYO, S.H.                  & TULANG BAWANG     \\\\\n\t302 & 23737 & 3 &  93689 & Pemilihan Bupati/Walikota dan Wakil Bupati/Walikota - TULANG BAWANG      & TULANG BAWANG      & LAMPUNG          & Hj. WINARTI,S.E.,M.H.             & HENDRIWANSYAH                       & TULANG BAWANG     \\\\\n\\end{tabular}\n",
            "text/markdown": "\nA data.frame: 302 × 9\n\n| <!--/--> | idWilayah &lt;int&gt; | nomorUrut &lt;int&gt; | jumlahSuara &lt;int&gt; | namaPemilihan &lt;chr&gt; | namaWilayah &lt;chr&gt; | namaPropinsi &lt;chr&gt; | namaKd &lt;chr&gt; | namaWkd &lt;chr&gt; | namaKabupatenKota &lt;chr&gt; |\n|---|---|---|---|---|---|---|---|---|---|\n| 1 |    1 |  1 | 403818 | Pemilihan Gubernur/Wakil Gubernur - ACEH                              | ACEH            | ACEH | Ir. H. Tarmizi A. Karim, M.Sc.  | Ir. H. T. Machsalmina Ali, M.M.        | NA              |\n| 2 |    1 |  2 | 132439 | Pemilihan Gubernur/Wakil Gubernur - ACEH                              | ACEH            | ACEH | ZAKARIA SAMAN                   | Ir. H. T. ALAIDINSYAH, M.Eng           | NA              |\n| 3 |    1 |  3 |  42036 | Pemilihan Gubernur/Wakil Gubernur - ACEH                              | ACEH            | ACEH | Dr. Ir. H. Abdullah Puteh, M.Si | Sayed Mustafa Usab Al-Idroes, SE, M.Si | NA              |\n| 4 |    1 |  4 | 165979 | Pemilihan Gubernur/Wakil Gubernur - ACEH                              | ACEH            | ACEH | dr. H. ZAINI ABDULLAH           | Ir. H. NASARUDDIN, MM                  | NA              |\n| 5 |    1 |  5 | 762279 | Pemilihan Gubernur/Wakil Gubernur - ACEH                              | ACEH            | ACEH | H. Muzakir Manaf                | Ir. H. T.A. Khalid, M.M                | NA              |\n| 6 |    1 |  6 | 890551 | Pemilihan Gubernur/Wakil Gubernur - ACEH                              | ACEH            | ACEH | Drh. H. Irwandi Yusuf, M.Sc     | Ir. H. Nova Iriansyah, MT.             | NA              |\n| 7 | 1492 |  1 |  48201 | Pemilihan Bupati/Walikota dan Wakil Bupati/Walikota - ACEH BARAT      | ACEH BARAT      | ACEH | Dr. (H.C) H. T. Alaidinsyah     | H. Kamaruddin, SE                      | ACEH BARAT      |\n| 8 | 1492 |  2 |  52538 | Pemilihan Bupati/Walikota dan Wakil Bupati/Walikota - ACEH BARAT      | ACEH BARAT      | ACEH | H. Ramli. MS                    | Drs. H. Banta Puteh Syam, SH. MM       | ACEH BARAT      |\n| 9 | 1492 |  3 |   4213 | Pemilihan Bupati/Walikota dan Wakil Bupati/Walikota - ACEH BARAT      | ACEH BARAT      | ACEH | Fuad Hadi, S.H.,M.H             | drh. Muhammad Arif                     | ACEH BARAT      |\n| 10 | 4989 |  1 |  28138 | Pemilihan Bupati/Walikota dan Wakil Bupati/Walikota - ACEH BARAT DAYA | ACEH BARAT DAYA | ACEH | Akmal Ibrahim, SH               | Muslizar. MT                           | ACEH BARAT DAYA |\n| 11 | 4989 |  2 |   1237 | Pemilihan Bupati/Walikota dan Wakil Bupati/Walikota - ACEH BARAT DAYA | ACEH BARAT DAYA | ACEH | Muazam, SE, MM                  | Hermansyah, SH                         | ACEH BARAT DAYA |\n| 12 | 4989 |  3 |   1161 | Pemilihan Bupati/Walikota dan Wakil Bupati/Walikota - ACEH BARAT DAYA | ACEH BARAT DAYA | ACEH | H.HASBI M.SALEH,SE              | TGK. T.ALAMSYAH YUSFA                  | ACEH BARAT DAYA |\n| 13 | 4989 |  5 |   7989 | Pemilihan Bupati/Walikota dan Wakil Bupati/Walikota - ACEH BARAT DAYA | ACEH BARAT DAYA | ACEH | MAIDISAL DIWA                   | RUSLAN                                 | ACEH BARAT DAYA |\n| 14 | 4989 |  6 |  20234 | Pemilihan Bupati/Walikota dan Wakil Bupati/Walikota - ACEH BARAT DAYA | ACEH BARAT DAYA | ACEH | MUKHLIS MS                      | HJ. SYAMSINAR                          | ACEH BARAT DAYA |\n| 15 | 4989 |  7 |    501 | Pemilihan Bupati/Walikota dan Wakil Bupati/Walikota - ACEH BARAT DAYA | ACEH BARAT DAYA | ACEH | H.JUNAIDI                       | EDWAR RAHMAN, S.Pd                     | ACEH BARAT DAYA |\n| 16 | 4989 |  8 |   5346 | Pemilihan Bupati/Walikota dan Wakil Bupati/Walikota - ACEH BARAT DAYA | ACEH BARAT DAYA | ACEH | Muhammad Qudusi                 | Hamdani                                | ACEH BARAT DAYA |\n| 17 | 4989 |  9 |  13108 | Pemilihan Bupati/Walikota dan Wakil Bupati/Walikota - ACEH BARAT DAYA | ACEH BARAT DAYA | ACEH | ERWANTO,SE,MA                   | MUZAKIR ND,SH.i                        | ACEH BARAT DAYA |\n| 18 | 4989 | 10 |   1787 | Pemilihan Bupati/Walikota dan Wakil Bupati/Walikota - ACEH BARAT DAYA | ACEH BARAT DAYA | ACEH | H. ZAINAL ARIFIN, SE. MM        | SAID AZHARI                            | ACEH BARAT DAYA |\n| 19 | 1824 |  1 | 110074 | Pemilihan Bupati/Walikota dan Wakil Bupati/Walikota - ACEH BESAR      | ACEH BESAR      | ACEH | MAWARDI ALI                     | HUSAINI AW                             | ACEH BESAR      |\n| 20 | 1824 |  2 |  82710 | Pemilihan Bupati/Walikota dan Wakil Bupati/Walikota - ACEH BESAR      | ACEH BESAR      | ACEH | SAIFUDDIN YAHYA, SE             | JUANDA DJAMAL, ST                      | ACEH BESAR      |\n| 21 | 5286 |  1 |  33354 | Pemilihan Bupati/Walikota dan Wakil Bupati/Walikota - ACEH JAYA       | ACEH JAYA       | ACEH | DRS. H. T. IRFAN. TB            | TGK. YUSRI. S                          | ACEH JAYA       |\n| 22 | 5286 |  2 |  17413 | Pemilihan Bupati/Walikota dan Wakil Bupati/Walikota - ACEH JAYA       | ACEH JAYA       | ACEH | Ir. Junaidi                     | Bustami Syarbini, ST                   | ACEH JAYA       |\n| 23 | 4233 |  1 |  23401 | Pemilihan Bupati/Walikota dan Wakil Bupati/Walikota - ACEH SINGKIL    | ACEH SINGKIL    | ACEH | H. Safriadi, SH                 | Sariman, SP                            | ACEH SINGKIL    |\n| 24 | 4233 |  2 |   8673 | Pemilihan Bupati/Walikota dan Wakil Bupati/Walikota - ACEH SINGKIL    | ACEH SINGKIL    | ACEH | Yakarim M                       | Roesman Hasmy                          | ACEH SINGKIL    |\n| 25 | 4233 |  3 |  25886 | Pemilihan Bupati/Walikota dan Wakil Bupati/Walikota - ACEH SINGKIL    | ACEH SINGKIL    | ACEH | Dulmusrid                       | H. Sazali, S.Sos                       | ACEH SINGKIL    |\n| 26 | 4233 |  4 |   2568 | Pemilihan Bupati/Walikota dan Wakil Bupati/Walikota - ACEH SINGKIL    | ACEH SINGKIL    | ACEH | Putra Ariyanto                  | Hendri Syahputra                       | ACEH SINGKIL    |\n| 27 | 5694 |  1 |  29578 | Pemilihan Bupati/Walikota dan Wakil Bupati/Walikota - ACEH TAMIANG    | ACEH TAMIANG    | ACEH | Ir. RUSMAN                      | MUHAMMAD ICHSAN                        | ACEH TAMIANG    |\n| 28 | 5694 |  2 |  33154 | Pemilihan Bupati/Walikota dan Wakil Bupati/Walikota - ACEH TAMIANG    | ACEH TAMIANG    | ACEH | H.HAMDAN SATI,ST                | IZWARDI,S.IP                           | ACEH TAMIANG    |\n| 29 | 5694 |  3 |  39552 | Pemilihan Bupati/Walikota dan Wakil Bupati/Walikota - ACEH TAMIANG    | ACEH TAMIANG    | ACEH | H. MURSIL, SH.MKn               | H. T. INSYAFUDDIN, ST                  | ACEH TAMIANG    |\n| 30 | 5694 |  4 |   6067 | Pemilihan Bupati/Walikota dan Wakil Bupati/Walikota - ACEH TAMIANG    | ACEH TAMIANG    | ACEH | Drs. ISKANDAR ZULKARNAIN, MAP   | Drs. H. AHMAD AS'ADI                   | ACEH TAMIANG    |\n| ⋮ | ⋮ | ⋮ | ⋮ | ⋮ | ⋮ | ⋮ | ⋮ | ⋮ | ⋮ |\n| 273 | 81104 | 3 |   5594 | Pemilihan Bupati/Walikota dan Wakil Bupati/Walikota - SARMI              | SARMI              | PAPUA            | Ir. ALBERTUS SURIPNO              | ADRIAN ROI SENIS, Amd.Tek           | SARMI              |\n| 274 | 81104 | 4 |   3449 | Pemilihan Bupati/Walikota dan Wakil Bupati/Walikota - SARMI              | SARMI              | PAPUA            | DEMIANUS KYEUW-KYEUW, SH, MH      | Ir. MUSRIADI HP, M.Si               | SARMI              |\n| 275 | 16420 | 1 |  58592 | Pemilihan Bupati/Walikota dan Wakil Bupati/Walikota - SAROLANGUN         | SAROLANGUN         | JAMBI            | Drs. H. MUHAMMAD MADEL            | H. MUSHARSYAH                       | SAROLANGUN         |\n| 276 | 16420 | 2 |  73845 | Pemilihan Bupati/Walikota dan Wakil Bupati/Walikota - SAROLANGUN         | SAROLANGUN         | JAMBI            | Drs. H. CEK ENDRA                 | H. HILLALATIL BADRI                 | SAROLANGUN         |\n| 277 | 76771 | 1 |  24592 | Pemilihan Bupati/Walikota dan Wakil Bupati/Walikota - SERAM BAGIAN BARAT | SERAM BAGIAN BARAT | MALUKU           | Drs. PAULUS SEMUEL PUTTILEIHALAT  | Hi. AMIRUDIN, SE                    | SERAM BAGIAN BARAT |\n| 278 | 76771 | 2 |  30753 | Pemilihan Bupati/Walikota dan Wakil Bupati/Walikota - SERAM BAGIAN BARAT | SERAM BAGIAN BARAT | MALUKU           | SAMSON RICHARGO ATAPARY           | MOHAMAD SUHFI MAJID                 | SERAM BAGIAN BARAT |\n| 279 | 76771 | 3 |  13884 | Pemilihan Bupati/Walikota dan Wakil Bupati/Walikota - SERAM BAGIAN BARAT | SERAM BAGIAN BARAT | MALUKU           | Sanadjihitu Tuhuteru              | Petrus Izaach Suripatty             | SERAM BAGIAN BARAT |\n| 280 | 76771 | 4 |  41017 | Pemilihan Bupati/Walikota dan Wakil Bupati/Walikota - SERAM BAGIAN BARAT | SERAM BAGIAN BARAT | MALUKU           | Drs. Moh. Yasin Payapo, M.Pd      | Timotius Akerina, SE, M.Si          | SERAM BAGIAN BARAT |\n| 281 |  4086 | 1 |  15685 | Pemilihan Bupati/Walikota dan Wakil Bupati/Walikota - SIMEULUE           | SIMEULUE           | ACEH             | Drs.H.RISWAN, NS                  | HAMDAN AMIN, SE                     | SIMEULUE           |\n| 282 |  4086 | 2 |  10654 | Pemilihan Bupati/Walikota dan Wakil Bupati/Walikota - SIMEULUE           | SIMEULUE           | ACEH             | H. ARYAUDIN                       | H. RAPIAN, SE                       | SIMEULUE           |\n| 283 |  4086 | 3 |  20994 | Pemilihan Bupati/Walikota dan Wakil Bupati/Walikota - SIMEULUE           | SIMEULUE           | ACEH             | ERLI HASIM, SH., S.Ag             | AFRIDAWATI                          | SIMEULUE           |\n| 284 | 82022 | 1 |  19220 | Pemilihan Bupati/Walikota dan Wakil Bupati/Walikota - SORONG             | SORONG             | PAPUA BARAT      | Zeth Kadakolo, SE., MM.           | H. Ibrahim Pokko                    | SORONG             |\n| 285 | 82022 | 2 |  29920 | Pemilihan Bupati/Walikota dan Wakil Bupati/Walikota - SORONG             | SORONG             | PAPUA BARAT      | Dr. Johny Kamuru, SH., M.Si.      | Suka Harjono, S.Sos., M.Si.         | SORONG             |\n| 286 | 75425 | 1 | 240055 | Pemilihan Gubernur/Wakil Gubernur - SULAWESI BARAT                       | SULAWESI BARAT     | SULAWESI BARAT   | Dr. H. Suhardi Duka, MM           | H. Kalma Katta, S.Sos., MM          | NA                 |\n| 287 | 75425 | 2 | 146769 | Pemilihan Gubernur/Wakil Gubernur - SULAWESI BARAT                       | SULAWESI BARAT     | SULAWESI BARAT   | Mayjen TNI (Purn) Salim S. Mengga | H. Hasanuddin Mashud, S.Hut         | NA                 |\n| 288 | 75425 | 3 | 244803 | Pemilihan Gubernur/Wakil Gubernur - SULAWESI BARAT                       | SULAWESI BARAT     | SULAWESI BARAT   | Drs. H. Ali Baal, M.Si            | Hj. Enny Anggraeny  Anwar           | NA                 |\n| 289 | 69869 | 1 |  86090 | Pemilihan Bupati/Walikota dan Wakil Bupati/Walikota - TAKALAR            | TAKALAR            | SULAWESI SELATAN | H.Burhanuddin B, S.E.,Ak., M.Si   | H. M. Natsir Ibrahim, S.E           | TAKALAR            |\n| 290 | 69869 | 2 |  88113 | Pemilihan Bupati/Walikota dan Wakil Bupati/Walikota - TAKALAR            | TAKALAR            | SULAWESI SELATAN | H. Syamsari, S.Pt., M.M.          | H. Achmad Dg Se're, S.Sos.          | TAKALAR            |\n| 291 |  7240 | 1 |  44122 | Pemilihan Bupati/Walikota dan Wakil Bupati/Walikota - TAPANULI TENGAH    | TAPANULI TENGAH    | SUMATERA UTARA   | AMIN PARDOMUAN NAPITUPULU, SH, MH | Drs. RAMSES HUTAGALUNG, MM          | TAPANULI TENGAH    |\n| 292 |  7240 | 2 |  22983 | Pemilihan Bupati/Walikota dan Wakil Bupati/Walikota - TAPANULI TENGAH    | TAPANULI TENGAH    | SUMATERA UTARA   | PASTOR RANTINUS SIMANALU          | USTADZ MUHAMMAD SODIKIN LUBIS, S.Ag | TAPANULI TENGAH    |\n| 293 |  7240 | 3 |  64271 | Pemilihan Bupati/Walikota dan Wakil Bupati/Walikota - TAPANULI TENGAH    | TAPANULI TENGAH    | SUMATERA UTARA   | BAKHTIAR AHMAD SIBARANI           | DARWIN SITOMPUL                     | TAPANULI TENGAH    |\n| 294 |  7240 | 4 |  12544 | Pemilihan Bupati/Walikota dan Wakil Bupati/Walikota - TAPANULI TENGAH    | TAPANULI TENGAH    | SUMATERA UTARA   | Ir. BUYUNG SITOMPUL, M.T.         | BINSAR SARUKSUK                     | TAPANULI TENGAH    |\n| 295 | 17215 | 1 |  73263 | Pemilihan Bupati/Walikota dan Wakil Bupati/Walikota - TEBO               | TEBO               | JAMBI            | Hamdi, S.Sos., M.M.               | H. Harmain, S.E., M.M.              | TEBO               |\n| 296 | 17215 | 2 |  90964 | Pemilihan Bupati/Walikota dan Wakil Bupati/Walikota - TEBO               | TEBO               | JAMBI            | H. Sukandar, S.Kom., M.Si.        | Syahlan, S.H.                       | TEBO               |\n| 297 | 78324 | 1 | 103756 | Pemilihan Bupati/Walikota dan Wakil Bupati/Walikota - TOLIKARA           | TOLIKARA           | PAPUA            | USMAN GENONGGA WANIMBO, SE. M.SI  | DINUS WANIMBO, SH                   | TOLIKARA           |\n| 298 | 78324 | 2 |  17077 | Pemilihan Bupati/Walikota dan Wakil Bupati/Walikota - TOLIKARA           | TOLIKARA           | PAPUA            | AMOS YIKWA, SP,. M.Si             | ROBEKA ENEMBE, S.STP., M.KP         | TOLIKARA           |\n| 299 | 78324 | 3 |  68139 | Pemilihan Bupati/Walikota dan Wakil Bupati/Walikota - TOLIKARA           | TOLIKARA           | PAPUA            | Dr. (HC) John Tabo, SE., MBA      | Barnabas Weya, S. Pd                | TOLIKARA           |\n| 300 | 23737 | 1 |  14174 | Pemilihan Bupati/Walikota dan Wakil Bupati/Walikota - TULANG BAWANG      | TULANG BAWANG      | LAMPUNG          | Hi. SYARNUBI, S.Pd.,M.H.          | Hj. SOLIHAH, S.Pd.I.                | TULANG BAWANG      |\n| 301 | 23737 | 2 |  88762 | Pemilihan Bupati/Walikota dan Wakil Bupati/Walikota - TULANG BAWANG      | TULANG BAWANG      | LAMPUNG          | Ir. HANAN A. ROZAK, M.S.          | HERI WARDOYO, S.H.                  | TULANG BAWANG      |\n| 302 | 23737 | 3 |  93689 | Pemilihan Bupati/Walikota dan Wakil Bupati/Walikota - TULANG BAWANG      | TULANG BAWANG      | LAMPUNG          | Hj. WINARTI,S.E.,M.H.             | HENDRIWANSYAH                       | TULANG BAWANG      |\n\n",
            "text/html": [
              "<table>\n",
              "<caption>A data.frame: 302 × 9</caption>\n",
              "<thead>\n",
              "\t<tr><th></th><th scope=col>idWilayah</th><th scope=col>nomorUrut</th><th scope=col>jumlahSuara</th><th scope=col>namaPemilihan</th><th scope=col>namaWilayah</th><th scope=col>namaPropinsi</th><th scope=col>namaKd</th><th scope=col>namaWkd</th><th scope=col>namaKabupatenKota</th></tr>\n",
              "\t<tr><th></th><th scope=col>&lt;int&gt;</th><th scope=col>&lt;int&gt;</th><th scope=col>&lt;int&gt;</th><th scope=col>&lt;chr&gt;</th><th scope=col>&lt;chr&gt;</th><th scope=col>&lt;chr&gt;</th><th scope=col>&lt;chr&gt;</th><th scope=col>&lt;chr&gt;</th><th scope=col>&lt;chr&gt;</th></tr>\n",
              "</thead>\n",
              "<tbody>\n",
              "\t<tr><th scope=row>1</th><td>   1</td><td> 1</td><td>403818</td><td>Pemilihan Gubernur/Wakil Gubernur - ACEH                             </td><td>ACEH           </td><td>ACEH</td><td>Ir. H. Tarmizi A. Karim, M.Sc. </td><td>Ir. H. T. Machsalmina Ali, M.M.       </td><td>NA             </td></tr>\n",
              "\t<tr><th scope=row>2</th><td>   1</td><td> 2</td><td>132439</td><td>Pemilihan Gubernur/Wakil Gubernur - ACEH                             </td><td>ACEH           </td><td>ACEH</td><td>ZAKARIA SAMAN                  </td><td>Ir. H. T. ALAIDINSYAH, M.Eng          </td><td>NA             </td></tr>\n",
              "\t<tr><th scope=row>3</th><td>   1</td><td> 3</td><td> 42036</td><td>Pemilihan Gubernur/Wakil Gubernur - ACEH                             </td><td>ACEH           </td><td>ACEH</td><td>Dr. Ir. H. Abdullah Puteh, M.Si</td><td>Sayed Mustafa Usab Al-Idroes, SE, M.Si</td><td>NA             </td></tr>\n",
              "\t<tr><th scope=row>4</th><td>   1</td><td> 4</td><td>165979</td><td>Pemilihan Gubernur/Wakil Gubernur - ACEH                             </td><td>ACEH           </td><td>ACEH</td><td>dr. H. ZAINI ABDULLAH          </td><td>Ir. H. NASARUDDIN, MM                 </td><td>NA             </td></tr>\n",
              "\t<tr><th scope=row>5</th><td>   1</td><td> 5</td><td>762279</td><td>Pemilihan Gubernur/Wakil Gubernur - ACEH                             </td><td>ACEH           </td><td>ACEH</td><td>H. Muzakir Manaf               </td><td>Ir. H. T.A. Khalid, M.M               </td><td>NA             </td></tr>\n",
              "\t<tr><th scope=row>6</th><td>   1</td><td> 6</td><td>890551</td><td>Pemilihan Gubernur/Wakil Gubernur - ACEH                             </td><td>ACEH           </td><td>ACEH</td><td>Drh. H. Irwandi Yusuf, M.Sc    </td><td>Ir. H. Nova Iriansyah, MT.            </td><td>NA             </td></tr>\n",
              "\t<tr><th scope=row>7</th><td>1492</td><td> 1</td><td> 48201</td><td>Pemilihan Bupati/Walikota dan Wakil Bupati/Walikota - ACEH BARAT     </td><td>ACEH BARAT     </td><td>ACEH</td><td>Dr. (H.C) H. T. Alaidinsyah    </td><td>H. Kamaruddin, SE                     </td><td>ACEH BARAT     </td></tr>\n",
              "\t<tr><th scope=row>8</th><td>1492</td><td> 2</td><td> 52538</td><td>Pemilihan Bupati/Walikota dan Wakil Bupati/Walikota - ACEH BARAT     </td><td>ACEH BARAT     </td><td>ACEH</td><td>H. Ramli. MS                   </td><td>Drs. H. Banta Puteh Syam, SH. MM      </td><td>ACEH BARAT     </td></tr>\n",
              "\t<tr><th scope=row>9</th><td>1492</td><td> 3</td><td>  4213</td><td>Pemilihan Bupati/Walikota dan Wakil Bupati/Walikota - ACEH BARAT     </td><td>ACEH BARAT     </td><td>ACEH</td><td>Fuad Hadi, S.H.,M.H            </td><td>drh. Muhammad Arif                    </td><td>ACEH BARAT     </td></tr>\n",
              "\t<tr><th scope=row>10</th><td>4989</td><td> 1</td><td> 28138</td><td>Pemilihan Bupati/Walikota dan Wakil Bupati/Walikota - ACEH BARAT DAYA</td><td>ACEH BARAT DAYA</td><td>ACEH</td><td>Akmal Ibrahim, SH              </td><td>Muslizar. MT                          </td><td>ACEH BARAT DAYA</td></tr>\n",
              "\t<tr><th scope=row>11</th><td>4989</td><td> 2</td><td>  1237</td><td>Pemilihan Bupati/Walikota dan Wakil Bupati/Walikota - ACEH BARAT DAYA</td><td>ACEH BARAT DAYA</td><td>ACEH</td><td>Muazam, SE, MM                 </td><td>Hermansyah, SH                        </td><td>ACEH BARAT DAYA</td></tr>\n",
              "\t<tr><th scope=row>12</th><td>4989</td><td> 3</td><td>  1161</td><td>Pemilihan Bupati/Walikota dan Wakil Bupati/Walikota - ACEH BARAT DAYA</td><td>ACEH BARAT DAYA</td><td>ACEH</td><td>H.HASBI M.SALEH,SE             </td><td>TGK. T.ALAMSYAH YUSFA                 </td><td>ACEH BARAT DAYA</td></tr>\n",
              "\t<tr><th scope=row>13</th><td>4989</td><td> 5</td><td>  7989</td><td>Pemilihan Bupati/Walikota dan Wakil Bupati/Walikota - ACEH BARAT DAYA</td><td>ACEH BARAT DAYA</td><td>ACEH</td><td>MAIDISAL DIWA                  </td><td>RUSLAN                                </td><td>ACEH BARAT DAYA</td></tr>\n",
              "\t<tr><th scope=row>14</th><td>4989</td><td> 6</td><td> 20234</td><td>Pemilihan Bupati/Walikota dan Wakil Bupati/Walikota - ACEH BARAT DAYA</td><td>ACEH BARAT DAYA</td><td>ACEH</td><td>MUKHLIS MS                     </td><td>HJ. SYAMSINAR                         </td><td>ACEH BARAT DAYA</td></tr>\n",
              "\t<tr><th scope=row>15</th><td>4989</td><td> 7</td><td>   501</td><td>Pemilihan Bupati/Walikota dan Wakil Bupati/Walikota - ACEH BARAT DAYA</td><td>ACEH BARAT DAYA</td><td>ACEH</td><td>H.JUNAIDI                      </td><td>EDWAR RAHMAN, S.Pd                    </td><td>ACEH BARAT DAYA</td></tr>\n",
              "\t<tr><th scope=row>16</th><td>4989</td><td> 8</td><td>  5346</td><td>Pemilihan Bupati/Walikota dan Wakil Bupati/Walikota - ACEH BARAT DAYA</td><td>ACEH BARAT DAYA</td><td>ACEH</td><td>Muhammad Qudusi                </td><td>Hamdani                               </td><td>ACEH BARAT DAYA</td></tr>\n",
              "\t<tr><th scope=row>17</th><td>4989</td><td> 9</td><td> 13108</td><td>Pemilihan Bupati/Walikota dan Wakil Bupati/Walikota - ACEH BARAT DAYA</td><td>ACEH BARAT DAYA</td><td>ACEH</td><td>ERWANTO,SE,MA                  </td><td>MUZAKIR ND,SH.i                       </td><td>ACEH BARAT DAYA</td></tr>\n",
              "\t<tr><th scope=row>18</th><td>4989</td><td>10</td><td>  1787</td><td>Pemilihan Bupati/Walikota dan Wakil Bupati/Walikota - ACEH BARAT DAYA</td><td>ACEH BARAT DAYA</td><td>ACEH</td><td>H. ZAINAL ARIFIN, SE. MM       </td><td>SAID AZHARI                           </td><td>ACEH BARAT DAYA</td></tr>\n",
              "\t<tr><th scope=row>19</th><td>1824</td><td> 1</td><td>110074</td><td>Pemilihan Bupati/Walikota dan Wakil Bupati/Walikota - ACEH BESAR     </td><td>ACEH BESAR     </td><td>ACEH</td><td>MAWARDI ALI                    </td><td>HUSAINI AW                            </td><td>ACEH BESAR     </td></tr>\n",
              "\t<tr><th scope=row>20</th><td>1824</td><td> 2</td><td> 82710</td><td>Pemilihan Bupati/Walikota dan Wakil Bupati/Walikota - ACEH BESAR     </td><td>ACEH BESAR     </td><td>ACEH</td><td>SAIFUDDIN YAHYA, SE            </td><td>JUANDA DJAMAL, ST                     </td><td>ACEH BESAR     </td></tr>\n",
              "\t<tr><th scope=row>21</th><td>5286</td><td> 1</td><td> 33354</td><td>Pemilihan Bupati/Walikota dan Wakil Bupati/Walikota - ACEH JAYA      </td><td>ACEH JAYA      </td><td>ACEH</td><td>DRS. H. T. IRFAN. TB           </td><td>TGK. YUSRI. S                         </td><td>ACEH JAYA      </td></tr>\n",
              "\t<tr><th scope=row>22</th><td>5286</td><td> 2</td><td> 17413</td><td>Pemilihan Bupati/Walikota dan Wakil Bupati/Walikota - ACEH JAYA      </td><td>ACEH JAYA      </td><td>ACEH</td><td>Ir. Junaidi                    </td><td>Bustami Syarbini, ST                  </td><td>ACEH JAYA      </td></tr>\n",
              "\t<tr><th scope=row>23</th><td>4233</td><td> 1</td><td> 23401</td><td>Pemilihan Bupati/Walikota dan Wakil Bupati/Walikota - ACEH SINGKIL   </td><td>ACEH SINGKIL   </td><td>ACEH</td><td>H. Safriadi, SH                </td><td>Sariman, SP                           </td><td>ACEH SINGKIL   </td></tr>\n",
              "\t<tr><th scope=row>24</th><td>4233</td><td> 2</td><td>  8673</td><td>Pemilihan Bupati/Walikota dan Wakil Bupati/Walikota - ACEH SINGKIL   </td><td>ACEH SINGKIL   </td><td>ACEH</td><td>Yakarim M                      </td><td>Roesman Hasmy                         </td><td>ACEH SINGKIL   </td></tr>\n",
              "\t<tr><th scope=row>25</th><td>4233</td><td> 3</td><td> 25886</td><td>Pemilihan Bupati/Walikota dan Wakil Bupati/Walikota - ACEH SINGKIL   </td><td>ACEH SINGKIL   </td><td>ACEH</td><td>Dulmusrid                      </td><td>H. Sazali, S.Sos                      </td><td>ACEH SINGKIL   </td></tr>\n",
              "\t<tr><th scope=row>26</th><td>4233</td><td> 4</td><td>  2568</td><td>Pemilihan Bupati/Walikota dan Wakil Bupati/Walikota - ACEH SINGKIL   </td><td>ACEH SINGKIL   </td><td>ACEH</td><td>Putra Ariyanto                 </td><td>Hendri Syahputra                      </td><td>ACEH SINGKIL   </td></tr>\n",
              "\t<tr><th scope=row>27</th><td>5694</td><td> 1</td><td> 29578</td><td>Pemilihan Bupati/Walikota dan Wakil Bupati/Walikota - ACEH TAMIANG   </td><td>ACEH TAMIANG   </td><td>ACEH</td><td>Ir. RUSMAN                     </td><td>MUHAMMAD ICHSAN                       </td><td>ACEH TAMIANG   </td></tr>\n",
              "\t<tr><th scope=row>28</th><td>5694</td><td> 2</td><td> 33154</td><td>Pemilihan Bupati/Walikota dan Wakil Bupati/Walikota - ACEH TAMIANG   </td><td>ACEH TAMIANG   </td><td>ACEH</td><td>H.HAMDAN SATI,ST               </td><td>IZWARDI,S.IP                          </td><td>ACEH TAMIANG   </td></tr>\n",
              "\t<tr><th scope=row>29</th><td>5694</td><td> 3</td><td> 39552</td><td>Pemilihan Bupati/Walikota dan Wakil Bupati/Walikota - ACEH TAMIANG   </td><td>ACEH TAMIANG   </td><td>ACEH</td><td>H. MURSIL, SH.MKn              </td><td>H. T. INSYAFUDDIN, ST                 </td><td>ACEH TAMIANG   </td></tr>\n",
              "\t<tr><th scope=row>30</th><td>5694</td><td> 4</td><td>  6067</td><td>Pemilihan Bupati/Walikota dan Wakil Bupati/Walikota - ACEH TAMIANG   </td><td>ACEH TAMIANG   </td><td>ACEH</td><td>Drs. ISKANDAR ZULKARNAIN, MAP  </td><td>Drs. H. AHMAD AS'ADI                  </td><td>ACEH TAMIANG   </td></tr>\n",
              "\t<tr><th scope=row>⋮</th><td>⋮</td><td>⋮</td><td>⋮</td><td>⋮</td><td>⋮</td><td>⋮</td><td>⋮</td><td>⋮</td><td>⋮</td></tr>\n",
              "\t<tr><th scope=row>273</th><td>81104</td><td>3</td><td>  5594</td><td>Pemilihan Bupati/Walikota dan Wakil Bupati/Walikota - SARMI             </td><td>SARMI             </td><td>PAPUA           </td><td>Ir. ALBERTUS SURIPNO             </td><td>ADRIAN ROI SENIS, Amd.Tek          </td><td>SARMI             </td></tr>\n",
              "\t<tr><th scope=row>274</th><td>81104</td><td>4</td><td>  3449</td><td>Pemilihan Bupati/Walikota dan Wakil Bupati/Walikota - SARMI             </td><td>SARMI             </td><td>PAPUA           </td><td>DEMIANUS KYEUW-KYEUW, SH, MH     </td><td>Ir. MUSRIADI HP, M.Si              </td><td>SARMI             </td></tr>\n",
              "\t<tr><th scope=row>275</th><td>16420</td><td>1</td><td> 58592</td><td>Pemilihan Bupati/Walikota dan Wakil Bupati/Walikota - SAROLANGUN        </td><td>SAROLANGUN        </td><td>JAMBI           </td><td>Drs. H. MUHAMMAD MADEL           </td><td>H. MUSHARSYAH                      </td><td>SAROLANGUN        </td></tr>\n",
              "\t<tr><th scope=row>276</th><td>16420</td><td>2</td><td> 73845</td><td>Pemilihan Bupati/Walikota dan Wakil Bupati/Walikota - SAROLANGUN        </td><td>SAROLANGUN        </td><td>JAMBI           </td><td>Drs. H. CEK ENDRA                </td><td>H. HILLALATIL BADRI                </td><td>SAROLANGUN        </td></tr>\n",
              "\t<tr><th scope=row>277</th><td>76771</td><td>1</td><td> 24592</td><td>Pemilihan Bupati/Walikota dan Wakil Bupati/Walikota - SERAM BAGIAN BARAT</td><td>SERAM BAGIAN BARAT</td><td>MALUKU          </td><td>Drs. PAULUS SEMUEL PUTTILEIHALAT </td><td>Hi. AMIRUDIN, SE                   </td><td>SERAM BAGIAN BARAT</td></tr>\n",
              "\t<tr><th scope=row>278</th><td>76771</td><td>2</td><td> 30753</td><td>Pemilihan Bupati/Walikota dan Wakil Bupati/Walikota - SERAM BAGIAN BARAT</td><td>SERAM BAGIAN BARAT</td><td>MALUKU          </td><td>SAMSON RICHARGO ATAPARY          </td><td>MOHAMAD SUHFI MAJID                </td><td>SERAM BAGIAN BARAT</td></tr>\n",
              "\t<tr><th scope=row>279</th><td>76771</td><td>3</td><td> 13884</td><td>Pemilihan Bupati/Walikota dan Wakil Bupati/Walikota - SERAM BAGIAN BARAT</td><td>SERAM BAGIAN BARAT</td><td>MALUKU          </td><td>Sanadjihitu Tuhuteru             </td><td>Petrus Izaach Suripatty            </td><td>SERAM BAGIAN BARAT</td></tr>\n",
              "\t<tr><th scope=row>280</th><td>76771</td><td>4</td><td> 41017</td><td>Pemilihan Bupati/Walikota dan Wakil Bupati/Walikota - SERAM BAGIAN BARAT</td><td>SERAM BAGIAN BARAT</td><td>MALUKU          </td><td>Drs. Moh. Yasin Payapo, M.Pd     </td><td>Timotius Akerina, SE, M.Si         </td><td>SERAM BAGIAN BARAT</td></tr>\n",
              "\t<tr><th scope=row>281</th><td> 4086</td><td>1</td><td> 15685</td><td>Pemilihan Bupati/Walikota dan Wakil Bupati/Walikota - SIMEULUE          </td><td>SIMEULUE          </td><td>ACEH            </td><td>Drs.H.RISWAN, NS                 </td><td>HAMDAN AMIN, SE                    </td><td>SIMEULUE          </td></tr>\n",
              "\t<tr><th scope=row>282</th><td> 4086</td><td>2</td><td> 10654</td><td>Pemilihan Bupati/Walikota dan Wakil Bupati/Walikota - SIMEULUE          </td><td>SIMEULUE          </td><td>ACEH            </td><td>H. ARYAUDIN                      </td><td>H. RAPIAN, SE                      </td><td>SIMEULUE          </td></tr>\n",
              "\t<tr><th scope=row>283</th><td> 4086</td><td>3</td><td> 20994</td><td>Pemilihan Bupati/Walikota dan Wakil Bupati/Walikota - SIMEULUE          </td><td>SIMEULUE          </td><td>ACEH            </td><td>ERLI HASIM, SH., S.Ag            </td><td>AFRIDAWATI                         </td><td>SIMEULUE          </td></tr>\n",
              "\t<tr><th scope=row>284</th><td>82022</td><td>1</td><td> 19220</td><td>Pemilihan Bupati/Walikota dan Wakil Bupati/Walikota - SORONG            </td><td>SORONG            </td><td>PAPUA BARAT     </td><td>Zeth Kadakolo, SE., MM.          </td><td>H. Ibrahim Pokko                   </td><td>SORONG            </td></tr>\n",
              "\t<tr><th scope=row>285</th><td>82022</td><td>2</td><td> 29920</td><td>Pemilihan Bupati/Walikota dan Wakil Bupati/Walikota - SORONG            </td><td>SORONG            </td><td>PAPUA BARAT     </td><td>Dr. Johny Kamuru, SH., M.Si.     </td><td>Suka Harjono, S.Sos., M.Si.        </td><td>SORONG            </td></tr>\n",
              "\t<tr><th scope=row>286</th><td>75425</td><td>1</td><td>240055</td><td>Pemilihan Gubernur/Wakil Gubernur - SULAWESI BARAT                      </td><td>SULAWESI BARAT    </td><td>SULAWESI BARAT  </td><td>Dr. H. Suhardi Duka, MM          </td><td>H. Kalma Katta, S.Sos., MM         </td><td>NA                </td></tr>\n",
              "\t<tr><th scope=row>287</th><td>75425</td><td>2</td><td>146769</td><td>Pemilihan Gubernur/Wakil Gubernur - SULAWESI BARAT                      </td><td>SULAWESI BARAT    </td><td>SULAWESI BARAT  </td><td>Mayjen TNI (Purn) Salim S. Mengga</td><td>H. Hasanuddin Mashud, S.Hut        </td><td>NA                </td></tr>\n",
              "\t<tr><th scope=row>288</th><td>75425</td><td>3</td><td>244803</td><td>Pemilihan Gubernur/Wakil Gubernur - SULAWESI BARAT                      </td><td>SULAWESI BARAT    </td><td>SULAWESI BARAT  </td><td>Drs. H. Ali Baal, M.Si           </td><td>Hj. Enny Anggraeny  Anwar          </td><td>NA                </td></tr>\n",
              "\t<tr><th scope=row>289</th><td>69869</td><td>1</td><td> 86090</td><td>Pemilihan Bupati/Walikota dan Wakil Bupati/Walikota - TAKALAR           </td><td>TAKALAR           </td><td>SULAWESI SELATAN</td><td>H.Burhanuddin B, S.E.,Ak., M.Si  </td><td>H. M. Natsir Ibrahim, S.E          </td><td>TAKALAR           </td></tr>\n",
              "\t<tr><th scope=row>290</th><td>69869</td><td>2</td><td> 88113</td><td>Pemilihan Bupati/Walikota dan Wakil Bupati/Walikota - TAKALAR           </td><td>TAKALAR           </td><td>SULAWESI SELATAN</td><td>H. Syamsari, S.Pt., M.M.         </td><td>H. Achmad Dg Se're, S.Sos.         </td><td>TAKALAR           </td></tr>\n",
              "\t<tr><th scope=row>291</th><td> 7240</td><td>1</td><td> 44122</td><td>Pemilihan Bupati/Walikota dan Wakil Bupati/Walikota - TAPANULI TENGAH   </td><td>TAPANULI TENGAH   </td><td>SUMATERA UTARA  </td><td>AMIN PARDOMUAN NAPITUPULU, SH, MH</td><td>Drs. RAMSES HUTAGALUNG, MM         </td><td>TAPANULI TENGAH   </td></tr>\n",
              "\t<tr><th scope=row>292</th><td> 7240</td><td>2</td><td> 22983</td><td>Pemilihan Bupati/Walikota dan Wakil Bupati/Walikota - TAPANULI TENGAH   </td><td>TAPANULI TENGAH   </td><td>SUMATERA UTARA  </td><td>PASTOR RANTINUS SIMANALU         </td><td>USTADZ MUHAMMAD SODIKIN LUBIS, S.Ag</td><td>TAPANULI TENGAH   </td></tr>\n",
              "\t<tr><th scope=row>293</th><td> 7240</td><td>3</td><td> 64271</td><td>Pemilihan Bupati/Walikota dan Wakil Bupati/Walikota - TAPANULI TENGAH   </td><td>TAPANULI TENGAH   </td><td>SUMATERA UTARA  </td><td>BAKHTIAR AHMAD SIBARANI          </td><td>DARWIN SITOMPUL                    </td><td>TAPANULI TENGAH   </td></tr>\n",
              "\t<tr><th scope=row>294</th><td> 7240</td><td>4</td><td> 12544</td><td>Pemilihan Bupati/Walikota dan Wakil Bupati/Walikota - TAPANULI TENGAH   </td><td>TAPANULI TENGAH   </td><td>SUMATERA UTARA  </td><td>Ir. BUYUNG SITOMPUL, M.T.        </td><td>BINSAR SARUKSUK                    </td><td>TAPANULI TENGAH   </td></tr>\n",
              "\t<tr><th scope=row>295</th><td>17215</td><td>1</td><td> 73263</td><td>Pemilihan Bupati/Walikota dan Wakil Bupati/Walikota - TEBO              </td><td>TEBO              </td><td>JAMBI           </td><td>Hamdi, S.Sos., M.M.              </td><td>H. Harmain, S.E., M.M.             </td><td>TEBO              </td></tr>\n",
              "\t<tr><th scope=row>296</th><td>17215</td><td>2</td><td> 90964</td><td>Pemilihan Bupati/Walikota dan Wakil Bupati/Walikota - TEBO              </td><td>TEBO              </td><td>JAMBI           </td><td>H. Sukandar, S.Kom., M.Si.       </td><td>Syahlan, S.H.                      </td><td>TEBO              </td></tr>\n",
              "\t<tr><th scope=row>297</th><td>78324</td><td>1</td><td>103756</td><td>Pemilihan Bupati/Walikota dan Wakil Bupati/Walikota - TOLIKARA          </td><td>TOLIKARA          </td><td>PAPUA           </td><td>USMAN GENONGGA WANIMBO, SE. M.SI </td><td>DINUS WANIMBO, SH                  </td><td>TOLIKARA          </td></tr>\n",
              "\t<tr><th scope=row>298</th><td>78324</td><td>2</td><td> 17077</td><td>Pemilihan Bupati/Walikota dan Wakil Bupati/Walikota - TOLIKARA          </td><td>TOLIKARA          </td><td>PAPUA           </td><td>AMOS YIKWA, SP,. M.Si            </td><td>ROBEKA ENEMBE, S.STP., M.KP        </td><td>TOLIKARA          </td></tr>\n",
              "\t<tr><th scope=row>299</th><td>78324</td><td>3</td><td> 68139</td><td>Pemilihan Bupati/Walikota dan Wakil Bupati/Walikota - TOLIKARA          </td><td>TOLIKARA          </td><td>PAPUA           </td><td>Dr. (HC) John Tabo, SE., MBA     </td><td>Barnabas Weya, S. Pd               </td><td>TOLIKARA          </td></tr>\n",
              "\t<tr><th scope=row>300</th><td>23737</td><td>1</td><td> 14174</td><td>Pemilihan Bupati/Walikota dan Wakil Bupati/Walikota - TULANG BAWANG     </td><td>TULANG BAWANG     </td><td>LAMPUNG         </td><td>Hi. SYARNUBI, S.Pd.,M.H.         </td><td>Hj. SOLIHAH, S.Pd.I.               </td><td>TULANG BAWANG     </td></tr>\n",
              "\t<tr><th scope=row>301</th><td>23737</td><td>2</td><td> 88762</td><td>Pemilihan Bupati/Walikota dan Wakil Bupati/Walikota - TULANG BAWANG     </td><td>TULANG BAWANG     </td><td>LAMPUNG         </td><td>Ir. HANAN A. ROZAK, M.S.         </td><td>HERI WARDOYO, S.H.                 </td><td>TULANG BAWANG     </td></tr>\n",
              "\t<tr><th scope=row>302</th><td>23737</td><td>3</td><td> 93689</td><td>Pemilihan Bupati/Walikota dan Wakil Bupati/Walikota - TULANG BAWANG     </td><td>TULANG BAWANG     </td><td>LAMPUNG         </td><td>Hj. WINARTI,S.E.,M.H.            </td><td>HENDRIWANSYAH                      </td><td>TULANG BAWANG     </td></tr>\n",
              "</tbody>\n",
              "</table>\n"
            ]
          },
          "metadata": {
            "tags": []
          }
        }
      ]
    },
    {
      "cell_type": "code",
      "metadata": {
        "colab": {
          "base_uri": "https://localhost:8080/",
          "height": 176
        },
        "id": "in5hrBc_FT18",
        "outputId": "c04b02be-d547-4521-a795-2c8d335ef355"
      },
      "source": [
        "## view in table form\n",
        "head(kpu_result)"
      ],
      "execution_count": null,
      "outputs": [
        {
          "output_type": "display_data",
          "data": {
            "text/plain": [
              "  idWilayah nomorUrut jumlahSuara namaPemilihan                           \n",
              "1 1         1         403818      Pemilihan Gubernur/Wakil Gubernur - ACEH\n",
              "2 1         2         132439      Pemilihan Gubernur/Wakil Gubernur - ACEH\n",
              "3 1         3          42036      Pemilihan Gubernur/Wakil Gubernur - ACEH\n",
              "4 1         4         165979      Pemilihan Gubernur/Wakil Gubernur - ACEH\n",
              "5 1         5         762279      Pemilihan Gubernur/Wakil Gubernur - ACEH\n",
              "6 1         6         890551      Pemilihan Gubernur/Wakil Gubernur - ACEH\n",
              "  namaWilayah namaPropinsi namaKd                         \n",
              "1 ACEH        ACEH         Ir. H. Tarmizi A. Karim, M.Sc. \n",
              "2 ACEH        ACEH         ZAKARIA SAMAN                  \n",
              "3 ACEH        ACEH         Dr. Ir. H. Abdullah Puteh, M.Si\n",
              "4 ACEH        ACEH         dr. H. ZAINI ABDULLAH          \n",
              "5 ACEH        ACEH         H. Muzakir Manaf               \n",
              "6 ACEH        ACEH         Drh. H. Irwandi Yusuf, M.Sc    \n",
              "  namaWkd                                namaKabupatenKota\n",
              "1 Ir. H. T. Machsalmina Ali, M.M.        NA               \n",
              "2 Ir. H. T. ALAIDINSYAH, M.Eng           NA               \n",
              "3 Sayed Mustafa Usab Al-Idroes, SE, M.Si NA               \n",
              "4 Ir. H. NASARUDDIN, MM                  NA               \n",
              "5 Ir. H. T.A. Khalid, M.M                NA               \n",
              "6 Ir. H. Nova Iriansyah, MT.             NA               "
            ],
            "text/latex": "A data.frame: 6 × 9\n\\begin{tabular}{r|lllllllll}\n  & idWilayah & nomorUrut & jumlahSuara & namaPemilihan & namaWilayah & namaPropinsi & namaKd & namaWkd & namaKabupatenKota\\\\\n  & <int> & <int> & <int> & <chr> & <chr> & <chr> & <chr> & <chr> & <chr>\\\\\n\\hline\n\t1 & 1 & 1 & 403818 & Pemilihan Gubernur/Wakil Gubernur - ACEH & ACEH & ACEH & Ir. H. Tarmizi A. Karim, M.Sc.  & Ir. H. T. Machsalmina Ali, M.M.        & NA\\\\\n\t2 & 1 & 2 & 132439 & Pemilihan Gubernur/Wakil Gubernur - ACEH & ACEH & ACEH & ZAKARIA SAMAN                   & Ir. H. T. ALAIDINSYAH, M.Eng           & NA\\\\\n\t3 & 1 & 3 &  42036 & Pemilihan Gubernur/Wakil Gubernur - ACEH & ACEH & ACEH & Dr. Ir. H. Abdullah Puteh, M.Si & Sayed Mustafa Usab Al-Idroes, SE, M.Si & NA\\\\\n\t4 & 1 & 4 & 165979 & Pemilihan Gubernur/Wakil Gubernur - ACEH & ACEH & ACEH & dr. H. ZAINI ABDULLAH           & Ir. H. NASARUDDIN, MM                  & NA\\\\\n\t5 & 1 & 5 & 762279 & Pemilihan Gubernur/Wakil Gubernur - ACEH & ACEH & ACEH & H. Muzakir Manaf                & Ir. H. T.A. Khalid, M.M                & NA\\\\\n\t6 & 1 & 6 & 890551 & Pemilihan Gubernur/Wakil Gubernur - ACEH & ACEH & ACEH & Drh. H. Irwandi Yusuf, M.Sc     & Ir. H. Nova Iriansyah, MT.             & NA\\\\\n\\end{tabular}\n",
            "text/markdown": "\nA data.frame: 6 × 9\n\n| <!--/--> | idWilayah &lt;int&gt; | nomorUrut &lt;int&gt; | jumlahSuara &lt;int&gt; | namaPemilihan &lt;chr&gt; | namaWilayah &lt;chr&gt; | namaPropinsi &lt;chr&gt; | namaKd &lt;chr&gt; | namaWkd &lt;chr&gt; | namaKabupatenKota &lt;chr&gt; |\n|---|---|---|---|---|---|---|---|---|---|\n| 1 | 1 | 1 | 403818 | Pemilihan Gubernur/Wakil Gubernur - ACEH | ACEH | ACEH | Ir. H. Tarmizi A. Karim, M.Sc.  | Ir. H. T. Machsalmina Ali, M.M.        | NA |\n| 2 | 1 | 2 | 132439 | Pemilihan Gubernur/Wakil Gubernur - ACEH | ACEH | ACEH | ZAKARIA SAMAN                   | Ir. H. T. ALAIDINSYAH, M.Eng           | NA |\n| 3 | 1 | 3 |  42036 | Pemilihan Gubernur/Wakil Gubernur - ACEH | ACEH | ACEH | Dr. Ir. H. Abdullah Puteh, M.Si | Sayed Mustafa Usab Al-Idroes, SE, M.Si | NA |\n| 4 | 1 | 4 | 165979 | Pemilihan Gubernur/Wakil Gubernur - ACEH | ACEH | ACEH | dr. H. ZAINI ABDULLAH           | Ir. H. NASARUDDIN, MM                  | NA |\n| 5 | 1 | 5 | 762279 | Pemilihan Gubernur/Wakil Gubernur - ACEH | ACEH | ACEH | H. Muzakir Manaf                | Ir. H. T.A. Khalid, M.M                | NA |\n| 6 | 1 | 6 | 890551 | Pemilihan Gubernur/Wakil Gubernur - ACEH | ACEH | ACEH | Drh. H. Irwandi Yusuf, M.Sc     | Ir. H. Nova Iriansyah, MT.             | NA |\n\n",
            "text/html": [
              "<table>\n",
              "<caption>A data.frame: 6 × 9</caption>\n",
              "<thead>\n",
              "\t<tr><th></th><th scope=col>idWilayah</th><th scope=col>nomorUrut</th><th scope=col>jumlahSuara</th><th scope=col>namaPemilihan</th><th scope=col>namaWilayah</th><th scope=col>namaPropinsi</th><th scope=col>namaKd</th><th scope=col>namaWkd</th><th scope=col>namaKabupatenKota</th></tr>\n",
              "\t<tr><th></th><th scope=col>&lt;int&gt;</th><th scope=col>&lt;int&gt;</th><th scope=col>&lt;int&gt;</th><th scope=col>&lt;chr&gt;</th><th scope=col>&lt;chr&gt;</th><th scope=col>&lt;chr&gt;</th><th scope=col>&lt;chr&gt;</th><th scope=col>&lt;chr&gt;</th><th scope=col>&lt;chr&gt;</th></tr>\n",
              "</thead>\n",
              "<tbody>\n",
              "\t<tr><th scope=row>1</th><td>1</td><td>1</td><td>403818</td><td>Pemilihan Gubernur/Wakil Gubernur - ACEH</td><td>ACEH</td><td>ACEH</td><td>Ir. H. Tarmizi A. Karim, M.Sc. </td><td>Ir. H. T. Machsalmina Ali, M.M.       </td><td>NA</td></tr>\n",
              "\t<tr><th scope=row>2</th><td>1</td><td>2</td><td>132439</td><td>Pemilihan Gubernur/Wakil Gubernur - ACEH</td><td>ACEH</td><td>ACEH</td><td>ZAKARIA SAMAN                  </td><td>Ir. H. T. ALAIDINSYAH, M.Eng          </td><td>NA</td></tr>\n",
              "\t<tr><th scope=row>3</th><td>1</td><td>3</td><td> 42036</td><td>Pemilihan Gubernur/Wakil Gubernur - ACEH</td><td>ACEH</td><td>ACEH</td><td>Dr. Ir. H. Abdullah Puteh, M.Si</td><td>Sayed Mustafa Usab Al-Idroes, SE, M.Si</td><td>NA</td></tr>\n",
              "\t<tr><th scope=row>4</th><td>1</td><td>4</td><td>165979</td><td>Pemilihan Gubernur/Wakil Gubernur - ACEH</td><td>ACEH</td><td>ACEH</td><td>dr. H. ZAINI ABDULLAH          </td><td>Ir. H. NASARUDDIN, MM                 </td><td>NA</td></tr>\n",
              "\t<tr><th scope=row>5</th><td>1</td><td>5</td><td>762279</td><td>Pemilihan Gubernur/Wakil Gubernur - ACEH</td><td>ACEH</td><td>ACEH</td><td>H. Muzakir Manaf               </td><td>Ir. H. T.A. Khalid, M.M               </td><td>NA</td></tr>\n",
              "\t<tr><th scope=row>6</th><td>1</td><td>6</td><td>890551</td><td>Pemilihan Gubernur/Wakil Gubernur - ACEH</td><td>ACEH</td><td>ACEH</td><td>Drh. H. Irwandi Yusuf, M.Sc    </td><td>Ir. H. Nova Iriansyah, MT.            </td><td>NA</td></tr>\n",
              "</tbody>\n",
              "</table>\n"
            ]
          },
          "metadata": {
            "tags": []
          }
        }
      ]
    },
    {
      "cell_type": "code",
      "metadata": {
        "colab": {
          "base_uri": "https://localhost:8080/",
          "height": 173
        },
        "id": "6M17SGn0FWrp",
        "outputId": "6bfcef4e-823d-4f2a-b54d-d92c90150c5a"
      },
      "source": [
        "# only show election in dki\n",
        "DKI_Jakarta <- subset(kpu_result, subset = namaPropinsi == \"DKI JAKARTA\")\n",
        "head(DKI_Jakarta)"
      ],
      "execution_count": null,
      "outputs": [
        {
          "output_type": "display_data",
          "data": {
            "text/plain": [
              "    idWilayah nomorUrut jumlahSuara\n",
              "109 25823     1          936461    \n",
              "110 25823     2         2357785    \n",
              "111 25823     3         2193530    \n",
              "    namaPemilihan                                   namaWilayah namaPropinsi\n",
              "109 Pemilihan Gubernur/Wakil Gubernur - DKI JAKARTA DKI JAKARTA DKI JAKARTA \n",
              "110 Pemilihan Gubernur/Wakil Gubernur - DKI JAKARTA DKI JAKARTA DKI JAKARTA \n",
              "111 Pemilihan Gubernur/Wakil Gubernur - DKI JAKARTA DKI JAKARTA DKI JAKARTA \n",
              "    namaKd                                       \n",
              "109 Agus Harimurti Yudhoyono, M.Sc., M.P.A., M.A.\n",
              "110 Ir. Basuki Tjahaja Purnama, M.M.             \n",
              "111 Anies Baswedan, Ph.D.                        \n",
              "    namaWkd                                  namaKabupatenKota\n",
              "109 Prof. Dr. Hj. Sylviana Murni, S.H.,M.Si. NA               \n",
              "110 Drs. H. Djarot Saiful Hidayat, M.S.      NA               \n",
              "111 Sandiaga Salahuddin Uno                  NA               "
            ],
            "text/latex": "A data.frame: 3 × 9\n\\begin{tabular}{r|lllllllll}\n  & idWilayah & nomorUrut & jumlahSuara & namaPemilihan & namaWilayah & namaPropinsi & namaKd & namaWkd & namaKabupatenKota\\\\\n  & <int> & <int> & <int> & <chr> & <chr> & <chr> & <chr> & <chr> & <chr>\\\\\n\\hline\n\t109 & 25823 & 1 &  936461 & Pemilihan Gubernur/Wakil Gubernur - DKI JAKARTA & DKI JAKARTA & DKI JAKARTA & Agus Harimurti Yudhoyono, M.Sc., M.P.A., M.A. & Prof. Dr. Hj. Sylviana Murni, S.H.,M.Si. & NA\\\\\n\t110 & 25823 & 2 & 2357785 & Pemilihan Gubernur/Wakil Gubernur - DKI JAKARTA & DKI JAKARTA & DKI JAKARTA & Ir. Basuki Tjahaja Purnama, M.M.              & Drs. H. Djarot Saiful Hidayat, M.S.      & NA\\\\\n\t111 & 25823 & 3 & 2193530 & Pemilihan Gubernur/Wakil Gubernur - DKI JAKARTA & DKI JAKARTA & DKI JAKARTA & Anies Baswedan, Ph.D.                         & Sandiaga Salahuddin Uno                  & NA\\\\\n\\end{tabular}\n",
            "text/markdown": "\nA data.frame: 3 × 9\n\n| <!--/--> | idWilayah &lt;int&gt; | nomorUrut &lt;int&gt; | jumlahSuara &lt;int&gt; | namaPemilihan &lt;chr&gt; | namaWilayah &lt;chr&gt; | namaPropinsi &lt;chr&gt; | namaKd &lt;chr&gt; | namaWkd &lt;chr&gt; | namaKabupatenKota &lt;chr&gt; |\n|---|---|---|---|---|---|---|---|---|---|\n| 109 | 25823 | 1 |  936461 | Pemilihan Gubernur/Wakil Gubernur - DKI JAKARTA | DKI JAKARTA | DKI JAKARTA | Agus Harimurti Yudhoyono, M.Sc., M.P.A., M.A. | Prof. Dr. Hj. Sylviana Murni, S.H.,M.Si. | NA |\n| 110 | 25823 | 2 | 2357785 | Pemilihan Gubernur/Wakil Gubernur - DKI JAKARTA | DKI JAKARTA | DKI JAKARTA | Ir. Basuki Tjahaja Purnama, M.M.              | Drs. H. Djarot Saiful Hidayat, M.S.      | NA |\n| 111 | 25823 | 3 | 2193530 | Pemilihan Gubernur/Wakil Gubernur - DKI JAKARTA | DKI JAKARTA | DKI JAKARTA | Anies Baswedan, Ph.D.                         | Sandiaga Salahuddin Uno                  | NA |\n\n",
            "text/html": [
              "<table>\n",
              "<caption>A data.frame: 3 × 9</caption>\n",
              "<thead>\n",
              "\t<tr><th></th><th scope=col>idWilayah</th><th scope=col>nomorUrut</th><th scope=col>jumlahSuara</th><th scope=col>namaPemilihan</th><th scope=col>namaWilayah</th><th scope=col>namaPropinsi</th><th scope=col>namaKd</th><th scope=col>namaWkd</th><th scope=col>namaKabupatenKota</th></tr>\n",
              "\t<tr><th></th><th scope=col>&lt;int&gt;</th><th scope=col>&lt;int&gt;</th><th scope=col>&lt;int&gt;</th><th scope=col>&lt;chr&gt;</th><th scope=col>&lt;chr&gt;</th><th scope=col>&lt;chr&gt;</th><th scope=col>&lt;chr&gt;</th><th scope=col>&lt;chr&gt;</th><th scope=col>&lt;chr&gt;</th></tr>\n",
              "</thead>\n",
              "<tbody>\n",
              "\t<tr><th scope=row>109</th><td>25823</td><td>1</td><td> 936461</td><td>Pemilihan Gubernur/Wakil Gubernur - DKI JAKARTA</td><td>DKI JAKARTA</td><td>DKI JAKARTA</td><td>Agus Harimurti Yudhoyono, M.Sc., M.P.A., M.A.</td><td>Prof. Dr. Hj. Sylviana Murni, S.H.,M.Si.</td><td>NA</td></tr>\n",
              "\t<tr><th scope=row>110</th><td>25823</td><td>2</td><td>2357785</td><td>Pemilihan Gubernur/Wakil Gubernur - DKI JAKARTA</td><td>DKI JAKARTA</td><td>DKI JAKARTA</td><td>Ir. Basuki Tjahaja Purnama, M.M.             </td><td>Drs. H. Djarot Saiful Hidayat, M.S.     </td><td>NA</td></tr>\n",
              "\t<tr><th scope=row>111</th><td>25823</td><td>3</td><td>2193530</td><td>Pemilihan Gubernur/Wakil Gubernur - DKI JAKARTA</td><td>DKI JAKARTA</td><td>DKI JAKARTA</td><td>Anies Baswedan, Ph.D.                        </td><td>Sandiaga Salahuddin Uno                 </td><td>NA</td></tr>\n",
              "</tbody>\n",
              "</table>\n"
            ]
          },
          "metadata": {
            "tags": []
          }
        }
      ]
    },
    {
      "cell_type": "code",
      "metadata": {
        "colab": {
          "base_uri": "https://localhost:8080/",
          "height": 33
        },
        "id": "pN4rQ74vFWub",
        "outputId": "fa929f8e-1374-42a4-c477-46286cf0e25c"
      },
      "source": [
        "## total vote\n",
        "total_vote_DKI <- sum(DKI_Jakarta[\"jumlahSuara\"])\n",
        "total_vote_DKI"
      ],
      "execution_count": null,
      "outputs": [
        {
          "output_type": "display_data",
          "data": {
            "text/plain": [
              "[1] 5487776"
            ],
            "text/latex": "5487776",
            "text/markdown": "5487776",
            "text/html": [
              "5487776"
            ]
          },
          "metadata": {
            "tags": []
          }
        }
      ]
    },
    {
      "cell_type": "markdown",
      "metadata": {
        "id": "CVQpyQOBG3d6"
      },
      "source": [
        "# 4. Twitter Data"
      ]
    },
    {
      "cell_type": "code",
      "metadata": {
        "colab": {
          "base_uri": "https://localhost:8080/"
        },
        "id": "3R-H9WlAFWzF",
        "outputId": "b0078a4f-944f-41fc-f012-8eb328f3f61c"
      },
      "source": [
        "## Mandatory library\n",
        "library(rtweet)\n",
        "library(httpuv)\n",
        "library(readr)\n",
        "library(dplyr)\n",
        "library(glue)\n",
        "library(tidyverse)\n",
        "library(backports)"
      ],
      "execution_count": null,
      "outputs": [
        {
          "output_type": "stream",
          "text": [
            "\n",
            "Attaching package: ‘glue’\n",
            "\n",
            "\n",
            "The following object is masked from ‘package:dplyr’:\n",
            "\n",
            "    collapse\n",
            "\n",
            "\n"
          ],
          "name": "stderr"
        }
      ]
    },
    {
      "cell_type": "code",
      "metadata": {
        "id": "XP5rskSR8RV4"
      },
      "source": [
        "create_token(app = \"xxx\",\n",
        "  consumer_key = \"xxx\",\n",
        "  consumer_secret = \"xxx\",\n",
        "  access_token = \"xxx\",\n",
        "  access_secret = \"xxx\")"
      ],
      "execution_count": null,
      "outputs": []
    },
    {
      "cell_type": "code",
      "metadata": {
        "colab": {
          "base_uri": "https://localhost:8080/",
          "height": 1000
        },
        "id": "2EAXLrc5FWxu",
        "outputId": "72dbce6d-beac-47d1-a909-3ad3830d6837"
      },
      "source": [
        "## stream twitter\n",
        "stream_tweets(\"\")"
      ],
      "execution_count": null,
      "outputs": [
        {
          "output_type": "stream",
          "text": [
            "Streaming tweets for 30 seconds...\n",
            "\n",
            "Finished streaming tweets!\n",
            "\n"
          ],
          "name": "stderr"
        },
        {
          "output_type": "display_data",
          "data": {
            "text/plain": [
              "     user_id             status_id           created_at         \n",
              "1    1276785579229941760 1334501540112035844 2020-12-03 14:15:35\n",
              "2    1322813392457924609 1334501540103507968 2020-12-03 14:15:35\n",
              "3    2624622524          1334501540124479492 2020-12-03 14:15:35\n",
              "4    3009690385          1334501540103483393 2020-12-03 14:15:35\n",
              "5    2648290290          1334501540103475200 2020-12-03 14:15:35\n",
              "6    376830740           1334501540107853825 2020-12-03 14:15:35\n",
              "7    376830740           1334501565269499905 2020-12-03 14:15:41\n",
              "8    1199623785449607169 1334501540103561218 2020-12-03 14:15:35\n",
              "9    1199623785449607169 1334501569463689218 2020-12-03 14:15:42\n",
              "10   131490716           1334501540107755520 2020-12-03 14:15:35\n",
              "11   1598226744          1334501540103507969 2020-12-03 14:15:35\n",
              "12   1312011938444931072 1334501540116066304 2020-12-03 14:15:35\n",
              "13   1311517014670733312 1334501540132913160 2020-12-03 14:15:35\n",
              "14   1320320887891972097 1334501540116107264 2020-12-03 14:15:35\n",
              "15   1176882277378211840 1334501540120330241 2020-12-03 14:15:35\n",
              "16   1096785748546781185 1334501540133031936 2020-12-03 14:15:35\n",
              "17   898904689818783744  1334501540124475394 2020-12-03 14:15:35\n",
              "18   1297164855338770432 1334501540128821249 2020-12-03 14:15:35\n",
              "19   1176005274605445120 1334501540141391874 2020-12-03 14:15:35\n",
              "20   844683863259410432  1334501540141273089 2020-12-03 14:15:35\n",
              "21   1309293027077152769 1334501540128669698 2020-12-03 14:15:35\n",
              "22   1287821664173121537 1334501540120375297 2020-12-03 14:15:35\n",
              "23   1232336283571228672 1334501540133007363 2020-12-03 14:15:35\n",
              "24   206918296           1334501540128845824 2020-12-03 14:15:35\n",
              "25   242492546           1334501540120436738 2020-12-03 14:15:35\n",
              "26   894251706363420672  1334501540128673792 2020-12-03 14:15:35\n",
              "27   1264118478153244675 1334501540137058304 2020-12-03 14:15:35\n",
              "28   1229061305564160001 1334501540141232128 2020-12-03 14:15:35\n",
              "29   1199674381934317569 1334501540103536642 2020-12-03 14:15:35\n",
              "30   562469829           1334501540133036032 2020-12-03 14:15:35\n",
              "⋮    ⋮                   ⋮                   ⋮                  \n",
              "1743 4773988872          1334501661738369028 2020-12-03 14:16:04\n",
              "1744 1086618028404396033 1334501661759348742 2020-12-03 14:16:04\n",
              "1745 1274046048869199877 1334501661742608387 2020-12-03 14:16:04\n",
              "1746 576289027           1334501661763543040 2020-12-03 14:16:04\n",
              "1747 234447389           1334501661738471424 2020-12-03 14:16:04\n",
              "1748 766702891           1334501661776236545 2020-12-03 14:16:04\n",
              "1749 1315762384775114752 1334501661755248640 2020-12-03 14:16:04\n",
              "1750 1309319738045145088 1334501661772025863 2020-12-03 14:16:04\n",
              "1751 3009667858          1334501661767856134 2020-12-03 14:16:04\n",
              "1752 1311992292006334464 1334501661755191296 2020-12-03 14:16:04\n",
              "1753 2393380022          1334501661767823361 2020-12-03 14:16:04\n",
              "1754 1273934669348630528 1334501661750951936 2020-12-03 14:16:04\n",
              "1755 1334499497112522753 1334501661755076608 2020-12-03 14:16:04\n",
              "1756 711979940426735616  1334501661767766017 2020-12-03 14:16:04\n",
              "1757 1263841910377988096 1334501661742514177 2020-12-03 14:16:04\n",
              "1758 1054222885          1334501661776076806 2020-12-03 14:16:04\n",
              "1759 829761408669712384  1334501661776240640 2020-12-03 14:16:04\n",
              "1760 1315618813451272194 1334501661771907074 2020-12-03 14:16:04\n",
              "1761 1187893938          1334501661763645442 2020-12-03 14:16:04\n",
              "1762 618339628           1334501661742682113 2020-12-03 14:16:04\n",
              "1763 1033594649691209728 1334501661772050438 2020-12-03 14:16:04\n",
              "1764 1308715884622602241 1334501661742665728 2020-12-03 14:16:04\n",
              "1765 1233742915651952640 1334501661776224259 2020-12-03 14:16:04\n",
              "1766 1146969976722657281 1334501661759377411 2020-12-03 14:16:04\n",
              "1767 1333957920384544768 1334501661755256835 2020-12-03 14:16:04\n",
              "1768 1292524812636770304 1334501661776244737 2020-12-03 14:16:04\n",
              "1769 1292101395559133185 1334501661763661826 2020-12-03 14:16:04\n",
              "1770 1304347290908291072 1334501661746716675 2020-12-03 14:16:04\n",
              "1771 914466019           1334501661759451138 2020-12-03 14:16:04\n",
              "1772 1305174462657187841 1334501661755269120 2020-12-03 14:16:04\n",
              "     screen_name    \n",
              "1    GummyYoonies   \n",
              "2    RA_032518      \n",
              "3    debualice      \n",
              "4    cheapMS7       \n",
              "5    0715starb      \n",
              "6    COMIR_UCV      \n",
              "7    COMIR_UCV      \n",
              "8    masiro486925   \n",
              "9    masiro486925   \n",
              "10   tail_furry     \n",
              "11   fireflyCOBRA   \n",
              "12   Lr9MYAWU1HFafQ1\n",
              "13   BOMBbleBee1214 \n",
              "14   rinnmomoTRPG   \n",
              "15   uneedsuns      \n",
              "16   vghigliotti    \n",
              "17   liiterati      \n",
              "18   kylesolioti    \n",
              "19   garlosG77705410\n",
              "20   melodymomo1227 \n",
              "21   gibralarick    \n",
              "22   zippypsd       \n",
              "23   nichtberkant   \n",
              "24   adfontes__     \n",
              "25   Ynaf_Viv       \n",
              "26   alup_4         \n",
              "27   Plum3357       \n",
              "28   Jrwytw1        \n",
              "29   62Stelina      \n",
              "30   jhobieyes      \n",
              "⋮    ⋮              \n",
              "1743 sxtargaze      \n",
              "1744 ragulraj0804   \n",
              "1745 Nightswatcher4 \n",
              "1746 NoKiuy         \n",
              "1747 AudioInkRadio  \n",
              "1748 itjoaovictor   \n",
              "1749 swxetkook01    \n",
              "1750 RBighs         \n",
              "1751 pensierivforme \n",
              "1752 itsgiluiza2    \n",
              "1753 florapastalinda\n",
              "1754 Amitgeeta1     \n",
              "1755 Pranav16663473 \n",
              "1756 Fast72W        \n",
              "1757 ThoughtPower1  \n",
              "1758 inotaka_japan  \n",
              "1759 Alexandre92iizi\n",
              "1760 CR16013259     \n",
              "1761 BraveNewMatt   \n",
              "1762 crazymom93     \n",
              "1763 AsfdfdfsS      \n",
              "1764 bymartinss_    \n",
              "1765 Starbreaker_   \n",
              "1766 lady_huanca    \n",
              "1767 WOVB1M3zx8bIPZg\n",
              "1768 Ronniestan1    \n",
              "1769 AlexCar96523624\n",
              "1770 ichigo12277486 \n",
              "1771 IIL_London     \n",
              "1772 5xdirection    \n",
              "     text                                                                                                                                                                                                                                                                                          \n",
              "1    کی گفته نمیشه احساسات رو ثبت کرد؟ من میتونم تا هر چند سال دیگه به Abyss گوش کنم و امروز رو ثانیه به ثانیه به یاد بیارم\\n#abyss #AbyssByJin                                                                                                                                                    \n",
              "2    @pilikseuuuu 베리식 어자                                                                                                                                                                                                                                                                      \n",
              "3    エリオット:実は俺も筋トレしてるんだぜ。ブラッドの片腕として恥ずかしくない体型維持しとかないとな！                                                                                                                                                                                             \n",
              "4    32052BE2 :参戦ID\\n参加者募集！\\nLv120 グリームニル\\nhttps://t.co/9ZyonlhMTe                                                                                                                                                                                                                   \n",
              "5    気持ちのある人には全力でサポートます^ ^                                                                                                                                                                                                                                                       \n",
              "6    #AcciónClimática significa...\\n\\nMovernos de formas más limpias\\n🚲🚶🏼\\n\\ny menos contaminantes.\\n🚗\\n\\nUtilizar más energía sostenible\\n☀️\\n\\ny menos combustibles fósiles.\\n🛢️\\n\\nAprovechar mejor los alimentos\\n🥦🥕🍅\\n\\ny desperdiciar menos.\\n🗑️                                                \n",
              "7    Bilharzia affects 240 million people. Let's get rid of it @Merck https://t.co/U5Xg5pOdhg https://t.co/aSUpiDS3MJ                                                                                                                                                                              \n",
              "8    『Big Bang Sweet』初オンエア中！\\n\\n聴き逃された方はぜひRadikoのタイムフリー機能で！\\n\\n #素のまんま                                                                                                                                                                                          \n",
              "9    【秒数指定】\\n\\n▼Snow Man 「Big Bang Sweet」\\nhttps://t.co/HbiXkVZDyO\\n\\n▼３rd シングル詳細\\nhttps://t.co/MPHHogWy17\\n\\n#SnowMan #素のまんま \\nhttps://t.co/HbiXkVZDyO                                                                                                                        \n",
              "10   桃鉄の犬がかわいいよね？って話( ˘ω˘ ) https://t.co/2PGeQroB0p                                                                                                                                                                                                                                 \n",
              "11   「わからない」じゃなくて「覚えてない」はプレミ                                                                                                                                                                                                                                                \n",
              "12   こういうのを考えたりすることで、仕事や人間関係にも活きてくると思うんだけどなあ。\\n（性選択仮説とかあんまり人に話さない方がいいけど、、笑）                                                                                                                                                    \n",
              "13   이태일수고했어사랑해보고싶다                     #이태일_각개끝_비비씨가_달려각개             지져스무슨말이필요해사랑해                                                                                                                                                                      \n",
              "14   @nagisa_TRPG_KPL 渚受けが好き                                                                                                                                                                                                                                                                 \n",
              "15   @tanyainrl gua islam tapi knp pengen buat pohon natal anjr, lucu bgt ada lampu lampu nya pls 😔😔                                                                                                                                                                                               \n",
              "16   ora vi porrò un interessante quesito, ovvero: è normale che la nostra prof di chimica ci abbia fatto comprare il libro di quinta (oltre a quello di terza che la scuola ci aveva detto di comprare) perché il programma che dobbiamo fare è su quello di quinta?                              \n",
              "17   @GLDENSMARIANO YOURE SO CUTE                                                                                                                                                                                                                                                                  \n",
              "18   vou só colocar se bater até às 17:00 não sou burra                                                                                                                                                                                                                                            \n",
              "19   @lorenzoipsum Sono lindo se nota que hace rato que está roto.                                                                                                                                                                                                                                 \n",
              "20   セイボリー先輩綺麗だ…                                                                                                                                                                                                                                                                         \n",
              "21   Ada ini bang arick https://t.co/ho811cizyP                                                                                                                                                                                                                                                    \n",
              "22   @wizzedps ?                                                                                                                                                                                                                                                                                   \n",
              "23   @elefun029_ hab mich stark mit einem jetzt alten freund gestritten 🙂                                                                                                                                                                                                                          \n",
              "24   😩🙏 #SpotifyWrapped https://t.co/r9EEFFUncE                                                                                                                                                                                                                                                    \n",
              "25   No os quiero fastidiar el día, pero os recuerdo que estáis pagando la pensión a gente que va diciendo por ahí que os quiere fusilar.                                                                                                                                                          \n",
              "26   いいねお願いします                                                                                                                                                                                                                                                                            \n",
              "27   @Kedama_twst キネマスターってアプリ使ってちょっと色々やって見た☺️                                                                                                                                                                                                                              \n",
              "28   เมื่อคืนหลังการชุมนุม\\nน้องการ์ดคนหนึ่งขับมอเตอร์ไซค์ไปแถวรามคำแหง\\n\\nมีผู้พบนอนจมกองเลือดอยู่\\nได้นำส่งโรงพยาบาลแล้วครับ\\n\\nตอนนี้ยังพูดสับสน\\nมีแผลแตก 3แผลที่หน้าผาก\\nมีแผล ช้ำตามตัว\\nCT กระโหลกศีรษะยุบ เลือดออกในสมอง\\nกำลังจะผ่าตัดครับ\\n\\nท่านใดเห็นเหตุการณ์ รู้เบาะแส กรุณาแจ้งนะครับ https://t.co/joyGuPpNKr                          \n",
              "29   「政治家の妻だからといって行動を縛られるのは日本的」という個人の価値観の問題ではなく、テレビ局が放送法（第４条「政治的公平性の担保」）を遵守するか否かという問題です。ポイントのすり替えはよろしくない。                                                                                      \n",
              "30   daegu boy https://t.co/aWKJbrDsTV                                                                                                                                                                                                                                                             \n",
              "⋮    ⋮                                                                                                                                                                                                                                                                                             \n",
              "1743 #辰海有尽\\n#守异\\n\\n*my OCs https://t.co/jslGGwLplP                                                                                                                                                                                                                                           \n",
              "1744 Crossed 450K tweets and now marching towards 500K tweets 💥\\n\\n#28YearsOfBelovedVIJAY\\n#Master @actorvijay                                                                                                                                                                                     \n",
              "1745 @muddassir1991 @YDAKPK1 @punjab_yda @yda_punjab @ydakp_official @drmatikhan Exactly he was very nice man                                                                                                                                                                                      \n",
              "1746 100年ちょっと前に、やれ不道徳だの有害だの同じようなこと言われてたメディアがありましたね。小説っていうんですけど。                                                                                                                                                                             \n",
              "1747 @smokiesson Thank you sooo much! We love you right back ♥️                                                                                                                                                                                                                                     \n",
              "1748 Todo meu respeito para quem tem Rihanna no top 5 do spotify em pleno 2020                                                                                                                                                                                                                     \n",
              "1749 @93R4P @tsyoong tete con el cabello rojo supremo, concordamos¿?                                                                                                                                                                                                                               \n",
              "1750 @sadsugardaddie But you are                                                                                                                                                                                                                                                                   \n",
              "1751 Da piccola quando mia mamma mi diceva \"no Gaia non possiamo non ho soldi\" le rispondevo: \"eh vabbè paga col bancomat\" come se fosse una sorta di carta magica illimitata che mente mamma mia                                                                                                  \n",
              "1752 ele é tão lindinho aaa \\U0001f970                                                                                                                                                                                                                                                             \n",
              "1753 @eldestapeweb EL CASTIGO LO VAN A SENTIR EN LAS CANCHAS. SIGUE TODO IGUAL                                                                                                                                                                                                                     \n",
              "1754 #GodMorningThursday\\nकविर्देव (कबीर प्रभु) ने सतपुरुष रूप में प्रकट होकर सतलोक में विराजमान होकर प्रथम सतलोक में अन्य रचना की। एक शब्द (वचन) से सोलह द्वीपों की रचना की। -जगतगुरु तत्वदर्शी संत रामपाल जी महाराज \\nअधिक जानकारी के लिए देखें साधना टीवी शाम 7:30 बजे से.. https://t.co/XjL6BpG7fh                             \n",
              "1755 Diljit Paaji tussi bhut wadiyaa kamm kar rahe ho. Kangna da agenda hi Andolan toh dhyan DIVERT karna hai. Eh apne maqsad ch kaamyaab ho rahi hai, tussi esnu reply na dao. Eh bhut  chalak lok ne.\\n\\nEde nal v gal karange, ek war sada kisaanii wala maslaa solve ho jawe. #KisanKiBaat     \n",
              "1756 So does the 1h I just spent updating and maintaining my main work computer count as work time or unacknowledged free labour time?  Begs a question for all those who work form home, do you get paid for what would normally be ITs problem?                                                  \n",
              "1757 @dtytrivedi @dr_livpreet @ramanmann1974 @PMOIndia That is no answer. It’s great that it is happening despite not being a law. But if bjp is serious and farmers are apprehensive, what prevents them to make it \\nInto a law?                                                                 \n",
              "1758 欲しいけど、手に入らないだろうなぁ。\\n\\n転売ヤーとかでさ。                                                                                                                                                                                                                                    \n",
              "1759 This video belongs in a museum 🤣💀 https://t.co/RsvW0jSPIW                                                                                                                                                                                                                                     \n",
              "1760 PayPalのプールに14円くれた人\\nフォートナイトの200円エモートギフトします\\nhttps://t.co/Lu9uQCBcxB                                                                                                                                                                                              \n",
              "1761 @hxrryspears The \"boom! Hammertime\" transition at the beginning made me laugh out loud lmao omg                                                                                                                                                                                               \n",
              "1762 @JDawson168 @kaitlancollins You’re confusing CNN with Fox. Sean Hannity says he never vets his story                                                                                                                                                                                          \n",
              "1763 Hermoso \\U0001f97ahttps://t.co/lMBnoNzofI                                                                                                                                                                                                                                                     \n",
              "1764 @bymartinss_                                                                                                                                                                                                                                                                                  \n",
              "1765 @friedPeeP i just started it I LOVE IT                                                                                                                                                                                                                                                        \n",
              "1766 #대휘 참을성 무엇..?😮❣️\\n#와이엇 표정=내 표정🤣\\n\\n#제작진도참여하는 #MMA2020_본방사수 \\n#MMA이벤트참여 #카카오TV #멜론\\n#멜론뮤직어워드 #MMA2020 #MMA #멜뮤\\n@GoldenChild @AB6IX @WM_ONOFF \\n#재재 #장준 https://t.co/bwDy9XbNmh                                                               \n",
              "1767 https://t.co/ZZjCYCB4wS                                                                                                                                                                                                                                                                       \n",
              "1768 @SkyNews Perhaps those catching the virus having refused the vaccine should be given some paracetamol &amp; sent home to treat themselves. No longer the responsibility of the NHS.                                                                                                           \n",
              "1769 @Esp_Interativo @ibismania  \\U0001f975😏                                                                                                                                                                                                                                                       \n",
              "1770 @8kool_7ciel @little_tansyou おめでとうございます😊                                                                                                                                                                                                                                            \n",
              "1771 @iDAWNUK https://t.co/gQI3AUPwtG                                                                                                                                                                                                                                                              \n",
              "1772 Happy 9 years to 5sos! Its crazy how i remember being so young falling in love with their music and everything about them. I wouldn’t be who I am today if I hadn’t become a fan. Thanks for being the source of my happiness for so many years, here’s to many more:) https://t.co/14IQHPHrW0\n",
              "     source                    display_text_width reply_to_status_id \n",
              "1    Twitter Web App           NA                 NA                 \n",
              "2    Twitter for Android        6                 1334501226646446082\n",
              "3    twittbot.net              NA                 NA                 \n",
              "4    グランブルー ファンタジー NA                 NA                 \n",
              "5    twittbot.net              NA                 NA                 \n",
              "6    Twitter for iPhone        NA                 NA                 \n",
              "7    Twitter for iPhone        NA                 NA                 \n",
              "8    Twitter for iPhone        NA                 NA                 \n",
              "9    Twitter for iPhone        NA                 NA                 \n",
              "10   Twitter Web App           NA                 NA                 \n",
              "11   Twitter Web App           NA                 NA                 \n",
              "12   Twitter for iPhone        NA                 NA                 \n",
              "13   Twitter for Android       NA                 NA                 \n",
              "14   Twitter for iPhone         6                 1334501465117757440\n",
              "15   Twitter for Android       84                 1334452678127050755\n",
              "16   Twitter for iPhone        NA                 NA                 \n",
              "17   Twitter for Android       13                 1334495821396664320\n",
              "18   Twitter for Android       NA                 1334501027505168391\n",
              "19   Twitter for Android       47                 1334488488872439809\n",
              "20   Twitter for iPhone        NA                 NA                 \n",
              "21   Twitter for Android       NA                 NA                 \n",
              "22   Twitter Web App            1                 1334501363896766466\n",
              "23   Twitter for Android       56                 1334494109780889601\n",
              "24   Twitter for iPhone        NA                 NA                 \n",
              "25   Twitter for Android       NA                 NA                 \n",
              "26   Twitter for iPhone        NA                 NA                 \n",
              "27   Twitter for iPhone        27                 1334501079191437312\n",
              "28   Twitter for Android       NA                 NA                 \n",
              "29   Twitter for Android       NA                 NA                 \n",
              "30   Twitter Web App           NA                 NA                 \n",
              "⋮    ⋮                         ⋮                  ⋮                  \n",
              "1743 Twitter for Android        NA                NA                 \n",
              "1744 Twitter for Android        NA                NA                 \n",
              "1745 Twitter for Android        28                1334489735704707073\n",
              "1746 Twitter for Android        NA                NA                 \n",
              "1747 Twitter Web App            46                1334324376561475585\n",
              "1748 Twitter for iPhone         NA                NA                 \n",
              "1749 Twitter Web App            47                1334167913142636544\n",
              "1750 Twitter for Android        11                1334501401318182917\n",
              "1751 Twitter for iPhone         NA                NA                 \n",
              "1752 Twitter for Android        NA                NA                 \n",
              "1753 Twitter for Android        59                1334316425436127232\n",
              "1754 Twitter for Android        NA                NA                 \n",
              "1755 Twitter for Android        NA                NA                 \n",
              "1756 Twitter Web App            NA                NA                 \n",
              "1757 Twitter Web App            90                1334499477592268806\n",
              "1758 Twitter for iPhone         NA                NA                 \n",
              "1759 Twitter for iPhone         NA                NA                 \n",
              "1760 Twitter for Android        NA                NA                 \n",
              "1761 Twitter for Android        82                1334493200820690944\n",
              "1762 Twitter for iPhone         72                1334501101782052864\n",
              "1763 Twitter for Android        NA                NA                 \n",
              "1764 Twitter Web App            NA                1310912615686733829\n",
              "1765 Twitter Web App            27                1334501337187430402\n",
              "1766 Twitter for Android        NA                NA                 \n",
              "1767 Twitter for iPhone          0                NA                 \n",
              "1768 Twitter for Android       131                1334388573710282752\n",
              "1769 Twitter for Android        14                1334336404545884167\n",
              "1770 Twitter for Android        11                1334494928273989632\n",
              "1771 Twitter Web App             0                1334437102596091906\n",
              "1772 Twitter for iPhone        140                NA                 \n",
              "     reply_to_user_id    reply_to_screen_name ⋯ statuses_count favourites_count\n",
              "1    NA                  NA                   ⋯  13509         34540           \n",
              "2    1318783437050769408 pilikseuuuu          ⋯    530           259           \n",
              "3    NA                  NA                   ⋯ 108700             3           \n",
              "4    NA                  NA                   ⋯   7487             0           \n",
              "5    NA                  NA                   ⋯  61488             0           \n",
              "6    NA                  NA                   ⋯  29259         31337           \n",
              "7    NA                  NA                   ⋯  29259         31337           \n",
              "8    NA                  NA                   ⋯   7425          3655           \n",
              "9    NA                  NA                   ⋯   7425          3655           \n",
              "10   NA                  NA                   ⋯  88265         51943           \n",
              "11   NA                  NA                   ⋯ 384213           381           \n",
              "12   NA                  NA                   ⋯    253           123           \n",
              "13   NA                  NA                   ⋯    851          4716           \n",
              "14   1252586663693312007 nagisa_TRPG_KPL      ⋯   1262           405           \n",
              "15   949201977874907136  tanyainrl            ⋯   3335          4233           \n",
              "16   NA                  NA                   ⋯    555          5191           \n",
              "17   1280318688642678789 GLDENSMARIANO        ⋯   7606         27345           \n",
              "18   1297164855338770432 kylesolioti          ⋯   8948          7692           \n",
              "19   824815390903656448  lorenzoipsum         ⋯   4398          3011           \n",
              "20   NA                  NA                   ⋯  55999         46525           \n",
              "21   NA                  NA                   ⋯   2896            82           \n",
              "22   1264043826672480262 wizzedps             ⋯   2037          7242           \n",
              "23   1234103295842672640 elefun029_           ⋯  59102         63806           \n",
              "24   NA                  NA                   ⋯   6373         39322           \n",
              "25   NA                  NA                   ⋯  59453         72818           \n",
              "26   NA                  NA                   ⋯    534           107           \n",
              "27   1248981947419770882 Kedama_twst          ⋯  16239         24571           \n",
              "28   NA                  NA                   ⋯   1990           269           \n",
              "29   NA                  NA                   ⋯   6632         25838           \n",
              "30   NA                  NA                   ⋯  60226         98266           \n",
              "⋮    ⋮                   ⋮                    ⋱ ⋮              ⋮               \n",
              "1743 NA                  NA                   ⋯  86247            693          \n",
              "1744 NA                  NA                   ⋯  15485          31072          \n",
              "1745 2501513963          muddassir1991        ⋯   7169           5525          \n",
              "1746 NA                  NA                   ⋯    616            889          \n",
              "1747 1143196794          smokiesson           ⋯  10746          38787          \n",
              "1748 NA                  NA                   ⋯ 103825          19508          \n",
              "1749 1233841097039863808 93R4P                ⋯   3381             51          \n",
              "1750 1314042432741277696 sadsugardaddie       ⋯  26145          43273          \n",
              "1751 NA                  NA                   ⋯  69852          61084          \n",
              "1752 NA                  NA                   ⋯   2422           6802          \n",
              "1753 2792557771          eldestapeweb         ⋯  12839           5015          \n",
              "1754 NA                  NA                   ⋯  47791          42801          \n",
              "1755 NA                  NA                   ⋯      2              1          \n",
              "1756 NA                  NA                   ⋯   9437           3628          \n",
              "1757 137364924           dtytrivedi           ⋯   9415           2757          \n",
              "1758 NA                  NA                   ⋯   2236           7057          \n",
              "1759 NA                  NA                   ⋯   1586          16939          \n",
              "1760 NA                  NA                   ⋯    632            493          \n",
              "1761 315351722           hxrryspears          ⋯  88514         264788          \n",
              "1762 801837586616557569  JDawson168           ⋯   1107           3149          \n",
              "1763 NA                  NA                   ⋯  38045          51276          \n",
              "1764 1308715884622602241 bymartinss_          ⋯   7719           3578          \n",
              "1765 1000767403582803975 friedPeeP            ⋯   5657          23203          \n",
              "1766 NA                  NA                   ⋯   9091           7795          \n",
              "1767 NA                  NA                   ⋯     73              0          \n",
              "1768 7587032             SkyNews              ⋯    204            103          \n",
              "1769 15911679            Esp_Interativo       ⋯     21            160          \n",
              "1770 1289749053794705408 8kool_7ciel          ⋯   2363           2199          \n",
              "1771 1088785152002662402 iDAWNUK              ⋯   2330           1901          \n",
              "1772 NA                  NA                   ⋯     27              6          \n",
              "     account_created_at  verified profile_url profile_expanded_url account_lang\n",
              "1    2020-06-27 07:53:10 FALSE    NA          NA                   NA          \n",
              "2    2020-11-01 08:12:19 FALSE    NA          NA                   NA          \n",
              "3    2014-07-12 12:51:50 FALSE    NA          NA                   NA          \n",
              "4    2015-02-05 03:07:01 FALSE    NA          NA                   NA          \n",
              "5    2014-07-15 15:51:50 FALSE    NA          NA                   NA          \n",
              "6    2011-09-20 15:28:17 FALSE    NA          NA                   NA          \n",
              "7    2011-09-20 15:28:17 FALSE    NA          NA                   NA          \n",
              "8    2019-11-27 09:39:48 FALSE    NA          NA                   NA          \n",
              "9    2019-11-27 09:39:48 FALSE    NA          NA                   NA          \n",
              "10   2010-04-10 12:32:44 FALSE    NA          NA                   NA          \n",
              "11   2013-07-16 12:07:16 FALSE    NA          NA                   NA          \n",
              "12   2020-10-02 12:50:04 FALSE    NA          NA                   NA          \n",
              "13   2020-10-01 04:03:34 FALSE    NA          NA                   NA          \n",
              "14   2020-10-25 11:07:05 FALSE    NA          NA                   NA          \n",
              "15   2019-09-25 15:33:05 FALSE    NA          NA                   NA          \n",
              "16   2019-02-16 14:57:54 FALSE    NA          NA                   NA          \n",
              "17   2017-08-19 13:49:13 FALSE    NA          NA                   NA          \n",
              "18   2020-08-22 13:33:04 FALSE    NA          NA                   NA          \n",
              "19   2019-09-23 05:28:20 FALSE    NA          NA                   NA          \n",
              "20   2017-03-22 22:55:01 FALSE    NA          NA                   NA          \n",
              "21   2020-09-25 00:46:08 FALSE    NA          NA                   NA          \n",
              "22   2020-07-27 18:46:36 FALSE    NA          NA                   NA          \n",
              "23   2020-02-25 16:07:27 FALSE    NA          NA                   NA          \n",
              "24   2010-10-24 01:56:43 FALSE    NA          NA                   NA          \n",
              "25   2011-01-24 22:31:56 FALSE    NA          NA                   NA          \n",
              "26   2017-08-06 17:39:55 FALSE    NA          NA                   NA          \n",
              "27   2020-05-23 08:58:36 FALSE    NA          NA                   NA          \n",
              "28   2020-02-16 15:13:57 FALSE    NA          NA                   NA          \n",
              "29   2019-11-27 13:00:58 FALSE    NA          NA                   NA          \n",
              "30   2012-04-24 22:26:53 FALSE    NA          NA                   NA          \n",
              "⋮    ⋮                   ⋮        ⋮           ⋮                    ⋮           \n",
              "1743 2016-01-17 15:29:12 FALSE    NA          NA                   NA          \n",
              "1744 2019-01-19 13:35:01 FALSE    NA          NA                   NA          \n",
              "1745 2020-06-19 18:27:24 FALSE    NA          NA                   NA          \n",
              "1746 2012-05-10 14:40:43 FALSE    NA          NA                   NA          \n",
              "1747 2011-01-05 17:46:55 FALSE    NA          NA                   NA          \n",
              "1748 2012-08-19 01:33:04 FALSE    NA          NA                   NA          \n",
              "1749 2020-10-12 21:13:00 FALSE    NA          NA                   NA          \n",
              "1750 2020-09-25 02:32:41 FALSE    NA          NA                   NA          \n",
              "1751 2015-02-01 08:12:39 FALSE    NA          NA                   NA          \n",
              "1752 2020-10-02 11:32:14 FALSE    NA          NA                   NA          \n",
              "1753 2014-03-16 22:56:05 FALSE    NA          NA                   NA          \n",
              "1754 2020-06-19 11:04:53 FALSE    NA          NA                   NA          \n",
              "1755 2020-12-03 14:07:50 FALSE    NA          NA                   NA          \n",
              "1756 2016-03-21 18:17:00 FALSE    NA          NA                   NA          \n",
              "1757 2020-05-22 14:39:42 FALSE    NA          NA                   NA          \n",
              "1758 2013-01-02 04:49:39 FALSE    NA          NA                   NA          \n",
              "1759 2017-02-09 18:38:30 FALSE    NA          NA                   NA          \n",
              "1760 2020-10-12 11:42:56 FALSE    NA          NA                   NA          \n",
              "1761 2013-02-17 00:43:13 FALSE    NA          NA                   NA          \n",
              "1762 2012-06-25 18:46:49 FALSE    NA          NA                   NA          \n",
              "1763 2018-08-26 05:59:02 FALSE    NA          NA                   NA          \n",
              "1764 2020-09-23 10:32:48 FALSE    NA          NA                   NA          \n",
              "1765 2020-02-29 13:17:01 FALSE    NA          NA                   NA          \n",
              "1766 2019-07-05 02:32:06 FALSE    NA          NA                   NA          \n",
              "1767 2020-12-02 02:16:39 FALSE    NA          NA                   NA          \n",
              "1768 2020-08-09 18:15:35 FALSE    NA          NA                   NA          \n",
              "1769 2020-08-08 14:12:50 FALSE    NA          NA                   NA          \n",
              "1770 2020-09-11 09:14:08 FALSE    NA          NA                   NA          \n",
              "1771 2012-10-30 11:45:19 FALSE    NA          NA                   NA          \n",
              "1772 2020-09-13 16:00:22 FALSE    NA          NA                   NA          \n",
              "     profile_banner_url                                                  \n",
              "1    https://pbs.twimg.com/profile_banners/1276785579229941760/1606999052\n",
              "2    https://pbs.twimg.com/profile_banners/1322813392457924609/1606452053\n",
              "3    https://pbs.twimg.com/profile_banners/2624622524/1405183437         \n",
              "4    NA                                                                  \n",
              "5    NA                                                                  \n",
              "6    https://pbs.twimg.com/profile_banners/376830740/1400527302          \n",
              "7    https://pbs.twimg.com/profile_banners/376830740/1400527302          \n",
              "8    https://pbs.twimg.com/profile_banners/1199623785449607169/1606713626\n",
              "9    https://pbs.twimg.com/profile_banners/1199623785449607169/1606713626\n",
              "10   https://pbs.twimg.com/profile_banners/131490716/1355631989          \n",
              "11   https://pbs.twimg.com/profile_banners/1598226744/1595075038         \n",
              "12   https://pbs.twimg.com/profile_banners/1312011938444931072/1601719690\n",
              "13   https://pbs.twimg.com/profile_banners/1311517014670733312/1604798555\n",
              "14   NA                                                                  \n",
              "15   https://pbs.twimg.com/profile_banners/1176882277378211840/1606805127\n",
              "16   https://pbs.twimg.com/profile_banners/1096785748546781185/1606854995\n",
              "17   https://pbs.twimg.com/profile_banners/898904689818783744/1606841712 \n",
              "18   https://pbs.twimg.com/profile_banners/1297164855338770432/1606397446\n",
              "19   https://pbs.twimg.com/profile_banners/1176005274605445120/1587838238\n",
              "20   https://pbs.twimg.com/profile_banners/844683863259410432/1567114671 \n",
              "21   https://pbs.twimg.com/profile_banners/1309293027077152769/1606903909\n",
              "22   https://pbs.twimg.com/profile_banners/1287821664173121537/1606992978\n",
              "23   https://pbs.twimg.com/profile_banners/1232336283571228672/1606692839\n",
              "24   https://pbs.twimg.com/profile_banners/206918296/1572554194          \n",
              "25   https://pbs.twimg.com/profile_banners/242492546/1383301631          \n",
              "26   https://pbs.twimg.com/profile_banners/894251706363420672/1606862973 \n",
              "27   https://pbs.twimg.com/profile_banners/1264118478153244675/1604071706\n",
              "28   https://pbs.twimg.com/profile_banners/1229061305564160001/1597470367\n",
              "29   NA                                                                  \n",
              "30   https://pbs.twimg.com/profile_banners/562469829/1606143424          \n",
              "⋮    ⋮                                                                   \n",
              "1743 https://pbs.twimg.com/profile_banners/4773988872/1606395491         \n",
              "1744 NA                                                                  \n",
              "1745 https://pbs.twimg.com/profile_banners/1274046048869199877/1602438511\n",
              "1746 https://pbs.twimg.com/profile_banners/576289027/1600731685          \n",
              "1747 https://pbs.twimg.com/profile_banners/234447389/1593035169          \n",
              "1748 https://pbs.twimg.com/profile_banners/766702891/1461608139          \n",
              "1749 https://pbs.twimg.com/profile_banners/1315762384775114752/1606961509\n",
              "1750 https://pbs.twimg.com/profile_banners/1309319738045145088/1606534931\n",
              "1751 https://pbs.twimg.com/profile_banners/3009667858/1606835413         \n",
              "1752 https://pbs.twimg.com/profile_banners/1311992292006334464/1606875390\n",
              "1753 NA                                                                  \n",
              "1754 https://pbs.twimg.com/profile_banners/1273934669348630528/1592910056\n",
              "1755 NA                                                                  \n",
              "1756 https://pbs.twimg.com/profile_banners/711979940426735616/1558963279 \n",
              "1757 NA                                                                  \n",
              "1758 https://pbs.twimg.com/profile_banners/1054222885/1459005429         \n",
              "1759 NA                                                                  \n",
              "1760 https://pbs.twimg.com/profile_banners/1315618813451272194/1605437105\n",
              "1761 https://pbs.twimg.com/profile_banners/1187893938/1595366289         \n",
              "1762 https://pbs.twimg.com/profile_banners/618339628/1606089660          \n",
              "1763 https://pbs.twimg.com/profile_banners/1033594649691209728/1535263392\n",
              "1764 https://pbs.twimg.com/profile_banners/1308715884622602241/1606929351\n",
              "1765 https://pbs.twimg.com/profile_banners/1233742915651952640/1605821179\n",
              "1766 https://pbs.twimg.com/profile_banners/1146969976722657281/1592353678\n",
              "1767 https://pbs.twimg.com/profile_banners/1333957920384544768/1606952888\n",
              "1768 NA                                                                  \n",
              "1769 NA                                                                  \n",
              "1770 https://pbs.twimg.com/profile_banners/1304347290908291072/1604214284\n",
              "1771 https://pbs.twimg.com/profile_banners/914466019/1501582558          \n",
              "1772 https://pbs.twimg.com/profile_banners/1305174462657187841/1606942068\n",
              "     profile_background_url                           \n",
              "1                                                     \n",
              "2                                                     \n",
              "3    http://abs.twimg.com/images/themes/theme1/bg.png \n",
              "4    http://abs.twimg.com/images/themes/theme1/bg.png \n",
              "5    http://abs.twimg.com/images/themes/theme1/bg.png \n",
              "6    http://abs.twimg.com/images/themes/theme1/bg.png \n",
              "7    http://abs.twimg.com/images/themes/theme1/bg.png \n",
              "8                                                     \n",
              "9                                                     \n",
              "10   http://abs.twimg.com/images/themes/theme1/bg.png \n",
              "11   http://abs.twimg.com/images/themes/theme1/bg.png \n",
              "12                                                    \n",
              "13                                                    \n",
              "14                                                    \n",
              "15                                                    \n",
              "16                                                    \n",
              "17                                                    \n",
              "18                                                    \n",
              "19                                                    \n",
              "20                                                    \n",
              "21                                                    \n",
              "22                                                    \n",
              "23                                                    \n",
              "24   http://abs.twimg.com/images/themes/theme1/bg.png \n",
              "25   http://abs.twimg.com/images/themes/theme14/bg.gif\n",
              "26                                                    \n",
              "27                                                    \n",
              "28                                                    \n",
              "29                                                    \n",
              "30   http://abs.twimg.com/images/themes/theme1/bg.png \n",
              "⋮    ⋮                                                \n",
              "1743 http://abs.twimg.com/images/themes/theme1/bg.png \n",
              "1744                                                  \n",
              "1745                                                  \n",
              "1746 http://abs.twimg.com/images/themes/theme11/bg.gif\n",
              "1747 http://abs.twimg.com/images/themes/theme14/bg.gif\n",
              "1748 http://abs.twimg.com/images/themes/theme9/bg.gif \n",
              "1749                                                  \n",
              "1750                                                  \n",
              "1751 http://abs.twimg.com/images/themes/theme1/bg.png \n",
              "1752                                                  \n",
              "1753 http://abs.twimg.com/images/themes/theme1/bg.png \n",
              "1754                                                  \n",
              "1755                                                  \n",
              "1756                                                  \n",
              "1757                                                  \n",
              "1758 http://abs.twimg.com/images/themes/theme1/bg.png \n",
              "1759                                                  \n",
              "1760                                                  \n",
              "1761 http://abs.twimg.com/images/themes/theme1/bg.png \n",
              "1762 http://abs.twimg.com/images/themes/theme1/bg.png \n",
              "1763 http://abs.twimg.com/images/themes/theme1/bg.png \n",
              "1764                                                  \n",
              "1765                                                  \n",
              "1766                                                  \n",
              "1767                                                  \n",
              "1768                                                  \n",
              "1769                                                  \n",
              "1770                                                  \n",
              "1771 http://abs.twimg.com/images/themes/theme1/bg.png \n",
              "1772                                                  \n",
              "     profile_image_url                                                            \n",
              "1    http://pbs.twimg.com/profile_images/1334476710226644994/7tjDiJt-_normal.jpg  \n",
              "2    http://pbs.twimg.com/profile_images/1334331670946697219/vDsZBwwY_normal.jpg  \n",
              "3    http://pbs.twimg.com/profile_images/488019873801306113/q7rZHNJz_normal.jpeg  \n",
              "4    http://pbs.twimg.com/profile_images/645691238767718400/yRxOgzXv_normal.jpg   \n",
              "5    http://abs.twimg.com/sticky/default_profile_images/default_profile_normal.png\n",
              "6    http://pbs.twimg.com/profile_images/543517600731254784/wC_nAP6w_normal.jpeg  \n",
              "7    http://pbs.twimg.com/profile_images/543517600731254784/wC_nAP6w_normal.jpeg  \n",
              "8    http://pbs.twimg.com/profile_images/1334171784417931267/-MSQ0DoS_normal.jpg  \n",
              "9    http://pbs.twimg.com/profile_images/1334171784417931267/-MSQ0DoS_normal.jpg  \n",
              "10   http://pbs.twimg.com/profile_images/982004166/20010315_normal.png            \n",
              "11   http://pbs.twimg.com/profile_images/1333034407402164225/MkWkYcbB_normal.jpg  \n",
              "12   http://pbs.twimg.com/profile_images/1312012216128872448/7qg7CrcG_normal.jpg  \n",
              "13   http://pbs.twimg.com/profile_images/1333398413648433154/1AGXPLr1_normal.jpg  \n",
              "14   http://pbs.twimg.com/profile_images/1334112219592724482/eq7DVjG7_normal.jpg  \n",
              "15   http://pbs.twimg.com/profile_images/1333073314139422721/eZrit4T9_normal.jpg  \n",
              "16   http://pbs.twimg.com/profile_images/1333904914565697537/CmEUogYL_normal.jpg  \n",
              "17   http://pbs.twimg.com/profile_images/1333816374666280961/NfGN1XcO_normal.jpg  \n",
              "18   http://pbs.twimg.com/profile_images/1331953549157277703/Gz200u2G_normal.jpg  \n",
              "19   http://pbs.twimg.com/profile_images/1248397789723148298/d-FveKxt_normal.jpg  \n",
              "20   http://pbs.twimg.com/profile_images/1185560474357600257/Bf522xo4_normal.jpg  \n",
              "21   http://pbs.twimg.com/profile_images/1334075882290307075/63KWaRz0_normal.jpg  \n",
              "22   http://pbs.twimg.com/profile_images/1332736887136645122/CPInlGIK_normal.jpg  \n",
              "23   http://pbs.twimg.com/profile_images/1333878815140016128/_AkvaI2l_normal.jpg  \n",
              "24   http://pbs.twimg.com/profile_images/1285754048071770114/3QmbeyzT_normal.jpg  \n",
              "25   http://pbs.twimg.com/profile_images/1233802884325703681/wdAt5OKo_normal.jpg  \n",
              "26   http://pbs.twimg.com/profile_images/1334165717428539393/898tY5jf_normal.jpg  \n",
              "27   http://pbs.twimg.com/profile_images/1330180140924628994/izsEyWdr_normal.jpg  \n",
              "28   http://pbs.twimg.com/profile_images/1330496200328568838/78R_w839_normal.jpg  \n",
              "29   http://pbs.twimg.com/profile_images/1199674906104872960/AbTC0E2V_normal.jpg  \n",
              "30   http://pbs.twimg.com/profile_images/1333615429391175681/8WY4GrU-_normal.jpg  \n",
              "⋮    ⋮                                                                            \n",
              "1743 http://pbs.twimg.com/profile_images/1334367121531305985/20OUppNv_normal.jpg  \n",
              "1744 http://pbs.twimg.com/profile_images/1325102151320834051/kthIQxeO_normal.jpg  \n",
              "1745 http://pbs.twimg.com/profile_images/1332774701819682816/n3LW5RfO_normal.jpg  \n",
              "1746 http://pbs.twimg.com/profile_images/1309470449126895617/XNl1mNhF_normal.jpg  \n",
              "1747 http://pbs.twimg.com/profile_images/1273961459869978625/9l4m7hVh_normal.jpg  \n",
              "1748 http://pbs.twimg.com/profile_images/1269268781307777029/EqpUX2t4_normal.jpg  \n",
              "1749 http://pbs.twimg.com/profile_images/1334498265216266240/jWqLrArc_normal.jpg  \n",
              "1750 http://pbs.twimg.com/profile_images/1333850307835650051/elEeeD9y_normal.jpg  \n",
              "1751 http://pbs.twimg.com/profile_images/1333790487048667141/G3xS81D-_normal.jpg  \n",
              "1752 http://pbs.twimg.com/profile_images/1333945854533783555/6xvsVoTG_normal.jpg  \n",
              "1753 http://pbs.twimg.com/profile_images/1316095165996638208/e5gr130B_normal.jpg  \n",
              "1754 http://pbs.twimg.com/profile_images/1275382900653883392/3ee9ty99_normal.jpg  \n",
              "1755 http://abs.twimg.com/sticky/default_profile_images/default_profile_normal.png\n",
              "1756 http://pbs.twimg.com/profile_images/1133510132183326721/9TiV2MNt_normal.jpg  \n",
              "1757 http://abs.twimg.com/sticky/default_profile_images/default_profile_normal.png\n",
              "1758 http://pbs.twimg.com/profile_images/451141969037631488/460TrVc4_normal.jpeg  \n",
              "1759 http://pbs.twimg.com/profile_images/1288803453486194690/0tEEc_d1_normal.jpg  \n",
              "1760 http://pbs.twimg.com/profile_images/1327925585293635584/hS9JJzfO_normal.jpg  \n",
              "1761 http://pbs.twimg.com/profile_images/1285685518374764544/p4vGOfUn_normal.jpg  \n",
              "1762 http://pbs.twimg.com/profile_images/1304496172896317450/CL_uh_pk_normal.jpg  \n",
              "1763 http://pbs.twimg.com/profile_images/1033595582806413312/FdnlUnTz_normal.jpg  \n",
              "1764 http://pbs.twimg.com/profile_images/1334482814364954626/H9lCZCVq_normal.jpg  \n",
              "1765 http://pbs.twimg.com/profile_images/1334207623189639170/RMkK7ByN_normal.jpg  \n",
              "1766 http://pbs.twimg.com/profile_images/1270152854246952961/HD671z7g_normal.jpg  \n",
              "1767 http://pbs.twimg.com/profile_images/1333968008067358726/aBNOj6-z_normal.jpg  \n",
              "1768 http://abs.twimg.com/sticky/default_profile_images/default_profile_normal.png\n",
              "1769 http://pbs.twimg.com/profile_images/1331649870076268547/9nMj6kpB_normal.jpg  \n",
              "1770 http://pbs.twimg.com/profile_images/1321667587772608512/ZLf4214__normal.jpg  \n",
              "1771 http://pbs.twimg.com/profile_images/892329310027120641/1EpV7EaF_normal.jpg   \n",
              "1772 http://pbs.twimg.com/profile_images/1334237121935192068/IJ0Zk7FM_normal.jpg  "
            ],
            "text/latex": "A tibble: 1772 × 90\n\\begin{tabular}{lllllllllllllllllllll}\n user\\_id & status\\_id & created\\_at & screen\\_name & text & source & display\\_text\\_width & reply\\_to\\_status\\_id & reply\\_to\\_user\\_id & reply\\_to\\_screen\\_name & ⋯ & statuses\\_count & favourites\\_count & account\\_created\\_at & verified & profile\\_url & profile\\_expanded\\_url & account\\_lang & profile\\_banner\\_url & profile\\_background\\_url & profile\\_image\\_url\\\\\n <chr> & <chr> & <dttm> & <chr> & <chr> & <chr> & <dbl> & <chr> & <chr> & <chr> & ⋯ & <int> & <int> & <dttm> & <lgl> & <chr> & <chr> & <lgl> & <chr> & <chr> & <chr>\\\\\n\\hline\n\t 1276785579229941760 & 1334501540112035844 & 2020-12-03 14:15:35 & GummyYoonies    & کی گفته نمیشه احساسات رو ثبت کرد؟ من میتونم تا هر چند سال دیگه به Abyss گوش کنم و امروز رو ثانیه به ثانیه به یاد بیارم\n\\#abyss \\#AbyssByJin                                                                                                                           & Twitter Web App           & NA & NA                  & NA                  & NA              & ⋯ &  13509 & 34540 & 2020-06-27 07:53:10 & FALSE & NA & NA & NA & https://pbs.twimg.com/profile\\_banners/1276785579229941760/1606999052 &                                                   & http://pbs.twimg.com/profile\\_images/1334476710226644994/7tjDiJt-\\_normal.jpg  \\\\\n\t 1322813392457924609 & 1334501540103507968 & 2020-12-03 14:15:35 & RA\\_032518       & @pilikseuuuu 베리식 어자                                                                                                                                                                                                                                             & Twitter for Android       &  6 & 1334501226646446082 & 1318783437050769408 & pilikseuuuu     & ⋯ &    530 &   259 & 2020-11-01 08:12:19 & FALSE & NA & NA & NA & https://pbs.twimg.com/profile\\_banners/1322813392457924609/1606452053 &                                                   & http://pbs.twimg.com/profile\\_images/1334331670946697219/vDsZBwwY\\_normal.jpg  \\\\\n\t 2624622524          & 1334501540124479492 & 2020-12-03 14:15:35 & debualice       & エリオット:実は俺も筋トレしてるんだぜ。ブラッドの片腕として恥ずかしくない体型維持しとかないとな！                                                                                                                                                                    & twittbot.net              & NA & NA                  & NA                  & NA              & ⋯ & 108700 &     3 & 2014-07-12 12:51:50 & FALSE & NA & NA & NA & https://pbs.twimg.com/profile\\_banners/2624622524/1405183437          & http://abs.twimg.com/images/themes/theme1/bg.png  & http://pbs.twimg.com/profile\\_images/488019873801306113/q7rZHNJz\\_normal.jpeg  \\\\\n\t 3009690385          & 1334501540103483393 & 2020-12-03 14:15:35 & cheapMS7        & 32052BE2 :参戦ID\n参加者募集！\nLv120 グリームニル\nhttps://t.co/9ZyonlhMTe                                                                                                                                                                                          & グランブルー ファンタジー & NA & NA                  & NA                  & NA              & ⋯ &   7487 &     0 & 2015-02-05 03:07:01 & FALSE & NA & NA & NA & NA                                                                   & http://abs.twimg.com/images/themes/theme1/bg.png  & http://pbs.twimg.com/profile\\_images/645691238767718400/yRxOgzXv\\_normal.jpg   \\\\\n\t 2648290290          & 1334501540103475200 & 2020-12-03 14:15:35 & 0715starb       & 気持ちのある人には全力でサポートます\\textasciicircum{} \\textasciicircum{}                                                                                                                                                                                                                              & twittbot.net              & NA & NA                  & NA                  & NA              & ⋯ &  61488 &     0 & 2014-07-15 15:51:50 & FALSE & NA & NA & NA & NA                                                                   & http://abs.twimg.com/images/themes/theme1/bg.png  & http://abs.twimg.com/sticky/default\\_profile\\_images/default\\_profile\\_normal.png\\\\\n\t 376830740           & 1334501540107853825 & 2020-12-03 14:15:35 & COMIR\\_UCV       & \\#AcciónClimática significa...\n\nMovernos de formas más limpias\n🚲🚶🏼\n\ny menos contaminantes.\n🚗\n\nUtilizar más energía sostenible\n☀️\n\ny menos combustibles fósiles.\n🛢️\n\nAprovechar mejor los alimentos\n🥦🥕🍅\n\ny desperdiciar menos.\n🗑️                       & Twitter for iPhone        & NA & NA                  & NA                  & NA              & ⋯ &  29259 & 31337 & 2011-09-20 15:28:17 & FALSE & NA & NA & NA & https://pbs.twimg.com/profile\\_banners/376830740/1400527302           & http://abs.twimg.com/images/themes/theme1/bg.png  & http://pbs.twimg.com/profile\\_images/543517600731254784/wC\\_nAP6w\\_normal.jpeg  \\\\\n\t 376830740           & 1334501565269499905 & 2020-12-03 14:15:41 & COMIR\\_UCV       & Bilharzia affects 240 million people. Let's get rid of it @Merck https://t.co/U5Xg5pOdhg https://t.co/aSUpiDS3MJ                                                                                                                                                     & Twitter for iPhone        & NA & NA                  & NA                  & NA              & ⋯ &  29259 & 31337 & 2011-09-20 15:28:17 & FALSE & NA & NA & NA & https://pbs.twimg.com/profile\\_banners/376830740/1400527302           & http://abs.twimg.com/images/themes/theme1/bg.png  & http://pbs.twimg.com/profile\\_images/543517600731254784/wC\\_nAP6w\\_normal.jpeg  \\\\\n\t 1199623785449607169 & 1334501540103561218 & 2020-12-03 14:15:35 & masiro486925    & 『Big Bang Sweet』初オンエア中！\n\n聴き逃された方はぜひRadikoのタイムフリー機能で！\n\n \\#素のまんま                                                                                                                                                                 & Twitter for iPhone        & NA & NA                  & NA                  & NA              & ⋯ &   7425 &  3655 & 2019-11-27 09:39:48 & FALSE & NA & NA & NA & https://pbs.twimg.com/profile\\_banners/1199623785449607169/1606713626 &                                                   & http://pbs.twimg.com/profile\\_images/1334171784417931267/-MSQ0DoS\\_normal.jpg  \\\\\n\t 1199623785449607169 & 1334501569463689218 & 2020-12-03 14:15:42 & masiro486925    & 【秒数指定】\n\n▼Snow Man 「Big Bang Sweet」\nhttps://t.co/HbiXkVZDyO\n\n▼３rd シングル詳細\nhttps://t.co/MPHHogWy17\n\n\\#SnowMan \\#素のまんま \nhttps://t.co/HbiXkVZDyO                                                                                               & Twitter for iPhone        & NA & NA                  & NA                  & NA              & ⋯ &   7425 &  3655 & 2019-11-27 09:39:48 & FALSE & NA & NA & NA & https://pbs.twimg.com/profile\\_banners/1199623785449607169/1606713626 &                                                   & http://pbs.twimg.com/profile\\_images/1334171784417931267/-MSQ0DoS\\_normal.jpg  \\\\\n\t 131490716           & 1334501540107755520 & 2020-12-03 14:15:35 & tail\\_furry      & 桃鉄の犬がかわいいよね？って話( ˘ω˘ ) https://t.co/2PGeQroB0p                                                                                                                                                                                                        & Twitter Web App           & NA & NA                  & NA                  & NA              & ⋯ &  88265 & 51943 & 2010-04-10 12:32:44 & FALSE & NA & NA & NA & https://pbs.twimg.com/profile\\_banners/131490716/1355631989           & http://abs.twimg.com/images/themes/theme1/bg.png  & http://pbs.twimg.com/profile\\_images/982004166/20010315\\_normal.png            \\\\\n\t 1598226744          & 1334501540103507969 & 2020-12-03 14:15:35 & fireflyCOBRA    & 「わからない」じゃなくて「覚えてない」はプレミ                                                                                                                                                                                                                       & Twitter Web App           & NA & NA                  & NA                  & NA              & ⋯ & 384213 &   381 & 2013-07-16 12:07:16 & FALSE & NA & NA & NA & https://pbs.twimg.com/profile\\_banners/1598226744/1595075038          & http://abs.twimg.com/images/themes/theme1/bg.png  & http://pbs.twimg.com/profile\\_images/1333034407402164225/MkWkYcbB\\_normal.jpg  \\\\\n\t 1312011938444931072 & 1334501540116066304 & 2020-12-03 14:15:35 & Lr9MYAWU1HFafQ1 & こういうのを考えたりすることで、仕事や人間関係にも活きてくると思うんだけどなあ。\n（性選択仮説とかあんまり人に話さない方がいいけど、、笑）                                                                                                                           & Twitter for iPhone        & NA & NA                  & NA                  & NA              & ⋯ &    253 &   123 & 2020-10-02 12:50:04 & FALSE & NA & NA & NA & https://pbs.twimg.com/profile\\_banners/1312011938444931072/1601719690 &                                                   & http://pbs.twimg.com/profile\\_images/1312012216128872448/7qg7CrcG\\_normal.jpg  \\\\\n\t 1311517014670733312 & 1334501540132913160 & 2020-12-03 14:15:35 & BOMBbleBee1214  & 이태일수고했어사랑해보고싶다                     \\#이태일\\_각개끝\\_비비씨가\\_달려각개             지져스무슨말이필요해사랑해                                                                                                                                             & Twitter for Android       & NA & NA                  & NA                  & NA              & ⋯ &    851 &  4716 & 2020-10-01 04:03:34 & FALSE & NA & NA & NA & https://pbs.twimg.com/profile\\_banners/1311517014670733312/1604798555 &                                                   & http://pbs.twimg.com/profile\\_images/1333398413648433154/1AGXPLr1\\_normal.jpg  \\\\\n\t 1320320887891972097 & 1334501540116107264 & 2020-12-03 14:15:35 & rinnmomoTRPG    & @nagisa\\_TRPG\\_KPL 渚受けが好き                                                                                                                                                                                                                                        & Twitter for iPhone        &  6 & 1334501465117757440 & 1252586663693312007 & nagisa\\_TRPG\\_KPL & ⋯ &   1262 &   405 & 2020-10-25 11:07:05 & FALSE & NA & NA & NA & NA                                                                   &                                                   & http://pbs.twimg.com/profile\\_images/1334112219592724482/eq7DVjG7\\_normal.jpg  \\\\\n\t 1176882277378211840 & 1334501540120330241 & 2020-12-03 14:15:35 & uneedsuns       & @tanyainrl gua islam tapi knp pengen buat pohon natal anjr, lucu bgt ada lampu lampu nya pls 😔😔                                                                                                                                                                      & Twitter for Android       & 84 & 1334452678127050755 & 949201977874907136  & tanyainrl       & ⋯ &   3335 &  4233 & 2019-09-25 15:33:05 & FALSE & NA & NA & NA & https://pbs.twimg.com/profile\\_banners/1176882277378211840/1606805127 &                                                   & http://pbs.twimg.com/profile\\_images/1333073314139422721/eZrit4T9\\_normal.jpg  \\\\\n\t 1096785748546781185 & 1334501540133031936 & 2020-12-03 14:15:35 & vghigliotti     & ora vi porrò un interessante quesito, ovvero: è normale che la nostra prof di chimica ci abbia fatto comprare il libro di quinta (oltre a quello di terza che la scuola ci aveva detto di comprare) perché il programma che dobbiamo fare è su quello di quinta?     & Twitter for iPhone        & NA & NA                  & NA                  & NA              & ⋯ &    555 &  5191 & 2019-02-16 14:57:54 & FALSE & NA & NA & NA & https://pbs.twimg.com/profile\\_banners/1096785748546781185/1606854995 &                                                   & http://pbs.twimg.com/profile\\_images/1333904914565697537/CmEUogYL\\_normal.jpg  \\\\\n\t 898904689818783744  & 1334501540124475394 & 2020-12-03 14:15:35 & liiterati       & @GLDENSMARIANO YOURE SO CUTE                                                                                                                                                                                                                                         & Twitter for Android       & 13 & 1334495821396664320 & 1280318688642678789 & GLDENSMARIANO   & ⋯ &   7606 & 27345 & 2017-08-19 13:49:13 & FALSE & NA & NA & NA & https://pbs.twimg.com/profile\\_banners/898904689818783744/1606841712  &                                                   & http://pbs.twimg.com/profile\\_images/1333816374666280961/NfGN1XcO\\_normal.jpg  \\\\\n\t 1297164855338770432 & 1334501540128821249 & 2020-12-03 14:15:35 & kylesolioti     & vou só colocar se bater até às 17:00 não sou burra                                                                                                                                                                                                                   & Twitter for Android       & NA & 1334501027505168391 & 1297164855338770432 & kylesolioti     & ⋯ &   8948 &  7692 & 2020-08-22 13:33:04 & FALSE & NA & NA & NA & https://pbs.twimg.com/profile\\_banners/1297164855338770432/1606397446 &                                                   & http://pbs.twimg.com/profile\\_images/1331953549157277703/Gz200u2G\\_normal.jpg  \\\\\n\t 1176005274605445120 & 1334501540141391874 & 2020-12-03 14:15:35 & garlosG77705410 & @lorenzoipsum Sono lindo se nota que hace rato que está roto.                                                                                                                                                                                                        & Twitter for Android       & 47 & 1334488488872439809 & 824815390903656448  & lorenzoipsum    & ⋯ &   4398 &  3011 & 2019-09-23 05:28:20 & FALSE & NA & NA & NA & https://pbs.twimg.com/profile\\_banners/1176005274605445120/1587838238 &                                                   & http://pbs.twimg.com/profile\\_images/1248397789723148298/d-FveKxt\\_normal.jpg  \\\\\n\t 844683863259410432  & 1334501540141273089 & 2020-12-03 14:15:35 & melodymomo1227  & セイボリー先輩綺麗だ…                                                                                                                                                                                                                                                & Twitter for iPhone        & NA & NA                  & NA                  & NA              & ⋯ &  55999 & 46525 & 2017-03-22 22:55:01 & FALSE & NA & NA & NA & https://pbs.twimg.com/profile\\_banners/844683863259410432/1567114671  &                                                   & http://pbs.twimg.com/profile\\_images/1185560474357600257/Bf522xo4\\_normal.jpg  \\\\\n\t 1309293027077152769 & 1334501540128669698 & 2020-12-03 14:15:35 & gibralarick     & Ada ini bang arick https://t.co/ho811cizyP                                                                                                                                                                                                                           & Twitter for Android       & NA & NA                  & NA                  & NA              & ⋯ &   2896 &    82 & 2020-09-25 00:46:08 & FALSE & NA & NA & NA & https://pbs.twimg.com/profile\\_banners/1309293027077152769/1606903909 &                                                   & http://pbs.twimg.com/profile\\_images/1334075882290307075/63KWaRz0\\_normal.jpg  \\\\\n\t 1287821664173121537 & 1334501540120375297 & 2020-12-03 14:15:35 & zippypsd        & @wizzedps ?                                                                                                                                                                                                                                                          & Twitter Web App           &  1 & 1334501363896766466 & 1264043826672480262 & wizzedps        & ⋯ &   2037 &  7242 & 2020-07-27 18:46:36 & FALSE & NA & NA & NA & https://pbs.twimg.com/profile\\_banners/1287821664173121537/1606992978 &                                                   & http://pbs.twimg.com/profile\\_images/1332736887136645122/CPInlGIK\\_normal.jpg  \\\\\n\t 1232336283571228672 & 1334501540133007363 & 2020-12-03 14:15:35 & nichtberkant    & @elefun029\\_ hab mich stark mit einem jetzt alten freund gestritten 🙂                                                                                                                                                                                                 & Twitter for Android       & 56 & 1334494109780889601 & 1234103295842672640 & elefun029\\_      & ⋯ &  59102 & 63806 & 2020-02-25 16:07:27 & FALSE & NA & NA & NA & https://pbs.twimg.com/profile\\_banners/1232336283571228672/1606692839 &                                                   & http://pbs.twimg.com/profile\\_images/1333878815140016128/\\_AkvaI2l\\_normal.jpg  \\\\\n\t 206918296           & 1334501540128845824 & 2020-12-03 14:15:35 & adfontes\\_\\_      & 😩🙏 \\#SpotifyWrapped https://t.co/r9EEFFUncE                                                                                                                                                                                                                           & Twitter for iPhone        & NA & NA                  & NA                  & NA              & ⋯ &   6373 & 39322 & 2010-10-24 01:56:43 & FALSE & NA & NA & NA & https://pbs.twimg.com/profile\\_banners/206918296/1572554194           & http://abs.twimg.com/images/themes/theme1/bg.png  & http://pbs.twimg.com/profile\\_images/1285754048071770114/3QmbeyzT\\_normal.jpg  \\\\\n\t 242492546           & 1334501540120436738 & 2020-12-03 14:15:35 & Ynaf\\_Viv        & No os quiero fastidiar el día, pero os recuerdo que estáis pagando la pensión a gente que va diciendo por ahí que os quiere fusilar.                                                                                                                                 & Twitter for Android       & NA & NA                  & NA                  & NA              & ⋯ &  59453 & 72818 & 2011-01-24 22:31:56 & FALSE & NA & NA & NA & https://pbs.twimg.com/profile\\_banners/242492546/1383301631           & http://abs.twimg.com/images/themes/theme14/bg.gif & http://pbs.twimg.com/profile\\_images/1233802884325703681/wdAt5OKo\\_normal.jpg  \\\\\n\t 894251706363420672  & 1334501540128673792 & 2020-12-03 14:15:35 & alup\\_4          & いいねお願いします                                                                                                                                                                                                                                                   & Twitter for iPhone        & NA & NA                  & NA                  & NA              & ⋯ &    534 &   107 & 2017-08-06 17:39:55 & FALSE & NA & NA & NA & https://pbs.twimg.com/profile\\_banners/894251706363420672/1606862973  &                                                   & http://pbs.twimg.com/profile\\_images/1334165717428539393/898tY5jf\\_normal.jpg  \\\\\n\t 1264118478153244675 & 1334501540137058304 & 2020-12-03 14:15:35 & Plum3357        & @Kedama\\_twst キネマスターってアプリ使ってちょっと色々やって見た☺️                                                                                                                                                                                                     & Twitter for iPhone        & 27 & 1334501079191437312 & 1248981947419770882 & Kedama\\_twst     & ⋯ &  16239 & 24571 & 2020-05-23 08:58:36 & FALSE & NA & NA & NA & https://pbs.twimg.com/profile\\_banners/1264118478153244675/1604071706 &                                                   & http://pbs.twimg.com/profile\\_images/1330180140924628994/izsEyWdr\\_normal.jpg  \\\\\n\t 1229061305564160001 & 1334501540141232128 & 2020-12-03 14:15:35 & Jrwytw1         & เมื่อคืนหลังการชุมนุม\nน้องการ์ดคนหนึ่งขับมอเตอร์ไซค์ไปแถวรามคำแหง\n\nมีผู้พบนอนจมกองเลือดอยู่\nได้นำส่งโรงพยาบาลแล้วครับ\n\nตอนนี้ยังพูดสับสน\nมีแผลแตก 3แผลที่หน้าผาก\nมีแผล ช้ำตามตัว\nCT กระโหลกศีรษะยุบ เลือดออกในสมอง\nกำลังจะผ่าตัดครับ\n\nท่านใดเห็นเหตุการณ์ รู้เบาะแส กรุณาแจ้งนะครับ https://t.co/joyGuPpNKr & Twitter for Android       & NA & NA                  & NA                  & NA              & ⋯ &   1990 &   269 & 2020-02-16 15:13:57 & FALSE & NA & NA & NA & https://pbs.twimg.com/profile\\_banners/1229061305564160001/1597470367 &                                                   & http://pbs.twimg.com/profile\\_images/1330496200328568838/78R\\_w839\\_normal.jpg  \\\\\n\t 1199674381934317569 & 1334501540103536642 & 2020-12-03 14:15:35 & 62Stelina       & 「政治家の妻だからといって行動を縛られるのは日本的」という個人の価値観の問題ではなく、テレビ局が放送法（第４条「政治的公平性の担保」）を遵守するか否かという問題です。ポイントのすり替えはよろしくない。                                                             & Twitter for Android       & NA & NA                  & NA                  & NA              & ⋯ &   6632 & 25838 & 2019-11-27 13:00:58 & FALSE & NA & NA & NA & NA                                                                   &                                                   & http://pbs.twimg.com/profile\\_images/1199674906104872960/AbTC0E2V\\_normal.jpg  \\\\\n\t 562469829           & 1334501540133036032 & 2020-12-03 14:15:35 & jhobieyes       & daegu boy https://t.co/aWKJbrDsTV                                                                                                                                                                                                                                    & Twitter Web App           & NA & NA                  & NA                  & NA              & ⋯ &  60226 & 98266 & 2012-04-24 22:26:53 & FALSE & NA & NA & NA & https://pbs.twimg.com/profile\\_banners/562469829/1606143424           & http://abs.twimg.com/images/themes/theme1/bg.png  & http://pbs.twimg.com/profile\\_images/1333615429391175681/8WY4GrU-\\_normal.jpg  \\\\\n\t ⋮ & ⋮ & ⋮ & ⋮ & ⋮ & ⋮ & ⋮ & ⋮ & ⋮ & ⋮ & ⋱ & ⋮ & ⋮ & ⋮ & ⋮ & ⋮ & ⋮ & ⋮ & ⋮ & ⋮ & ⋮\\\\\n\t 4773988872          & 1334501661738369028 & 2020-12-03 14:16:04 & sxtargaze       & \\#辰海有尽\n\\#守异\n\n*my OCs https://t.co/jslGGwLplP                                                                                                                                                                                                                                            & Twitter for Android &  NA & NA                  & NA                  & NA             & ⋯ &  86247 &    693 & 2016-01-17 15:29:12 & FALSE & NA & NA & NA & https://pbs.twimg.com/profile\\_banners/4773988872/1606395491          & http://abs.twimg.com/images/themes/theme1/bg.png  & http://pbs.twimg.com/profile\\_images/1334367121531305985/20OUppNv\\_normal.jpg  \\\\\n\t 1086618028404396033 & 1334501661759348742 & 2020-12-03 14:16:04 & ragulraj0804    & Crossed 450K tweets and now marching towards 500K tweets 💥\n\n\\#28YearsOfBelovedVIJAY\n\\#Master @actorvijay                                                                                                                                                                                      & Twitter for Android &  NA & NA                  & NA                  & NA             & ⋯ &  15485 &  31072 & 2019-01-19 13:35:01 & FALSE & NA & NA & NA & NA                                                                   &                                                   & http://pbs.twimg.com/profile\\_images/1325102151320834051/kthIQxeO\\_normal.jpg  \\\\\n\t 1274046048869199877 & 1334501661742608387 & 2020-12-03 14:16:04 & Nightswatcher4  & @muddassir1991 @YDAKPK1 @punjab\\_yda @yda\\_punjab @ydakp\\_official @drmatikhan Exactly he was very nice man                                                                                                                                                                                       & Twitter for Android &  28 & 1334489735704707073 & 2501513963          & muddassir1991  & ⋯ &   7169 &   5525 & 2020-06-19 18:27:24 & FALSE & NA & NA & NA & https://pbs.twimg.com/profile\\_banners/1274046048869199877/1602438511 &                                                   & http://pbs.twimg.com/profile\\_images/1332774701819682816/n3LW5RfO\\_normal.jpg  \\\\\n\t 576289027           & 1334501661763543040 & 2020-12-03 14:16:04 & NoKiuy          & 100年ちょっと前に、やれ不道徳だの有害だの同じようなこと言われてたメディアがありましたね。小説っていうんですけど。                                                                                                                                                                              & Twitter for Android &  NA & NA                  & NA                  & NA             & ⋯ &    616 &    889 & 2012-05-10 14:40:43 & FALSE & NA & NA & NA & https://pbs.twimg.com/profile\\_banners/576289027/1600731685           & http://abs.twimg.com/images/themes/theme11/bg.gif & http://pbs.twimg.com/profile\\_images/1309470449126895617/XNl1mNhF\\_normal.jpg  \\\\\n\t 234447389           & 1334501661738471424 & 2020-12-03 14:16:04 & AudioInkRadio   & @smokiesson Thank you sooo much! We love you right back ♥️                                                                                                                                                                                                                                      & Twitter Web App     &  46 & 1334324376561475585 & 1143196794          & smokiesson     & ⋯ &  10746 &  38787 & 2011-01-05 17:46:55 & FALSE & NA & NA & NA & https://pbs.twimg.com/profile\\_banners/234447389/1593035169           & http://abs.twimg.com/images/themes/theme14/bg.gif & http://pbs.twimg.com/profile\\_images/1273961459869978625/9l4m7hVh\\_normal.jpg  \\\\\n\t 766702891           & 1334501661776236545 & 2020-12-03 14:16:04 & itjoaovictor    & Todo meu respeito para quem tem Rihanna no top 5 do spotify em pleno 2020                                                                                                                                                                                                                      & Twitter for iPhone  &  NA & NA                  & NA                  & NA             & ⋯ & 103825 &  19508 & 2012-08-19 01:33:04 & FALSE & NA & NA & NA & https://pbs.twimg.com/profile\\_banners/766702891/1461608139           & http://abs.twimg.com/images/themes/theme9/bg.gif  & http://pbs.twimg.com/profile\\_images/1269268781307777029/EqpUX2t4\\_normal.jpg  \\\\\n\t 1315762384775114752 & 1334501661755248640 & 2020-12-03 14:16:04 & swxetkook01     & @93R4P @tsyoong tete con el cabello rojo supremo, concordamos¿?                                                                                                                                                                                                                                & Twitter Web App     &  47 & 1334167913142636544 & 1233841097039863808 & 93R4P          & ⋯ &   3381 &     51 & 2020-10-12 21:13:00 & FALSE & NA & NA & NA & https://pbs.twimg.com/profile\\_banners/1315762384775114752/1606961509 &                                                   & http://pbs.twimg.com/profile\\_images/1334498265216266240/jWqLrArc\\_normal.jpg  \\\\\n\t 1309319738045145088 & 1334501661772025863 & 2020-12-03 14:16:04 & RBighs          & @sadsugardaddie But you are                                                                                                                                                                                                                                                                    & Twitter for Android &  11 & 1334501401318182917 & 1314042432741277696 & sadsugardaddie & ⋯ &  26145 &  43273 & 2020-09-25 02:32:41 & FALSE & NA & NA & NA & https://pbs.twimg.com/profile\\_banners/1309319738045145088/1606534931 &                                                   & http://pbs.twimg.com/profile\\_images/1333850307835650051/elEeeD9y\\_normal.jpg  \\\\\n\t 3009667858          & 1334501661767856134 & 2020-12-03 14:16:04 & pensierivforme  & Da piccola quando mia mamma mi diceva \"no Gaia non possiamo non ho soldi\" le rispondevo: \"eh vabbè paga col bancomat\" come se fosse una sorta di carta magica illimitata che mente mamma mia                                                                                                   & Twitter for iPhone  &  NA & NA                  & NA                  & NA             & ⋯ &  69852 &  61084 & 2015-02-01 08:12:39 & FALSE & NA & NA & NA & https://pbs.twimg.com/profile\\_banners/3009667858/1606835413          & http://abs.twimg.com/images/themes/theme1/bg.png  & http://pbs.twimg.com/profile\\_images/1333790487048667141/G3xS81D-\\_normal.jpg  \\\\\n\t 1311992292006334464 & 1334501661755191296 & 2020-12-03 14:16:04 & itsgiluiza2     & ele é tão lindinho aaa 🥰                                                                                                                                                                                                                                                              & Twitter for Android &  NA & NA                  & NA                  & NA             & ⋯ &   2422 &   6802 & 2020-10-02 11:32:14 & FALSE & NA & NA & NA & https://pbs.twimg.com/profile\\_banners/1311992292006334464/1606875390 &                                                   & http://pbs.twimg.com/profile\\_images/1333945854533783555/6xvsVoTG\\_normal.jpg  \\\\\n\t 2393380022          & 1334501661767823361 & 2020-12-03 14:16:04 & florapastalinda & @eldestapeweb EL CASTIGO LO VAN A SENTIR EN LAS CANCHAS. SIGUE TODO IGUAL                                                                                                                                                                                                                      & Twitter for Android &  59 & 1334316425436127232 & 2792557771          & eldestapeweb   & ⋯ &  12839 &   5015 & 2014-03-16 22:56:05 & FALSE & NA & NA & NA & NA                                                                   & http://abs.twimg.com/images/themes/theme1/bg.png  & http://pbs.twimg.com/profile\\_images/1316095165996638208/e5gr130B\\_normal.jpg  \\\\\n\t 1273934669348630528 & 1334501661750951936 & 2020-12-03 14:16:04 & Amitgeeta1      & \\#GodMorningThursday\nकविर्देव (कबीर प्रभु) ने सतपुरुष रूप में प्रकट होकर सतलोक में विराजमान होकर प्रथम सतलोक में अन्य रचना की। एक शब्द (वचन) से सोलह द्वीपों की रचना की। -जगतगुरु तत्वदर्शी संत रामपाल जी महाराज \nअधिक जानकारी के लिए देखें साधना टीवी शाम 7:30 बजे से.. https://t.co/XjL6BpG7fh                              & Twitter for Android &  NA & NA                  & NA                  & NA             & ⋯ &  47791 &  42801 & 2020-06-19 11:04:53 & FALSE & NA & NA & NA & https://pbs.twimg.com/profile\\_banners/1273934669348630528/1592910056 &                                                   & http://pbs.twimg.com/profile\\_images/1275382900653883392/3ee9ty99\\_normal.jpg  \\\\\n\t 1334499497112522753 & 1334501661755076608 & 2020-12-03 14:16:04 & Pranav16663473  & Diljit Paaji tussi bhut wadiyaa kamm kar rahe ho. Kangna da agenda hi Andolan toh dhyan DIVERT karna hai. Eh apne maqsad ch kaamyaab ho rahi hai, tussi esnu reply na dao. Eh bhut  chalak lok ne.\n\nEde nal v gal karange, ek war sada kisaanii wala maslaa solve ho jawe. \\#KisanKiBaat      & Twitter for Android &  NA & NA                  & NA                  & NA             & ⋯ &      2 &      1 & 2020-12-03 14:07:50 & FALSE & NA & NA & NA & NA                                                                   &                                                   & http://abs.twimg.com/sticky/default\\_profile\\_images/default\\_profile\\_normal.png\\\\\n\t 711979940426735616  & 1334501661767766017 & 2020-12-03 14:16:04 & Fast72W         & So does the 1h I just spent updating and maintaining my main work computer count as work time or unacknowledged free labour time?  Begs a question for all those who work form home, do you get paid for what would normally be ITs problem?                                                   & Twitter Web App     &  NA & NA                  & NA                  & NA             & ⋯ &   9437 &   3628 & 2016-03-21 18:17:00 & FALSE & NA & NA & NA & https://pbs.twimg.com/profile\\_banners/711979940426735616/1558963279  &                                                   & http://pbs.twimg.com/profile\\_images/1133510132183326721/9TiV2MNt\\_normal.jpg  \\\\\n\t 1263841910377988096 & 1334501661742514177 & 2020-12-03 14:16:04 & ThoughtPower1   & @dtytrivedi @dr\\_livpreet @ramanmann1974 @PMOIndia That is no answer. It’s great that it is happening despite not being a law. But if bjp is serious and farmers are apprehensive, what prevents them to make it \nInto a law?                                                                  & Twitter Web App     &  90 & 1334499477592268806 & 137364924           & dtytrivedi     & ⋯ &   9415 &   2757 & 2020-05-22 14:39:42 & FALSE & NA & NA & NA & NA                                                                   &                                                   & http://abs.twimg.com/sticky/default\\_profile\\_images/default\\_profile\\_normal.png\\\\\n\t 1054222885          & 1334501661776076806 & 2020-12-03 14:16:04 & inotaka\\_japan   & 欲しいけど、手に入らないだろうなぁ。\n\n転売ヤーとかでさ。                                                                                                                                                                                                                                     & Twitter for iPhone  &  NA & NA                  & NA                  & NA             & ⋯ &   2236 &   7057 & 2013-01-02 04:49:39 & FALSE & NA & NA & NA & https://pbs.twimg.com/profile\\_banners/1054222885/1459005429          & http://abs.twimg.com/images/themes/theme1/bg.png  & http://pbs.twimg.com/profile\\_images/451141969037631488/460TrVc4\\_normal.jpeg  \\\\\n\t 829761408669712384  & 1334501661776240640 & 2020-12-03 14:16:04 & Alexandre92iizi & This video belongs in a museum 🤣💀 https://t.co/RsvW0jSPIW                                                                                                                                                                                                                                      & Twitter for iPhone  &  NA & NA                  & NA                  & NA             & ⋯ &   1586 &  16939 & 2017-02-09 18:38:30 & FALSE & NA & NA & NA & NA                                                                   &                                                   & http://pbs.twimg.com/profile\\_images/1288803453486194690/0tEEc\\_d1\\_normal.jpg  \\\\\n\t 1315618813451272194 & 1334501661771907074 & 2020-12-03 14:16:04 & CR16013259      & PayPalのプールに14円くれた人\nフォートナイトの200円エモートギフトします\nhttps://t.co/Lu9uQCBcxB                                                                                                                                                                                               & Twitter for Android &  NA & NA                  & NA                  & NA             & ⋯ &    632 &    493 & 2020-10-12 11:42:56 & FALSE & NA & NA & NA & https://pbs.twimg.com/profile\\_banners/1315618813451272194/1605437105 &                                                   & http://pbs.twimg.com/profile\\_images/1327925585293635584/hS9JJzfO\\_normal.jpg  \\\\\n\t 1187893938          & 1334501661763645442 & 2020-12-03 14:16:04 & BraveNewMatt    & @hxrryspears The \"boom! Hammertime\" transition at the beginning made me laugh out loud lmao omg                                                                                                                                                                                                & Twitter for Android &  82 & 1334493200820690944 & 315351722           & hxrryspears    & ⋯ &  88514 & 264788 & 2013-02-17 00:43:13 & FALSE & NA & NA & NA & https://pbs.twimg.com/profile\\_banners/1187893938/1595366289          & http://abs.twimg.com/images/themes/theme1/bg.png  & http://pbs.twimg.com/profile\\_images/1285685518374764544/p4vGOfUn\\_normal.jpg  \\\\\n\t 618339628           & 1334501661742682113 & 2020-12-03 14:16:04 & crazymom93      & @JDawson168 @kaitlancollins You’re confusing CNN with Fox. Sean Hannity says he never vets his story                                                                                                                                                                                           & Twitter for iPhone  &  72 & 1334501101782052864 & 801837586616557569  & JDawson168     & ⋯ &   1107 &   3149 & 2012-06-25 18:46:49 & FALSE & NA & NA & NA & https://pbs.twimg.com/profile\\_banners/618339628/1606089660           & http://abs.twimg.com/images/themes/theme1/bg.png  & http://pbs.twimg.com/profile\\_images/1304496172896317450/CL\\_uh\\_pk\\_normal.jpg  \\\\\n\t 1033594649691209728 & 1334501661772050438 & 2020-12-03 14:16:04 & AsfdfdfsS       & Hermoso 🥺https://t.co/lMBnoNzofI                                                                                                                                                                                                                                                      & Twitter for Android &  NA & NA                  & NA                  & NA             & ⋯ &  38045 &  51276 & 2018-08-26 05:59:02 & FALSE & NA & NA & NA & https://pbs.twimg.com/profile\\_banners/1033594649691209728/1535263392 & http://abs.twimg.com/images/themes/theme1/bg.png  & http://pbs.twimg.com/profile\\_images/1033595582806413312/FdnlUnTz\\_normal.jpg  \\\\\n\t 1308715884622602241 & 1334501661742665728 & 2020-12-03 14:16:04 & bymartinss\\_     & @bymartinss\\_                                                                                                                                                                                                                                                                                   & Twitter Web App     &  NA & 1310912615686733829 & 1308715884622602241 & bymartinss\\_    & ⋯ &   7719 &   3578 & 2020-09-23 10:32:48 & FALSE & NA & NA & NA & https://pbs.twimg.com/profile\\_banners/1308715884622602241/1606929351 &                                                   & http://pbs.twimg.com/profile\\_images/1334482814364954626/H9lCZCVq\\_normal.jpg  \\\\\n\t 1233742915651952640 & 1334501661776224259 & 2020-12-03 14:16:04 & Starbreaker\\_    & @friedPeeP i just started it I LOVE IT                                                                                                                                                                                                                                                         & Twitter Web App     &  27 & 1334501337187430402 & 1000767403582803975 & friedPeeP      & ⋯ &   5657 &  23203 & 2020-02-29 13:17:01 & FALSE & NA & NA & NA & https://pbs.twimg.com/profile\\_banners/1233742915651952640/1605821179 &                                                   & http://pbs.twimg.com/profile\\_images/1334207623189639170/RMkK7ByN\\_normal.jpg  \\\\\n\t 1146969976722657281 & 1334501661759377411 & 2020-12-03 14:16:04 & lady\\_huanca     & \\#대휘 참을성 무엇..?😮❣️\n\\#와이엇 표정=내 표정🤣\n\n\\#제작진도참여하는 \\#MMA2020\\_본방사수 \n\\#MMA이벤트참여 \\#카카오TV \\#멜론\n\\#멜론뮤직어워드 \\#MMA2020 \\#MMA \\#멜뮤\n@GoldenChild @AB6IX @WM\\_ONOFF \n\\#재재 \\#장준 https://t.co/bwDy9XbNmh                                                                & Twitter for Android &  NA & NA                  & NA                  & NA             & ⋯ &   9091 &   7795 & 2019-07-05 02:32:06 & FALSE & NA & NA & NA & https://pbs.twimg.com/profile\\_banners/1146969976722657281/1592353678 &                                                   & http://pbs.twimg.com/profile\\_images/1270152854246952961/HD671z7g\\_normal.jpg  \\\\\n\t 1333957920384544768 & 1334501661755256835 & 2020-12-03 14:16:04 & WOVB1M3zx8bIPZg & https://t.co/ZZjCYCB4wS                                                                                                                                                                                                                                                                        & Twitter for iPhone  &   0 & NA                  & NA                  & NA             & ⋯ &     73 &      0 & 2020-12-02 02:16:39 & FALSE & NA & NA & NA & https://pbs.twimg.com/profile\\_banners/1333957920384544768/1606952888 &                                                   & http://pbs.twimg.com/profile\\_images/1333968008067358726/aBNOj6-z\\_normal.jpg  \\\\\n\t 1292524812636770304 & 1334501661776244737 & 2020-12-03 14:16:04 & Ronniestan1     & @SkyNews Perhaps those catching the virus having refused the vaccine should be given some paracetamol \\&amp; sent home to treat themselves. No longer the responsibility of the NHS.                                                                                                            & Twitter for Android & 131 & 1334388573710282752 & 7587032             & SkyNews        & ⋯ &    204 &    103 & 2020-08-09 18:15:35 & FALSE & NA & NA & NA & NA                                                                   &                                                   & http://abs.twimg.com/sticky/default\\_profile\\_images/default\\_profile\\_normal.png\\\\\n\t 1292101395559133185 & 1334501661763661826 & 2020-12-03 14:16:04 & AlexCar96523624 & @Esp\\_Interativo @ibismania  🥵😏                                                                                                                                                                                                                                                        & Twitter for Android &  14 & 1334336404545884167 & 15911679            & Esp\\_Interativo & ⋯ &     21 &    160 & 2020-08-08 14:12:50 & FALSE & NA & NA & NA & NA                                                                   &                                                   & http://pbs.twimg.com/profile\\_images/1331649870076268547/9nMj6kpB\\_normal.jpg  \\\\\n\t 1304347290908291072 & 1334501661746716675 & 2020-12-03 14:16:04 & ichigo12277486  & @8kool\\_7ciel @little\\_tansyou おめでとうございます😊                                                                                                                                                                                                                                             & Twitter for Android &  11 & 1334494928273989632 & 1289749053794705408 & 8kool\\_7ciel    & ⋯ &   2363 &   2199 & 2020-09-11 09:14:08 & FALSE & NA & NA & NA & https://pbs.twimg.com/profile\\_banners/1304347290908291072/1604214284 &                                                   & http://pbs.twimg.com/profile\\_images/1321667587772608512/ZLf4214\\_\\_normal.jpg  \\\\\n\t 914466019           & 1334501661759451138 & 2020-12-03 14:16:04 & IIL\\_London      & @iDAWNUK https://t.co/gQI3AUPwtG                                                                                                                                                                                                                                                               & Twitter Web App     &   0 & 1334437102596091906 & 1088785152002662402 & iDAWNUK        & ⋯ &   2330 &   1901 & 2012-10-30 11:45:19 & FALSE & NA & NA & NA & https://pbs.twimg.com/profile\\_banners/914466019/1501582558           & http://abs.twimg.com/images/themes/theme1/bg.png  & http://pbs.twimg.com/profile\\_images/892329310027120641/1EpV7EaF\\_normal.jpg   \\\\\n\t 1305174462657187841 & 1334501661755269120 & 2020-12-03 14:16:04 & 5xdirection     & Happy 9 years to 5sos! Its crazy how i remember being so young falling in love with their music and everything about them. I wouldn’t be who I am today if I hadn’t become a fan. Thanks for being the source of my happiness for so many years, here’s to many more:) https://t.co/14IQHPHrW0 & Twitter for iPhone  & 140 & NA                  & NA                  & NA             & ⋯ &     27 &      6 & 2020-09-13 16:00:22 & FALSE & NA & NA & NA & https://pbs.twimg.com/profile\\_banners/1305174462657187841/1606942068 &                                                   & http://pbs.twimg.com/profile\\_images/1334237121935192068/IJ0Zk7FM\\_normal.jpg  \\\\\n\\end{tabular}\n",
            "text/markdown": "\nA tibble: 1772 × 90\n\n| user_id &lt;chr&gt; | status_id &lt;chr&gt; | created_at &lt;dttm&gt; | screen_name &lt;chr&gt; | text &lt;chr&gt; | source &lt;chr&gt; | display_text_width &lt;dbl&gt; | reply_to_status_id &lt;chr&gt; | reply_to_user_id &lt;chr&gt; | reply_to_screen_name &lt;chr&gt; | ⋯ ⋯ | statuses_count &lt;int&gt; | favourites_count &lt;int&gt; | account_created_at &lt;dttm&gt; | verified &lt;lgl&gt; | profile_url &lt;chr&gt; | profile_expanded_url &lt;chr&gt; | account_lang &lt;lgl&gt; | profile_banner_url &lt;chr&gt; | profile_background_url &lt;chr&gt; | profile_image_url &lt;chr&gt; |\n|---|---|---|---|---|---|---|---|---|---|---|---|---|---|---|---|---|---|---|---|---|\n| 1276785579229941760 | 1334501540112035844 | 2020-12-03 14:15:35 | GummyYoonies    | کی گفته نمیشه احساسات رو ثبت کرد؟ من میتونم تا هر چند سال دیگه به Abyss گوش کنم و امروز رو ثانیه به ثانیه به یاد بیارم\n#abyss #AbyssByJin                                                                                                                           | Twitter Web App           | NA | NA                  | NA                  | NA              | ⋯ |  13509 | 34540 | 2020-06-27 07:53:10 | FALSE | NA | NA | NA | https://pbs.twimg.com/profile_banners/1276785579229941760/1606999052 | <!----> | http://pbs.twimg.com/profile_images/1334476710226644994/7tjDiJt-_normal.jpg   |\n| 1322813392457924609 | 1334501540103507968 | 2020-12-03 14:15:35 | RA_032518       | @pilikseuuuu 베리식 어자                                                                                                                                                                                                                                             | Twitter for Android       |  6 | 1334501226646446082 | 1318783437050769408 | pilikseuuuu     | ⋯ |    530 |   259 | 2020-11-01 08:12:19 | FALSE | NA | NA | NA | https://pbs.twimg.com/profile_banners/1322813392457924609/1606452053 | <!----> | http://pbs.twimg.com/profile_images/1334331670946697219/vDsZBwwY_normal.jpg   |\n| 2624622524          | 1334501540124479492 | 2020-12-03 14:15:35 | debualice       | エリオット:実は俺も筋トレしてるんだぜ。ブラッドの片腕として恥ずかしくない体型維持しとかないとな！                                                                                                                                                                    | twittbot.net              | NA | NA                  | NA                  | NA              | ⋯ | 108700 |     3 | 2014-07-12 12:51:50 | FALSE | NA | NA | NA | https://pbs.twimg.com/profile_banners/2624622524/1405183437          | http://abs.twimg.com/images/themes/theme1/bg.png  | http://pbs.twimg.com/profile_images/488019873801306113/q7rZHNJz_normal.jpeg   |\n| 3009690385          | 1334501540103483393 | 2020-12-03 14:15:35 | cheapMS7        | 32052BE2 :参戦ID\n参加者募集！\nLv120 グリームニル\nhttps://t.co/9ZyonlhMTe                                                                                                                                                                                          | グランブルー ファンタジー | NA | NA                  | NA                  | NA              | ⋯ |   7487 |     0 | 2015-02-05 03:07:01 | FALSE | NA | NA | NA | NA                                                                   | http://abs.twimg.com/images/themes/theme1/bg.png  | http://pbs.twimg.com/profile_images/645691238767718400/yRxOgzXv_normal.jpg    |\n| 2648290290          | 1334501540103475200 | 2020-12-03 14:15:35 | 0715starb       | 気持ちのある人には全力でサポートます^ ^                                                                                                                                                                                                                              | twittbot.net              | NA | NA                  | NA                  | NA              | ⋯ |  61488 |     0 | 2014-07-15 15:51:50 | FALSE | NA | NA | NA | NA                                                                   | http://abs.twimg.com/images/themes/theme1/bg.png  | http://abs.twimg.com/sticky/default_profile_images/default_profile_normal.png |\n| 376830740           | 1334501540107853825 | 2020-12-03 14:15:35 | COMIR_UCV       | #AcciónClimática significa...\n\nMovernos de formas más limpias\n🚲🚶🏼\n\ny menos contaminantes.\n🚗\n\nUtilizar más energía sostenible\n☀️\n\ny menos combustibles fósiles.\n🛢️\n\nAprovechar mejor los alimentos\n🥦🥕🍅\n\ny desperdiciar menos.\n🗑️                       | Twitter for iPhone        | NA | NA                  | NA                  | NA              | ⋯ |  29259 | 31337 | 2011-09-20 15:28:17 | FALSE | NA | NA | NA | https://pbs.twimg.com/profile_banners/376830740/1400527302           | http://abs.twimg.com/images/themes/theme1/bg.png  | http://pbs.twimg.com/profile_images/543517600731254784/wC_nAP6w_normal.jpeg   |\n| 376830740           | 1334501565269499905 | 2020-12-03 14:15:41 | COMIR_UCV       | Bilharzia affects 240 million people. Let's get rid of it @Merck https://t.co/U5Xg5pOdhg https://t.co/aSUpiDS3MJ                                                                                                                                                     | Twitter for iPhone        | NA | NA                  | NA                  | NA              | ⋯ |  29259 | 31337 | 2011-09-20 15:28:17 | FALSE | NA | NA | NA | https://pbs.twimg.com/profile_banners/376830740/1400527302           | http://abs.twimg.com/images/themes/theme1/bg.png  | http://pbs.twimg.com/profile_images/543517600731254784/wC_nAP6w_normal.jpeg   |\n| 1199623785449607169 | 1334501540103561218 | 2020-12-03 14:15:35 | masiro486925    | 『Big Bang Sweet』初オンエア中！\n\n聴き逃された方はぜひRadikoのタイムフリー機能で！\n\n #素のまんま                                                                                                                                                                 | Twitter for iPhone        | NA | NA                  | NA                  | NA              | ⋯ |   7425 |  3655 | 2019-11-27 09:39:48 | FALSE | NA | NA | NA | https://pbs.twimg.com/profile_banners/1199623785449607169/1606713626 | <!----> | http://pbs.twimg.com/profile_images/1334171784417931267/-MSQ0DoS_normal.jpg   |\n| 1199623785449607169 | 1334501569463689218 | 2020-12-03 14:15:42 | masiro486925    | 【秒数指定】\n\n▼Snow Man 「Big Bang Sweet」\nhttps://t.co/HbiXkVZDyO\n\n▼３rd シングル詳細\nhttps://t.co/MPHHogWy17\n\n#SnowMan #素のまんま \nhttps://t.co/HbiXkVZDyO                                                                                               | Twitter for iPhone        | NA | NA                  | NA                  | NA              | ⋯ |   7425 |  3655 | 2019-11-27 09:39:48 | FALSE | NA | NA | NA | https://pbs.twimg.com/profile_banners/1199623785449607169/1606713626 | <!----> | http://pbs.twimg.com/profile_images/1334171784417931267/-MSQ0DoS_normal.jpg   |\n| 131490716           | 1334501540107755520 | 2020-12-03 14:15:35 | tail_furry      | 桃鉄の犬がかわいいよね？って話( ˘ω˘ ) https://t.co/2PGeQroB0p                                                                                                                                                                                                        | Twitter Web App           | NA | NA                  | NA                  | NA              | ⋯ |  88265 | 51943 | 2010-04-10 12:32:44 | FALSE | NA | NA | NA | https://pbs.twimg.com/profile_banners/131490716/1355631989           | http://abs.twimg.com/images/themes/theme1/bg.png  | http://pbs.twimg.com/profile_images/982004166/20010315_normal.png             |\n| 1598226744          | 1334501540103507969 | 2020-12-03 14:15:35 | fireflyCOBRA    | 「わからない」じゃなくて「覚えてない」はプレミ                                                                                                                                                                                                                       | Twitter Web App           | NA | NA                  | NA                  | NA              | ⋯ | 384213 |   381 | 2013-07-16 12:07:16 | FALSE | NA | NA | NA | https://pbs.twimg.com/profile_banners/1598226744/1595075038          | http://abs.twimg.com/images/themes/theme1/bg.png  | http://pbs.twimg.com/profile_images/1333034407402164225/MkWkYcbB_normal.jpg   |\n| 1312011938444931072 | 1334501540116066304 | 2020-12-03 14:15:35 | Lr9MYAWU1HFafQ1 | こういうのを考えたりすることで、仕事や人間関係にも活きてくると思うんだけどなあ。\n（性選択仮説とかあんまり人に話さない方がいいけど、、笑）                                                                                                                           | Twitter for iPhone        | NA | NA                  | NA                  | NA              | ⋯ |    253 |   123 | 2020-10-02 12:50:04 | FALSE | NA | NA | NA | https://pbs.twimg.com/profile_banners/1312011938444931072/1601719690 | <!----> | http://pbs.twimg.com/profile_images/1312012216128872448/7qg7CrcG_normal.jpg   |\n| 1311517014670733312 | 1334501540132913160 | 2020-12-03 14:15:35 | BOMBbleBee1214  | 이태일수고했어사랑해보고싶다                     #이태일_각개끝_비비씨가_달려각개             지져스무슨말이필요해사랑해                                                                                                                                             | Twitter for Android       | NA | NA                  | NA                  | NA              | ⋯ |    851 |  4716 | 2020-10-01 04:03:34 | FALSE | NA | NA | NA | https://pbs.twimg.com/profile_banners/1311517014670733312/1604798555 | <!----> | http://pbs.twimg.com/profile_images/1333398413648433154/1AGXPLr1_normal.jpg   |\n| 1320320887891972097 | 1334501540116107264 | 2020-12-03 14:15:35 | rinnmomoTRPG    | @nagisa_TRPG_KPL 渚受けが好き                                                                                                                                                                                                                                        | Twitter for iPhone        |  6 | 1334501465117757440 | 1252586663693312007 | nagisa_TRPG_KPL | ⋯ |   1262 |   405 | 2020-10-25 11:07:05 | FALSE | NA | NA | NA | NA                                                                   | <!----> | http://pbs.twimg.com/profile_images/1334112219592724482/eq7DVjG7_normal.jpg   |\n| 1176882277378211840 | 1334501540120330241 | 2020-12-03 14:15:35 | uneedsuns       | @tanyainrl gua islam tapi knp pengen buat pohon natal anjr, lucu bgt ada lampu lampu nya pls 😔😔                                                                                                                                                                      | Twitter for Android       | 84 | 1334452678127050755 | 949201977874907136  | tanyainrl       | ⋯ |   3335 |  4233 | 2019-09-25 15:33:05 | FALSE | NA | NA | NA | https://pbs.twimg.com/profile_banners/1176882277378211840/1606805127 | <!----> | http://pbs.twimg.com/profile_images/1333073314139422721/eZrit4T9_normal.jpg   |\n| 1096785748546781185 | 1334501540133031936 | 2020-12-03 14:15:35 | vghigliotti     | ora vi porrò un interessante quesito, ovvero: è normale che la nostra prof di chimica ci abbia fatto comprare il libro di quinta (oltre a quello di terza che la scuola ci aveva detto di comprare) perché il programma che dobbiamo fare è su quello di quinta?     | Twitter for iPhone        | NA | NA                  | NA                  | NA              | ⋯ |    555 |  5191 | 2019-02-16 14:57:54 | FALSE | NA | NA | NA | https://pbs.twimg.com/profile_banners/1096785748546781185/1606854995 | <!----> | http://pbs.twimg.com/profile_images/1333904914565697537/CmEUogYL_normal.jpg   |\n| 898904689818783744  | 1334501540124475394 | 2020-12-03 14:15:35 | liiterati       | @GLDENSMARIANO YOURE SO CUTE                                                                                                                                                                                                                                         | Twitter for Android       | 13 | 1334495821396664320 | 1280318688642678789 | GLDENSMARIANO   | ⋯ |   7606 | 27345 | 2017-08-19 13:49:13 | FALSE | NA | NA | NA | https://pbs.twimg.com/profile_banners/898904689818783744/1606841712  | <!----> | http://pbs.twimg.com/profile_images/1333816374666280961/NfGN1XcO_normal.jpg   |\n| 1297164855338770432 | 1334501540128821249 | 2020-12-03 14:15:35 | kylesolioti     | vou só colocar se bater até às 17:00 não sou burra                                                                                                                                                                                                                   | Twitter for Android       | NA | 1334501027505168391 | 1297164855338770432 | kylesolioti     | ⋯ |   8948 |  7692 | 2020-08-22 13:33:04 | FALSE | NA | NA | NA | https://pbs.twimg.com/profile_banners/1297164855338770432/1606397446 | <!----> | http://pbs.twimg.com/profile_images/1331953549157277703/Gz200u2G_normal.jpg   |\n| 1176005274605445120 | 1334501540141391874 | 2020-12-03 14:15:35 | garlosG77705410 | @lorenzoipsum Sono lindo se nota que hace rato que está roto.                                                                                                                                                                                                        | Twitter for Android       | 47 | 1334488488872439809 | 824815390903656448  | lorenzoipsum    | ⋯ |   4398 |  3011 | 2019-09-23 05:28:20 | FALSE | NA | NA | NA | https://pbs.twimg.com/profile_banners/1176005274605445120/1587838238 | <!----> | http://pbs.twimg.com/profile_images/1248397789723148298/d-FveKxt_normal.jpg   |\n| 844683863259410432  | 1334501540141273089 | 2020-12-03 14:15:35 | melodymomo1227  | セイボリー先輩綺麗だ…                                                                                                                                                                                                                                                | Twitter for iPhone        | NA | NA                  | NA                  | NA              | ⋯ |  55999 | 46525 | 2017-03-22 22:55:01 | FALSE | NA | NA | NA | https://pbs.twimg.com/profile_banners/844683863259410432/1567114671  | <!----> | http://pbs.twimg.com/profile_images/1185560474357600257/Bf522xo4_normal.jpg   |\n| 1309293027077152769 | 1334501540128669698 | 2020-12-03 14:15:35 | gibralarick     | Ada ini bang arick https://t.co/ho811cizyP                                                                                                                                                                                                                           | Twitter for Android       | NA | NA                  | NA                  | NA              | ⋯ |   2896 |    82 | 2020-09-25 00:46:08 | FALSE | NA | NA | NA | https://pbs.twimg.com/profile_banners/1309293027077152769/1606903909 | <!----> | http://pbs.twimg.com/profile_images/1334075882290307075/63KWaRz0_normal.jpg   |\n| 1287821664173121537 | 1334501540120375297 | 2020-12-03 14:15:35 | zippypsd        | @wizzedps ?                                                                                                                                                                                                                                                          | Twitter Web App           |  1 | 1334501363896766466 | 1264043826672480262 | wizzedps        | ⋯ |   2037 |  7242 | 2020-07-27 18:46:36 | FALSE | NA | NA | NA | https://pbs.twimg.com/profile_banners/1287821664173121537/1606992978 | <!----> | http://pbs.twimg.com/profile_images/1332736887136645122/CPInlGIK_normal.jpg   |\n| 1232336283571228672 | 1334501540133007363 | 2020-12-03 14:15:35 | nichtberkant    | @elefun029_ hab mich stark mit einem jetzt alten freund gestritten 🙂                                                                                                                                                                                                 | Twitter for Android       | 56 | 1334494109780889601 | 1234103295842672640 | elefun029_      | ⋯ |  59102 | 63806 | 2020-02-25 16:07:27 | FALSE | NA | NA | NA | https://pbs.twimg.com/profile_banners/1232336283571228672/1606692839 | <!----> | http://pbs.twimg.com/profile_images/1333878815140016128/_AkvaI2l_normal.jpg   |\n| 206918296           | 1334501540128845824 | 2020-12-03 14:15:35 | adfontes__      | 😩🙏 #SpotifyWrapped https://t.co/r9EEFFUncE                                                                                                                                                                                                                           | Twitter for iPhone        | NA | NA                  | NA                  | NA              | ⋯ |   6373 | 39322 | 2010-10-24 01:56:43 | FALSE | NA | NA | NA | https://pbs.twimg.com/profile_banners/206918296/1572554194           | http://abs.twimg.com/images/themes/theme1/bg.png  | http://pbs.twimg.com/profile_images/1285754048071770114/3QmbeyzT_normal.jpg   |\n| 242492546           | 1334501540120436738 | 2020-12-03 14:15:35 | Ynaf_Viv        | No os quiero fastidiar el día, pero os recuerdo que estáis pagando la pensión a gente que va diciendo por ahí que os quiere fusilar.                                                                                                                                 | Twitter for Android       | NA | NA                  | NA                  | NA              | ⋯ |  59453 | 72818 | 2011-01-24 22:31:56 | FALSE | NA | NA | NA | https://pbs.twimg.com/profile_banners/242492546/1383301631           | http://abs.twimg.com/images/themes/theme14/bg.gif | http://pbs.twimg.com/profile_images/1233802884325703681/wdAt5OKo_normal.jpg   |\n| 894251706363420672  | 1334501540128673792 | 2020-12-03 14:15:35 | alup_4          | いいねお願いします                                                                                                                                                                                                                                                   | Twitter for iPhone        | NA | NA                  | NA                  | NA              | ⋯ |    534 |   107 | 2017-08-06 17:39:55 | FALSE | NA | NA | NA | https://pbs.twimg.com/profile_banners/894251706363420672/1606862973  | <!----> | http://pbs.twimg.com/profile_images/1334165717428539393/898tY5jf_normal.jpg   |\n| 1264118478153244675 | 1334501540137058304 | 2020-12-03 14:15:35 | Plum3357        | @Kedama_twst キネマスターってアプリ使ってちょっと色々やって見た☺️                                                                                                                                                                                                     | Twitter for iPhone        | 27 | 1334501079191437312 | 1248981947419770882 | Kedama_twst     | ⋯ |  16239 | 24571 | 2020-05-23 08:58:36 | FALSE | NA | NA | NA | https://pbs.twimg.com/profile_banners/1264118478153244675/1604071706 | <!----> | http://pbs.twimg.com/profile_images/1330180140924628994/izsEyWdr_normal.jpg   |\n| 1229061305564160001 | 1334501540141232128 | 2020-12-03 14:15:35 | Jrwytw1         | เมื่อคืนหลังการชุมนุม\nน้องการ์ดคนหนึ่งขับมอเตอร์ไซค์ไปแถวรามคำแหง\n\nมีผู้พบนอนจมกองเลือดอยู่\nได้นำส่งโรงพยาบาลแล้วครับ\n\nตอนนี้ยังพูดสับสน\nมีแผลแตก 3แผลที่หน้าผาก\nมีแผล ช้ำตามตัว\nCT กระโหลกศีรษะยุบ เลือดออกในสมอง\nกำลังจะผ่าตัดครับ\n\nท่านใดเห็นเหตุการณ์ รู้เบาะแส กรุณาแจ้งนะครับ https://t.co/joyGuPpNKr | Twitter for Android       | NA | NA                  | NA                  | NA              | ⋯ |   1990 |   269 | 2020-02-16 15:13:57 | FALSE | NA | NA | NA | https://pbs.twimg.com/profile_banners/1229061305564160001/1597470367 | <!----> | http://pbs.twimg.com/profile_images/1330496200328568838/78R_w839_normal.jpg   |\n| 1199674381934317569 | 1334501540103536642 | 2020-12-03 14:15:35 | 62Stelina       | 「政治家の妻だからといって行動を縛られるのは日本的」という個人の価値観の問題ではなく、テレビ局が放送法（第４条「政治的公平性の担保」）を遵守するか否かという問題です。ポイントのすり替えはよろしくない。                                                             | Twitter for Android       | NA | NA                  | NA                  | NA              | ⋯ |   6632 | 25838 | 2019-11-27 13:00:58 | FALSE | NA | NA | NA | NA                                                                   | <!----> | http://pbs.twimg.com/profile_images/1199674906104872960/AbTC0E2V_normal.jpg   |\n| 562469829           | 1334501540133036032 | 2020-12-03 14:15:35 | jhobieyes       | daegu boy https://t.co/aWKJbrDsTV                                                                                                                                                                                                                                    | Twitter Web App           | NA | NA                  | NA                  | NA              | ⋯ |  60226 | 98266 | 2012-04-24 22:26:53 | FALSE | NA | NA | NA | https://pbs.twimg.com/profile_banners/562469829/1606143424           | http://abs.twimg.com/images/themes/theme1/bg.png  | http://pbs.twimg.com/profile_images/1333615429391175681/8WY4GrU-_normal.jpg   |\n| ⋮ | ⋮ | ⋮ | ⋮ | ⋮ | ⋮ | ⋮ | ⋮ | ⋮ | ⋮ | ⋱ | ⋮ | ⋮ | ⋮ | ⋮ | ⋮ | ⋮ | ⋮ | ⋮ | ⋮ | ⋮ |\n| 4773988872          | 1334501661738369028 | 2020-12-03 14:16:04 | sxtargaze       | #辰海有尽\n#守异\n\n*my OCs https://t.co/jslGGwLplP                                                                                                                                                                                                                                            | Twitter for Android |  NA | NA                  | NA                  | NA             | ⋯ |  86247 |    693 | 2016-01-17 15:29:12 | FALSE | NA | NA | NA | https://pbs.twimg.com/profile_banners/4773988872/1606395491          | http://abs.twimg.com/images/themes/theme1/bg.png  | http://pbs.twimg.com/profile_images/1334367121531305985/20OUppNv_normal.jpg   |\n| 1086618028404396033 | 1334501661759348742 | 2020-12-03 14:16:04 | ragulraj0804    | Crossed 450K tweets and now marching towards 500K tweets 💥\n\n#28YearsOfBelovedVIJAY\n#Master @actorvijay                                                                                                                                                                                      | Twitter for Android |  NA | NA                  | NA                  | NA             | ⋯ |  15485 |  31072 | 2019-01-19 13:35:01 | FALSE | NA | NA | NA | NA                                                                   | <!----> | http://pbs.twimg.com/profile_images/1325102151320834051/kthIQxeO_normal.jpg   |\n| 1274046048869199877 | 1334501661742608387 | 2020-12-03 14:16:04 | Nightswatcher4  | @muddassir1991 @YDAKPK1 @punjab_yda @yda_punjab @ydakp_official @drmatikhan Exactly he was very nice man                                                                                                                                                                                       | Twitter for Android |  28 | 1334489735704707073 | 2501513963          | muddassir1991  | ⋯ |   7169 |   5525 | 2020-06-19 18:27:24 | FALSE | NA | NA | NA | https://pbs.twimg.com/profile_banners/1274046048869199877/1602438511 | <!----> | http://pbs.twimg.com/profile_images/1332774701819682816/n3LW5RfO_normal.jpg   |\n| 576289027           | 1334501661763543040 | 2020-12-03 14:16:04 | NoKiuy          | 100年ちょっと前に、やれ不道徳だの有害だの同じようなこと言われてたメディアがありましたね。小説っていうんですけど。                                                                                                                                                                              | Twitter for Android |  NA | NA                  | NA                  | NA             | ⋯ |    616 |    889 | 2012-05-10 14:40:43 | FALSE | NA | NA | NA | https://pbs.twimg.com/profile_banners/576289027/1600731685           | http://abs.twimg.com/images/themes/theme11/bg.gif | http://pbs.twimg.com/profile_images/1309470449126895617/XNl1mNhF_normal.jpg   |\n| 234447389           | 1334501661738471424 | 2020-12-03 14:16:04 | AudioInkRadio   | @smokiesson Thank you sooo much! We love you right back ♥️                                                                                                                                                                                                                                      | Twitter Web App     |  46 | 1334324376561475585 | 1143196794          | smokiesson     | ⋯ |  10746 |  38787 | 2011-01-05 17:46:55 | FALSE | NA | NA | NA | https://pbs.twimg.com/profile_banners/234447389/1593035169           | http://abs.twimg.com/images/themes/theme14/bg.gif | http://pbs.twimg.com/profile_images/1273961459869978625/9l4m7hVh_normal.jpg   |\n| 766702891           | 1334501661776236545 | 2020-12-03 14:16:04 | itjoaovictor    | Todo meu respeito para quem tem Rihanna no top 5 do spotify em pleno 2020                                                                                                                                                                                                                      | Twitter for iPhone  |  NA | NA                  | NA                  | NA             | ⋯ | 103825 |  19508 | 2012-08-19 01:33:04 | FALSE | NA | NA | NA | https://pbs.twimg.com/profile_banners/766702891/1461608139           | http://abs.twimg.com/images/themes/theme9/bg.gif  | http://pbs.twimg.com/profile_images/1269268781307777029/EqpUX2t4_normal.jpg   |\n| 1315762384775114752 | 1334501661755248640 | 2020-12-03 14:16:04 | swxetkook01     | @93R4P @tsyoong tete con el cabello rojo supremo, concordamos¿?                                                                                                                                                                                                                                | Twitter Web App     |  47 | 1334167913142636544 | 1233841097039863808 | 93R4P          | ⋯ |   3381 |     51 | 2020-10-12 21:13:00 | FALSE | NA | NA | NA | https://pbs.twimg.com/profile_banners/1315762384775114752/1606961509 | <!----> | http://pbs.twimg.com/profile_images/1334498265216266240/jWqLrArc_normal.jpg   |\n| 1309319738045145088 | 1334501661772025863 | 2020-12-03 14:16:04 | RBighs          | @sadsugardaddie But you are                                                                                                                                                                                                                                                                    | Twitter for Android |  11 | 1334501401318182917 | 1314042432741277696 | sadsugardaddie | ⋯ |  26145 |  43273 | 2020-09-25 02:32:41 | FALSE | NA | NA | NA | https://pbs.twimg.com/profile_banners/1309319738045145088/1606534931 | <!----> | http://pbs.twimg.com/profile_images/1333850307835650051/elEeeD9y_normal.jpg   |\n| 3009667858          | 1334501661767856134 | 2020-12-03 14:16:04 | pensierivforme  | Da piccola quando mia mamma mi diceva \"no Gaia non possiamo non ho soldi\" le rispondevo: \"eh vabbè paga col bancomat\" come se fosse una sorta di carta magica illimitata che mente mamma mia                                                                                                   | Twitter for iPhone  |  NA | NA                  | NA                  | NA             | ⋯ |  69852 |  61084 | 2015-02-01 08:12:39 | FALSE | NA | NA | NA | https://pbs.twimg.com/profile_banners/3009667858/1606835413          | http://abs.twimg.com/images/themes/theme1/bg.png  | http://pbs.twimg.com/profile_images/1333790487048667141/G3xS81D-_normal.jpg   |\n| 1311992292006334464 | 1334501661755191296 | 2020-12-03 14:16:04 | itsgiluiza2     | ele é tão lindinho aaa 🥰                                                                                                                                                                                                                                                              | Twitter for Android |  NA | NA                  | NA                  | NA             | ⋯ |   2422 |   6802 | 2020-10-02 11:32:14 | FALSE | NA | NA | NA | https://pbs.twimg.com/profile_banners/1311992292006334464/1606875390 | <!----> | http://pbs.twimg.com/profile_images/1333945854533783555/6xvsVoTG_normal.jpg   |\n| 2393380022          | 1334501661767823361 | 2020-12-03 14:16:04 | florapastalinda | @eldestapeweb EL CASTIGO LO VAN A SENTIR EN LAS CANCHAS. SIGUE TODO IGUAL                                                                                                                                                                                                                      | Twitter for Android |  59 | 1334316425436127232 | 2792557771          | eldestapeweb   | ⋯ |  12839 |   5015 | 2014-03-16 22:56:05 | FALSE | NA | NA | NA | NA                                                                   | http://abs.twimg.com/images/themes/theme1/bg.png  | http://pbs.twimg.com/profile_images/1316095165996638208/e5gr130B_normal.jpg   |\n| 1273934669348630528 | 1334501661750951936 | 2020-12-03 14:16:04 | Amitgeeta1      | #GodMorningThursday\nकविर्देव (कबीर प्रभु) ने सतपुरुष रूप में प्रकट होकर सतलोक में विराजमान होकर प्रथम सतलोक में अन्य रचना की। एक शब्द (वचन) से सोलह द्वीपों की रचना की। -जगतगुरु तत्वदर्शी संत रामपाल जी महाराज \nअधिक जानकारी के लिए देखें साधना टीवी शाम 7:30 बजे से.. https://t.co/XjL6BpG7fh                              | Twitter for Android |  NA | NA                  | NA                  | NA             | ⋯ |  47791 |  42801 | 2020-06-19 11:04:53 | FALSE | NA | NA | NA | https://pbs.twimg.com/profile_banners/1273934669348630528/1592910056 | <!----> | http://pbs.twimg.com/profile_images/1275382900653883392/3ee9ty99_normal.jpg   |\n| 1334499497112522753 | 1334501661755076608 | 2020-12-03 14:16:04 | Pranav16663473  | Diljit Paaji tussi bhut wadiyaa kamm kar rahe ho. Kangna da agenda hi Andolan toh dhyan DIVERT karna hai. Eh apne maqsad ch kaamyaab ho rahi hai, tussi esnu reply na dao. Eh bhut  chalak lok ne.\n\nEde nal v gal karange, ek war sada kisaanii wala maslaa solve ho jawe. #KisanKiBaat      | Twitter for Android |  NA | NA                  | NA                  | NA             | ⋯ |      2 |      1 | 2020-12-03 14:07:50 | FALSE | NA | NA | NA | NA                                                                   | <!----> | http://abs.twimg.com/sticky/default_profile_images/default_profile_normal.png |\n| 711979940426735616  | 1334501661767766017 | 2020-12-03 14:16:04 | Fast72W         | So does the 1h I just spent updating and maintaining my main work computer count as work time or unacknowledged free labour time?  Begs a question for all those who work form home, do you get paid for what would normally be ITs problem?                                                   | Twitter Web App     |  NA | NA                  | NA                  | NA             | ⋯ |   9437 |   3628 | 2016-03-21 18:17:00 | FALSE | NA | NA | NA | https://pbs.twimg.com/profile_banners/711979940426735616/1558963279  | <!----> | http://pbs.twimg.com/profile_images/1133510132183326721/9TiV2MNt_normal.jpg   |\n| 1263841910377988096 | 1334501661742514177 | 2020-12-03 14:16:04 | ThoughtPower1   | @dtytrivedi @dr_livpreet @ramanmann1974 @PMOIndia That is no answer. It’s great that it is happening despite not being a law. But if bjp is serious and farmers are apprehensive, what prevents them to make it \nInto a law?                                                                  | Twitter Web App     |  90 | 1334499477592268806 | 137364924           | dtytrivedi     | ⋯ |   9415 |   2757 | 2020-05-22 14:39:42 | FALSE | NA | NA | NA | NA                                                                   | <!----> | http://abs.twimg.com/sticky/default_profile_images/default_profile_normal.png |\n| 1054222885          | 1334501661776076806 | 2020-12-03 14:16:04 | inotaka_japan   | 欲しいけど、手に入らないだろうなぁ。\n\n転売ヤーとかでさ。                                                                                                                                                                                                                                     | Twitter for iPhone  |  NA | NA                  | NA                  | NA             | ⋯ |   2236 |   7057 | 2013-01-02 04:49:39 | FALSE | NA | NA | NA | https://pbs.twimg.com/profile_banners/1054222885/1459005429          | http://abs.twimg.com/images/themes/theme1/bg.png  | http://pbs.twimg.com/profile_images/451141969037631488/460TrVc4_normal.jpeg   |\n| 829761408669712384  | 1334501661776240640 | 2020-12-03 14:16:04 | Alexandre92iizi | This video belongs in a museum 🤣💀 https://t.co/RsvW0jSPIW                                                                                                                                                                                                                                      | Twitter for iPhone  |  NA | NA                  | NA                  | NA             | ⋯ |   1586 |  16939 | 2017-02-09 18:38:30 | FALSE | NA | NA | NA | NA                                                                   | <!----> | http://pbs.twimg.com/profile_images/1288803453486194690/0tEEc_d1_normal.jpg   |\n| 1315618813451272194 | 1334501661771907074 | 2020-12-03 14:16:04 | CR16013259      | PayPalのプールに14円くれた人\nフォートナイトの200円エモートギフトします\nhttps://t.co/Lu9uQCBcxB                                                                                                                                                                                               | Twitter for Android |  NA | NA                  | NA                  | NA             | ⋯ |    632 |    493 | 2020-10-12 11:42:56 | FALSE | NA | NA | NA | https://pbs.twimg.com/profile_banners/1315618813451272194/1605437105 | <!----> | http://pbs.twimg.com/profile_images/1327925585293635584/hS9JJzfO_normal.jpg   |\n| 1187893938          | 1334501661763645442 | 2020-12-03 14:16:04 | BraveNewMatt    | @hxrryspears The \"boom! Hammertime\" transition at the beginning made me laugh out loud lmao omg                                                                                                                                                                                                | Twitter for Android |  82 | 1334493200820690944 | 315351722           | hxrryspears    | ⋯ |  88514 | 264788 | 2013-02-17 00:43:13 | FALSE | NA | NA | NA | https://pbs.twimg.com/profile_banners/1187893938/1595366289          | http://abs.twimg.com/images/themes/theme1/bg.png  | http://pbs.twimg.com/profile_images/1285685518374764544/p4vGOfUn_normal.jpg   |\n| 618339628           | 1334501661742682113 | 2020-12-03 14:16:04 | crazymom93      | @JDawson168 @kaitlancollins You’re confusing CNN with Fox. Sean Hannity says he never vets his story                                                                                                                                                                                           | Twitter for iPhone  |  72 | 1334501101782052864 | 801837586616557569  | JDawson168     | ⋯ |   1107 |   3149 | 2012-06-25 18:46:49 | FALSE | NA | NA | NA | https://pbs.twimg.com/profile_banners/618339628/1606089660           | http://abs.twimg.com/images/themes/theme1/bg.png  | http://pbs.twimg.com/profile_images/1304496172896317450/CL_uh_pk_normal.jpg   |\n| 1033594649691209728 | 1334501661772050438 | 2020-12-03 14:16:04 | AsfdfdfsS       | Hermoso 🥺https://t.co/lMBnoNzofI                                                                                                                                                                                                                                                      | Twitter for Android |  NA | NA                  | NA                  | NA             | ⋯ |  38045 |  51276 | 2018-08-26 05:59:02 | FALSE | NA | NA | NA | https://pbs.twimg.com/profile_banners/1033594649691209728/1535263392 | http://abs.twimg.com/images/themes/theme1/bg.png  | http://pbs.twimg.com/profile_images/1033595582806413312/FdnlUnTz_normal.jpg   |\n| 1308715884622602241 | 1334501661742665728 | 2020-12-03 14:16:04 | bymartinss_     | @bymartinss_                                                                                                                                                                                                                                                                                   | Twitter Web App     |  NA | 1310912615686733829 | 1308715884622602241 | bymartinss_    | ⋯ |   7719 |   3578 | 2020-09-23 10:32:48 | FALSE | NA | NA | NA | https://pbs.twimg.com/profile_banners/1308715884622602241/1606929351 | <!----> | http://pbs.twimg.com/profile_images/1334482814364954626/H9lCZCVq_normal.jpg   |\n| 1233742915651952640 | 1334501661776224259 | 2020-12-03 14:16:04 | Starbreaker_    | @friedPeeP i just started it I LOVE IT                                                                                                                                                                                                                                                         | Twitter Web App     |  27 | 1334501337187430402 | 1000767403582803975 | friedPeeP      | ⋯ |   5657 |  23203 | 2020-02-29 13:17:01 | FALSE | NA | NA | NA | https://pbs.twimg.com/profile_banners/1233742915651952640/1605821179 | <!----> | http://pbs.twimg.com/profile_images/1334207623189639170/RMkK7ByN_normal.jpg   |\n| 1146969976722657281 | 1334501661759377411 | 2020-12-03 14:16:04 | lady_huanca     | #대휘 참을성 무엇..?😮❣️\n#와이엇 표정=내 표정🤣\n\n#제작진도참여하는 #MMA2020_본방사수 \n#MMA이벤트참여 #카카오TV #멜론\n#멜론뮤직어워드 #MMA2020 #MMA #멜뮤\n@GoldenChild @AB6IX @WM_ONOFF \n#재재 #장준 https://t.co/bwDy9XbNmh                                                                | Twitter for Android |  NA | NA                  | NA                  | NA             | ⋯ |   9091 |   7795 | 2019-07-05 02:32:06 | FALSE | NA | NA | NA | https://pbs.twimg.com/profile_banners/1146969976722657281/1592353678 | <!----> | http://pbs.twimg.com/profile_images/1270152854246952961/HD671z7g_normal.jpg   |\n| 1333957920384544768 | 1334501661755256835 | 2020-12-03 14:16:04 | WOVB1M3zx8bIPZg | https://t.co/ZZjCYCB4wS                                                                                                                                                                                                                                                                        | Twitter for iPhone  |   0 | NA                  | NA                  | NA             | ⋯ |     73 |      0 | 2020-12-02 02:16:39 | FALSE | NA | NA | NA | https://pbs.twimg.com/profile_banners/1333957920384544768/1606952888 | <!----> | http://pbs.twimg.com/profile_images/1333968008067358726/aBNOj6-z_normal.jpg   |\n| 1292524812636770304 | 1334501661776244737 | 2020-12-03 14:16:04 | Ronniestan1     | @SkyNews Perhaps those catching the virus having refused the vaccine should be given some paracetamol &amp;amp; sent home to treat themselves. No longer the responsibility of the NHS.                                                                                                            | Twitter for Android | 131 | 1334388573710282752 | 7587032             | SkyNews        | ⋯ |    204 |    103 | 2020-08-09 18:15:35 | FALSE | NA | NA | NA | NA                                                                   | <!----> | http://abs.twimg.com/sticky/default_profile_images/default_profile_normal.png |\n| 1292101395559133185 | 1334501661763661826 | 2020-12-03 14:16:04 | AlexCar96523624 | @Esp_Interativo @ibismania  🥵😏                                                                                                                                                                                                                                                        | Twitter for Android |  14 | 1334336404545884167 | 15911679            | Esp_Interativo | ⋯ |     21 |    160 | 2020-08-08 14:12:50 | FALSE | NA | NA | NA | NA                                                                   | <!----> | http://pbs.twimg.com/profile_images/1331649870076268547/9nMj6kpB_normal.jpg   |\n| 1304347290908291072 | 1334501661746716675 | 2020-12-03 14:16:04 | ichigo12277486  | @8kool_7ciel @little_tansyou おめでとうございます😊                                                                                                                                                                                                                                             | Twitter for Android |  11 | 1334494928273989632 | 1289749053794705408 | 8kool_7ciel    | ⋯ |   2363 |   2199 | 2020-09-11 09:14:08 | FALSE | NA | NA | NA | https://pbs.twimg.com/profile_banners/1304347290908291072/1604214284 | <!----> | http://pbs.twimg.com/profile_images/1321667587772608512/ZLf4214__normal.jpg   |\n| 914466019           | 1334501661759451138 | 2020-12-03 14:16:04 | IIL_London      | @iDAWNUK https://t.co/gQI3AUPwtG                                                                                                                                                                                                                                                               | Twitter Web App     |   0 | 1334437102596091906 | 1088785152002662402 | iDAWNUK        | ⋯ |   2330 |   1901 | 2012-10-30 11:45:19 | FALSE | NA | NA | NA | https://pbs.twimg.com/profile_banners/914466019/1501582558           | http://abs.twimg.com/images/themes/theme1/bg.png  | http://pbs.twimg.com/profile_images/892329310027120641/1EpV7EaF_normal.jpg    |\n| 1305174462657187841 | 1334501661755269120 | 2020-12-03 14:16:04 | 5xdirection     | Happy 9 years to 5sos! Its crazy how i remember being so young falling in love with their music and everything about them. I wouldn’t be who I am today if I hadn’t become a fan. Thanks for being the source of my happiness for so many years, here’s to many more:) https://t.co/14IQHPHrW0 | Twitter for iPhone  | 140 | NA                  | NA                  | NA             | ⋯ |     27 |      6 | 2020-09-13 16:00:22 | FALSE | NA | NA | NA | https://pbs.twimg.com/profile_banners/1305174462657187841/1606942068 | <!----> | http://pbs.twimg.com/profile_images/1334237121935192068/IJ0Zk7FM_normal.jpg   |\n\n",
            "text/html": [
              "<table>\n",
              "<caption>A tibble: 1772 × 90</caption>\n",
              "<thead>\n",
              "\t<tr><th scope=col>user_id</th><th scope=col>status_id</th><th scope=col>created_at</th><th scope=col>screen_name</th><th scope=col>text</th><th scope=col>source</th><th scope=col>display_text_width</th><th scope=col>reply_to_status_id</th><th scope=col>reply_to_user_id</th><th scope=col>reply_to_screen_name</th><th scope=col>⋯</th><th scope=col>statuses_count</th><th scope=col>favourites_count</th><th scope=col>account_created_at</th><th scope=col>verified</th><th scope=col>profile_url</th><th scope=col>profile_expanded_url</th><th scope=col>account_lang</th><th scope=col>profile_banner_url</th><th scope=col>profile_background_url</th><th scope=col>profile_image_url</th></tr>\n",
              "\t<tr><th scope=col>&lt;chr&gt;</th><th scope=col>&lt;chr&gt;</th><th scope=col>&lt;dttm&gt;</th><th scope=col>&lt;chr&gt;</th><th scope=col>&lt;chr&gt;</th><th scope=col>&lt;chr&gt;</th><th scope=col>&lt;dbl&gt;</th><th scope=col>&lt;chr&gt;</th><th scope=col>&lt;chr&gt;</th><th scope=col>&lt;chr&gt;</th><th scope=col>⋯</th><th scope=col>&lt;int&gt;</th><th scope=col>&lt;int&gt;</th><th scope=col>&lt;dttm&gt;</th><th scope=col>&lt;lgl&gt;</th><th scope=col>&lt;chr&gt;</th><th scope=col>&lt;chr&gt;</th><th scope=col>&lt;lgl&gt;</th><th scope=col>&lt;chr&gt;</th><th scope=col>&lt;chr&gt;</th><th scope=col>&lt;chr&gt;</th></tr>\n",
              "</thead>\n",
              "<tbody>\n",
              "\t<tr><td>1276785579229941760</td><td>1334501540112035844</td><td>2020-12-03 14:15:35</td><td>GummyYoonies   </td><td>کی گفته نمیشه احساسات رو ثبت کرد؟ من میتونم تا هر چند سال دیگه به Abyss گوش کنم و امروز رو ثانیه به ثانیه به یاد بیارم\n",
              "#abyss #AbyssByJin                                                                                                                          </td><td>Twitter Web App          </td><td>NA</td><td>NA                 </td><td>NA                 </td><td>NA             </td><td>⋯</td><td> 13509</td><td>34540</td><td>2020-06-27 07:53:10</td><td>FALSE</td><td>NA</td><td>NA</td><td>NA</td><td>https://pbs.twimg.com/profile_banners/1276785579229941760/1606999052</td><td>                                                 </td><td>http://pbs.twimg.com/profile_images/1334476710226644994/7tjDiJt-_normal.jpg  </td></tr>\n",
              "\t<tr><td>1322813392457924609</td><td>1334501540103507968</td><td>2020-12-03 14:15:35</td><td>RA_032518      </td><td>@pilikseuuuu 베리식 어자                                                                                                                                                                                                                                            </td><td>Twitter for Android      </td><td> 6</td><td>1334501226646446082</td><td>1318783437050769408</td><td>pilikseuuuu    </td><td>⋯</td><td>   530</td><td>  259</td><td>2020-11-01 08:12:19</td><td>FALSE</td><td>NA</td><td>NA</td><td>NA</td><td>https://pbs.twimg.com/profile_banners/1322813392457924609/1606452053</td><td>                                                 </td><td>http://pbs.twimg.com/profile_images/1334331670946697219/vDsZBwwY_normal.jpg  </td></tr>\n",
              "\t<tr><td>2624622524         </td><td>1334501540124479492</td><td>2020-12-03 14:15:35</td><td>debualice      </td><td>エリオット:実は俺も筋トレしてるんだぜ。ブラッドの片腕として恥ずかしくない体型維持しとかないとな！                                                                                                                                                                   </td><td>twittbot.net             </td><td>NA</td><td>NA                 </td><td>NA                 </td><td>NA             </td><td>⋯</td><td>108700</td><td>    3</td><td>2014-07-12 12:51:50</td><td>FALSE</td><td>NA</td><td>NA</td><td>NA</td><td>https://pbs.twimg.com/profile_banners/2624622524/1405183437         </td><td>http://abs.twimg.com/images/themes/theme1/bg.png </td><td>http://pbs.twimg.com/profile_images/488019873801306113/q7rZHNJz_normal.jpeg  </td></tr>\n",
              "\t<tr><td>3009690385         </td><td>1334501540103483393</td><td>2020-12-03 14:15:35</td><td>cheapMS7       </td><td>32052BE2 :参戦ID\n",
              "参加者募集！\n",
              "Lv120 グリームニル\n",
              "https://t.co/9ZyonlhMTe                                                                                                                                                                                         </td><td>グランブルー ファンタジー</td><td>NA</td><td>NA                 </td><td>NA                 </td><td>NA             </td><td>⋯</td><td>  7487</td><td>    0</td><td>2015-02-05 03:07:01</td><td>FALSE</td><td>NA</td><td>NA</td><td>NA</td><td>NA                                                                  </td><td>http://abs.twimg.com/images/themes/theme1/bg.png </td><td>http://pbs.twimg.com/profile_images/645691238767718400/yRxOgzXv_normal.jpg   </td></tr>\n",
              "\t<tr><td>2648290290         </td><td>1334501540103475200</td><td>2020-12-03 14:15:35</td><td>0715starb      </td><td>気持ちのある人には全力でサポートます^ ^                                                                                                                                                                                                                             </td><td>twittbot.net             </td><td>NA</td><td>NA                 </td><td>NA                 </td><td>NA             </td><td>⋯</td><td> 61488</td><td>    0</td><td>2014-07-15 15:51:50</td><td>FALSE</td><td>NA</td><td>NA</td><td>NA</td><td>NA                                                                  </td><td>http://abs.twimg.com/images/themes/theme1/bg.png </td><td>http://abs.twimg.com/sticky/default_profile_images/default_profile_normal.png</td></tr>\n",
              "\t<tr><td>376830740          </td><td>1334501540107853825</td><td>2020-12-03 14:15:35</td><td>COMIR_UCV      </td><td>#AcciónClimática significa...\n",
              "\n",
              "Movernos de formas más limpias\n",
              "🚲🚶🏼\n",
              "\n",
              "y menos contaminantes.\n",
              "🚗\n",
              "\n",
              "Utilizar más energía sostenible\n",
              "☀️\n",
              "\n",
              "y menos combustibles fósiles.\n",
              "🛢️\n",
              "\n",
              "Aprovechar mejor los alimentos\n",
              "🥦🥕🍅\n",
              "\n",
              "y desperdiciar menos.\n",
              "🗑️                      </td><td>Twitter for iPhone       </td><td>NA</td><td>NA                 </td><td>NA                 </td><td>NA             </td><td>⋯</td><td> 29259</td><td>31337</td><td>2011-09-20 15:28:17</td><td>FALSE</td><td>NA</td><td>NA</td><td>NA</td><td>https://pbs.twimg.com/profile_banners/376830740/1400527302          </td><td>http://abs.twimg.com/images/themes/theme1/bg.png </td><td>http://pbs.twimg.com/profile_images/543517600731254784/wC_nAP6w_normal.jpeg  </td></tr>\n",
              "\t<tr><td>376830740          </td><td>1334501565269499905</td><td>2020-12-03 14:15:41</td><td>COMIR_UCV      </td><td>Bilharzia affects 240 million people. Let's get rid of it @Merck https://t.co/U5Xg5pOdhg https://t.co/aSUpiDS3MJ                                                                                                                                                    </td><td>Twitter for iPhone       </td><td>NA</td><td>NA                 </td><td>NA                 </td><td>NA             </td><td>⋯</td><td> 29259</td><td>31337</td><td>2011-09-20 15:28:17</td><td>FALSE</td><td>NA</td><td>NA</td><td>NA</td><td>https://pbs.twimg.com/profile_banners/376830740/1400527302          </td><td>http://abs.twimg.com/images/themes/theme1/bg.png </td><td>http://pbs.twimg.com/profile_images/543517600731254784/wC_nAP6w_normal.jpeg  </td></tr>\n",
              "\t<tr><td>1199623785449607169</td><td>1334501540103561218</td><td>2020-12-03 14:15:35</td><td>masiro486925   </td><td>『Big Bang Sweet』初オンエア中！\n",
              "\n",
              "聴き逃された方はぜひRadikoのタイムフリー機能で！\n",
              "\n",
              " #素のまんま                                                                                                                                                                </td><td>Twitter for iPhone       </td><td>NA</td><td>NA                 </td><td>NA                 </td><td>NA             </td><td>⋯</td><td>  7425</td><td> 3655</td><td>2019-11-27 09:39:48</td><td>FALSE</td><td>NA</td><td>NA</td><td>NA</td><td>https://pbs.twimg.com/profile_banners/1199623785449607169/1606713626</td><td>                                                 </td><td>http://pbs.twimg.com/profile_images/1334171784417931267/-MSQ0DoS_normal.jpg  </td></tr>\n",
              "\t<tr><td>1199623785449607169</td><td>1334501569463689218</td><td>2020-12-03 14:15:42</td><td>masiro486925   </td><td>【秒数指定】\n",
              "\n",
              "▼Snow Man 「Big Bang Sweet」\n",
              "https://t.co/HbiXkVZDyO\n",
              "\n",
              "▼３rd シングル詳細\n",
              "https://t.co/MPHHogWy17\n",
              "\n",
              "#SnowMan #素のまんま \n",
              "https://t.co/HbiXkVZDyO                                                                                              </td><td>Twitter for iPhone       </td><td>NA</td><td>NA                 </td><td>NA                 </td><td>NA             </td><td>⋯</td><td>  7425</td><td> 3655</td><td>2019-11-27 09:39:48</td><td>FALSE</td><td>NA</td><td>NA</td><td>NA</td><td>https://pbs.twimg.com/profile_banners/1199623785449607169/1606713626</td><td>                                                 </td><td>http://pbs.twimg.com/profile_images/1334171784417931267/-MSQ0DoS_normal.jpg  </td></tr>\n",
              "\t<tr><td>131490716          </td><td>1334501540107755520</td><td>2020-12-03 14:15:35</td><td>tail_furry     </td><td>桃鉄の犬がかわいいよね？って話( ˘ω˘ ) https://t.co/2PGeQroB0p                                                                                                                                                                                                       </td><td>Twitter Web App          </td><td>NA</td><td>NA                 </td><td>NA                 </td><td>NA             </td><td>⋯</td><td> 88265</td><td>51943</td><td>2010-04-10 12:32:44</td><td>FALSE</td><td>NA</td><td>NA</td><td>NA</td><td>https://pbs.twimg.com/profile_banners/131490716/1355631989          </td><td>http://abs.twimg.com/images/themes/theme1/bg.png </td><td>http://pbs.twimg.com/profile_images/982004166/20010315_normal.png            </td></tr>\n",
              "\t<tr><td>1598226744         </td><td>1334501540103507969</td><td>2020-12-03 14:15:35</td><td>fireflyCOBRA   </td><td>「わからない」じゃなくて「覚えてない」はプレミ                                                                                                                                                                                                                      </td><td>Twitter Web App          </td><td>NA</td><td>NA                 </td><td>NA                 </td><td>NA             </td><td>⋯</td><td>384213</td><td>  381</td><td>2013-07-16 12:07:16</td><td>FALSE</td><td>NA</td><td>NA</td><td>NA</td><td>https://pbs.twimg.com/profile_banners/1598226744/1595075038         </td><td>http://abs.twimg.com/images/themes/theme1/bg.png </td><td>http://pbs.twimg.com/profile_images/1333034407402164225/MkWkYcbB_normal.jpg  </td></tr>\n",
              "\t<tr><td>1312011938444931072</td><td>1334501540116066304</td><td>2020-12-03 14:15:35</td><td>Lr9MYAWU1HFafQ1</td><td>こういうのを考えたりすることで、仕事や人間関係にも活きてくると思うんだけどなあ。\n",
              "（性選択仮説とかあんまり人に話さない方がいいけど、、笑）                                                                                                                          </td><td>Twitter for iPhone       </td><td>NA</td><td>NA                 </td><td>NA                 </td><td>NA             </td><td>⋯</td><td>   253</td><td>  123</td><td>2020-10-02 12:50:04</td><td>FALSE</td><td>NA</td><td>NA</td><td>NA</td><td>https://pbs.twimg.com/profile_banners/1312011938444931072/1601719690</td><td>                                                 </td><td>http://pbs.twimg.com/profile_images/1312012216128872448/7qg7CrcG_normal.jpg  </td></tr>\n",
              "\t<tr><td>1311517014670733312</td><td>1334501540132913160</td><td>2020-12-03 14:15:35</td><td>BOMBbleBee1214 </td><td>이태일수고했어사랑해보고싶다                     #이태일_각개끝_비비씨가_달려각개             지져스무슨말이필요해사랑해                                                                                                                                            </td><td>Twitter for Android      </td><td>NA</td><td>NA                 </td><td>NA                 </td><td>NA             </td><td>⋯</td><td>   851</td><td> 4716</td><td>2020-10-01 04:03:34</td><td>FALSE</td><td>NA</td><td>NA</td><td>NA</td><td>https://pbs.twimg.com/profile_banners/1311517014670733312/1604798555</td><td>                                                 </td><td>http://pbs.twimg.com/profile_images/1333398413648433154/1AGXPLr1_normal.jpg  </td></tr>\n",
              "\t<tr><td>1320320887891972097</td><td>1334501540116107264</td><td>2020-12-03 14:15:35</td><td>rinnmomoTRPG   </td><td>@nagisa_TRPG_KPL 渚受けが好き                                                                                                                                                                                                                                       </td><td>Twitter for iPhone       </td><td> 6</td><td>1334501465117757440</td><td>1252586663693312007</td><td>nagisa_TRPG_KPL</td><td>⋯</td><td>  1262</td><td>  405</td><td>2020-10-25 11:07:05</td><td>FALSE</td><td>NA</td><td>NA</td><td>NA</td><td>NA                                                                  </td><td>                                                 </td><td>http://pbs.twimg.com/profile_images/1334112219592724482/eq7DVjG7_normal.jpg  </td></tr>\n",
              "\t<tr><td>1176882277378211840</td><td>1334501540120330241</td><td>2020-12-03 14:15:35</td><td>uneedsuns      </td><td>@tanyainrl gua islam tapi knp pengen buat pohon natal anjr, lucu bgt ada lampu lampu nya pls 😔😔                                                                                                                                                                     </td><td>Twitter for Android      </td><td>84</td><td>1334452678127050755</td><td>949201977874907136 </td><td>tanyainrl      </td><td>⋯</td><td>  3335</td><td> 4233</td><td>2019-09-25 15:33:05</td><td>FALSE</td><td>NA</td><td>NA</td><td>NA</td><td>https://pbs.twimg.com/profile_banners/1176882277378211840/1606805127</td><td>                                                 </td><td>http://pbs.twimg.com/profile_images/1333073314139422721/eZrit4T9_normal.jpg  </td></tr>\n",
              "\t<tr><td>1096785748546781185</td><td>1334501540133031936</td><td>2020-12-03 14:15:35</td><td>vghigliotti    </td><td>ora vi porrò un interessante quesito, ovvero: è normale che la nostra prof di chimica ci abbia fatto comprare il libro di quinta (oltre a quello di terza che la scuola ci aveva detto di comprare) perché il programma che dobbiamo fare è su quello di quinta?    </td><td>Twitter for iPhone       </td><td>NA</td><td>NA                 </td><td>NA                 </td><td>NA             </td><td>⋯</td><td>   555</td><td> 5191</td><td>2019-02-16 14:57:54</td><td>FALSE</td><td>NA</td><td>NA</td><td>NA</td><td>https://pbs.twimg.com/profile_banners/1096785748546781185/1606854995</td><td>                                                 </td><td>http://pbs.twimg.com/profile_images/1333904914565697537/CmEUogYL_normal.jpg  </td></tr>\n",
              "\t<tr><td>898904689818783744 </td><td>1334501540124475394</td><td>2020-12-03 14:15:35</td><td>liiterati      </td><td>@GLDENSMARIANO YOURE SO CUTE                                                                                                                                                                                                                                        </td><td>Twitter for Android      </td><td>13</td><td>1334495821396664320</td><td>1280318688642678789</td><td>GLDENSMARIANO  </td><td>⋯</td><td>  7606</td><td>27345</td><td>2017-08-19 13:49:13</td><td>FALSE</td><td>NA</td><td>NA</td><td>NA</td><td>https://pbs.twimg.com/profile_banners/898904689818783744/1606841712 </td><td>                                                 </td><td>http://pbs.twimg.com/profile_images/1333816374666280961/NfGN1XcO_normal.jpg  </td></tr>\n",
              "\t<tr><td>1297164855338770432</td><td>1334501540128821249</td><td>2020-12-03 14:15:35</td><td>kylesolioti    </td><td>vou só colocar se bater até às 17:00 não sou burra                                                                                                                                                                                                                  </td><td>Twitter for Android      </td><td>NA</td><td>1334501027505168391</td><td>1297164855338770432</td><td>kylesolioti    </td><td>⋯</td><td>  8948</td><td> 7692</td><td>2020-08-22 13:33:04</td><td>FALSE</td><td>NA</td><td>NA</td><td>NA</td><td>https://pbs.twimg.com/profile_banners/1297164855338770432/1606397446</td><td>                                                 </td><td>http://pbs.twimg.com/profile_images/1331953549157277703/Gz200u2G_normal.jpg  </td></tr>\n",
              "\t<tr><td>1176005274605445120</td><td>1334501540141391874</td><td>2020-12-03 14:15:35</td><td>garlosG77705410</td><td>@lorenzoipsum Sono lindo se nota que hace rato que está roto.                                                                                                                                                                                                       </td><td>Twitter for Android      </td><td>47</td><td>1334488488872439809</td><td>824815390903656448 </td><td>lorenzoipsum   </td><td>⋯</td><td>  4398</td><td> 3011</td><td>2019-09-23 05:28:20</td><td>FALSE</td><td>NA</td><td>NA</td><td>NA</td><td>https://pbs.twimg.com/profile_banners/1176005274605445120/1587838238</td><td>                                                 </td><td>http://pbs.twimg.com/profile_images/1248397789723148298/d-FveKxt_normal.jpg  </td></tr>\n",
              "\t<tr><td>844683863259410432 </td><td>1334501540141273089</td><td>2020-12-03 14:15:35</td><td>melodymomo1227 </td><td>セイボリー先輩綺麗だ…                                                                                                                                                                                                                                               </td><td>Twitter for iPhone       </td><td>NA</td><td>NA                 </td><td>NA                 </td><td>NA             </td><td>⋯</td><td> 55999</td><td>46525</td><td>2017-03-22 22:55:01</td><td>FALSE</td><td>NA</td><td>NA</td><td>NA</td><td>https://pbs.twimg.com/profile_banners/844683863259410432/1567114671 </td><td>                                                 </td><td>http://pbs.twimg.com/profile_images/1185560474357600257/Bf522xo4_normal.jpg  </td></tr>\n",
              "\t<tr><td>1309293027077152769</td><td>1334501540128669698</td><td>2020-12-03 14:15:35</td><td>gibralarick    </td><td>Ada ini bang arick https://t.co/ho811cizyP                                                                                                                                                                                                                          </td><td>Twitter for Android      </td><td>NA</td><td>NA                 </td><td>NA                 </td><td>NA             </td><td>⋯</td><td>  2896</td><td>   82</td><td>2020-09-25 00:46:08</td><td>FALSE</td><td>NA</td><td>NA</td><td>NA</td><td>https://pbs.twimg.com/profile_banners/1309293027077152769/1606903909</td><td>                                                 </td><td>http://pbs.twimg.com/profile_images/1334075882290307075/63KWaRz0_normal.jpg  </td></tr>\n",
              "\t<tr><td>1287821664173121537</td><td>1334501540120375297</td><td>2020-12-03 14:15:35</td><td>zippypsd       </td><td>@wizzedps ?                                                                                                                                                                                                                                                         </td><td>Twitter Web App          </td><td> 1</td><td>1334501363896766466</td><td>1264043826672480262</td><td>wizzedps       </td><td>⋯</td><td>  2037</td><td> 7242</td><td>2020-07-27 18:46:36</td><td>FALSE</td><td>NA</td><td>NA</td><td>NA</td><td>https://pbs.twimg.com/profile_banners/1287821664173121537/1606992978</td><td>                                                 </td><td>http://pbs.twimg.com/profile_images/1332736887136645122/CPInlGIK_normal.jpg  </td></tr>\n",
              "\t<tr><td>1232336283571228672</td><td>1334501540133007363</td><td>2020-12-03 14:15:35</td><td>nichtberkant   </td><td>@elefun029_ hab mich stark mit einem jetzt alten freund gestritten 🙂                                                                                                                                                                                                </td><td>Twitter for Android      </td><td>56</td><td>1334494109780889601</td><td>1234103295842672640</td><td>elefun029_     </td><td>⋯</td><td> 59102</td><td>63806</td><td>2020-02-25 16:07:27</td><td>FALSE</td><td>NA</td><td>NA</td><td>NA</td><td>https://pbs.twimg.com/profile_banners/1232336283571228672/1606692839</td><td>                                                 </td><td>http://pbs.twimg.com/profile_images/1333878815140016128/_AkvaI2l_normal.jpg  </td></tr>\n",
              "\t<tr><td>206918296          </td><td>1334501540128845824</td><td>2020-12-03 14:15:35</td><td>adfontes__     </td><td>😩🙏 #SpotifyWrapped https://t.co/r9EEFFUncE                                                                                                                                                                                                                          </td><td>Twitter for iPhone       </td><td>NA</td><td>NA                 </td><td>NA                 </td><td>NA             </td><td>⋯</td><td>  6373</td><td>39322</td><td>2010-10-24 01:56:43</td><td>FALSE</td><td>NA</td><td>NA</td><td>NA</td><td>https://pbs.twimg.com/profile_banners/206918296/1572554194          </td><td>http://abs.twimg.com/images/themes/theme1/bg.png </td><td>http://pbs.twimg.com/profile_images/1285754048071770114/3QmbeyzT_normal.jpg  </td></tr>\n",
              "\t<tr><td>242492546          </td><td>1334501540120436738</td><td>2020-12-03 14:15:35</td><td>Ynaf_Viv       </td><td>No os quiero fastidiar el día, pero os recuerdo que estáis pagando la pensión a gente que va diciendo por ahí que os quiere fusilar.                                                                                                                                </td><td>Twitter for Android      </td><td>NA</td><td>NA                 </td><td>NA                 </td><td>NA             </td><td>⋯</td><td> 59453</td><td>72818</td><td>2011-01-24 22:31:56</td><td>FALSE</td><td>NA</td><td>NA</td><td>NA</td><td>https://pbs.twimg.com/profile_banners/242492546/1383301631          </td><td>http://abs.twimg.com/images/themes/theme14/bg.gif</td><td>http://pbs.twimg.com/profile_images/1233802884325703681/wdAt5OKo_normal.jpg  </td></tr>\n",
              "\t<tr><td>894251706363420672 </td><td>1334501540128673792</td><td>2020-12-03 14:15:35</td><td>alup_4         </td><td>いいねお願いします                                                                                                                                                                                                                                                  </td><td>Twitter for iPhone       </td><td>NA</td><td>NA                 </td><td>NA                 </td><td>NA             </td><td>⋯</td><td>   534</td><td>  107</td><td>2017-08-06 17:39:55</td><td>FALSE</td><td>NA</td><td>NA</td><td>NA</td><td>https://pbs.twimg.com/profile_banners/894251706363420672/1606862973 </td><td>                                                 </td><td>http://pbs.twimg.com/profile_images/1334165717428539393/898tY5jf_normal.jpg  </td></tr>\n",
              "\t<tr><td>1264118478153244675</td><td>1334501540137058304</td><td>2020-12-03 14:15:35</td><td>Plum3357       </td><td>@Kedama_twst キネマスターってアプリ使ってちょっと色々やって見た☺️                                                                                                                                                                                                    </td><td>Twitter for iPhone       </td><td>27</td><td>1334501079191437312</td><td>1248981947419770882</td><td>Kedama_twst    </td><td>⋯</td><td> 16239</td><td>24571</td><td>2020-05-23 08:58:36</td><td>FALSE</td><td>NA</td><td>NA</td><td>NA</td><td>https://pbs.twimg.com/profile_banners/1264118478153244675/1604071706</td><td>                                                 </td><td>http://pbs.twimg.com/profile_images/1330180140924628994/izsEyWdr_normal.jpg  </td></tr>\n",
              "\t<tr><td>1229061305564160001</td><td>1334501540141232128</td><td>2020-12-03 14:15:35</td><td>Jrwytw1        </td><td>เมื่อคืนหลังการชุมนุม\n",
              "น้องการ์ดคนหนึ่งขับมอเตอร์ไซค์ไปแถวรามคำแหง\n",
              "\n",
              "มีผู้พบนอนจมกองเลือดอยู่\n",
              "ได้นำส่งโรงพยาบาลแล้วครับ\n",
              "\n",
              "ตอนนี้ยังพูดสับสน\n",
              "มีแผลแตก 3แผลที่หน้าผาก\n",
              "มีแผล ช้ำตามตัว\n",
              "CT กระโหลกศีรษะยุบ เลือดออกในสมอง\n",
              "กำลังจะผ่าตัดครับ\n",
              "\n",
              "ท่านใดเห็นเหตุการณ์ รู้เบาะแส กรุณาแจ้งนะครับ https://t.co/joyGuPpNKr</td><td>Twitter for Android      </td><td>NA</td><td>NA                 </td><td>NA                 </td><td>NA             </td><td>⋯</td><td>  1990</td><td>  269</td><td>2020-02-16 15:13:57</td><td>FALSE</td><td>NA</td><td>NA</td><td>NA</td><td>https://pbs.twimg.com/profile_banners/1229061305564160001/1597470367</td><td>                                                 </td><td>http://pbs.twimg.com/profile_images/1330496200328568838/78R_w839_normal.jpg  </td></tr>\n",
              "\t<tr><td>1199674381934317569</td><td>1334501540103536642</td><td>2020-12-03 14:15:35</td><td>62Stelina      </td><td>「政治家の妻だからといって行動を縛られるのは日本的」という個人の価値観の問題ではなく、テレビ局が放送法（第４条「政治的公平性の担保」）を遵守するか否かという問題です。ポイントのすり替えはよろしくない。                                                            </td><td>Twitter for Android      </td><td>NA</td><td>NA                 </td><td>NA                 </td><td>NA             </td><td>⋯</td><td>  6632</td><td>25838</td><td>2019-11-27 13:00:58</td><td>FALSE</td><td>NA</td><td>NA</td><td>NA</td><td>NA                                                                  </td><td>                                                 </td><td>http://pbs.twimg.com/profile_images/1199674906104872960/AbTC0E2V_normal.jpg  </td></tr>\n",
              "\t<tr><td>562469829          </td><td>1334501540133036032</td><td>2020-12-03 14:15:35</td><td>jhobieyes      </td><td>daegu boy https://t.co/aWKJbrDsTV                                                                                                                                                                                                                                   </td><td>Twitter Web App          </td><td>NA</td><td>NA                 </td><td>NA                 </td><td>NA             </td><td>⋯</td><td> 60226</td><td>98266</td><td>2012-04-24 22:26:53</td><td>FALSE</td><td>NA</td><td>NA</td><td>NA</td><td>https://pbs.twimg.com/profile_banners/562469829/1606143424          </td><td>http://abs.twimg.com/images/themes/theme1/bg.png </td><td>http://pbs.twimg.com/profile_images/1333615429391175681/8WY4GrU-_normal.jpg  </td></tr>\n",
              "\t<tr><td>⋮</td><td>⋮</td><td>⋮</td><td>⋮</td><td>⋮</td><td>⋮</td><td>⋮</td><td>⋮</td><td>⋮</td><td>⋮</td><td>⋱</td><td>⋮</td><td>⋮</td><td>⋮</td><td>⋮</td><td>⋮</td><td>⋮</td><td>⋮</td><td>⋮</td><td>⋮</td><td>⋮</td></tr>\n",
              "\t<tr><td>4773988872         </td><td>1334501661738369028</td><td>2020-12-03 14:16:04</td><td>sxtargaze      </td><td>#辰海有尽\n",
              "#守异\n",
              "\n",
              "*my OCs https://t.co/jslGGwLplP                                                                                                                                                                                                                                           </td><td>Twitter for Android</td><td> NA</td><td>NA                 </td><td>NA                 </td><td>NA            </td><td>⋯</td><td> 86247</td><td>   693</td><td>2016-01-17 15:29:12</td><td>FALSE</td><td>NA</td><td>NA</td><td>NA</td><td>https://pbs.twimg.com/profile_banners/4773988872/1606395491         </td><td>http://abs.twimg.com/images/themes/theme1/bg.png </td><td>http://pbs.twimg.com/profile_images/1334367121531305985/20OUppNv_normal.jpg  </td></tr>\n",
              "\t<tr><td>1086618028404396033</td><td>1334501661759348742</td><td>2020-12-03 14:16:04</td><td>ragulraj0804   </td><td>Crossed 450K tweets and now marching towards 500K tweets 💥\n",
              "\n",
              "#28YearsOfBelovedVIJAY\n",
              "#Master @actorvijay                                                                                                                                                                                     </td><td>Twitter for Android</td><td> NA</td><td>NA                 </td><td>NA                 </td><td>NA            </td><td>⋯</td><td> 15485</td><td> 31072</td><td>2019-01-19 13:35:01</td><td>FALSE</td><td>NA</td><td>NA</td><td>NA</td><td>NA                                                                  </td><td>                                                 </td><td>http://pbs.twimg.com/profile_images/1325102151320834051/kthIQxeO_normal.jpg  </td></tr>\n",
              "\t<tr><td>1274046048869199877</td><td>1334501661742608387</td><td>2020-12-03 14:16:04</td><td>Nightswatcher4 </td><td>@muddassir1991 @YDAKPK1 @punjab_yda @yda_punjab @ydakp_official @drmatikhan Exactly he was very nice man                                                                                                                                                                                      </td><td>Twitter for Android</td><td> 28</td><td>1334489735704707073</td><td>2501513963         </td><td>muddassir1991 </td><td>⋯</td><td>  7169</td><td>  5525</td><td>2020-06-19 18:27:24</td><td>FALSE</td><td>NA</td><td>NA</td><td>NA</td><td>https://pbs.twimg.com/profile_banners/1274046048869199877/1602438511</td><td>                                                 </td><td>http://pbs.twimg.com/profile_images/1332774701819682816/n3LW5RfO_normal.jpg  </td></tr>\n",
              "\t<tr><td>576289027          </td><td>1334501661763543040</td><td>2020-12-03 14:16:04</td><td>NoKiuy         </td><td>100年ちょっと前に、やれ不道徳だの有害だの同じようなこと言われてたメディアがありましたね。小説っていうんですけど。                                                                                                                                                                             </td><td>Twitter for Android</td><td> NA</td><td>NA                 </td><td>NA                 </td><td>NA            </td><td>⋯</td><td>   616</td><td>   889</td><td>2012-05-10 14:40:43</td><td>FALSE</td><td>NA</td><td>NA</td><td>NA</td><td>https://pbs.twimg.com/profile_banners/576289027/1600731685          </td><td>http://abs.twimg.com/images/themes/theme11/bg.gif</td><td>http://pbs.twimg.com/profile_images/1309470449126895617/XNl1mNhF_normal.jpg  </td></tr>\n",
              "\t<tr><td>234447389          </td><td>1334501661738471424</td><td>2020-12-03 14:16:04</td><td>AudioInkRadio  </td><td>@smokiesson Thank you sooo much! We love you right back ♥️                                                                                                                                                                                                                                     </td><td>Twitter Web App    </td><td> 46</td><td>1334324376561475585</td><td>1143196794         </td><td>smokiesson    </td><td>⋯</td><td> 10746</td><td> 38787</td><td>2011-01-05 17:46:55</td><td>FALSE</td><td>NA</td><td>NA</td><td>NA</td><td>https://pbs.twimg.com/profile_banners/234447389/1593035169          </td><td>http://abs.twimg.com/images/themes/theme14/bg.gif</td><td>http://pbs.twimg.com/profile_images/1273961459869978625/9l4m7hVh_normal.jpg  </td></tr>\n",
              "\t<tr><td>766702891          </td><td>1334501661776236545</td><td>2020-12-03 14:16:04</td><td>itjoaovictor   </td><td>Todo meu respeito para quem tem Rihanna no top 5 do spotify em pleno 2020                                                                                                                                                                                                                     </td><td>Twitter for iPhone </td><td> NA</td><td>NA                 </td><td>NA                 </td><td>NA            </td><td>⋯</td><td>103825</td><td> 19508</td><td>2012-08-19 01:33:04</td><td>FALSE</td><td>NA</td><td>NA</td><td>NA</td><td>https://pbs.twimg.com/profile_banners/766702891/1461608139          </td><td>http://abs.twimg.com/images/themes/theme9/bg.gif </td><td>http://pbs.twimg.com/profile_images/1269268781307777029/EqpUX2t4_normal.jpg  </td></tr>\n",
              "\t<tr><td>1315762384775114752</td><td>1334501661755248640</td><td>2020-12-03 14:16:04</td><td>swxetkook01    </td><td>@93R4P @tsyoong tete con el cabello rojo supremo, concordamos¿?                                                                                                                                                                                                                               </td><td>Twitter Web App    </td><td> 47</td><td>1334167913142636544</td><td>1233841097039863808</td><td>93R4P         </td><td>⋯</td><td>  3381</td><td>    51</td><td>2020-10-12 21:13:00</td><td>FALSE</td><td>NA</td><td>NA</td><td>NA</td><td>https://pbs.twimg.com/profile_banners/1315762384775114752/1606961509</td><td>                                                 </td><td>http://pbs.twimg.com/profile_images/1334498265216266240/jWqLrArc_normal.jpg  </td></tr>\n",
              "\t<tr><td>1309319738045145088</td><td>1334501661772025863</td><td>2020-12-03 14:16:04</td><td>RBighs         </td><td>@sadsugardaddie But you are                                                                                                                                                                                                                                                                   </td><td>Twitter for Android</td><td> 11</td><td>1334501401318182917</td><td>1314042432741277696</td><td>sadsugardaddie</td><td>⋯</td><td> 26145</td><td> 43273</td><td>2020-09-25 02:32:41</td><td>FALSE</td><td>NA</td><td>NA</td><td>NA</td><td>https://pbs.twimg.com/profile_banners/1309319738045145088/1606534931</td><td>                                                 </td><td>http://pbs.twimg.com/profile_images/1333850307835650051/elEeeD9y_normal.jpg  </td></tr>\n",
              "\t<tr><td>3009667858         </td><td>1334501661767856134</td><td>2020-12-03 14:16:04</td><td>pensierivforme </td><td>Da piccola quando mia mamma mi diceva \"no Gaia non possiamo non ho soldi\" le rispondevo: \"eh vabbè paga col bancomat\" come se fosse una sorta di carta magica illimitata che mente mamma mia                                                                                                  </td><td>Twitter for iPhone </td><td> NA</td><td>NA                 </td><td>NA                 </td><td>NA            </td><td>⋯</td><td> 69852</td><td> 61084</td><td>2015-02-01 08:12:39</td><td>FALSE</td><td>NA</td><td>NA</td><td>NA</td><td>https://pbs.twimg.com/profile_banners/3009667858/1606835413         </td><td>http://abs.twimg.com/images/themes/theme1/bg.png </td><td>http://pbs.twimg.com/profile_images/1333790487048667141/G3xS81D-_normal.jpg  </td></tr>\n",
              "\t<tr><td>1311992292006334464</td><td>1334501661755191296</td><td>2020-12-03 14:16:04</td><td>itsgiluiza2    </td><td>ele é tão lindinho aaa 🥰                                                                                                                                                                                                                                                             </td><td>Twitter for Android</td><td> NA</td><td>NA                 </td><td>NA                 </td><td>NA            </td><td>⋯</td><td>  2422</td><td>  6802</td><td>2020-10-02 11:32:14</td><td>FALSE</td><td>NA</td><td>NA</td><td>NA</td><td>https://pbs.twimg.com/profile_banners/1311992292006334464/1606875390</td><td>                                                 </td><td>http://pbs.twimg.com/profile_images/1333945854533783555/6xvsVoTG_normal.jpg  </td></tr>\n",
              "\t<tr><td>2393380022         </td><td>1334501661767823361</td><td>2020-12-03 14:16:04</td><td>florapastalinda</td><td>@eldestapeweb EL CASTIGO LO VAN A SENTIR EN LAS CANCHAS. SIGUE TODO IGUAL                                                                                                                                                                                                                     </td><td>Twitter for Android</td><td> 59</td><td>1334316425436127232</td><td>2792557771         </td><td>eldestapeweb  </td><td>⋯</td><td> 12839</td><td>  5015</td><td>2014-03-16 22:56:05</td><td>FALSE</td><td>NA</td><td>NA</td><td>NA</td><td>NA                                                                  </td><td>http://abs.twimg.com/images/themes/theme1/bg.png </td><td>http://pbs.twimg.com/profile_images/1316095165996638208/e5gr130B_normal.jpg  </td></tr>\n",
              "\t<tr><td>1273934669348630528</td><td>1334501661750951936</td><td>2020-12-03 14:16:04</td><td>Amitgeeta1     </td><td>#GodMorningThursday\n",
              "कविर्देव (कबीर प्रभु) ने सतपुरुष रूप में प्रकट होकर सतलोक में विराजमान होकर प्रथम सतलोक में अन्य रचना की। एक शब्द (वचन) से सोलह द्वीपों की रचना की। -जगतगुरु तत्वदर्शी संत रामपाल जी महाराज \n",
              "अधिक जानकारी के लिए देखें साधना टीवी शाम 7:30 बजे से.. https://t.co/XjL6BpG7fh                             </td><td>Twitter for Android</td><td> NA</td><td>NA                 </td><td>NA                 </td><td>NA            </td><td>⋯</td><td> 47791</td><td> 42801</td><td>2020-06-19 11:04:53</td><td>FALSE</td><td>NA</td><td>NA</td><td>NA</td><td>https://pbs.twimg.com/profile_banners/1273934669348630528/1592910056</td><td>                                                 </td><td>http://pbs.twimg.com/profile_images/1275382900653883392/3ee9ty99_normal.jpg  </td></tr>\n",
              "\t<tr><td>1334499497112522753</td><td>1334501661755076608</td><td>2020-12-03 14:16:04</td><td>Pranav16663473 </td><td>Diljit Paaji tussi bhut wadiyaa kamm kar rahe ho. Kangna da agenda hi Andolan toh dhyan DIVERT karna hai. Eh apne maqsad ch kaamyaab ho rahi hai, tussi esnu reply na dao. Eh bhut  chalak lok ne.\n",
              "\n",
              "Ede nal v gal karange, ek war sada kisaanii wala maslaa solve ho jawe. #KisanKiBaat     </td><td>Twitter for Android</td><td> NA</td><td>NA                 </td><td>NA                 </td><td>NA            </td><td>⋯</td><td>     2</td><td>     1</td><td>2020-12-03 14:07:50</td><td>FALSE</td><td>NA</td><td>NA</td><td>NA</td><td>NA                                                                  </td><td>                                                 </td><td>http://abs.twimg.com/sticky/default_profile_images/default_profile_normal.png</td></tr>\n",
              "\t<tr><td>711979940426735616 </td><td>1334501661767766017</td><td>2020-12-03 14:16:04</td><td>Fast72W        </td><td>So does the 1h I just spent updating and maintaining my main work computer count as work time or unacknowledged free labour time?  Begs a question for all those who work form home, do you get paid for what would normally be ITs problem?                                                  </td><td>Twitter Web App    </td><td> NA</td><td>NA                 </td><td>NA                 </td><td>NA            </td><td>⋯</td><td>  9437</td><td>  3628</td><td>2016-03-21 18:17:00</td><td>FALSE</td><td>NA</td><td>NA</td><td>NA</td><td>https://pbs.twimg.com/profile_banners/711979940426735616/1558963279 </td><td>                                                 </td><td>http://pbs.twimg.com/profile_images/1133510132183326721/9TiV2MNt_normal.jpg  </td></tr>\n",
              "\t<tr><td>1263841910377988096</td><td>1334501661742514177</td><td>2020-12-03 14:16:04</td><td>ThoughtPower1  </td><td>@dtytrivedi @dr_livpreet @ramanmann1974 @PMOIndia That is no answer. It’s great that it is happening despite not being a law. But if bjp is serious and farmers are apprehensive, what prevents them to make it \n",
              "Into a law?                                                                 </td><td>Twitter Web App    </td><td> 90</td><td>1334499477592268806</td><td>137364924          </td><td>dtytrivedi    </td><td>⋯</td><td>  9415</td><td>  2757</td><td>2020-05-22 14:39:42</td><td>FALSE</td><td>NA</td><td>NA</td><td>NA</td><td>NA                                                                  </td><td>                                                 </td><td>http://abs.twimg.com/sticky/default_profile_images/default_profile_normal.png</td></tr>\n",
              "\t<tr><td>1054222885         </td><td>1334501661776076806</td><td>2020-12-03 14:16:04</td><td>inotaka_japan  </td><td>欲しいけど、手に入らないだろうなぁ。\n",
              "\n",
              "転売ヤーとかでさ。                                                                                                                                                                                                                                    </td><td>Twitter for iPhone </td><td> NA</td><td>NA                 </td><td>NA                 </td><td>NA            </td><td>⋯</td><td>  2236</td><td>  7057</td><td>2013-01-02 04:49:39</td><td>FALSE</td><td>NA</td><td>NA</td><td>NA</td><td>https://pbs.twimg.com/profile_banners/1054222885/1459005429         </td><td>http://abs.twimg.com/images/themes/theme1/bg.png </td><td>http://pbs.twimg.com/profile_images/451141969037631488/460TrVc4_normal.jpeg  </td></tr>\n",
              "\t<tr><td>829761408669712384 </td><td>1334501661776240640</td><td>2020-12-03 14:16:04</td><td>Alexandre92iizi</td><td>This video belongs in a museum 🤣💀 https://t.co/RsvW0jSPIW                                                                                                                                                                                                                                     </td><td>Twitter for iPhone </td><td> NA</td><td>NA                 </td><td>NA                 </td><td>NA            </td><td>⋯</td><td>  1586</td><td> 16939</td><td>2017-02-09 18:38:30</td><td>FALSE</td><td>NA</td><td>NA</td><td>NA</td><td>NA                                                                  </td><td>                                                 </td><td>http://pbs.twimg.com/profile_images/1288803453486194690/0tEEc_d1_normal.jpg  </td></tr>\n",
              "\t<tr><td>1315618813451272194</td><td>1334501661771907074</td><td>2020-12-03 14:16:04</td><td>CR16013259     </td><td>PayPalのプールに14円くれた人\n",
              "フォートナイトの200円エモートギフトします\n",
              "https://t.co/Lu9uQCBcxB                                                                                                                                                                                              </td><td>Twitter for Android</td><td> NA</td><td>NA                 </td><td>NA                 </td><td>NA            </td><td>⋯</td><td>   632</td><td>   493</td><td>2020-10-12 11:42:56</td><td>FALSE</td><td>NA</td><td>NA</td><td>NA</td><td>https://pbs.twimg.com/profile_banners/1315618813451272194/1605437105</td><td>                                                 </td><td>http://pbs.twimg.com/profile_images/1327925585293635584/hS9JJzfO_normal.jpg  </td></tr>\n",
              "\t<tr><td>1187893938         </td><td>1334501661763645442</td><td>2020-12-03 14:16:04</td><td>BraveNewMatt   </td><td>@hxrryspears The \"boom! Hammertime\" transition at the beginning made me laugh out loud lmao omg                                                                                                                                                                                               </td><td>Twitter for Android</td><td> 82</td><td>1334493200820690944</td><td>315351722          </td><td>hxrryspears   </td><td>⋯</td><td> 88514</td><td>264788</td><td>2013-02-17 00:43:13</td><td>FALSE</td><td>NA</td><td>NA</td><td>NA</td><td>https://pbs.twimg.com/profile_banners/1187893938/1595366289         </td><td>http://abs.twimg.com/images/themes/theme1/bg.png </td><td>http://pbs.twimg.com/profile_images/1285685518374764544/p4vGOfUn_normal.jpg  </td></tr>\n",
              "\t<tr><td>618339628          </td><td>1334501661742682113</td><td>2020-12-03 14:16:04</td><td>crazymom93     </td><td>@JDawson168 @kaitlancollins You’re confusing CNN with Fox. Sean Hannity says he never vets his story                                                                                                                                                                                          </td><td>Twitter for iPhone </td><td> 72</td><td>1334501101782052864</td><td>801837586616557569 </td><td>JDawson168    </td><td>⋯</td><td>  1107</td><td>  3149</td><td>2012-06-25 18:46:49</td><td>FALSE</td><td>NA</td><td>NA</td><td>NA</td><td>https://pbs.twimg.com/profile_banners/618339628/1606089660          </td><td>http://abs.twimg.com/images/themes/theme1/bg.png </td><td>http://pbs.twimg.com/profile_images/1304496172896317450/CL_uh_pk_normal.jpg  </td></tr>\n",
              "\t<tr><td>1033594649691209728</td><td>1334501661772050438</td><td>2020-12-03 14:16:04</td><td>AsfdfdfsS      </td><td>Hermoso 🥺https://t.co/lMBnoNzofI                                                                                                                                                                                                                                                     </td><td>Twitter for Android</td><td> NA</td><td>NA                 </td><td>NA                 </td><td>NA            </td><td>⋯</td><td> 38045</td><td> 51276</td><td>2018-08-26 05:59:02</td><td>FALSE</td><td>NA</td><td>NA</td><td>NA</td><td>https://pbs.twimg.com/profile_banners/1033594649691209728/1535263392</td><td>http://abs.twimg.com/images/themes/theme1/bg.png </td><td>http://pbs.twimg.com/profile_images/1033595582806413312/FdnlUnTz_normal.jpg  </td></tr>\n",
              "\t<tr><td>1308715884622602241</td><td>1334501661742665728</td><td>2020-12-03 14:16:04</td><td>bymartinss_    </td><td>@bymartinss_                                                                                                                                                                                                                                                                                  </td><td>Twitter Web App    </td><td> NA</td><td>1310912615686733829</td><td>1308715884622602241</td><td>bymartinss_   </td><td>⋯</td><td>  7719</td><td>  3578</td><td>2020-09-23 10:32:48</td><td>FALSE</td><td>NA</td><td>NA</td><td>NA</td><td>https://pbs.twimg.com/profile_banners/1308715884622602241/1606929351</td><td>                                                 </td><td>http://pbs.twimg.com/profile_images/1334482814364954626/H9lCZCVq_normal.jpg  </td></tr>\n",
              "\t<tr><td>1233742915651952640</td><td>1334501661776224259</td><td>2020-12-03 14:16:04</td><td>Starbreaker_   </td><td>@friedPeeP i just started it I LOVE IT                                                                                                                                                                                                                                                        </td><td>Twitter Web App    </td><td> 27</td><td>1334501337187430402</td><td>1000767403582803975</td><td>friedPeeP     </td><td>⋯</td><td>  5657</td><td> 23203</td><td>2020-02-29 13:17:01</td><td>FALSE</td><td>NA</td><td>NA</td><td>NA</td><td>https://pbs.twimg.com/profile_banners/1233742915651952640/1605821179</td><td>                                                 </td><td>http://pbs.twimg.com/profile_images/1334207623189639170/RMkK7ByN_normal.jpg  </td></tr>\n",
              "\t<tr><td>1146969976722657281</td><td>1334501661759377411</td><td>2020-12-03 14:16:04</td><td>lady_huanca    </td><td>#대휘 참을성 무엇..?😮❣️\n",
              "#와이엇 표정=내 표정🤣\n",
              "\n",
              "#제작진도참여하는 #MMA2020_본방사수 \n",
              "#MMA이벤트참여 #카카오TV #멜론\n",
              "#멜론뮤직어워드 #MMA2020 #MMA #멜뮤\n",
              "@GoldenChild @AB6IX @WM_ONOFF \n",
              "#재재 #장준 https://t.co/bwDy9XbNmh                                                               </td><td>Twitter for Android</td><td> NA</td><td>NA                 </td><td>NA                 </td><td>NA            </td><td>⋯</td><td>  9091</td><td>  7795</td><td>2019-07-05 02:32:06</td><td>FALSE</td><td>NA</td><td>NA</td><td>NA</td><td>https://pbs.twimg.com/profile_banners/1146969976722657281/1592353678</td><td>                                                 </td><td>http://pbs.twimg.com/profile_images/1270152854246952961/HD671z7g_normal.jpg  </td></tr>\n",
              "\t<tr><td>1333957920384544768</td><td>1334501661755256835</td><td>2020-12-03 14:16:04</td><td>WOVB1M3zx8bIPZg</td><td>https://t.co/ZZjCYCB4wS                                                                                                                                                                                                                                                                       </td><td>Twitter for iPhone </td><td>  0</td><td>NA                 </td><td>NA                 </td><td>NA            </td><td>⋯</td><td>    73</td><td>     0</td><td>2020-12-02 02:16:39</td><td>FALSE</td><td>NA</td><td>NA</td><td>NA</td><td>https://pbs.twimg.com/profile_banners/1333957920384544768/1606952888</td><td>                                                 </td><td>http://pbs.twimg.com/profile_images/1333968008067358726/aBNOj6-z_normal.jpg  </td></tr>\n",
              "\t<tr><td>1292524812636770304</td><td>1334501661776244737</td><td>2020-12-03 14:16:04</td><td><span style=white-space:pre-wrap>Ronniestan1    </span></td><td><span style=white-space:pre-wrap>@SkyNews Perhaps those catching the virus having refused the vaccine should be given some paracetamol &amp;amp; sent home to treat themselves. No longer the responsibility of the NHS.                                                                                                           </span></td><td>Twitter for Android</td><td>131</td><td>1334388573710282752</td><td><span style=white-space:pre-wrap>7587032            </span></td><td><span style=white-space:pre-wrap>SkyNews       </span></td><td>⋯</td><td><span style=white-space:pre-wrap>   204</span></td><td><span style=white-space:pre-wrap>   103</span></td><td>2020-08-09 18:15:35</td><td>FALSE</td><td>NA</td><td>NA</td><td>NA</td><td><span style=white-space:pre-wrap>NA                                                                  </span></td><td><span style=white-space:pre-wrap>                                                 </span></td><td>http://abs.twimg.com/sticky/default_profile_images/default_profile_normal.png</td></tr>\n",
              "\t<tr><td>1292101395559133185</td><td>1334501661763661826</td><td>2020-12-03 14:16:04</td><td>AlexCar96523624</td><td>@Esp_Interativo @ibismania  🥵😏                                                                                                                                                                                                                                                       </td><td>Twitter for Android</td><td> 14</td><td>1334336404545884167</td><td>15911679           </td><td>Esp_Interativo</td><td>⋯</td><td>    21</td><td>   160</td><td>2020-08-08 14:12:50</td><td>FALSE</td><td>NA</td><td>NA</td><td>NA</td><td>NA                                                                  </td><td>                                                 </td><td>http://pbs.twimg.com/profile_images/1331649870076268547/9nMj6kpB_normal.jpg  </td></tr>\n",
              "\t<tr><td>1304347290908291072</td><td>1334501661746716675</td><td>2020-12-03 14:16:04</td><td>ichigo12277486 </td><td>@8kool_7ciel @little_tansyou おめでとうございます😊                                                                                                                                                                                                                                            </td><td>Twitter for Android</td><td> 11</td><td>1334494928273989632</td><td>1289749053794705408</td><td>8kool_7ciel   </td><td>⋯</td><td>  2363</td><td>  2199</td><td>2020-09-11 09:14:08</td><td>FALSE</td><td>NA</td><td>NA</td><td>NA</td><td>https://pbs.twimg.com/profile_banners/1304347290908291072/1604214284</td><td>                                                 </td><td>http://pbs.twimg.com/profile_images/1321667587772608512/ZLf4214__normal.jpg  </td></tr>\n",
              "\t<tr><td>914466019          </td><td>1334501661759451138</td><td>2020-12-03 14:16:04</td><td>IIL_London     </td><td>@iDAWNUK https://t.co/gQI3AUPwtG                                                                                                                                                                                                                                                              </td><td>Twitter Web App    </td><td>  0</td><td>1334437102596091906</td><td>1088785152002662402</td><td>iDAWNUK       </td><td>⋯</td><td>  2330</td><td>  1901</td><td>2012-10-30 11:45:19</td><td>FALSE</td><td>NA</td><td>NA</td><td>NA</td><td>https://pbs.twimg.com/profile_banners/914466019/1501582558          </td><td>http://abs.twimg.com/images/themes/theme1/bg.png </td><td>http://pbs.twimg.com/profile_images/892329310027120641/1EpV7EaF_normal.jpg   </td></tr>\n",
              "\t<tr><td>1305174462657187841</td><td>1334501661755269120</td><td>2020-12-03 14:16:04</td><td>5xdirection    </td><td>Happy 9 years to 5sos! Its crazy how i remember being so young falling in love with their music and everything about them. I wouldn’t be who I am today if I hadn’t become a fan. Thanks for being the source of my happiness for so many years, here’s to many more:) https://t.co/14IQHPHrW0</td><td>Twitter for iPhone </td><td>140</td><td>NA                 </td><td>NA                 </td><td>NA            </td><td>⋯</td><td>    27</td><td>     6</td><td>2020-09-13 16:00:22</td><td>FALSE</td><td>NA</td><td>NA</td><td>NA</td><td>https://pbs.twimg.com/profile_banners/1305174462657187841/1606942068</td><td>                                                 </td><td>http://pbs.twimg.com/profile_images/1334237121935192068/IJ0Zk7FM_normal.jpg  </td></tr>\n",
              "</tbody>\n",
              "</table>\n"
            ]
          },
          "metadata": {
            "tags": []
          }
        }
      ]
    },
    {
      "cell_type": "code",
      "metadata": {
        "colab": {
          "base_uri": "https://localhost:8080/",
          "height": 1000
        },
        "id": "xTgBUyYfAKuK",
        "outputId": "f255671d-8833-4f96-8073-3f251e077fd6"
      },
      "source": [
        "## stream some arguments, e.g = hashtag\n",
        "corona <- search_tweets(\"#corona\", n = 500, include_rts = TRUE, langg = 'id')\n",
        "head(corona)"
      ],
      "execution_count": null,
      "outputs": [
        {
          "output_type": "display_data",
          "data": {
            "text/plain": [
              "  user_id    status_id           created_at          screen_name   \n",
              "1 949276795  1334504892090773505 2020-12-03 14:28:54 jo_ap_a       \n",
              "2 272733527  1334504869458284544 2020-12-03 14:28:49 LukaszKort    \n",
              "3 588153952  1334504847870205957 2020-12-03 14:28:44 JosephusLudwig\n",
              "4 2197367449 1334504844594475009 2020-12-03 14:28:43 Praktoretiker \n",
              "5 3096457342 1334504844183343106 2020-12-03 14:28:43 OlumHaberi    \n",
              "6 1201966237 1334504843587760130 2020-12-03 14:28:43 Koufogiorgos  \n",
              "  text                                                                                                                                                                                                                                                                                                                        \n",
              "1 @BR24 #stopSoeder #corona \\n\\nEs reicht @Markus_Soeder, wir sind keine kleinen Kinder.                                                                                                                                                                                                                                      \n",
              "2 Ein interessantes Gespräch mit Ministerpräsident Winfried #Kretschmann. Die Themen waren es auch: #Corona, #Europa und die #Zusammenarbeit zwischen der 🇨🇭 und Baden-Württemberg. Wir wollen diesen engen Kontakt unbedingt weiter pflegen. https://t.co/qcNXgQREz6                                                         \n",
              "3 Größere #Corona-Ausbrüche in Schlachtfabriken\\nseit Oktober:\\n-Emsdetten (#Sprehe)\\n-Emstek (#Vion)\\n-Sögel (#Tönnies)\\n-Ulm\\n-Steinfeld\\n-Boizenburg (#DanishCrown)\\n-Wietze (#Rothkötter)\\n-Grimmen\\n-Furth (#Vion)\\n-Niederlehme (#Wiesenhof)\\n-Düren\\n-Vilshofen (#Vion)\\n-Weißenfels (#Tönnies) https://t.co/SrAddd2WSg\n",
              "4 @IdNr_HDW @Graubaer1953 @MPKretschmer @Helga35468194 Ich finde gar nicht, dass die Politik beim Zerschlagen von Rechtsstaat und Demokratie sehr versagt. Unter dem Vorwand #Corona macht sie das doch ganz ordentlich.                                                                                                      \n",
              "5 Alim Yücetaş  ile oğulları Mustafa Yücetaş  ve Muhammet Yücetaş, Bartın'da yakalandıkları Corona virüsü tedavi sırasında, 10 gün arayla yaşamlarını yitirdi.\\nhttps://t.co/Xw1UnvlR7n #bartin #Corona #Korona #pandemi https://t.co/xM3QCVtQ9k                                                                              \n",
              "6 #StayHome #Corona https://t.co/MV6gNH7Fzs                                                                                                                                                                                                                                                                                   \n",
              "  source              display_text_width reply_to_status_id  reply_to_user_id\n",
              "1 Twitter for Android  78                1334476533440929792 90524645        \n",
              "2 Twitter Web App     140                NA                  NA              \n",
              "3 Twitter Web App     140                NA                  NA              \n",
              "4 Twitter for Android 161                1334498339468021767 320223296       \n",
              "5 Twitter Web App     213                NA                  NA              \n",
              "6 Twitter Web App      17                NA                  NA              \n",
              "  reply_to_screen_name ⋯ statuses_count favourites_count account_created_at \n",
              "1 BR24                 ⋯  9761           7178            2012-11-15 07:52:38\n",
              "2 NA                   ⋯ 82035              0            2011-03-27 02:41:04\n",
              "3 NA                   ⋯ 45422          30996            2012-05-23 09:29:49\n",
              "4 IdNr_HDW             ⋯ 34021           2601            2013-11-16 08:37:50\n",
              "5 NA                   ⋯ 29912           1019            2015-03-19 09:59:21\n",
              "6 NA                   ⋯ 10226           2889            2013-02-20 19:33:36\n",
              "  verified profile_url            profile_expanded_url       account_lang\n",
              "1 FALSE    NA                     NA                         NA          \n",
              "2 FALSE    NA                     NA                         NA          \n",
              "3 FALSE    NA                     NA                         NA          \n",
              "4 FALSE    NA                     NA                         NA          \n",
              "5 FALSE    http://t.co/5ZPqMufKMF http://olumhaberi.com      NA          \n",
              "6 FALSE    http://t.co/CpKIrH1FgE http://www.koufogiorgos.de NA          \n",
              "  profile_banner_url                                         \n",
              "1 https://pbs.twimg.com/profile_banners/949276795/1441635122 \n",
              "2 https://pbs.twimg.com/profile_banners/272733527/1606257307 \n",
              "3 NA                                                         \n",
              "4 https://pbs.twimg.com/profile_banners/2197367449/1589088175\n",
              "5 https://pbs.twimg.com/profile_banners/3096457342/1499852128\n",
              "6 https://pbs.twimg.com/profile_banners/1201966237/1436799808\n",
              "  profile_background_url                           \n",
              "1 http://abs.twimg.com/images/themes/theme15/bg.png\n",
              "2 http://abs.twimg.com/images/themes/theme14/bg.gif\n",
              "3 http://abs.twimg.com/images/themes/theme1/bg.png \n",
              "4 http://abs.twimg.com/images/themes/theme1/bg.png \n",
              "5 http://abs.twimg.com/images/themes/theme14/bg.gif\n",
              "6 http://abs.twimg.com/images/themes/theme1/bg.png \n",
              "  profile_image_url                                                                          \n",
              "1 http://pbs.twimg.com/profile_images/1124250677851639809/PFQyhfku_normal.png                \n",
              "2 http://pbs.twimg.com/profile_images/1137665338668179457/JCeh644v_normal.jpg                \n",
              "3 http://pbs.twimg.com/profile_images/1174796676554510343/3Vbk9xFT_normal.png                \n",
              "4 http://pbs.twimg.com/profile_images/1231621448793513985/yL8PzI-g_normal.jpg                \n",
              "5 http://pbs.twimg.com/profile_images/772529615101460483/GaTvn-S6_normal.jpg                 \n",
              "6 http://pbs.twimg.com/profile_images/3284284328/85bd1aa663c24ab21e77ccc7c4fdc576_normal.jpeg"
            ],
            "text/latex": "A tibble: 6 × 90\n\\begin{tabular}{lllllllllllllllllllll}\n user\\_id & status\\_id & created\\_at & screen\\_name & text & source & display\\_text\\_width & reply\\_to\\_status\\_id & reply\\_to\\_user\\_id & reply\\_to\\_screen\\_name & ⋯ & statuses\\_count & favourites\\_count & account\\_created\\_at & verified & profile\\_url & profile\\_expanded\\_url & account\\_lang & profile\\_banner\\_url & profile\\_background\\_url & profile\\_image\\_url\\\\\n <chr> & <chr> & <dttm> & <chr> & <chr> & <chr> & <dbl> & <chr> & <chr> & <chr> & ⋯ & <int> & <int> & <dttm> & <lgl> & <chr> & <chr> & <lgl> & <chr> & <chr> & <chr>\\\\\n\\hline\n\t 949276795  & 1334504892090773505 & 2020-12-03 14:28:54 & jo\\_ap\\_a        & @BR24 \\#stopSoeder \\#corona \n\nEs reicht @Markus\\_Soeder, wir sind keine kleinen Kinder.                                                                                                                                                                                                                                       & Twitter for Android &  78 & 1334476533440929792 & 90524645  & BR24     & ⋯ &  9761 &  7178 & 2012-11-15 07:52:38 & FALSE & NA                     & NA                         & NA & https://pbs.twimg.com/profile\\_banners/949276795/1441635122  & http://abs.twimg.com/images/themes/theme15/bg.png & http://pbs.twimg.com/profile\\_images/1124250677851639809/PFQyhfku\\_normal.png                \\\\\n\t 272733527  & 1334504869458284544 & 2020-12-03 14:28:49 & LukaszKort     & Ein interessantes Gespräch mit Ministerpräsident Winfried \\#Kretschmann. Die Themen waren es auch: \\#Corona, \\#Europa und die \\#Zusammenarbeit zwischen der 🇨🇭 und Baden-Württemberg. Wir wollen diesen engen Kontakt unbedingt weiter pflegen. https://t.co/qcNXgQREz6                                                          & Twitter Web App     & 140 & NA                  & NA        & NA       & ⋯ & 82035 &     0 & 2011-03-27 02:41:04 & FALSE & NA                     & NA                         & NA & https://pbs.twimg.com/profile\\_banners/272733527/1606257307  & http://abs.twimg.com/images/themes/theme14/bg.gif & http://pbs.twimg.com/profile\\_images/1137665338668179457/JCeh644v\\_normal.jpg                \\\\\n\t 588153952  & 1334504847870205957 & 2020-12-03 14:28:44 & JosephusLudwig & Größere \\#Corona-Ausbrüche in Schlachtfabriken\nseit Oktober:\n-Emsdetten (\\#Sprehe)\n-Emstek (\\#Vion)\n-Sögel (\\#Tönnies)\n-Ulm\n-Steinfeld\n-Boizenburg (\\#DanishCrown)\n-Wietze (\\#Rothkötter)\n-Grimmen\n-Furth (\\#Vion)\n-Niederlehme (\\#Wiesenhof)\n-Düren\n-Vilshofen (\\#Vion)\n-Weißenfels (\\#Tönnies) https://t.co/SrAddd2WSg & Twitter Web App     & 140 & NA                  & NA        & NA       & ⋯ & 45422 & 30996 & 2012-05-23 09:29:49 & FALSE & NA                     & NA                         & NA & NA                                                          & http://abs.twimg.com/images/themes/theme1/bg.png  & http://pbs.twimg.com/profile\\_images/1174796676554510343/3Vbk9xFT\\_normal.png                \\\\\n\t 2197367449 & 1334504844594475009 & 2020-12-03 14:28:43 & Praktoretiker  & @IdNr\\_HDW @Graubaer1953 @MPKretschmer @Helga35468194 Ich finde gar nicht, dass die Politik beim Zerschlagen von Rechtsstaat und Demokratie sehr versagt. Unter dem Vorwand \\#Corona macht sie das doch ganz ordentlich.                                                                                                       & Twitter for Android & 161 & 1334498339468021767 & 320223296 & IdNr\\_HDW & ⋯ & 34021 &  2601 & 2013-11-16 08:37:50 & FALSE & NA                     & NA                         & NA & https://pbs.twimg.com/profile\\_banners/2197367449/1589088175 & http://abs.twimg.com/images/themes/theme1/bg.png  & http://pbs.twimg.com/profile\\_images/1231621448793513985/yL8PzI-g\\_normal.jpg                \\\\\n\t 3096457342 & 1334504844183343106 & 2020-12-03 14:28:43 & OlumHaberi     & Alim Yücetaş  ile oğulları Mustafa Yücetaş  ve Muhammet Yücetaş, Bartın'da yakalandıkları Corona virüsü tedavi sırasında, 10 gün arayla yaşamlarını yitirdi.\nhttps://t.co/Xw1UnvlR7n \\#bartin \\#Corona \\#Korona \\#pandemi https://t.co/xM3QCVtQ9k                                                                               & Twitter Web App     & 213 & NA                  & NA        & NA       & ⋯ & 29912 &  1019 & 2015-03-19 09:59:21 & FALSE & http://t.co/5ZPqMufKMF & http://olumhaberi.com      & NA & https://pbs.twimg.com/profile\\_banners/3096457342/1499852128 & http://abs.twimg.com/images/themes/theme14/bg.gif & http://pbs.twimg.com/profile\\_images/772529615101460483/GaTvn-S6\\_normal.jpg                 \\\\\n\t 1201966237 & 1334504843587760130 & 2020-12-03 14:28:43 & Koufogiorgos   & \\#StayHome \\#Corona https://t.co/MV6gNH7Fzs                                                                                                                                                                                                                                                                                    & Twitter Web App     &  17 & NA                  & NA        & NA       & ⋯ & 10226 &  2889 & 2013-02-20 19:33:36 & FALSE & http://t.co/CpKIrH1FgE & http://www.koufogiorgos.de & NA & https://pbs.twimg.com/profile\\_banners/1201966237/1436799808 & http://abs.twimg.com/images/themes/theme1/bg.png  & http://pbs.twimg.com/profile\\_images/3284284328/85bd1aa663c24ab21e77ccc7c4fdc576\\_normal.jpeg\\\\\n\\end{tabular}\n",
            "text/markdown": "\nA tibble: 6 × 90\n\n| user_id &lt;chr&gt; | status_id &lt;chr&gt; | created_at &lt;dttm&gt; | screen_name &lt;chr&gt; | text &lt;chr&gt; | source &lt;chr&gt; | display_text_width &lt;dbl&gt; | reply_to_status_id &lt;chr&gt; | reply_to_user_id &lt;chr&gt; | reply_to_screen_name &lt;chr&gt; | ⋯ ⋯ | statuses_count &lt;int&gt; | favourites_count &lt;int&gt; | account_created_at &lt;dttm&gt; | verified &lt;lgl&gt; | profile_url &lt;chr&gt; | profile_expanded_url &lt;chr&gt; | account_lang &lt;lgl&gt; | profile_banner_url &lt;chr&gt; | profile_background_url &lt;chr&gt; | profile_image_url &lt;chr&gt; |\n|---|---|---|---|---|---|---|---|---|---|---|---|---|---|---|---|---|---|---|---|---|\n| 949276795  | 1334504892090773505 | 2020-12-03 14:28:54 | jo_ap_a        | @BR24 #stopSoeder #corona \n\nEs reicht @Markus_Soeder, wir sind keine kleinen Kinder.                                                                                                                                                                                                                                       | Twitter for Android |  78 | 1334476533440929792 | 90524645  | BR24     | ⋯ |  9761 |  7178 | 2012-11-15 07:52:38 | FALSE | NA                     | NA                         | NA | https://pbs.twimg.com/profile_banners/949276795/1441635122  | http://abs.twimg.com/images/themes/theme15/bg.png | http://pbs.twimg.com/profile_images/1124250677851639809/PFQyhfku_normal.png                 |\n| 272733527  | 1334504869458284544 | 2020-12-03 14:28:49 | LukaszKort     | Ein interessantes Gespräch mit Ministerpräsident Winfried #Kretschmann. Die Themen waren es auch: #Corona, #Europa und die #Zusammenarbeit zwischen der 🇨🇭 und Baden-Württemberg. Wir wollen diesen engen Kontakt unbedingt weiter pflegen. https://t.co/qcNXgQREz6                                                          | Twitter Web App     | 140 | NA                  | NA        | NA       | ⋯ | 82035 |     0 | 2011-03-27 02:41:04 | FALSE | NA                     | NA                         | NA | https://pbs.twimg.com/profile_banners/272733527/1606257307  | http://abs.twimg.com/images/themes/theme14/bg.gif | http://pbs.twimg.com/profile_images/1137665338668179457/JCeh644v_normal.jpg                 |\n| 588153952  | 1334504847870205957 | 2020-12-03 14:28:44 | JosephusLudwig | Größere #Corona-Ausbrüche in Schlachtfabriken\nseit Oktober:\n-Emsdetten (#Sprehe)\n-Emstek (#Vion)\n-Sögel (#Tönnies)\n-Ulm\n-Steinfeld\n-Boizenburg (#DanishCrown)\n-Wietze (#Rothkötter)\n-Grimmen\n-Furth (#Vion)\n-Niederlehme (#Wiesenhof)\n-Düren\n-Vilshofen (#Vion)\n-Weißenfels (#Tönnies) https://t.co/SrAddd2WSg | Twitter Web App     | 140 | NA                  | NA        | NA       | ⋯ | 45422 | 30996 | 2012-05-23 09:29:49 | FALSE | NA                     | NA                         | NA | NA                                                          | http://abs.twimg.com/images/themes/theme1/bg.png  | http://pbs.twimg.com/profile_images/1174796676554510343/3Vbk9xFT_normal.png                 |\n| 2197367449 | 1334504844594475009 | 2020-12-03 14:28:43 | Praktoretiker  | @IdNr_HDW @Graubaer1953 @MPKretschmer @Helga35468194 Ich finde gar nicht, dass die Politik beim Zerschlagen von Rechtsstaat und Demokratie sehr versagt. Unter dem Vorwand #Corona macht sie das doch ganz ordentlich.                                                                                                       | Twitter for Android | 161 | 1334498339468021767 | 320223296 | IdNr_HDW | ⋯ | 34021 |  2601 | 2013-11-16 08:37:50 | FALSE | NA                     | NA                         | NA | https://pbs.twimg.com/profile_banners/2197367449/1589088175 | http://abs.twimg.com/images/themes/theme1/bg.png  | http://pbs.twimg.com/profile_images/1231621448793513985/yL8PzI-g_normal.jpg                 |\n| 3096457342 | 1334504844183343106 | 2020-12-03 14:28:43 | OlumHaberi     | Alim Yücetaş  ile oğulları Mustafa Yücetaş  ve Muhammet Yücetaş, Bartın'da yakalandıkları Corona virüsü tedavi sırasında, 10 gün arayla yaşamlarını yitirdi.\nhttps://t.co/Xw1UnvlR7n #bartin #Corona #Korona #pandemi https://t.co/xM3QCVtQ9k                                                                               | Twitter Web App     | 213 | NA                  | NA        | NA       | ⋯ | 29912 |  1019 | 2015-03-19 09:59:21 | FALSE | http://t.co/5ZPqMufKMF | http://olumhaberi.com      | NA | https://pbs.twimg.com/profile_banners/3096457342/1499852128 | http://abs.twimg.com/images/themes/theme14/bg.gif | http://pbs.twimg.com/profile_images/772529615101460483/GaTvn-S6_normal.jpg                  |\n| 1201966237 | 1334504843587760130 | 2020-12-03 14:28:43 | Koufogiorgos   | #StayHome #Corona https://t.co/MV6gNH7Fzs                                                                                                                                                                                                                                                                                    | Twitter Web App     |  17 | NA                  | NA        | NA       | ⋯ | 10226 |  2889 | 2013-02-20 19:33:36 | FALSE | http://t.co/CpKIrH1FgE | http://www.koufogiorgos.de | NA | https://pbs.twimg.com/profile_banners/1201966237/1436799808 | http://abs.twimg.com/images/themes/theme1/bg.png  | http://pbs.twimg.com/profile_images/3284284328/85bd1aa663c24ab21e77ccc7c4fdc576_normal.jpeg |\n\n",
            "text/html": [
              "<table>\n",
              "<caption>A tibble: 6 × 90</caption>\n",
              "<thead>\n",
              "\t<tr><th scope=col>user_id</th><th scope=col>status_id</th><th scope=col>created_at</th><th scope=col>screen_name</th><th scope=col>text</th><th scope=col>source</th><th scope=col>display_text_width</th><th scope=col>reply_to_status_id</th><th scope=col>reply_to_user_id</th><th scope=col>reply_to_screen_name</th><th scope=col>⋯</th><th scope=col>statuses_count</th><th scope=col>favourites_count</th><th scope=col>account_created_at</th><th scope=col>verified</th><th scope=col>profile_url</th><th scope=col>profile_expanded_url</th><th scope=col>account_lang</th><th scope=col>profile_banner_url</th><th scope=col>profile_background_url</th><th scope=col>profile_image_url</th></tr>\n",
              "\t<tr><th scope=col>&lt;chr&gt;</th><th scope=col>&lt;chr&gt;</th><th scope=col>&lt;dttm&gt;</th><th scope=col>&lt;chr&gt;</th><th scope=col>&lt;chr&gt;</th><th scope=col>&lt;chr&gt;</th><th scope=col>&lt;dbl&gt;</th><th scope=col>&lt;chr&gt;</th><th scope=col>&lt;chr&gt;</th><th scope=col>&lt;chr&gt;</th><th scope=col>⋯</th><th scope=col>&lt;int&gt;</th><th scope=col>&lt;int&gt;</th><th scope=col>&lt;dttm&gt;</th><th scope=col>&lt;lgl&gt;</th><th scope=col>&lt;chr&gt;</th><th scope=col>&lt;chr&gt;</th><th scope=col>&lt;lgl&gt;</th><th scope=col>&lt;chr&gt;</th><th scope=col>&lt;chr&gt;</th><th scope=col>&lt;chr&gt;</th></tr>\n",
              "</thead>\n",
              "<tbody>\n",
              "\t<tr><td>949276795 </td><td>1334504892090773505</td><td>2020-12-03 14:28:54</td><td>jo_ap_a       </td><td>@BR24 #stopSoeder #corona \n",
              "\n",
              "Es reicht @Markus_Soeder, wir sind keine kleinen Kinder.                                                                                                                                                                                                                                      </td><td>Twitter for Android</td><td> 78</td><td>1334476533440929792</td><td>90524645 </td><td>BR24    </td><td>⋯</td><td> 9761</td><td> 7178</td><td>2012-11-15 07:52:38</td><td>FALSE</td><td>NA                    </td><td>NA                        </td><td>NA</td><td>https://pbs.twimg.com/profile_banners/949276795/1441635122 </td><td>http://abs.twimg.com/images/themes/theme15/bg.png</td><td>http://pbs.twimg.com/profile_images/1124250677851639809/PFQyhfku_normal.png                </td></tr>\n",
              "\t<tr><td>272733527 </td><td>1334504869458284544</td><td>2020-12-03 14:28:49</td><td>LukaszKort    </td><td>Ein interessantes Gespräch mit Ministerpräsident Winfried #Kretschmann. Die Themen waren es auch: #Corona, #Europa und die #Zusammenarbeit zwischen der 🇨🇭 und Baden-Württemberg. Wir wollen diesen engen Kontakt unbedingt weiter pflegen. https://t.co/qcNXgQREz6                                                         </td><td>Twitter Web App    </td><td>140</td><td>NA                 </td><td>NA       </td><td>NA      </td><td>⋯</td><td>82035</td><td>    0</td><td>2011-03-27 02:41:04</td><td>FALSE</td><td>NA                    </td><td>NA                        </td><td>NA</td><td>https://pbs.twimg.com/profile_banners/272733527/1606257307 </td><td>http://abs.twimg.com/images/themes/theme14/bg.gif</td><td>http://pbs.twimg.com/profile_images/1137665338668179457/JCeh644v_normal.jpg                </td></tr>\n",
              "\t<tr><td>588153952 </td><td>1334504847870205957</td><td>2020-12-03 14:28:44</td><td>JosephusLudwig</td><td>Größere #Corona-Ausbrüche in Schlachtfabriken\n",
              "seit Oktober:\n",
              "-Emsdetten (#Sprehe)\n",
              "-Emstek (#Vion)\n",
              "-Sögel (#Tönnies)\n",
              "-Ulm\n",
              "-Steinfeld\n",
              "-Boizenburg (#DanishCrown)\n",
              "-Wietze (#Rothkötter)\n",
              "-Grimmen\n",
              "-Furth (#Vion)\n",
              "-Niederlehme (#Wiesenhof)\n",
              "-Düren\n",
              "-Vilshofen (#Vion)\n",
              "-Weißenfels (#Tönnies) https://t.co/SrAddd2WSg</td><td>Twitter Web App    </td><td>140</td><td>NA                 </td><td>NA       </td><td>NA      </td><td>⋯</td><td>45422</td><td>30996</td><td>2012-05-23 09:29:49</td><td>FALSE</td><td>NA                    </td><td>NA                        </td><td>NA</td><td>NA                                                         </td><td>http://abs.twimg.com/images/themes/theme1/bg.png </td><td>http://pbs.twimg.com/profile_images/1174796676554510343/3Vbk9xFT_normal.png                </td></tr>\n",
              "\t<tr><td>2197367449</td><td>1334504844594475009</td><td>2020-12-03 14:28:43</td><td>Praktoretiker </td><td>@IdNr_HDW @Graubaer1953 @MPKretschmer @Helga35468194 Ich finde gar nicht, dass die Politik beim Zerschlagen von Rechtsstaat und Demokratie sehr versagt. Unter dem Vorwand #Corona macht sie das doch ganz ordentlich.                                                                                                      </td><td>Twitter for Android</td><td>161</td><td>1334498339468021767</td><td>320223296</td><td>IdNr_HDW</td><td>⋯</td><td>34021</td><td> 2601</td><td>2013-11-16 08:37:50</td><td>FALSE</td><td>NA                    </td><td>NA                        </td><td>NA</td><td>https://pbs.twimg.com/profile_banners/2197367449/1589088175</td><td>http://abs.twimg.com/images/themes/theme1/bg.png </td><td>http://pbs.twimg.com/profile_images/1231621448793513985/yL8PzI-g_normal.jpg                </td></tr>\n",
              "\t<tr><td>3096457342</td><td>1334504844183343106</td><td>2020-12-03 14:28:43</td><td>OlumHaberi    </td><td>Alim Yücetaş  ile oğulları Mustafa Yücetaş  ve Muhammet Yücetaş, Bartın'da yakalandıkları Corona virüsü tedavi sırasında, 10 gün arayla yaşamlarını yitirdi.\n",
              "https://t.co/Xw1UnvlR7n #bartin #Corona #Korona #pandemi https://t.co/xM3QCVtQ9k                                                                              </td><td>Twitter Web App    </td><td>213</td><td>NA                 </td><td>NA       </td><td>NA      </td><td>⋯</td><td>29912</td><td> 1019</td><td>2015-03-19 09:59:21</td><td>FALSE</td><td>http://t.co/5ZPqMufKMF</td><td>http://olumhaberi.com     </td><td>NA</td><td>https://pbs.twimg.com/profile_banners/3096457342/1499852128</td><td>http://abs.twimg.com/images/themes/theme14/bg.gif</td><td>http://pbs.twimg.com/profile_images/772529615101460483/GaTvn-S6_normal.jpg                 </td></tr>\n",
              "\t<tr><td>1201966237</td><td>1334504843587760130</td><td>2020-12-03 14:28:43</td><td>Koufogiorgos  </td><td>#StayHome #Corona https://t.co/MV6gNH7Fzs                                                                                                                                                                                                                                                                                   </td><td>Twitter Web App    </td><td> 17</td><td>NA                 </td><td>NA       </td><td>NA      </td><td>⋯</td><td>10226</td><td> 2889</td><td>2013-02-20 19:33:36</td><td>FALSE</td><td>http://t.co/CpKIrH1FgE</td><td>http://www.koufogiorgos.de</td><td>NA</td><td>https://pbs.twimg.com/profile_banners/1201966237/1436799808</td><td>http://abs.twimg.com/images/themes/theme1/bg.png </td><td>http://pbs.twimg.com/profile_images/3284284328/85bd1aa663c24ab21e77ccc7c4fdc576_normal.jpeg</td></tr>\n",
              "</tbody>\n",
              "</table>\n"
            ]
          },
          "metadata": {
            "tags": []
          }
        }
      ]
    },
    {
      "cell_type": "code",
      "metadata": {
        "colab": {
          "base_uri": "https://localhost:8080/",
          "height": 1000
        },
        "id": "nKtuMjZ2Ae84",
        "outputId": "e92aa8b8-3d03-4554-bd98-7fc82ae95a11"
      },
      "source": [
        "## lihat aktivitas pengguna twitter (timeline)\n",
        "jokowi <- get_timeline(\"@jokowi\", n = 100)\n",
        "head(jokowi)"
      ],
      "execution_count": null,
      "outputs": [
        {
          "output_type": "display_data",
          "data": {
            "text/plain": [
              "  user_id   status_id           created_at          screen_name\n",
              "1 366987179 1334472906923884549 2020-12-03 12:21:48 jokowi     \n",
              "2 366987179 1334471692505161728 2020-12-03 12:16:59 jokowi     \n",
              "3 366987179 1334471508375179264 2020-12-03 12:16:15 jokowi     \n",
              "4 366987179 1334305913394511872 2020-12-03 01:18:14 jokowi     \n",
              "5 366987179 1333368227288678400 2020-11-30 11:12:12 jokowi     \n",
              "6 366987179 1333368022258438147 2020-11-30 11:11:23 jokowi     \n",
              "  text                                                                                                                                                                                                                                                                                                              \n",
              "1 Saya bertemu para pegiat agraria hari ini untuk mendengarkan masukan mengenai berbagai persoalan terkait program reforma agraria yang telah berjalan. \\n\\nDengan masukan itu, saya berharap tujuan reforma agraria bisa tercapai lebih cepat dan dirasakan manfaatnya oleh masyarakat. https://t.co/rt0iKcwB46    \n",
              "2 Dua tahun ini saya telah menandatangani berbagai Peraturan Pemerintah dan Peraturan Presiden sebagai payung regulasi untuk para penyandang disabilitas. \\n\\nTugas semua pihak untuk memastikan semua kebijakan itu terlaksana dan dirasakan manfaatnya oleh penyandang disabilitas.                               \n",
              "3 Pemerintah selalu berupaya meningkatkan kesetaraan dan kesempatan terhadap akses pendidikan, kesehatan, pekerjaan, serta infrastruktur bagi para penyandang disabilitas.\\n\\nTidak boleh ada satupun penyandang disabilitas yang  tertinggal dari berbagai program layanan pemerintah. https://t.co/w4d2QLSxoV     \n",
              "4 Di sekitar kita, terdapat para penyandang disabilitas yang belajar, bekerja, dan ikut terdampak pandemi. \\n\\nSaya berharap, masyarakat lebih peduli dan peka dengan keberadaan saudara-saudara kita ini, bersama-sama berpartisipasi dalam pembangunan, menuju masa depan yang lebih baik. https://t.co/YsdTrcTS1Z\n",
              "5 Saya juga mengajak seluruh masyarakat untuk tenang dan tetap menjaga persatuan sambil meningkatkan kewaspadaan. \\n\\nDalam kondisi saat ini, semua elemen masyarakat harus bersatu melawan terorisme. Tak ada satupun tempat di Tanah Air bagi tindak terorisme.                                                   \n",
              "6 Saya telah memerintahkan Kapolri untuk mengusut tuntas jaringan pelaku teror itu hingga ke akar-akarnya. \\n\\nPada kesempatan ini saya menyampaikan dukacita mendalam bagi keluarga korban. Pemerintah akan memberikan santunan bagi keluarga mereka yang ditinggalkan.                                            \n",
              "  source              display_text_width reply_to_status_id  reply_to_user_id\n",
              "1 Twitter for Android 276                NA                  NA              \n",
              "2 Twitter for Android 273                1334471508375179264 366987179       \n",
              "3 Twitter for Android 275                NA                  NA              \n",
              "4 Twitter for Android 280                NA                  NA              \n",
              "5 Twitter for Android 253                1333368022258438147 366987179       \n",
              "6 Twitter for Android 260                1333367918755659787 366987179       \n",
              "  reply_to_screen_name ⋯ statuses_count favourites_count account_created_at \n",
              "1 NA                   ⋯ 2907           10               2011-09-03 05:21:21\n",
              "2 jokowi               ⋯ 2907           10               2011-09-03 05:21:21\n",
              "3 NA                   ⋯ 2907           10               2011-09-03 05:21:21\n",
              "4 NA                   ⋯ 2907           10               2011-09-03 05:21:21\n",
              "5 jokowi               ⋯ 2907           10               2011-09-03 05:21:21\n",
              "6 jokowi               ⋯ 2907           10               2011-09-03 05:21:21\n",
              "  verified profile_url profile_expanded_url account_lang\n",
              "1 TRUE     NA          NA                   NA          \n",
              "2 TRUE     NA          NA                   NA          \n",
              "3 TRUE     NA          NA                   NA          \n",
              "4 TRUE     NA          NA                   NA          \n",
              "5 TRUE     NA          NA                   NA          \n",
              "6 TRUE     NA          NA                   NA          \n",
              "  profile_banner_url                                        \n",
              "1 https://pbs.twimg.com/profile_banners/366987179/1598685765\n",
              "2 https://pbs.twimg.com/profile_banners/366987179/1598685765\n",
              "3 https://pbs.twimg.com/profile_banners/366987179/1598685765\n",
              "4 https://pbs.twimg.com/profile_banners/366987179/1598685765\n",
              "5 https://pbs.twimg.com/profile_banners/366987179/1598685765\n",
              "6 https://pbs.twimg.com/profile_banners/366987179/1598685765\n",
              "  profile_background_url                           \n",
              "1 http://abs.twimg.com/images/themes/theme14/bg.gif\n",
              "2 http://abs.twimg.com/images/themes/theme14/bg.gif\n",
              "3 http://abs.twimg.com/images/themes/theme14/bg.gif\n",
              "4 http://abs.twimg.com/images/themes/theme14/bg.gif\n",
              "5 http://abs.twimg.com/images/themes/theme14/bg.gif\n",
              "6 http://abs.twimg.com/images/themes/theme14/bg.gif\n",
              "  profile_image_url                                                          \n",
              "1 http://pbs.twimg.com/profile_images/1299550083097059332/uK26iMOu_normal.jpg\n",
              "2 http://pbs.twimg.com/profile_images/1299550083097059332/uK26iMOu_normal.jpg\n",
              "3 http://pbs.twimg.com/profile_images/1299550083097059332/uK26iMOu_normal.jpg\n",
              "4 http://pbs.twimg.com/profile_images/1299550083097059332/uK26iMOu_normal.jpg\n",
              "5 http://pbs.twimg.com/profile_images/1299550083097059332/uK26iMOu_normal.jpg\n",
              "6 http://pbs.twimg.com/profile_images/1299550083097059332/uK26iMOu_normal.jpg"
            ],
            "text/latex": "A tibble: 6 × 90\n\\begin{tabular}{lllllllllllllllllllll}\n user\\_id & status\\_id & created\\_at & screen\\_name & text & source & display\\_text\\_width & reply\\_to\\_status\\_id & reply\\_to\\_user\\_id & reply\\_to\\_screen\\_name & ⋯ & statuses\\_count & favourites\\_count & account\\_created\\_at & verified & profile\\_url & profile\\_expanded\\_url & account\\_lang & profile\\_banner\\_url & profile\\_background\\_url & profile\\_image\\_url\\\\\n <chr> & <chr> & <dttm> & <chr> & <chr> & <chr> & <dbl> & <chr> & <chr> & <chr> & ⋯ & <int> & <int> & <dttm> & <lgl> & <chr> & <chr> & <lgl> & <chr> & <chr> & <chr>\\\\\n\\hline\n\t 366987179 & 1334472906923884549 & 2020-12-03 12:21:48 & jokowi & Saya bertemu para pegiat agraria hari ini untuk mendengarkan masukan mengenai berbagai persoalan terkait program reforma agraria yang telah berjalan. \n\nDengan masukan itu, saya berharap tujuan reforma agraria bisa tercapai lebih cepat dan dirasakan manfaatnya oleh masyarakat. https://t.co/rt0iKcwB46     & Twitter for Android & 276 & NA                  & NA        & NA     & ⋯ & 2907 & 10 & 2011-09-03 05:21:21 & TRUE & NA & NA & NA & https://pbs.twimg.com/profile\\_banners/366987179/1598685765 & http://abs.twimg.com/images/themes/theme14/bg.gif & http://pbs.twimg.com/profile\\_images/1299550083097059332/uK26iMOu\\_normal.jpg\\\\\n\t 366987179 & 1334471692505161728 & 2020-12-03 12:16:59 & jokowi & Dua tahun ini saya telah menandatangani berbagai Peraturan Pemerintah dan Peraturan Presiden sebagai payung regulasi untuk para penyandang disabilitas. \n\nTugas semua pihak untuk memastikan semua kebijakan itu terlaksana dan dirasakan manfaatnya oleh penyandang disabilitas.                                & Twitter for Android & 273 & 1334471508375179264 & 366987179 & jokowi & ⋯ & 2907 & 10 & 2011-09-03 05:21:21 & TRUE & NA & NA & NA & https://pbs.twimg.com/profile\\_banners/366987179/1598685765 & http://abs.twimg.com/images/themes/theme14/bg.gif & http://pbs.twimg.com/profile\\_images/1299550083097059332/uK26iMOu\\_normal.jpg\\\\\n\t 366987179 & 1334471508375179264 & 2020-12-03 12:16:15 & jokowi & Pemerintah selalu berupaya meningkatkan kesetaraan dan kesempatan terhadap akses pendidikan, kesehatan, pekerjaan, serta infrastruktur bagi para penyandang disabilitas.\n\nTidak boleh ada satupun penyandang disabilitas yang  tertinggal dari berbagai program layanan pemerintah. https://t.co/w4d2QLSxoV      & Twitter for Android & 275 & NA                  & NA        & NA     & ⋯ & 2907 & 10 & 2011-09-03 05:21:21 & TRUE & NA & NA & NA & https://pbs.twimg.com/profile\\_banners/366987179/1598685765 & http://abs.twimg.com/images/themes/theme14/bg.gif & http://pbs.twimg.com/profile\\_images/1299550083097059332/uK26iMOu\\_normal.jpg\\\\\n\t 366987179 & 1334305913394511872 & 2020-12-03 01:18:14 & jokowi & Di sekitar kita, terdapat para penyandang disabilitas yang belajar, bekerja, dan ikut terdampak pandemi. \n\nSaya berharap, masyarakat lebih peduli dan peka dengan keberadaan saudara-saudara kita ini, bersama-sama berpartisipasi dalam pembangunan, menuju masa depan yang lebih baik. https://t.co/YsdTrcTS1Z & Twitter for Android & 280 & NA                  & NA        & NA     & ⋯ & 2907 & 10 & 2011-09-03 05:21:21 & TRUE & NA & NA & NA & https://pbs.twimg.com/profile\\_banners/366987179/1598685765 & http://abs.twimg.com/images/themes/theme14/bg.gif & http://pbs.twimg.com/profile\\_images/1299550083097059332/uK26iMOu\\_normal.jpg\\\\\n\t 366987179 & 1333368227288678400 & 2020-11-30 11:12:12 & jokowi & Saya juga mengajak seluruh masyarakat untuk tenang dan tetap menjaga persatuan sambil meningkatkan kewaspadaan. \n\nDalam kondisi saat ini, semua elemen masyarakat harus bersatu melawan terorisme. Tak ada satupun tempat di Tanah Air bagi tindak terorisme.                                                    & Twitter for Android & 253 & 1333368022258438147 & 366987179 & jokowi & ⋯ & 2907 & 10 & 2011-09-03 05:21:21 & TRUE & NA & NA & NA & https://pbs.twimg.com/profile\\_banners/366987179/1598685765 & http://abs.twimg.com/images/themes/theme14/bg.gif & http://pbs.twimg.com/profile\\_images/1299550083097059332/uK26iMOu\\_normal.jpg\\\\\n\t 366987179 & 1333368022258438147 & 2020-11-30 11:11:23 & jokowi & Saya telah memerintahkan Kapolri untuk mengusut tuntas jaringan pelaku teror itu hingga ke akar-akarnya. \n\nPada kesempatan ini saya menyampaikan dukacita mendalam bagi keluarga korban. Pemerintah akan memberikan santunan bagi keluarga mereka yang ditinggalkan.                                             & Twitter for Android & 260 & 1333367918755659787 & 366987179 & jokowi & ⋯ & 2907 & 10 & 2011-09-03 05:21:21 & TRUE & NA & NA & NA & https://pbs.twimg.com/profile\\_banners/366987179/1598685765 & http://abs.twimg.com/images/themes/theme14/bg.gif & http://pbs.twimg.com/profile\\_images/1299550083097059332/uK26iMOu\\_normal.jpg\\\\\n\\end{tabular}\n",
            "text/markdown": "\nA tibble: 6 × 90\n\n| user_id &lt;chr&gt; | status_id &lt;chr&gt; | created_at &lt;dttm&gt; | screen_name &lt;chr&gt; | text &lt;chr&gt; | source &lt;chr&gt; | display_text_width &lt;dbl&gt; | reply_to_status_id &lt;chr&gt; | reply_to_user_id &lt;chr&gt; | reply_to_screen_name &lt;chr&gt; | ⋯ ⋯ | statuses_count &lt;int&gt; | favourites_count &lt;int&gt; | account_created_at &lt;dttm&gt; | verified &lt;lgl&gt; | profile_url &lt;chr&gt; | profile_expanded_url &lt;chr&gt; | account_lang &lt;lgl&gt; | profile_banner_url &lt;chr&gt; | profile_background_url &lt;chr&gt; | profile_image_url &lt;chr&gt; |\n|---|---|---|---|---|---|---|---|---|---|---|---|---|---|---|---|---|---|---|---|---|\n| 366987179 | 1334472906923884549 | 2020-12-03 12:21:48 | jokowi | Saya bertemu para pegiat agraria hari ini untuk mendengarkan masukan mengenai berbagai persoalan terkait program reforma agraria yang telah berjalan. \n\nDengan masukan itu, saya berharap tujuan reforma agraria bisa tercapai lebih cepat dan dirasakan manfaatnya oleh masyarakat. https://t.co/rt0iKcwB46     | Twitter for Android | 276 | NA                  | NA        | NA     | ⋯ | 2907 | 10 | 2011-09-03 05:21:21 | TRUE | NA | NA | NA | https://pbs.twimg.com/profile_banners/366987179/1598685765 | http://abs.twimg.com/images/themes/theme14/bg.gif | http://pbs.twimg.com/profile_images/1299550083097059332/uK26iMOu_normal.jpg |\n| 366987179 | 1334471692505161728 | 2020-12-03 12:16:59 | jokowi | Dua tahun ini saya telah menandatangani berbagai Peraturan Pemerintah dan Peraturan Presiden sebagai payung regulasi untuk para penyandang disabilitas. \n\nTugas semua pihak untuk memastikan semua kebijakan itu terlaksana dan dirasakan manfaatnya oleh penyandang disabilitas.                                | Twitter for Android | 273 | 1334471508375179264 | 366987179 | jokowi | ⋯ | 2907 | 10 | 2011-09-03 05:21:21 | TRUE | NA | NA | NA | https://pbs.twimg.com/profile_banners/366987179/1598685765 | http://abs.twimg.com/images/themes/theme14/bg.gif | http://pbs.twimg.com/profile_images/1299550083097059332/uK26iMOu_normal.jpg |\n| 366987179 | 1334471508375179264 | 2020-12-03 12:16:15 | jokowi | Pemerintah selalu berupaya meningkatkan kesetaraan dan kesempatan terhadap akses pendidikan, kesehatan, pekerjaan, serta infrastruktur bagi para penyandang disabilitas.\n\nTidak boleh ada satupun penyandang disabilitas yang  tertinggal dari berbagai program layanan pemerintah. https://t.co/w4d2QLSxoV      | Twitter for Android | 275 | NA                  | NA        | NA     | ⋯ | 2907 | 10 | 2011-09-03 05:21:21 | TRUE | NA | NA | NA | https://pbs.twimg.com/profile_banners/366987179/1598685765 | http://abs.twimg.com/images/themes/theme14/bg.gif | http://pbs.twimg.com/profile_images/1299550083097059332/uK26iMOu_normal.jpg |\n| 366987179 | 1334305913394511872 | 2020-12-03 01:18:14 | jokowi | Di sekitar kita, terdapat para penyandang disabilitas yang belajar, bekerja, dan ikut terdampak pandemi. \n\nSaya berharap, masyarakat lebih peduli dan peka dengan keberadaan saudara-saudara kita ini, bersama-sama berpartisipasi dalam pembangunan, menuju masa depan yang lebih baik. https://t.co/YsdTrcTS1Z | Twitter for Android | 280 | NA                  | NA        | NA     | ⋯ | 2907 | 10 | 2011-09-03 05:21:21 | TRUE | NA | NA | NA | https://pbs.twimg.com/profile_banners/366987179/1598685765 | http://abs.twimg.com/images/themes/theme14/bg.gif | http://pbs.twimg.com/profile_images/1299550083097059332/uK26iMOu_normal.jpg |\n| 366987179 | 1333368227288678400 | 2020-11-30 11:12:12 | jokowi | Saya juga mengajak seluruh masyarakat untuk tenang dan tetap menjaga persatuan sambil meningkatkan kewaspadaan. \n\nDalam kondisi saat ini, semua elemen masyarakat harus bersatu melawan terorisme. Tak ada satupun tempat di Tanah Air bagi tindak terorisme.                                                    | Twitter for Android | 253 | 1333368022258438147 | 366987179 | jokowi | ⋯ | 2907 | 10 | 2011-09-03 05:21:21 | TRUE | NA | NA | NA | https://pbs.twimg.com/profile_banners/366987179/1598685765 | http://abs.twimg.com/images/themes/theme14/bg.gif | http://pbs.twimg.com/profile_images/1299550083097059332/uK26iMOu_normal.jpg |\n| 366987179 | 1333368022258438147 | 2020-11-30 11:11:23 | jokowi | Saya telah memerintahkan Kapolri untuk mengusut tuntas jaringan pelaku teror itu hingga ke akar-akarnya. \n\nPada kesempatan ini saya menyampaikan dukacita mendalam bagi keluarga korban. Pemerintah akan memberikan santunan bagi keluarga mereka yang ditinggalkan.                                             | Twitter for Android | 260 | 1333367918755659787 | 366987179 | jokowi | ⋯ | 2907 | 10 | 2011-09-03 05:21:21 | TRUE | NA | NA | NA | https://pbs.twimg.com/profile_banners/366987179/1598685765 | http://abs.twimg.com/images/themes/theme14/bg.gif | http://pbs.twimg.com/profile_images/1299550083097059332/uK26iMOu_normal.jpg |\n\n",
            "text/html": [
              "<table>\n",
              "<caption>A tibble: 6 × 90</caption>\n",
              "<thead>\n",
              "\t<tr><th scope=col>user_id</th><th scope=col>status_id</th><th scope=col>created_at</th><th scope=col>screen_name</th><th scope=col>text</th><th scope=col>source</th><th scope=col>display_text_width</th><th scope=col>reply_to_status_id</th><th scope=col>reply_to_user_id</th><th scope=col>reply_to_screen_name</th><th scope=col>⋯</th><th scope=col>statuses_count</th><th scope=col>favourites_count</th><th scope=col>account_created_at</th><th scope=col>verified</th><th scope=col>profile_url</th><th scope=col>profile_expanded_url</th><th scope=col>account_lang</th><th scope=col>profile_banner_url</th><th scope=col>profile_background_url</th><th scope=col>profile_image_url</th></tr>\n",
              "\t<tr><th scope=col>&lt;chr&gt;</th><th scope=col>&lt;chr&gt;</th><th scope=col>&lt;dttm&gt;</th><th scope=col>&lt;chr&gt;</th><th scope=col>&lt;chr&gt;</th><th scope=col>&lt;chr&gt;</th><th scope=col>&lt;dbl&gt;</th><th scope=col>&lt;chr&gt;</th><th scope=col>&lt;chr&gt;</th><th scope=col>&lt;chr&gt;</th><th scope=col>⋯</th><th scope=col>&lt;int&gt;</th><th scope=col>&lt;int&gt;</th><th scope=col>&lt;dttm&gt;</th><th scope=col>&lt;lgl&gt;</th><th scope=col>&lt;chr&gt;</th><th scope=col>&lt;chr&gt;</th><th scope=col>&lt;lgl&gt;</th><th scope=col>&lt;chr&gt;</th><th scope=col>&lt;chr&gt;</th><th scope=col>&lt;chr&gt;</th></tr>\n",
              "</thead>\n",
              "<tbody>\n",
              "\t<tr><td>366987179</td><td>1334472906923884549</td><td>2020-12-03 12:21:48</td><td>jokowi</td><td>Saya bertemu para pegiat agraria hari ini untuk mendengarkan masukan mengenai berbagai persoalan terkait program reforma agraria yang telah berjalan. \n",
              "\n",
              "Dengan masukan itu, saya berharap tujuan reforma agraria bisa tercapai lebih cepat dan dirasakan manfaatnya oleh masyarakat. https://t.co/rt0iKcwB46    </td><td>Twitter for Android</td><td>276</td><td>NA                 </td><td>NA       </td><td>NA    </td><td>⋯</td><td>2907</td><td>10</td><td>2011-09-03 05:21:21</td><td>TRUE</td><td>NA</td><td>NA</td><td>NA</td><td>https://pbs.twimg.com/profile_banners/366987179/1598685765</td><td>http://abs.twimg.com/images/themes/theme14/bg.gif</td><td>http://pbs.twimg.com/profile_images/1299550083097059332/uK26iMOu_normal.jpg</td></tr>\n",
              "\t<tr><td>366987179</td><td>1334471692505161728</td><td>2020-12-03 12:16:59</td><td>jokowi</td><td>Dua tahun ini saya telah menandatangani berbagai Peraturan Pemerintah dan Peraturan Presiden sebagai payung regulasi untuk para penyandang disabilitas. \n",
              "\n",
              "Tugas semua pihak untuk memastikan semua kebijakan itu terlaksana dan dirasakan manfaatnya oleh penyandang disabilitas.                               </td><td>Twitter for Android</td><td>273</td><td>1334471508375179264</td><td>366987179</td><td>jokowi</td><td>⋯</td><td>2907</td><td>10</td><td>2011-09-03 05:21:21</td><td>TRUE</td><td>NA</td><td>NA</td><td>NA</td><td>https://pbs.twimg.com/profile_banners/366987179/1598685765</td><td>http://abs.twimg.com/images/themes/theme14/bg.gif</td><td>http://pbs.twimg.com/profile_images/1299550083097059332/uK26iMOu_normal.jpg</td></tr>\n",
              "\t<tr><td>366987179</td><td>1334471508375179264</td><td>2020-12-03 12:16:15</td><td>jokowi</td><td>Pemerintah selalu berupaya meningkatkan kesetaraan dan kesempatan terhadap akses pendidikan, kesehatan, pekerjaan, serta infrastruktur bagi para penyandang disabilitas.\n",
              "\n",
              "Tidak boleh ada satupun penyandang disabilitas yang  tertinggal dari berbagai program layanan pemerintah. https://t.co/w4d2QLSxoV     </td><td>Twitter for Android</td><td>275</td><td>NA                 </td><td>NA       </td><td>NA    </td><td>⋯</td><td>2907</td><td>10</td><td>2011-09-03 05:21:21</td><td>TRUE</td><td>NA</td><td>NA</td><td>NA</td><td>https://pbs.twimg.com/profile_banners/366987179/1598685765</td><td>http://abs.twimg.com/images/themes/theme14/bg.gif</td><td>http://pbs.twimg.com/profile_images/1299550083097059332/uK26iMOu_normal.jpg</td></tr>\n",
              "\t<tr><td>366987179</td><td>1334305913394511872</td><td>2020-12-03 01:18:14</td><td>jokowi</td><td>Di sekitar kita, terdapat para penyandang disabilitas yang belajar, bekerja, dan ikut terdampak pandemi. \n",
              "\n",
              "Saya berharap, masyarakat lebih peduli dan peka dengan keberadaan saudara-saudara kita ini, bersama-sama berpartisipasi dalam pembangunan, menuju masa depan yang lebih baik. https://t.co/YsdTrcTS1Z</td><td>Twitter for Android</td><td>280</td><td>NA                 </td><td>NA       </td><td>NA    </td><td>⋯</td><td>2907</td><td>10</td><td>2011-09-03 05:21:21</td><td>TRUE</td><td>NA</td><td>NA</td><td>NA</td><td>https://pbs.twimg.com/profile_banners/366987179/1598685765</td><td>http://abs.twimg.com/images/themes/theme14/bg.gif</td><td>http://pbs.twimg.com/profile_images/1299550083097059332/uK26iMOu_normal.jpg</td></tr>\n",
              "\t<tr><td>366987179</td><td>1333368227288678400</td><td>2020-11-30 11:12:12</td><td>jokowi</td><td>Saya juga mengajak seluruh masyarakat untuk tenang dan tetap menjaga persatuan sambil meningkatkan kewaspadaan. \n",
              "\n",
              "Dalam kondisi saat ini, semua elemen masyarakat harus bersatu melawan terorisme. Tak ada satupun tempat di Tanah Air bagi tindak terorisme.                                                   </td><td>Twitter for Android</td><td>253</td><td>1333368022258438147</td><td>366987179</td><td>jokowi</td><td>⋯</td><td>2907</td><td>10</td><td>2011-09-03 05:21:21</td><td>TRUE</td><td>NA</td><td>NA</td><td>NA</td><td>https://pbs.twimg.com/profile_banners/366987179/1598685765</td><td>http://abs.twimg.com/images/themes/theme14/bg.gif</td><td>http://pbs.twimg.com/profile_images/1299550083097059332/uK26iMOu_normal.jpg</td></tr>\n",
              "\t<tr><td>366987179</td><td>1333368022258438147</td><td>2020-11-30 11:11:23</td><td>jokowi</td><td>Saya telah memerintahkan Kapolri untuk mengusut tuntas jaringan pelaku teror itu hingga ke akar-akarnya. \n",
              "\n",
              "Pada kesempatan ini saya menyampaikan dukacita mendalam bagi keluarga korban. Pemerintah akan memberikan santunan bagi keluarga mereka yang ditinggalkan.                                            </td><td>Twitter for Android</td><td>260</td><td>1333367918755659787</td><td>366987179</td><td>jokowi</td><td>⋯</td><td>2907</td><td>10</td><td>2011-09-03 05:21:21</td><td>TRUE</td><td>NA</td><td>NA</td><td>NA</td><td>https://pbs.twimg.com/profile_banners/366987179/1598685765</td><td>http://abs.twimg.com/images/themes/theme14/bg.gif</td><td>http://pbs.twimg.com/profile_images/1299550083097059332/uK26iMOu_normal.jpg</td></tr>\n",
              "</tbody>\n",
              "</table>\n"
            ]
          },
          "metadata": {
            "tags": []
          }
        }
      ]
    },
    {
      "cell_type": "code",
      "metadata": {
        "colab": {
          "base_uri": "https://localhost:8080/",
          "height": 426
        },
        "id": "lCycFbVmA01r",
        "outputId": "62f5c954-947c-4d1f-cd59-75a0f867f725"
      },
      "source": [
        "## lookup user (mencari akun seseorang)\n",
        "pemerintah <- lookup_users(c(\"jokowi\", \"Menlu_RI\", \"mohmahfudmd\"))\n",
        "head(pemerintah)"
      ],
      "execution_count": null,
      "outputs": [
        {
          "output_type": "display_data",
          "data": {
            "text/plain": [
              "  user_id            status_id           created_at          screen_name\n",
              "1 366987179          1334472906923884549 2020-12-03 12:21:48 jokowi     \n",
              "2 960382456267288576 1331231754087088129 2020-11-24 13:42:37 Menlu_RI   \n",
              "3 282006208          1333767562916577282 2020-12-01 13:39:01 mohmahfudmd\n",
              "  text                                                                                                                                        \n",
              "1 Saya bertemu para pegiat agraria hari ini untuk mendengarkan masukan mengenai berbagai persoalan terkait program re… https://t.co/HyngOISEq8\n",
              "2 I dedicate this award to all Indonesian diplomats at home and abroad, the Ministry of Foreign Affairs as well as al… https://t.co/cliHCUIO9R\n",
              "3 Sy selalu berusaha menghindar utk menindak orang yg menyerang pribadi sy krn khawatir egois dan se-wenang2 krn sy p… https://t.co/kAlhyTkw7v\n",
              "  source              display_text_width reply_to_status_id  reply_to_user_id  \n",
              "1 Twitter for Android NA                 NA                  NA                \n",
              "2 Twitter for iPhone  NA                 1331231704686546946 960382456267288576\n",
              "3 Twitter for iPhone  NA                 NA                  NA                \n",
              "  reply_to_screen_name ⋯ statuses_count favourites_count account_created_at \n",
              "1 NA                   ⋯  2907           10              2011-09-03 05:21:21\n",
              "2 Menlu_RI             ⋯  3631          110              2018-02-05 05:19:55\n",
              "3 NA                   ⋯ 25246          111              2011-04-14 11:37:48\n",
              "  verified profile_url             profile_expanded_url   account_lang\n",
              "1 TRUE     NA                      NA                     NA          \n",
              "2 TRUE     https://t.co/LIRpeWZr1m http://www.kemlu.go.id NA          \n",
              "3 TRUE     NA                      NA                     NA          \n",
              "  profile_banner_url                                                 \n",
              "1 https://pbs.twimg.com/profile_banners/366987179/1598685765         \n",
              "2 https://pbs.twimg.com/profile_banners/960382456267288576/1517809247\n",
              "3 https://pbs.twimg.com/profile_banners/282006208/1577112783         \n",
              "  profile_background_url                           \n",
              "1 http://abs.twimg.com/images/themes/theme14/bg.gif\n",
              "2 NA                                               \n",
              "3 http://abs.twimg.com/images/themes/theme17/bg.gif\n",
              "  profile_image_url                                                          \n",
              "1 http://pbs.twimg.com/profile_images/1299550083097059332/uK26iMOu_normal.jpg\n",
              "2 http://pbs.twimg.com/profile_images/960385035370094593/-i2YlXOF_normal.jpg \n",
              "3 http://pbs.twimg.com/profile_images/1209268107190996992/aycrl4be_normal.jpg"
            ],
            "text/latex": "A tibble: 3 × 90\n\\begin{tabular}{lllllllllllllllllllll}\n user\\_id & status\\_id & created\\_at & screen\\_name & text & source & display\\_text\\_width & reply\\_to\\_status\\_id & reply\\_to\\_user\\_id & reply\\_to\\_screen\\_name & ⋯ & statuses\\_count & favourites\\_count & account\\_created\\_at & verified & profile\\_url & profile\\_expanded\\_url & account\\_lang & profile\\_banner\\_url & profile\\_background\\_url & profile\\_image\\_url\\\\\n <chr> & <chr> & <dttm> & <chr> & <chr> & <chr> & <int> & <chr> & <chr> & <chr> & ⋯ & <int> & <int> & <dttm> & <lgl> & <chr> & <chr> & <lgl> & <chr> & <chr> & <chr>\\\\\n\\hline\n\t 366987179          & 1334472906923884549 & 2020-12-03 12:21:48 & jokowi      & Saya bertemu para pegiat agraria hari ini untuk mendengarkan masukan mengenai berbagai persoalan terkait program re… https://t.co/HyngOISEq8 & Twitter for Android & NA & NA                  & NA                 & NA       & ⋯ &  2907 &  10 & 2011-09-03 05:21:21 & TRUE & NA                      & NA                     & NA & https://pbs.twimg.com/profile\\_banners/366987179/1598685765          & http://abs.twimg.com/images/themes/theme14/bg.gif & http://pbs.twimg.com/profile\\_images/1299550083097059332/uK26iMOu\\_normal.jpg\\\\\n\t 960382456267288576 & 1331231754087088129 & 2020-11-24 13:42:37 & Menlu\\_RI    & I dedicate this award to all Indonesian diplomats at home and abroad, the Ministry of Foreign Affairs as well as al… https://t.co/cliHCUIO9R & Twitter for iPhone  & NA & 1331231704686546946 & 960382456267288576 & Menlu\\_RI & ⋯ &  3631 & 110 & 2018-02-05 05:19:55 & TRUE & https://t.co/LIRpeWZr1m & http://www.kemlu.go.id & NA & https://pbs.twimg.com/profile\\_banners/960382456267288576/1517809247 & NA                                                & http://pbs.twimg.com/profile\\_images/960385035370094593/-i2YlXOF\\_normal.jpg \\\\\n\t 282006208          & 1333767562916577282 & 2020-12-01 13:39:01 & mohmahfudmd & Sy selalu berusaha menghindar utk menindak orang yg menyerang pribadi sy krn khawatir egois dan se-wenang2 krn sy p… https://t.co/kAlhyTkw7v & Twitter for iPhone  & NA & NA                  & NA                 & NA       & ⋯ & 25246 & 111 & 2011-04-14 11:37:48 & TRUE & NA                      & NA                     & NA & https://pbs.twimg.com/profile\\_banners/282006208/1577112783          & http://abs.twimg.com/images/themes/theme17/bg.gif & http://pbs.twimg.com/profile\\_images/1209268107190996992/aycrl4be\\_normal.jpg\\\\\n\\end{tabular}\n",
            "text/markdown": "\nA tibble: 3 × 90\n\n| user_id &lt;chr&gt; | status_id &lt;chr&gt; | created_at &lt;dttm&gt; | screen_name &lt;chr&gt; | text &lt;chr&gt; | source &lt;chr&gt; | display_text_width &lt;int&gt; | reply_to_status_id &lt;chr&gt; | reply_to_user_id &lt;chr&gt; | reply_to_screen_name &lt;chr&gt; | ⋯ ⋯ | statuses_count &lt;int&gt; | favourites_count &lt;int&gt; | account_created_at &lt;dttm&gt; | verified &lt;lgl&gt; | profile_url &lt;chr&gt; | profile_expanded_url &lt;chr&gt; | account_lang &lt;lgl&gt; | profile_banner_url &lt;chr&gt; | profile_background_url &lt;chr&gt; | profile_image_url &lt;chr&gt; |\n|---|---|---|---|---|---|---|---|---|---|---|---|---|---|---|---|---|---|---|---|---|\n| 366987179          | 1334472906923884549 | 2020-12-03 12:21:48 | jokowi      | Saya bertemu para pegiat agraria hari ini untuk mendengarkan masukan mengenai berbagai persoalan terkait program re… https://t.co/HyngOISEq8 | Twitter for Android | NA | NA                  | NA                 | NA       | ⋯ |  2907 |  10 | 2011-09-03 05:21:21 | TRUE | NA                      | NA                     | NA | https://pbs.twimg.com/profile_banners/366987179/1598685765          | http://abs.twimg.com/images/themes/theme14/bg.gif | http://pbs.twimg.com/profile_images/1299550083097059332/uK26iMOu_normal.jpg |\n| 960382456267288576 | 1331231754087088129 | 2020-11-24 13:42:37 | Menlu_RI    | I dedicate this award to all Indonesian diplomats at home and abroad, the Ministry of Foreign Affairs as well as al… https://t.co/cliHCUIO9R | Twitter for iPhone  | NA | 1331231704686546946 | 960382456267288576 | Menlu_RI | ⋯ |  3631 | 110 | 2018-02-05 05:19:55 | TRUE | https://t.co/LIRpeWZr1m | http://www.kemlu.go.id | NA | https://pbs.twimg.com/profile_banners/960382456267288576/1517809247 | NA                                                | http://pbs.twimg.com/profile_images/960385035370094593/-i2YlXOF_normal.jpg  |\n| 282006208          | 1333767562916577282 | 2020-12-01 13:39:01 | mohmahfudmd | Sy selalu berusaha menghindar utk menindak orang yg menyerang pribadi sy krn khawatir egois dan se-wenang2 krn sy p… https://t.co/kAlhyTkw7v | Twitter for iPhone  | NA | NA                  | NA                 | NA       | ⋯ | 25246 | 111 | 2011-04-14 11:37:48 | TRUE | NA                      | NA                     | NA | https://pbs.twimg.com/profile_banners/282006208/1577112783          | http://abs.twimg.com/images/themes/theme17/bg.gif | http://pbs.twimg.com/profile_images/1209268107190996992/aycrl4be_normal.jpg |\n\n",
            "text/html": [
              "<table>\n",
              "<caption>A tibble: 3 × 90</caption>\n",
              "<thead>\n",
              "\t<tr><th scope=col>user_id</th><th scope=col>status_id</th><th scope=col>created_at</th><th scope=col>screen_name</th><th scope=col>text</th><th scope=col>source</th><th scope=col>display_text_width</th><th scope=col>reply_to_status_id</th><th scope=col>reply_to_user_id</th><th scope=col>reply_to_screen_name</th><th scope=col>⋯</th><th scope=col>statuses_count</th><th scope=col>favourites_count</th><th scope=col>account_created_at</th><th scope=col>verified</th><th scope=col>profile_url</th><th scope=col>profile_expanded_url</th><th scope=col>account_lang</th><th scope=col>profile_banner_url</th><th scope=col>profile_background_url</th><th scope=col>profile_image_url</th></tr>\n",
              "\t<tr><th scope=col>&lt;chr&gt;</th><th scope=col>&lt;chr&gt;</th><th scope=col>&lt;dttm&gt;</th><th scope=col>&lt;chr&gt;</th><th scope=col>&lt;chr&gt;</th><th scope=col>&lt;chr&gt;</th><th scope=col>&lt;int&gt;</th><th scope=col>&lt;chr&gt;</th><th scope=col>&lt;chr&gt;</th><th scope=col>&lt;chr&gt;</th><th scope=col>⋯</th><th scope=col>&lt;int&gt;</th><th scope=col>&lt;int&gt;</th><th scope=col>&lt;dttm&gt;</th><th scope=col>&lt;lgl&gt;</th><th scope=col>&lt;chr&gt;</th><th scope=col>&lt;chr&gt;</th><th scope=col>&lt;lgl&gt;</th><th scope=col>&lt;chr&gt;</th><th scope=col>&lt;chr&gt;</th><th scope=col>&lt;chr&gt;</th></tr>\n",
              "</thead>\n",
              "<tbody>\n",
              "\t<tr><td>366987179         </td><td>1334472906923884549</td><td>2020-12-03 12:21:48</td><td>jokowi     </td><td>Saya bertemu para pegiat agraria hari ini untuk mendengarkan masukan mengenai berbagai persoalan terkait program re… https://t.co/HyngOISEq8</td><td>Twitter for Android</td><td>NA</td><td>NA                 </td><td>NA                </td><td>NA      </td><td>⋯</td><td> 2907</td><td> 10</td><td>2011-09-03 05:21:21</td><td>TRUE</td><td>NA                     </td><td>NA                    </td><td>NA</td><td>https://pbs.twimg.com/profile_banners/366987179/1598685765         </td><td>http://abs.twimg.com/images/themes/theme14/bg.gif</td><td>http://pbs.twimg.com/profile_images/1299550083097059332/uK26iMOu_normal.jpg</td></tr>\n",
              "\t<tr><td>960382456267288576</td><td>1331231754087088129</td><td>2020-11-24 13:42:37</td><td>Menlu_RI   </td><td>I dedicate this award to all Indonesian diplomats at home and abroad, the Ministry of Foreign Affairs as well as al… https://t.co/cliHCUIO9R</td><td>Twitter for iPhone </td><td>NA</td><td>1331231704686546946</td><td>960382456267288576</td><td>Menlu_RI</td><td>⋯</td><td> 3631</td><td>110</td><td>2018-02-05 05:19:55</td><td>TRUE</td><td>https://t.co/LIRpeWZr1m</td><td>http://www.kemlu.go.id</td><td>NA</td><td>https://pbs.twimg.com/profile_banners/960382456267288576/1517809247</td><td>NA                                               </td><td>http://pbs.twimg.com/profile_images/960385035370094593/-i2YlXOF_normal.jpg </td></tr>\n",
              "\t<tr><td>282006208         </td><td>1333767562916577282</td><td>2020-12-01 13:39:01</td><td>mohmahfudmd</td><td>Sy selalu berusaha menghindar utk menindak orang yg menyerang pribadi sy krn khawatir egois dan se-wenang2 krn sy p… https://t.co/kAlhyTkw7v</td><td>Twitter for iPhone </td><td>NA</td><td>NA                 </td><td>NA                </td><td>NA      </td><td>⋯</td><td>25246</td><td>111</td><td>2011-04-14 11:37:48</td><td>TRUE</td><td>NA                     </td><td>NA                    </td><td>NA</td><td>https://pbs.twimg.com/profile_banners/282006208/1577112783         </td><td>http://abs.twimg.com/images/themes/theme17/bg.gif</td><td>http://pbs.twimg.com/profile_images/1209268107190996992/aycrl4be_normal.jpg</td></tr>\n",
              "</tbody>\n",
              "</table>\n"
            ]
          },
          "metadata": {
            "tags": []
          }
        }
      ]
    },
    {
      "cell_type": "code",
      "metadata": {
        "colab": {
          "base_uri": "https://localhost:8080/",
          "height": 123
        },
        "id": "kBPQwFAdA4dM",
        "outputId": "480b4a22-f752-4db3-c360-2694671929bd"
      },
      "source": [
        "## followers\n",
        "followers <- pemerintah[, c(\"screen_name\", \"followers_count\")]\n",
        "head(followers) "
      ],
      "execution_count": null,
      "outputs": [
        {
          "output_type": "display_data",
          "data": {
            "text/plain": [
              "  screen_name followers_count\n",
              "1 jokowi      14993904       \n",
              "2 Menlu_RI       46409       \n",
              "3 mohmahfudmd  3562056       "
            ],
            "text/latex": "A tibble: 3 × 2\n\\begin{tabular}{ll}\n screen\\_name & followers\\_count\\\\\n <chr> & <int>\\\\\n\\hline\n\t jokowi      & 14993904\\\\\n\t Menlu\\_RI    &    46409\\\\\n\t mohmahfudmd &  3562056\\\\\n\\end{tabular}\n",
            "text/markdown": "\nA tibble: 3 × 2\n\n| screen_name &lt;chr&gt; | followers_count &lt;int&gt; |\n|---|---|\n| jokowi      | 14993904 |\n| Menlu_RI    |    46409 |\n| mohmahfudmd |  3562056 |\n\n",
            "text/html": [
              "<table>\n",
              "<caption>A tibble: 3 × 2</caption>\n",
              "<thead>\n",
              "\t<tr><th scope=col>screen_name</th><th scope=col>followers_count</th></tr>\n",
              "\t<tr><th scope=col>&lt;chr&gt;</th><th scope=col>&lt;int&gt;</th></tr>\n",
              "</thead>\n",
              "<tbody>\n",
              "\t<tr><td>jokowi     </td><td>14993904</td></tr>\n",
              "\t<tr><td>Menlu_RI   </td><td>   46409</td></tr>\n",
              "\t<tr><td>mohmahfudmd</td><td> 3562056</td></tr>\n",
              "</tbody>\n",
              "</table>\n"
            ]
          },
          "metadata": {
            "tags": []
          }
        }
      ]
    }
  ]
}